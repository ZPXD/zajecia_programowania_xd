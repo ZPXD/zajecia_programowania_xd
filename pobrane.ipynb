{
 "cells": [
  {
   "cell_type": "markdown",
   "metadata": {},
   "source": [
    "### Pobieralie linków 021"
   ]
  },
  {
   "cell_type": "code",
   "execution_count": null,
   "metadata": {},
   "outputs": [],
   "source": [
    "import requests\n",
    "\n",
    "url = 'https://rolniknysa.pl/'\n",
    "\n",
    "def simple_crawler(url):\n",
    "    try:\n",
    "        stronka = requests.get(url).text\n",
    "        linki = stronka.split('href=\"')\n",
    "        linki_python = []\n",
    "        for l in linki:\n",
    "            try:\n",
    "                link = l.split('\"')[0]\n",
    "            except:\n",
    "                link = ''\n",
    "            if 'http' in link:        \n",
    "                if 'nysa' in link:\n",
    "                    linki_python.append(link)\n",
    "    except:\n",
    "        if linki_python:\n",
    "            pass\n",
    "        else:\n",
    "            linki_python = []\n",
    "    return linki_python\n",
    "\n",
    "linki_python = simple_crawler(url) # 295\n",
    "linki_python = list(set(linki_python))\n",
    "w_sumie = len(linki_python)\n",
    "all_links = linki_python.copy()\n",
    "\n",
    "while linki_python:\n",
    "    link = linki_python.pop(0)\n",
    "    nowe_linki = simple_crawler(link)\n",
    "    nowe_linki_ok = []\n",
    "    for link in nowe_linki:\n",
    "        if link not in all_links:\n",
    "            all_links.append(link)\n",
    "            nowe_linki_ok.append(link)\n",
    "    linki_python.extend(nowe_linki_ok)\n",
    "    print(len(linki_python))"
   ]
  }
 ],
 "metadata": {
  "interpreter": {
   "hash": "1fca09cc0dd48b1d2c832c6e7d3bc803d94f3a7537171ed99515bbc5b15542cc"
  },
  "kernelspec": {
   "display_name": "Python 3.9.7 ('base')",
   "language": "python",
   "name": "python3"
  },
  "language_info": {
   "name": "python",
   "version": "3.9.7"
  },
  "orig_nbformat": 4
 },
 "nbformat": 4,
 "nbformat_minor": 2
}
