{
 "cells": [
  {
   "cell_type": "markdown",
   "metadata": {},
   "source": [
    "### Polecenia do pobirania repozytorium fetch oraz push do własnego repozytorium\n"
   ]
  },
  {
   "cell_type": "markdown",
   "metadata": {},
   "source": [
    "git fetch upstream;git merge upstream/main;git push\n",
    "\n",
    "git add .\n",
    "git status\n",
    "git\n",
    "git commit -m \"a\"\n",
    "git pull; git push\n",
    "git log"
   ]
  },
  {
   "cell_type": "markdown",
   "metadata": {},
   "source": [
    "### Polecenie do odpalenia serwisów flaska i nginx"
   ]
  },
  {
   "cell_type": "markdown",
   "metadata": {},
   "source": [
    "sudo systemctl start aa;sudo systemctl daemon-reload;sudo systemctl restart nginx;sudo systemctl restart aa"
   ]
  }
 ],
 "metadata": {
  "language_info": {
   "name": "python"
  },
  "orig_nbformat": 4
 },
 "nbformat": 4,
 "nbformat_minor": 2
}
