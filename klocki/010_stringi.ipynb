{
 "cells": [
  {
   "cell_type": "markdown",
   "id": "5bf30b57",
   "metadata": {},
   "source": [
    "# 010 - stringi\n",
    "\n",
    "Dane tekstowe. \n",
    "\n",
    "#### Level 1\n",
    "1. Czym są stringi? str - podstawy\n",
    "2. Zmiana wielkości znaków w stringach\n",
    "3. Zmień treść stringów\n",
    "4. Łączenie stringów\n",
    "5. Zamień string w listę stringów\n",
    "6. Indeksy\n",
    "7. Białe znaki\n",
    "8. Metody sprawdzania obecności pewnych znaków na początku i końcu stringa\n",
    "9. Metody sprawdzania rodzaju znaków w stringów\n",
    "10. Tekst w przestrzeni\n",
    "11. Wstawianie wartośći w stringi\n",
    "\n",
    "#### Level 2\n",
    "1. własne walidacje - napisz co zechcesz\n",
    "2. encode()\n",
    "3. inne metody stringów\n",
    "\n",
    "#### Level 3\n",
    "1. regexp (re)\n",
    "2. unicode "
   ]
  },
  {
   "cell_type": "markdown",
   "id": "b8a69326",
   "metadata": {},
   "source": [
    "## Stringi\n",
    "\n",
    "#### Czyli dane tekstowe\n",
    "\n",
    "Dobrym uzupełnieniem tego klocka jest część poświęcona otwieraniu i zapisywaniu danych tekstowych w różnych formatach.\n",
    "\n",
    "Nauka przyniesie najlepsze efekty gdy po przeczytaniu opisów metod i funkcji będziesz odpalał i modyfikowł wszystkie komórki z kodem. \n",
    "- otwórz nowy notebook (najlepiej poza TYM notebookiem)\n",
    "- wracaj codziennie przez kilka dni do tego zeszytu\n",
    "\n",
    "## Jak dobrze wyćwiczyć stringi?\n",
    "\n",
    "#### Ćwicz odrazu\n",
    "\n",
    "Odpalaj każdy kod w tym zeszycie, spróbuj modyfikować niektóre elementy aby lepiej je zrozumieć\n",
    "\n",
    "#### Powtarzaj wiele razy\n",
    "\n",
    "Przez conajmniej 7 dni przeglądaj codziennie ten zeszyt (daj sobie z 5-10 minut - a najlepiej więcej, przejrzyj wszystkie funkcje, kod) - utrwalisz materiał\n",
    "\n",
    "#### Przechodź po kolei poziomy -  oddziel to co ważne i pilne od tego co jest przydatne w dalszej kolejności\n",
    "\n",
    "Ten plik jest podzielony na kilka poziomów. \n",
    "\n",
    "Możesz przeczytać cały opis danego tematu za 1 razem albo\n",
    "nauczyć sie tego co najbardziej istotnie i po zaawansowany materiał\n",
    "wrócić tu później.\n"
   ]
  },
  {
   "cell_type": "markdown",
   "id": "7e3c55ac",
   "metadata": {},
   "source": [
    "## 1.  Czym są stringi? `str` - podstawy"
   ]
  },
  {
   "cell_type": "markdown",
   "id": "fe0cc83e",
   "metadata": {},
   "source": [
    "Ciąg znaków to inaczej string - `str`:"
   ]
  },
  {
   "cell_type": "markdown",
   "id": "ea605f25",
   "metadata": {},
   "source": [
    "#### Stwórz string (str), tekst, ciąg znaków.\n",
    "\n",
    "To też treść klocka `#003` "
   ]
  },
  {
   "cell_type": "code",
   "execution_count": 477,
   "id": "ee111b9a",
   "metadata": {},
   "outputs": [
    {
     "data": {
      "text/plain": [
       "'abc'"
      ]
     },
     "execution_count": 477,
     "metadata": {},
     "output_type": "execute_result"
    }
   ],
   "source": [
    "ciag_znakow = 'abc'\n",
    "ciag_znakow"
   ]
  },
  {
   "cell_type": "markdown",
   "id": "37feb05f",
   "metadata": {},
   "source": [
    "#### Stringi są typu `str`."
   ]
  },
  {
   "cell_type": "code",
   "execution_count": 478,
   "id": "2402eb12",
   "metadata": {},
   "outputs": [
    {
     "data": {
      "text/plain": [
       "str"
      ]
     },
     "execution_count": 478,
     "metadata": {},
     "output_type": "execute_result"
    }
   ],
   "source": [
    "type(ciag_znakow)"
   ]
  },
  {
   "cell_type": "code",
   "execution_count": 479,
   "id": "4245eda5",
   "metadata": {},
   "outputs": [],
   "source": [
    "ciag_znakow = 'a'\n",
    "ciag_znakow = 'abc'\n",
    "ciag_znakow = 'a b c    d'\n",
    "ciąg_znakow = 'Ala ma kota. xD'\n",
    "ciąg_znakow = 'Ala ma kota. xD'"
   ]
  },
  {
   "cell_type": "markdown",
   "id": "c1a5a895",
   "metadata": {},
   "source": [
    "#### Wieloliniowy string"
   ]
  },
  {
   "cell_type": "code",
   "execution_count": 480,
   "id": "5949d5a2",
   "metadata": {},
   "outputs": [
    {
     "name": "stdout",
     "output_type": "stream",
     "text": [
      " \n",
      "To jest string\n",
      "Który ma \n",
      "Kilka linii\n",
      "\n"
     ]
    }
   ],
   "source": [
    "wieloliniowy_string = ''' \n",
    "To jest string\n",
    "Który ma \n",
    "Kilka linii\n",
    "'''\n",
    "\n",
    "print(wieloliniowy_string)"
   ]
  },
  {
   "cell_type": "markdown",
   "id": "10ab2b83",
   "metadata": {},
   "source": [
    "#### Typ danych tekstówych, stringów to zawsze `str`:\n",
    "    \n",
    "Typy danych omówiliśmy w rozdziale `#004`"
   ]
  },
  {
   "cell_type": "markdown",
   "id": "bc7731ce",
   "metadata": {},
   "source": [
    "Aby podejrzeć tekst, jak zwykle, przy innych danych, będziemy posługiwać się funkcją print:"
   ]
  },
  {
   "cell_type": "code",
   "execution_count": 481,
   "id": "9e1d67ce",
   "metadata": {},
   "outputs": [
    {
     "name": "stdout",
     "output_type": "stream",
     "text": [
      "a b c    d\n"
     ]
    }
   ],
   "source": [
    "print(ciag_znakow)"
   ]
  },
  {
   "cell_type": "markdown",
   "id": "8cd9c026",
   "metadata": {},
   "source": [
    "### 1. len(string)\n",
    "\n",
    "#### Długość stringu (z ilu składa się znaków)?"
   ]
  },
  {
   "cell_type": "code",
   "execution_count": 482,
   "id": "59f4c663",
   "metadata": {},
   "outputs": [
    {
     "name": "stdout",
     "output_type": "stream",
     "text": [
      "20\n"
     ]
    }
   ],
   "source": [
    "ciag_znakow = 'abcdXDRSDFG049434...'\n",
    "dlugosc_stringu = len(ciag_znakow)\n",
    "\n",
    "print(dlugosc_stringa)"
   ]
  },
  {
   "cell_type": "markdown",
   "id": "281191f5",
   "metadata": {},
   "source": [
    "### 2. string.count('e')\n",
    "\n",
    "#### Policz wszystkie wystąpienia np. 'abc' w stringu np. 'abcabcabcd' "
   ]
  },
  {
   "cell_type": "code",
   "execution_count": 483,
   "id": "cef2dede",
   "metadata": {},
   "outputs": [
    {
     "name": "stdout",
     "output_type": "stream",
     "text": [
      "2\n"
     ]
    }
   ],
   "source": [
    "substring = 'abc'\n",
    "string = 'abcdefghabcdefgh'\n",
    "n_wystapien = string.count(\"abc\")\n",
    "\n",
    "print(n_wystapien)"
   ]
  },
  {
   "cell_type": "markdown",
   "id": "6a70eeed",
   "metadata": {},
   "source": [
    "## 2. Zmiana wielkości znaków w stringach\n",
    "\n",
    "Główne metody zmieniające wielkość znaków"
   ]
  },
  {
   "cell_type": "markdown",
   "id": "5ea6fed3",
   "metadata": {},
   "source": [
    "#### Wielkość znaków"
   ]
  },
  {
   "cell_type": "code",
   "execution_count": 484,
   "id": "fe0c031f",
   "metadata": {},
   "outputs": [
    {
     "data": {
      "text/plain": [
       "'ABCDEFGHABCDEFGH'"
      ]
     },
     "execution_count": 484,
     "metadata": {},
     "output_type": "execute_result"
    }
   ],
   "source": [
    "# same małe litery\n",
    "string.lower()\n",
    "\n",
    "# SAME DUŻE LITERY\n",
    "string.upper()\n",
    "\n",
    "# Same Title Xd\n",
    "string.title()\n",
    "\n",
    "# Sama pierwsza litera duża\n",
    "string.capitalize()\n",
    "\n",
    "# Zmienia duże litery na małe i odwrotnie.\n",
    "string.swapcase()"
   ]
  },
  {
   "cell_type": "markdown",
   "id": "3c8db477",
   "metadata": {},
   "source": [
    "### 1. string.lower()\n",
    "\n",
    "#### Zamień wielkość znaków (alfabetycznych) w stringu na same małe litery."
   ]
  },
  {
   "cell_type": "code",
   "execution_count": 485,
   "id": "b371ebdf",
   "metadata": {},
   "outputs": [
    {
     "name": "stdout",
     "output_type": "stream",
     "text": [
      "abcdxdrsdfg049434...\n"
     ]
    }
   ],
   "source": [
    "ciag_znakow = 'abcdXDRSDFG049434...'\n",
    "ciag_znakow = ciag_znakow.lower()\n",
    "\n",
    "print(ciag_znakow)"
   ]
  },
  {
   "cell_type": "markdown",
   "id": "9e65be3c",
   "metadata": {},
   "source": [
    "### 2. string.upper()\n",
    "\n",
    "#### Zamień wielkość znaków (alfabetycznych) w stringu na same DUŻE litery."
   ]
  },
  {
   "cell_type": "code",
   "execution_count": 486,
   "id": "987244e6",
   "metadata": {},
   "outputs": [
    {
     "name": "stdout",
     "output_type": "stream",
     "text": [
      "ABCDXDRSDFG049434...\n"
     ]
    }
   ],
   "source": [
    "ciag_znakow = 'abcdXDRSDFG049434...'\n",
    "ciag_znakow = ciag_znakow.upper()\n",
    "\n",
    "print(ciag_znakow)"
   ]
  },
  {
   "cell_type": "markdown",
   "id": "7bc7699e",
   "metadata": {},
   "source": [
    "### 3. string.capitalize()\n",
    "\n",
    "#### Zamień wielkość znaków (alfabetycznych) w stringu na: Same Duże Litery Na Początku Słów."
   ]
  },
  {
   "cell_type": "code",
   "execution_count": 487,
   "id": "ef7d577f",
   "metadata": {},
   "outputs": [
    {
     "name": "stdout",
     "output_type": "stream",
     "text": [
      "Abcdxdrsd aef af a effg049434...\n"
     ]
    }
   ],
   "source": [
    "ciag_znakow = 'abcdXDRSD aef af a efFG049434...'\n",
    "ciag_znakow = ciag_znakow.capitalize()\n",
    "\n",
    "print(ciag_znakow)"
   ]
  },
  {
   "cell_type": "markdown",
   "id": "10d064fb",
   "metadata": {},
   "source": [
    "### 4. string.title()\n",
    "\n",
    "#### Zamień wielkość 1 znaku (alfabetycznych) w stringu na: Duż litera na początku zdania."
   ]
  },
  {
   "cell_type": "code",
   "execution_count": 488,
   "id": "6b3fa11d",
   "metadata": {},
   "outputs": [
    {
     "name": "stdout",
     "output_type": "stream",
     "text": [
      "Abcdxdr Zvf Efaf Aef Sdfg049434...\n"
     ]
    }
   ],
   "source": [
    "ciag_znakow = 'abcdXDR zvf efaf aef SDFG049434...'\n",
    "ciag_znakow = ciag_znakow.title()\n",
    "\n",
    "print(ciag_znakow)"
   ]
  },
  {
   "cell_type": "markdown",
   "id": "478f70b5",
   "metadata": {},
   "source": [
    "### 5. string.swapcase()\n",
    "\n",
    "#### Zamień wielkość znaków na odwrotny. Małe litery zostaną dużymi a duże małymi: Same Duże Litery Na Początku Słów."
   ]
  },
  {
   "cell_type": "code",
   "execution_count": 489,
   "id": "a5bb11d5",
   "metadata": {},
   "outputs": [
    {
     "name": "stdout",
     "output_type": "stream",
     "text": [
      "ABCDxdrsdfg049434...\n"
     ]
    }
   ],
   "source": [
    "ciag_znakow = 'abcdXDRSDFG049434...'\n",
    "ciag_znakow = ciag_znakow.swapcase()\n",
    "\n",
    "print(ciag_znakow)"
   ]
  },
  {
   "cell_type": "markdown",
   "id": "877e3b7c",
   "metadata": {},
   "source": [
    "## 3. Zmień treść stringów"
   ]
  },
  {
   "cell_type": "markdown",
   "id": "b1408de4",
   "metadata": {},
   "source": [
    "###  X. string.replace('to_zamien', 'na_to')\n",
    "\n",
    "Jeżeli w tekście jest/są fragmenty o treści `xxx` to zamień wszystkie `xxx` na `YYY`.\n"
   ]
  },
  {
   "cell_type": "code",
   "execution_count": 490,
   "id": "aa791da2",
   "metadata": {},
   "outputs": [
    {
     "name": "stdout",
     "output_type": "stream",
     "text": [
      "replace() to METODA stringów w języku Python.\n",
      "replace() to funkcja w TROLOLOLOLO Python.\n"
     ]
    }
   ],
   "source": [
    "string = 'replace() to funkcja w języku Python.'\n",
    "\n",
    "string_2 = string.replace('funkcja', 'METODA stringów')\n",
    "\n",
    "print(string_2)\n",
    "\n",
    "string_2 = string.replace('języku', 'TROLOLOLOLO')\n",
    "\n",
    "print(string_2)"
   ]
  },
  {
   "cell_type": "markdown",
   "id": "b177e57b",
   "metadata": {},
   "source": [
    "## 4. Łączenie stringów"
   ]
  },
  {
   "cell_type": "markdown",
   "id": "3d988277",
   "metadata": {},
   "source": [
    "### 1. `' '.join(lista)`"
   ]
  },
  {
   "cell_type": "code",
   "execution_count": 491,
   "id": "076362a0",
   "metadata": {},
   "outputs": [
    {
     "name": "stdout",
     "output_type": "stream",
     "text": [
      "ab__^__cd__^__ef\n"
     ]
    }
   ],
   "source": [
    "lista = ['ab','cd', 'ef']\n",
    "\n",
    "ciag_znakow = '__^__'.join(lista)\n",
    "print(ciag_znakow)"
   ]
  },
  {
   "cell_type": "markdown",
   "id": "65637e0d",
   "metadata": {},
   "source": [
    "### 2. `'a' + 'b' + 'c'` \n",
    "\n",
    "#### Dodawanie stringów"
   ]
  },
  {
   "cell_type": "code",
   "execution_count": 492,
   "id": "03776e88",
   "metadata": {},
   "outputs": [
    {
     "data": {
      "text/plain": [
       "'ab'"
      ]
     },
     "execution_count": 492,
     "metadata": {},
     "output_type": "execute_result"
    }
   ],
   "source": [
    "'a' + 'b'"
   ]
  },
  {
   "cell_type": "code",
   "execution_count": 493,
   "id": "fe0a2238",
   "metadata": {},
   "outputs": [
    {
     "data": {
      "text/plain": [
       "'Ala makota'"
      ]
     },
     "execution_count": 493,
     "metadata": {},
     "output_type": "execute_result"
    }
   ],
   "source": [
    "'Ala' + ' ' + 'ma' + 'kota'"
   ]
  },
  {
   "cell_type": "markdown",
   "id": "b949dd69",
   "metadata": {},
   "source": [
    "## 5. Zamień string w listę stringów"
   ]
  },
  {
   "cell_type": "markdown",
   "id": "e49c3823",
   "metadata": {},
   "source": [
    "### 1. string.split()\n",
    "\n",
    "#### Potnij tekst na kilka kawałków w miejscu gdzie są spacje i zwróć - listę stringów\n",
    "\n",
    "Np. Aby podzielić zdanie na słowa, wystarczy pociąć je w miejscach gdzie występuje spacja."
   ]
  },
  {
   "cell_type": "code",
   "execution_count": 494,
   "id": "50082cd6",
   "metadata": {},
   "outputs": [
    {
     "data": {
      "text/plain": [
       "['To', 'jest', 'string', 'z', 'kilkoma', 'słowami.', 'Zdanie.']"
      ]
     },
     "execution_count": 494,
     "metadata": {},
     "output_type": "execute_result"
    }
   ],
   "source": [
    "slowa = 'To jest string z kilkoma słowami. Zdanie.'\n",
    "\n",
    "slowa.split()"
   ]
  },
  {
   "cell_type": "markdown",
   "id": "259a847c",
   "metadata": {},
   "source": [
    "### 2. slowa.split('/')\n",
    "\n",
    "#### Potnij w wyznaczonym miejscu."
   ]
  },
  {
   "cell_type": "code",
   "execution_count": 495,
   "id": "e37fa530",
   "metadata": {},
   "outputs": [
    {
     "data": {
      "text/plain": [
       "['', 'home', 'ja', '.ssh', 'known_hosts']"
      ]
     },
     "execution_count": 495,
     "metadata": {},
     "output_type": "execute_result"
    }
   ],
   "source": [
    "slowa = '/home/ja/.ssh/known_hosts'\n",
    "\n",
    "slowa.split('/')"
   ]
  },
  {
   "cell_type": "code",
   "execution_count": 496,
   "id": "0c612854",
   "metadata": {},
   "outputs": [
    {
     "data": {
      "text/plain": [
       "'/home/luke/zajecia_programowania_xd_2/klocki'"
      ]
     },
     "execution_count": 496,
     "metadata": {},
     "output_type": "execute_result"
    }
   ],
   "source": [
    "pwd"
   ]
  },
  {
   "cell_type": "markdown",
   "id": "af9e36ee",
   "metadata": {},
   "source": [
    "### 3. slowa.splitlines()\n",
    "\n",
    "#### Potnij tekst w miejscach gdzie jest biały znak `\\n` i zwróć listę linii."
   ]
  },
  {
   "cell_type": "code",
   "execution_count": 497,
   "id": "9f10c8d3",
   "metadata": {},
   "outputs": [
    {
     "data": {
      "text/plain": [
       "['To jest 1 linia.', 'To jest 2 linia.', 'To jest 3 linia.']"
      ]
     },
     "execution_count": 497,
     "metadata": {},
     "output_type": "execute_result"
    }
   ],
   "source": [
    "slowa = 'To jest 1 linia.\\nTo jest 2 linia.\\nTo jest 3 linia.'\n",
    "\n",
    "slowa.splitlines()"
   ]
  },
  {
   "cell_type": "markdown",
   "id": "0d84534b",
   "metadata": {},
   "source": [
    "### 4. slowa.rsplit()\n",
    "\n",
    "#### Potnij tekst w miejscach gdzie jest to co podasz jako 1 argument, tyle razy ile wynosi argument drugi, licząc od tyłu.\n",
    "\n",
    "Bez drugiego argumentu - zwraca jako listę tekst pocięty w miejscu gdzie są spacje - tak jak `split()`."
   ]
  },
  {
   "cell_type": "code",
   "execution_count": 498,
   "id": "bf147611",
   "metadata": {},
   "outputs": [
    {
     "data": {
      "text/plain": [
       "['To',\n",
       " 'jest',\n",
       " '1',\n",
       " 'linia.\\nTo',\n",
       " 'jest',\n",
       " '2',\n",
       " 'linia.\\nTo',\n",
       " 'jest',\n",
       " '3',\n",
       " 'linia.']"
      ]
     },
     "execution_count": 498,
     "metadata": {},
     "output_type": "execute_result"
    }
   ],
   "source": [
    "slowa.rsplit(' ')"
   ]
  },
  {
   "cell_type": "markdown",
   "id": "a1fcd45b",
   "metadata": {},
   "source": [
    "### 5. string.partition('.')\n",
    "\n",
    "Podziel string na 2 kawałki w (pierwszym) miejscu, gdzie jest podany argument. Zwróć oba elementy wraz z argumentem którym były oddzielone jako tuplę 3 wartości.\n"
   ]
  },
  {
   "cell_type": "code",
   "execution_count": 499,
   "id": "b1864c92",
   "metadata": {},
   "outputs": [
    {
     "data": {
      "text/plain": [
       "('10', '.', '20.30.40')"
      ]
     },
     "execution_count": 499,
     "metadata": {},
     "output_type": "execute_result"
    }
   ],
   "source": [
    "string = '10.20.30.40'\n",
    "xd = string.partition('.')\n",
    "\n",
    "xd"
   ]
  },
  {
   "cell_type": "markdown",
   "id": "cfd5f0c7",
   "metadata": {},
   "source": [
    "### 6. string.rpartition('.')\n",
    "\n",
    "Podziel string na 2 kawałki w (ostatnim) miejscu, gdzie jest podany argument. Zwróć oba elementy wraz z argumentem którym były oddzielone jako tuplę 3 wartości.\n"
   ]
  },
  {
   "cell_type": "code",
   "execution_count": 500,
   "id": "b347a839",
   "metadata": {},
   "outputs": [
    {
     "name": "stdout",
     "output_type": "stream",
     "text": [
      "('10.20.30', '.', '40')\n"
     ]
    }
   ],
   "source": [
    "string = '10.20.30.40'\n",
    "xd = string.rpartition('.')\n",
    "print(xd)"
   ]
  },
  {
   "cell_type": "markdown",
   "id": "fcf98a8b",
   "metadata": {},
   "source": [
    "## 6. Indeksy\n",
    "Zastosuj wiedzę z klocka 008 - list: [008_listy]('https://github.com/ZPXD/zajecia_programowania_xd/blob/main/klocki/008_listy.ipynb'). \n",
    "\n",
    "Zatrzymaj się na dziale indeksy.\n",
    "\n",
    "Ułóż dwa okna są obok siebie. Są? Wypełnij kwadratowe nawiasy w programach poniżej, tak aby uzyskać oczekiwany efekt. Zobaczysz, że indeksy w listach i stringach działają identycznie."
   ]
  },
  {
   "cell_type": "markdown",
   "id": "55e79abd",
   "metadata": {},
   "source": [
    "### string[:]\n",
    "\n",
    "#### Pokaż 1 literę ze stringu"
   ]
  },
  {
   "cell_type": "code",
   "execution_count": null,
   "id": "ac89c86b",
   "metadata": {},
   "outputs": [],
   "source": [
    "string = 'abcdefghi'"
   ]
  },
  {
   "cell_type": "markdown",
   "id": "a6c1857a",
   "metadata": {},
   "source": [
    "### string[:]\n",
    "\n",
    "#### Pokaż ostatnią literę ze stringu"
   ]
  },
  {
   "cell_type": "code",
   "execution_count": null,
   "id": "f6a9f4a4",
   "metadata": {},
   "outputs": [],
   "source": [
    "fragment = string[]\n",
    "print(fragment)"
   ]
  },
  {
   "cell_type": "markdown",
   "id": "cd14cd28",
   "metadata": {},
   "source": [
    "### string[:]\n",
    "\n",
    "##### Pokaż 2 i 3 literę ze stringu."
   ]
  },
  {
   "cell_type": "code",
   "execution_count": null,
   "id": "60f41feb",
   "metadata": {},
   "outputs": [],
   "source": [
    "fragment = string[]\n",
    "print(fragment)"
   ]
  },
  {
   "cell_type": "markdown",
   "id": "d2787a98",
   "metadata": {},
   "source": [
    "### string[:]\n",
    "\n",
    "#### Pokaż  3, 4, 5, 6, 7, 8, 9, 10 literę ze stringu."
   ]
  },
  {
   "cell_type": "code",
   "execution_count": null,
   "id": "b41d3aa9",
   "metadata": {},
   "outputs": [],
   "source": [
    "fragment = string[:]\n",
    "print(fragment)"
   ]
  },
  {
   "cell_type": "markdown",
   "id": "e531a627",
   "metadata": {},
   "source": [
    "### string[:]\n",
    "\n",
    "#### Pokaż odwrócony string "
   ]
  },
  {
   "cell_type": "code",
   "execution_count": null,
   "id": "f845df99",
   "metadata": {},
   "outputs": [],
   "source": [
    "ciag_znakow = 'Ala ma kota. xD'\n",
    "fragment = ciag_znakow[::]\n",
    "\n",
    "print(fragment)"
   ]
  },
  {
   "cell_type": "markdown",
   "id": "ab89f372",
   "metadata": {},
   "source": [
    "### string[:]\n",
    "\n",
    "#### Pokaż od 4 do przedostatniej litery"
   ]
  },
  {
   "cell_type": "code",
   "execution_count": 501,
   "id": "c5a6b80a",
   "metadata": {},
   "outputs": [
    {
     "name": "stdout",
     "output_type": "stream",
     "text": [
      "ma kota. \n"
     ]
    }
   ],
   "source": [
    "ciag_znakow = 'Ala ma kota. xD'\n",
    "fragment = ciag_znakow[:]\n",
    "\n",
    "print(fragment)"
   ]
  },
  {
   "cell_type": "markdown",
   "id": "9122daf1",
   "metadata": {},
   "source": [
    "Przemyśl ten fragment. Zobacz jak łatwo rzeźbiąc rozwiązanie zasugerować się spacją na końcu."
   ]
  },
  {
   "cell_type": "markdown",
   "id": "97c8400b",
   "metadata": {},
   "source": [
    "### Odpowiedzi:"
   ]
  },
  {
   "cell_type": "code",
   "execution_count": null,
   "id": "9dd2b431",
   "metadata": {},
   "outputs": [],
   "source": [
    "string = 'abcdefgh'\n",
    "\n",
    "element_1 = string[0]\n",
    "element_2 = string[1]\n",
    "element_ostatni = string[-1]\n",
    "odwrocony_string = string[::-1]\n",
    "od_4_do_przedostatniej_litery = string[4:-2]"
   ]
  },
  {
   "cell_type": "markdown",
   "id": "87bd554c",
   "metadata": {},
   "source": [
    "#### Metody stringów do pracy z indeksem:\n",
    "\n",
    "###  ciag_znakow.index('abc')\n",
    "\n",
    "Przeszukuje ciąg znaków od prawej strony i zwraca indeks dla pierwszego napotkanego argumentu (słowa, zdania, litery itp.)."
   ]
  },
  {
   "cell_type": "code",
   "execution_count": 502,
   "id": "ecc26ce0",
   "metadata": {},
   "outputs": [
    {
     "data": {
      "text/plain": [
       "2"
      ]
     },
     "execution_count": 502,
     "metadata": {},
     "output_type": "execute_result"
    }
   ],
   "source": [
    "ciag_znakow = 'abcdefg'\n",
    "\n",
    "ciag_znakow.index('c')"
   ]
  },
  {
   "cell_type": "markdown",
   "id": "68704c77",
   "metadata": {},
   "source": [
    "### ciag_znakow.rindex('f')\n",
    "\n",
    "Przeszukuje ciąg znaków od prawej strony i zwraca indeks dla pierwszego napotkanego argumentu (słowa, zdania, litery itp.)."
   ]
  },
  {
   "cell_type": "code",
   "execution_count": 503,
   "id": "5ce1fc66",
   "metadata": {},
   "outputs": [
    {
     "data": {
      "text/plain": [
       "6"
      ]
     },
     "execution_count": 503,
     "metadata": {},
     "output_type": "execute_result"
    }
   ],
   "source": [
    "ciag_znakow = 'afbcdefa'\n",
    "\n",
    "ciag_znakow.rindex('f')"
   ]
  },
  {
   "cell_type": "markdown",
   "id": "f58d6334",
   "metadata": {},
   "source": [
    "### Posumowując\n",
    "\n",
    "\n",
    "1. pokaż element - `string[0] / string[1]`\n",
    "2. ostatni element - `string[-1]`\n",
    "3. string odwrotnie - `string[::1]`\n",
    "4. fragment stringa - `string[4:2]`\n",
    "5. Jaki index ma wartość - `ciag_znakow.index('a')` /  `ciag_znakow.rindex('a')`"
   ]
  },
  {
   "cell_type": "markdown",
   "id": "63a2faec",
   "metadata": {},
   "source": [
    "## 7. Biale znaki\n",
    "\n",
    "To znaki, których nie widać, jeżeli je zapiszesz w pliku (lub np. wyświetlisz na stronie, w terminalu). \n",
    "\n",
    "#### Najczęściej używany biały znak - znak nowej linii `\\n`."
   ]
  },
  {
   "cell_type": "code",
   "execution_count": 504,
   "id": "2f079ac4",
   "metadata": {},
   "outputs": [
    {
     "name": "stdout",
     "output_type": "stream",
     "text": [
      "\n",
      "\n"
     ]
    }
   ],
   "source": [
    "print('\\n')"
   ]
  },
  {
   "cell_type": "markdown",
   "id": "2d5ecb8d",
   "metadata": {},
   "source": [
    "Nic nie widać."
   ]
  },
  {
   "cell_type": "markdown",
   "id": "fa77320c",
   "metadata": {},
   "source": [
    "Taki znak jest na końcu każdej linii. Po prostu nie widać go w pliku tekstowym czy wordowym. Natomiast widać jego działanie."
   ]
  },
  {
   "cell_type": "code",
   "execution_count": 505,
   "id": "e6f6d3a9",
   "metadata": {},
   "outputs": [],
   "source": [
    "tekst = 'To jest jakiś tekst\\nTo też jest jakiś tekst\\nI to też jest jakiś tekst'"
   ]
  },
  {
   "cell_type": "markdown",
   "id": "d5983e94",
   "metadata": {},
   "source": [
    "#### Tekst sam w sobie:"
   ]
  },
  {
   "cell_type": "code",
   "execution_count": 506,
   "id": "e7ebb5ad",
   "metadata": {},
   "outputs": [
    {
     "data": {
      "text/plain": [
       "'To jest jakiś tekst\\nTo też jest jakiś tekst\\nI to też jest jakiś tekst'"
      ]
     },
     "execution_count": 506,
     "metadata": {},
     "output_type": "execute_result"
    }
   ],
   "source": [
    "tekst"
   ]
  },
  {
   "cell_type": "markdown",
   "id": "56e4c5f9",
   "metadata": {},
   "source": [
    "#### Tego nie zobaczysz wyświetlając, zapisując w tekście czy printując białe znaki. Zobacz na przykładzie print()\n",
    "Wyprintuj a zobaczysz, że nie będzie widać białych znaków. \n",
    "\n",
    "Jednak spełnią swoje zadanie"
   ]
  },
  {
   "cell_type": "code",
   "execution_count": 507,
   "id": "bac0d419",
   "metadata": {},
   "outputs": [
    {
     "name": "stdout",
     "output_type": "stream",
     "text": [
      "To jest jakiś tekst\n",
      "To też jest jakiś tekst\n",
      "I to też jest jakiś tekst\n"
     ]
    }
   ],
   "source": [
    "print(tekst)"
   ]
  },
  {
   "cell_type": "markdown",
   "id": "52180fd5",
   "metadata": {},
   "source": [
    "#### Inne białe znaki:"
   ]
  },
  {
   "cell_type": "markdown",
   "id": "4a9e74b8",
   "metadata": {},
   "source": [
    "1. **\\'**\tSingle Quote\t\n",
    "2. **\\\\**\tBackslash\t\n",
    "3. **\\n**\tNew Line\t\n",
    "\n",
    "\n",
    "4. **\\r**\tCarriage Return\t\n",
    "5. **\\t**\tTab\t\n",
    "6. **\\b**\tBackspace\t\n",
    "7. **\\f**\tForm Feed\t\n",
    "8. **\\ooo** Octal value\t\n",
    "9. **\\xhh** Hex value"
   ]
  },
  {
   "cell_type": "markdown",
   "id": "44a2ff5c",
   "metadata": {},
   "source": [
    "#### Wypróbuj:"
   ]
  },
  {
   "cell_type": "code",
   "execution_count": 508,
   "id": "f9cc733a",
   "metadata": {},
   "outputs": [
    {
     "name": "stdout",
     "output_type": "stream",
     "text": [
      "abcd\n",
      "efgh\n"
     ]
    }
   ],
   "source": [
    "tekst = 'abcd\\nefgh'\n",
    "print(tekst)"
   ]
  },
  {
   "cell_type": "markdown",
   "id": "eea46a86",
   "metadata": {},
   "source": [
    "#### 3. \"Escape characters w tekście\"\n",
    "\n",
    "Znaki których używamy aby pisać w wielu liniach."
   ]
  },
  {
   "cell_type": "markdown",
   "id": "eff8a1b8",
   "metadata": {},
   "source": [
    "## 8. Metody sprawdzania obecności pewnych znaków na początku i końcu stringa\n",
    "\n",
    "#### Sprawdź czy string kończy lub zaczyna się w pewien sposób"
   ]
  },
  {
   "cell_type": "code",
   "execution_count": 509,
   "id": "6cd46259",
   "metadata": {},
   "outputs": [
    {
     "data": {
      "text/plain": [
       "(True, True)"
      ]
     },
     "execution_count": 509,
     "metadata": {},
     "output_type": "execute_result"
    }
   ],
   "source": [
    "string = 'abcxyz'\n",
    "\n",
    "string.startswith('a'), string.endswith('z')"
   ]
  },
  {
   "cell_type": "markdown",
   "id": "1e9e9535",
   "metadata": {},
   "source": [
    "### 1. Sprawdź czy fraza znajduje się w tekście - sposób 1 -   `if 'a' in abecadlo:`\n",
    "\n",
    "Sprawdź czy string po lewej jest częścią stringu po prawej stronie."
   ]
  },
  {
   "cell_type": "code",
   "execution_count": 510,
   "id": "bd8db6f2",
   "metadata": {
    "scrolled": true
   },
   "outputs": [
    {
     "name": "stdout",
     "output_type": "stream",
     "text": [
      "yes\n"
     ]
    }
   ],
   "source": [
    "string = 'abcde'\n",
    "if \"e\" in string:\n",
    "    print(\"yes\")"
   ]
  },
  {
   "cell_type": "code",
   "execution_count": 511,
   "id": "72becbb8",
   "metadata": {
    "scrolled": true
   },
   "outputs": [
    {
     "name": "stdout",
     "output_type": "stream",
     "text": [
      "yes\n"
     ]
    }
   ],
   "source": [
    "string = '1234524523424'\n",
    "if '1' in string:\n",
    "    print(\"yes\")"
   ]
  },
  {
   "cell_type": "markdown",
   "id": "bf2fd7f5",
   "metadata": {},
   "source": [
    "### Sposób 2 -  ` string.find('fraza')`\n",
    "\n",
    "#### Znajdź nr indeksu wewnątrz stringa gdzie znajduje się tekst zadany jako argument\n",
    "\n",
    "Od `index()` różni się tym, że nie nie znajduje elementu, nie zwraca błędu ale przyjmuje wartość `-1`"
   ]
  },
  {
   "cell_type": "code",
   "execution_count": 512,
   "id": "d34df10b",
   "metadata": {},
   "outputs": [
    {
     "name": "stdout",
     "output_type": "stream",
     "text": [
      "3 -1\n"
     ]
    }
   ],
   "source": [
    "string = 'To jest jakieś zdanie.'\n",
    "\n",
    "print(string.find(\"jest\"), string.find(\"rwefefzf\"))"
   ]
  },
  {
   "cell_type": "markdown",
   "id": "d2631d31",
   "metadata": {},
   "source": [
    "### 2. string.startswith('od_tego_sie_zaczyna')\n",
    "\n",
    "#### Sprawdź czy string zaczyna się od podanych znaków"
   ]
  },
  {
   "cell_type": "code",
   "execution_count": 513,
   "id": "86760d01",
   "metadata": {},
   "outputs": [
    {
     "name": "stdout",
     "output_type": "stream",
     "text": [
      "True\n"
     ]
    }
   ],
   "source": [
    "string = 'Ala ma kota'\n",
    "\n",
    "if string.startswith('Ala'):\n",
    "    print(True)\n",
    "else:\n",
    "    print(False)"
   ]
  },
  {
   "cell_type": "markdown",
   "id": "cf4eb436",
   "metadata": {},
   "source": [
    "### 3. string.endswith('tak_sie_konczy')\n",
    "\n",
    "\n",
    "#### Sprawdź czy tekst się kończy tak jak chcesz:"
   ]
  },
  {
   "cell_type": "code",
   "execution_count": 514,
   "id": "a54ebacd",
   "metadata": {},
   "outputs": [
    {
     "name": "stdout",
     "output_type": "stream",
     "text": [
      "True\n"
     ]
    }
   ],
   "source": [
    "string = 'Ala ma kota'\n",
    "\n",
    "if string.endswith('kota'):\n",
    "    print(True)\n",
    "else:\n",
    "    print(False)"
   ]
  },
  {
   "cell_type": "markdown",
   "id": "08a89cbc",
   "metadata": {},
   "source": [
    "## 9. Metody sprawdzania rodzaju znaków w stringów\n",
    "\n",
    "Dotyczy pojedyńczych znaków jak i dłuższych tekstów (wtedy sprawdza cały tekst a nie np. jedną literę).\n",
    "\n",
    "### Sprawdź czy każdy znak w stringu zawiera:"
   ]
  },
  {
   "cell_type": "markdown",
   "id": "a794ebd5",
   "metadata": {},
   "source": [
    "#### Treść znaku"
   ]
  },
  {
   "cell_type": "code",
   "execution_count": 515,
   "id": "11a9f828",
   "metadata": {},
   "outputs": [
    {
     "data": {
      "text/plain": [
       "False"
      ]
     },
     "execution_count": 515,
     "metadata": {},
     "output_type": "execute_result"
    }
   ],
   "source": [
    "# Tylko litery\n",
    "string.isalpha()\n",
    "\n",
    "# Tylko cyfry\n",
    "string.isdigit()\n",
    "\n",
    "# Tylko litery i tylko cyfry\n",
    "string.isalnum()"
   ]
  },
  {
   "cell_type": "markdown",
   "id": "3cf0c233",
   "metadata": {},
   "source": [
    "#### Wielkość znaku"
   ]
  },
  {
   "cell_type": "code",
   "execution_count": 516,
   "id": "7f8841ad",
   "metadata": {},
   "outputs": [
    {
     "data": {
      "text/plain": [
       "False"
      ]
     },
     "execution_count": 516,
     "metadata": {},
     "output_type": "execute_result"
    }
   ],
   "source": [
    "# Tylko DUŻE litery\n",
    "string.isupper()\n",
    "\n",
    "# Tylko małe litery\n",
    "string.islower()\n",
    "\n",
    "# Tylko Duże Litery Na Początku Słów W Stringu Oddzielonym Spacjami.\n",
    "string.istitle()"
   ]
  },
  {
   "cell_type": "markdown",
   "id": "9893ee46",
   "metadata": {},
   "source": [
    "#### Spacje i znaki widzialne w print() lub w plikach tekstowych:"
   ]
  },
  {
   "cell_type": "code",
   "execution_count": 517,
   "id": "6ab35e88",
   "metadata": {},
   "outputs": [
    {
     "data": {
      "text/plain": [
       "True"
      ]
     },
     "execution_count": 517,
     "metadata": {},
     "output_type": "execute_result"
    }
   ],
   "source": [
    "# Same spacje\n",
    "string.isspace()\n",
    "\n",
    "# Same widoczne znaki\n",
    "string.isprintable()"
   ]
  },
  {
   "cell_type": "markdown",
   "id": "09363e0b",
   "metadata": {},
   "source": [
    "To wbudowane metody sprawdzania znaków. Możesz napisać więcej, np. sprawdź czy znak jest kropką lub przecinkiem - w swoich programach takie jak chcesz korzystając z połączenia różnych klocków takich jak min. funkcje i fory. Pokaże Ci więcej na Level 2. Są też biblioteki które czynią najróżniejsze dodatkowe walidacje. O najbardziej zaawansowanej z nich poczytasz na Level 3."
   ]
  },
  {
   "cell_type": "code",
   "execution_count": null,
   "id": "80c7a3ae",
   "metadata": {},
   "outputs": [],
   "source": []
  },
  {
   "cell_type": "markdown",
   "id": "5a4ff62f",
   "metadata": {},
   "source": [
    "### 1. string.isdigit()\n",
    "\n",
    "#### Pradwda, jeżeli string to same: cyfry\n",
    "\n",
    "Tu mamy do dyspozycji aż 3 funkcje. Nieznacznie się różnią (mają nieco inne zastosowanie przy różnym kodowaniu znaków), ale tym narazie niezawracaj sobie głowy."
   ]
  },
  {
   "cell_type": "code",
   "execution_count": 518,
   "id": "cd21de21",
   "metadata": {},
   "outputs": [
    {
     "data": {
      "text/plain": [
       "True"
      ]
     },
     "execution_count": 518,
     "metadata": {},
     "output_type": "execute_result"
    }
   ],
   "source": [
    "'023'.isdigit()"
   ]
  },
  {
   "cell_type": "code",
   "execution_count": 519,
   "id": "d7e3d470",
   "metadata": {},
   "outputs": [
    {
     "name": "stdout",
     "output_type": "stream",
     "text": [
      "True\n"
     ]
    }
   ],
   "source": [
    "string  = '10'\n",
    "if string.isdigit():\n",
    "    print(True)"
   ]
  },
  {
   "cell_type": "markdown",
   "id": "8423db5d",
   "metadata": {},
   "source": [
    "#### Przykład:"
   ]
  },
  {
   "cell_type": "code",
   "execution_count": 520,
   "id": "c0e59d3f",
   "metadata": {},
   "outputs": [
    {
     "name": "stdout",
     "output_type": "stream",
     "text": [
      "xDDD\n"
     ]
    }
   ],
   "source": [
    "string = '1223'\n",
    "\n",
    "if string.isnumeric() and string.isdigit() and string.isdecimal():\n",
    "    print('xDDD')"
   ]
  },
  {
   "cell_type": "markdown",
   "id": "a914632d",
   "metadata": {},
   "source": [
    "### 2. string.isalnum()\n",
    "\n",
    "#### Pradwda, jeżeli string to same: litery i cyfry"
   ]
  },
  {
   "cell_type": "code",
   "execution_count": 521,
   "id": "8d57a74a",
   "metadata": {},
   "outputs": [
    {
     "data": {
      "text/plain": [
       "True"
      ]
     },
     "execution_count": 521,
     "metadata": {},
     "output_type": "execute_result"
    }
   ],
   "source": [
    "string = '1232342abaeffjafaef'\n",
    "string.isalnum()"
   ]
  },
  {
   "cell_type": "code",
   "execution_count": 522,
   "id": "7cd54c45",
   "metadata": {},
   "outputs": [
    {
     "name": "stdout",
     "output_type": "stream",
     "text": [
      "True\n"
     ]
    }
   ],
   "source": [
    "if string.isalnum():\n",
    "    print(True)"
   ]
  },
  {
   "cell_type": "markdown",
   "id": "de7516f1",
   "metadata": {},
   "source": [
    "#### Przykład:"
   ]
  },
  {
   "cell_type": "code",
   "execution_count": 523,
   "id": "839ea12d",
   "metadata": {},
   "outputs": [
    {
     "name": "stdout",
     "output_type": "stream",
     "text": [
      "String: A\n",
      "Czy string zawiera same numery i litery?\n",
      "\n",
      "Tak\n"
     ]
    }
   ],
   "source": [
    "string = 'A'\n",
    "\n",
    "print('String:', string)\n",
    "\n",
    "print('Czy string zawiera same numery i litery?\\n')\n",
    "if string.isalnum():\n",
    "    print('Tak')\n",
    "else:\n",
    "    print('Nie')"
   ]
  },
  {
   "cell_type": "markdown",
   "id": "5ce5a026",
   "metadata": {},
   "source": [
    "### 3. string.isalpha()\n",
    "\n",
    "#### Pradwda, jeżeli string to same: litery i cyfry"
   ]
  },
  {
   "cell_type": "code",
   "execution_count": 524,
   "id": "aebb3066",
   "metadata": {},
   "outputs": [
    {
     "data": {
      "text/plain": [
       "True"
      ]
     },
     "execution_count": 524,
     "metadata": {},
     "output_type": "execute_result"
    }
   ],
   "source": [
    "string = 'abcd'\n",
    "string.isalpha()"
   ]
  },
  {
   "cell_type": "code",
   "execution_count": 525,
   "id": "f695fb4e",
   "metadata": {},
   "outputs": [
    {
     "name": "stdout",
     "output_type": "stream",
     "text": [
      "True\n"
     ]
    }
   ],
   "source": [
    "if string.isalpha():\n",
    "    print(True)"
   ]
  },
  {
   "cell_type": "markdown",
   "id": "03fd4dd8",
   "metadata": {},
   "source": [
    "#### Przykład:"
   ]
  },
  {
   "cell_type": "code",
   "execution_count": 526,
   "id": "5955da79",
   "metadata": {},
   "outputs": [
    {
     "name": "stdout",
     "output_type": "stream",
     "text": [
      "String: A\n",
      "Czy string zawiera same litery?\n",
      "\n",
      "Tak\n"
     ]
    }
   ],
   "source": [
    "string = 'A'\n",
    "\n",
    "print('String:', string)\n",
    "\n",
    "print('Czy string zawiera same litery?\\n')\n",
    "if string.isalpha():\n",
    "    print('Tak')\n",
    "else:\n",
    "    print('Nie')"
   ]
  },
  {
   "cell_type": "markdown",
   "id": "b103f80b",
   "metadata": {},
   "source": [
    "### 4. string.isupper()\n",
    "\n",
    "#### Pradwda, jeżeli string to same: DUŻE litery"
   ]
  },
  {
   "cell_type": "code",
   "execution_count": 527,
   "id": "3abb5ebf",
   "metadata": {},
   "outputs": [
    {
     "data": {
      "text/plain": [
       "True"
      ]
     },
     "execution_count": 527,
     "metadata": {},
     "output_type": "execute_result"
    }
   ],
   "source": [
    "string = 'ABCD'\n",
    "string.isupper()"
   ]
  },
  {
   "cell_type": "code",
   "execution_count": 528,
   "id": "c3037151",
   "metadata": {},
   "outputs": [
    {
     "name": "stdout",
     "output_type": "stream",
     "text": [
      "True\n"
     ]
    }
   ],
   "source": [
    "if string.isupper():\n",
    "    print(True)"
   ]
  },
  {
   "cell_type": "markdown",
   "id": "9f85ac96",
   "metadata": {},
   "source": [
    "#### Przykład:"
   ]
  },
  {
   "cell_type": "code",
   "execution_count": 529,
   "id": "b0710c6f",
   "metadata": {},
   "outputs": [
    {
     "name": "stdout",
     "output_type": "stream",
     "text": [
      "Duże litery\n"
     ]
    }
   ],
   "source": [
    "string = 'A'\n",
    "if string.isupper():\n",
    "    print('Duże litery')"
   ]
  },
  {
   "cell_type": "code",
   "execution_count": 530,
   "id": "3a098282",
   "metadata": {},
   "outputs": [
    {
     "name": "stdout",
     "output_type": "stream",
     "text": [
      "Czy string zawiera same numery i litery?\n",
      "\n",
      "Nie\n"
     ]
    }
   ],
   "source": [
    "string = 'a'\n",
    "\n",
    "print('Czy string zawiera same numery i litery?\\n')\n",
    "if string.isupper():\n",
    "    print('Tak')\n",
    "else:\n",
    "    print('Nie')"
   ]
  },
  {
   "cell_type": "markdown",
   "id": "ac0a402d",
   "metadata": {},
   "source": [
    "### 5. string.islower()\n",
    "\n",
    "#### Pradwda, jeżeli string to same: małe litery"
   ]
  },
  {
   "cell_type": "code",
   "execution_count": 531,
   "id": "ed916602",
   "metadata": {},
   "outputs": [
    {
     "data": {
      "text/plain": [
       "True"
      ]
     },
     "execution_count": 531,
     "metadata": {},
     "output_type": "execute_result"
    }
   ],
   "source": [
    "string = 'abcde'\n",
    "string.islower()"
   ]
  },
  {
   "cell_type": "markdown",
   "id": "8e3787f0",
   "metadata": {},
   "source": [
    "#### Przykład:"
   ]
  },
  {
   "cell_type": "code",
   "execution_count": 532,
   "id": "67acfe99",
   "metadata": {},
   "outputs": [
    {
     "name": "stdout",
     "output_type": "stream",
     "text": [
      "ok\n"
     ]
    }
   ],
   "source": [
    "string = 'a'\n",
    "if string.islower():\n",
    "    print('ok')"
   ]
  },
  {
   "cell_type": "markdown",
   "id": "1d6d1a8e",
   "metadata": {},
   "source": [
    "### 6. string.istitle()\n",
    "\n",
    "#### Prawda, jeżeli wszystkie frazy w stringu: zaczynają się z dużych liter"
   ]
  },
  {
   "cell_type": "code",
   "execution_count": 533,
   "id": "bfb9366c",
   "metadata": {},
   "outputs": [
    {
     "data": {
      "text/plain": [
       "True"
      ]
     },
     "execution_count": 533,
     "metadata": {},
     "output_type": "execute_result"
    }
   ],
   "source": [
    "string = 'Abc Xd Xd'\n",
    "string.istitle()"
   ]
  },
  {
   "cell_type": "code",
   "execution_count": 534,
   "id": "9eac7b5e",
   "metadata": {},
   "outputs": [
    {
     "name": "stdout",
     "output_type": "stream",
     "text": [
      "True\n"
     ]
    }
   ],
   "source": [
    "if string.istitle():\n",
    "    print(True)"
   ]
  },
  {
   "cell_type": "markdown",
   "id": "70d1cc38",
   "metadata": {},
   "source": [
    "#### Przykład:"
   ]
  },
  {
   "cell_type": "code",
   "execution_count": 535,
   "id": "37ae2545",
   "metadata": {},
   "outputs": [
    {
     "name": "stdout",
     "output_type": "stream",
     "text": [
      "ok\n"
     ]
    }
   ],
   "source": [
    "string = 'Wszystkie Wyrazy Z Dużej Litery.'\n",
    "if string.istitle():\n",
    "    print('ok')"
   ]
  },
  {
   "cell_type": "markdown",
   "id": "96f94296",
   "metadata": {},
   "source": [
    "### 7. string.isprintable()\n",
    "\n",
    "#### Sprawdza czy cały ciąg znaków to: to znaki widoczne (np. w printach, plikach tekstowych)"
   ]
  },
  {
   "cell_type": "code",
   "execution_count": 536,
   "id": "cb02db9c",
   "metadata": {},
   "outputs": [
    {
     "data": {
      "text/plain": [
       "True"
      ]
     },
     "execution_count": 536,
     "metadata": {},
     "output_type": "execute_result"
    }
   ],
   "source": [
    "string = 'abc'\n",
    "string.isprintable()"
   ]
  },
  {
   "cell_type": "code",
   "execution_count": 537,
   "id": "b8ccc4db",
   "metadata": {},
   "outputs": [
    {
     "name": "stdout",
     "output_type": "stream",
     "text": [
      "True\n"
     ]
    }
   ],
   "source": [
    "string = 'abc'\n",
    "if string.isprintable():\n",
    "      print(True)"
   ]
  },
  {
   "cell_type": "markdown",
   "id": "4472d2c7",
   "metadata": {},
   "source": [
    "#### Przykład:"
   ]
  },
  {
   "cell_type": "code",
   "execution_count": 538,
   "id": "496011c9",
   "metadata": {},
   "outputs": [],
   "source": [
    "string = \"\\n\"\n",
    "if string.isprintable():\n",
    "    print('nie jest')"
   ]
  },
  {
   "cell_type": "markdown",
   "id": "b5511914",
   "metadata": {},
   "source": [
    "### 8. string.isspace()\n",
    "\n",
    "#### Prawda, jeżeli wszystkie znaki w stringu są: białe lub spacją"
   ]
  },
  {
   "cell_type": "code",
   "execution_count": 539,
   "id": "4bca725a",
   "metadata": {},
   "outputs": [
    {
     "data": {
      "text/plain": [
       "True"
      ]
     },
     "execution_count": 539,
     "metadata": {},
     "output_type": "execute_result"
    }
   ],
   "source": [
    "string = '\\n'\n",
    "string.isspace()"
   ]
  },
  {
   "cell_type": "code",
   "execution_count": 540,
   "id": "86a67660",
   "metadata": {},
   "outputs": [
    {
     "name": "stdout",
     "output_type": "stream",
     "text": [
      "True\n"
     ]
    }
   ],
   "source": [
    "if string.isspace():\n",
    "    print(True)"
   ]
  },
  {
   "cell_type": "markdown",
   "id": "fd7e6f8c",
   "metadata": {},
   "source": [
    "#### Przykład:"
   ]
  },
  {
   "cell_type": "code",
   "execution_count": 541,
   "id": "ab35aafb",
   "metadata": {
    "scrolled": false
   },
   "outputs": [
    {
     "name": "stdout",
     "output_type": "stream",
     "text": [
      "           \n"
     ]
    }
   ],
   "source": [
    "string = \"  x  \" # Nie\n",
    "string = \"     \" # Tak\n",
    "if string.isspace():\n",
    "    print('           ')"
   ]
  },
  {
   "cell_type": "markdown",
   "id": "c3fe19c4",
   "metadata": {},
   "source": [
    "#### 9. Usuwanie spacji na początku i końcu stringa"
   ]
  },
  {
   "cell_type": "code",
   "execution_count": 542,
   "id": "2b410a44",
   "metadata": {},
   "outputs": [
    {
     "name": "stdout",
     "output_type": "stream",
     "text": [
      "   abc   abc   \n"
     ]
    }
   ],
   "source": [
    "spacje_str = '   abc   abc   '\n",
    "print(spacje_str)"
   ]
  },
  {
   "cell_type": "code",
   "execution_count": 543,
   "id": "178a207f",
   "metadata": {},
   "outputs": [
    {
     "name": "stdout",
     "output_type": "stream",
     "text": [
      "x abc   abc x\n"
     ]
    }
   ],
   "source": [
    "spacje_str = '   abc   abc   '\n",
    "spacje_str = spacje_str.strip()\n",
    "print('x', spacje_str, 'x')"
   ]
  },
  {
   "cell_type": "code",
   "execution_count": 544,
   "id": "5e45def9",
   "metadata": {},
   "outputs": [
    {
     "name": "stdout",
     "output_type": "stream",
     "text": [
      "x    abc   abc x\n"
     ]
    }
   ],
   "source": [
    "spacje_str = '   abc   abc   '\n",
    "spacje_str = spacje_str.rstrip()\n",
    "print('x', spacje_str, 'x')"
   ]
  },
  {
   "cell_type": "code",
   "execution_count": 545,
   "id": "40465ab4",
   "metadata": {},
   "outputs": [
    {
     "name": "stdout",
     "output_type": "stream",
     "text": [
      "x abc   abc    x\n"
     ]
    }
   ],
   "source": [
    "spacje_str = '   abc   abc   '\n",
    "spacje_str = spacje_str.lstrip()\n",
    "print('x', spacje_str, 'x')"
   ]
  },
  {
   "cell_type": "markdown",
   "id": "d68f7bdd",
   "metadata": {},
   "source": [
    "## 10. Tekst w przestrzeni"
   ]
  },
  {
   "cell_type": "markdown",
   "id": "7a1d4535",
   "metadata": {},
   "source": [
    "### 1. string.center(10)\n",
    "\n",
    "Dodaje po prawej i lewej stronie stringa kilka spacji - tyle ile zdefiniujesz w argumencie `center()`."
   ]
  },
  {
   "cell_type": "code",
   "execution_count": null,
   "id": "fb875baf",
   "metadata": {},
   "outputs": [],
   "source": [
    "string = 'abcd'\n",
    "string = string.center(20)\n",
    "print(string)"
   ]
  },
  {
   "cell_type": "markdown",
   "id": "ade30c62",
   "metadata": {},
   "source": [
    "### 2. string.rjust()\n",
    "\n",
    "Dodaje przestrzeń w postaci tylu spacji ile zechcesz z lewej strony."
   ]
  },
  {
   "cell_type": "code",
   "execution_count": null,
   "id": "71724008",
   "metadata": {},
   "outputs": [],
   "source": [
    "string_1 = 'abcd'\n",
    "string_2 = string_1.rjust(20)\n",
    "print('x', string_1)\n",
    "print('x', string_2)"
   ]
  },
  {
   "cell_type": "markdown",
   "id": "94d7c277",
   "metadata": {},
   "source": [
    "### 3. string.ljust(50)\n",
    "\n",
    "(Do sprawdzenia) dodaje tyle spacji ile jest potrzebnych aby string miał długość którą podajesz w argumencie. \n",
    "\n",
    "Jeżeli string ma mniej znaków, nie robi nic (do sprawdzenia)."
   ]
  },
  {
   "cell_type": "code",
   "execution_count": null,
   "id": "505a37f6",
   "metadata": {},
   "outputs": [],
   "source": [
    "string_1 = '  abcd'\n",
    "string_2 = string_1.ljust(50)\n",
    "\n",
    "print('x', string_1, 'x', len(string_1))\n",
    "print('x', string_2, 'x', len(string_2))"
   ]
  },
  {
   "cell_type": "code",
   "execution_count": null,
   "id": "dc4ff9c6",
   "metadata": {},
   "outputs": [],
   "source": [
    "txt = \"banana\"\n",
    "\n",
    "x = txt.ljust(20)\n",
    "\n",
    "print(x, \"is my favorite fruit.\")"
   ]
  },
  {
   "cell_type": "markdown",
   "id": "f30d9a16",
   "metadata": {},
   "source": [
    "## 11. Wstawianie wartośći w stringi\n",
    "\n",
    "\n",
    "Czyli tzw. formatowanie stringów od `string.format(wartosc)`. Wymaga template'u w którym są miejsca na wartości. Np. `string = 'Pewna wartość: {}'.`"
   ]
  },
  {
   "cell_type": "markdown",
   "id": "28d32330",
   "metadata": {},
   "source": [
    "### 1. `'Liczba {} jest parzysta'.format(2)`\n",
    "\n",
    "Formatowanie to wstawienie zmiennej w szablon."
   ]
  },
  {
   "cell_type": "code",
   "execution_count": 546,
   "id": "cfc13f34",
   "metadata": {},
   "outputs": [],
   "source": [
    "wstawie_to_1 = 'xD'\n",
    "wstawie_to_2 = 'xD'"
   ]
  },
  {
   "cell_type": "markdown",
   "id": "3f1bdaf4",
   "metadata": {},
   "source": [
    "#### Szybki"
   ]
  },
  {
   "cell_type": "code",
   "execution_count": 547,
   "id": "03bbf9e0",
   "metadata": {},
   "outputs": [
    {
     "name": "stdout",
     "output_type": "stream",
     "text": [
      "xD string do formatu w tych miejscach z xD.\n"
     ]
    }
   ],
   "source": [
    "string = f'{wstawie_to_1} string do formatu w tych miejscach z {wstawie_to_2}.'\n",
    "print(string)"
   ]
  },
  {
   "cell_type": "markdown",
   "id": "543ea2e5",
   "metadata": {},
   "source": [
    "#### Wolny"
   ]
  },
  {
   "cell_type": "code",
   "execution_count": 548,
   "id": "1162546b",
   "metadata": {},
   "outputs": [
    {
     "name": "stdout",
     "output_type": "stream",
     "text": [
      "xD string do formatu w tych miejscach z xD.\n"
     ]
    }
   ],
   "source": [
    "template = '{} string do formatu w tych miejscach z {}.'\n",
    "string = string.format(wstawie_to_1, wstawie_to_2)\n",
    "print(string)"
   ]
  },
  {
   "cell_type": "code",
   "execution_count": null,
   "id": "3493ca3f",
   "metadata": {},
   "outputs": [],
   "source": []
  },
  {
   "cell_type": "markdown",
   "id": "3b62a36d",
   "metadata": {},
   "source": [
    "## 2. Śmieszne parametry do odstępów w formatach\n",
    "\n",
    "Zasadniczo mówimy o 3 wartościach: `<`, `>` i `^`. Pobaw się znakiem i liczbą w wąsowatych nawiasach. "
   ]
  },
  {
   "cell_type": "code",
   "execution_count": 549,
   "id": "12a9c677",
   "metadata": {},
   "outputs": [
    {
     "name": "stdout",
     "output_type": "stream",
     "text": [
      "|a                   |\n",
      "|                   b|\n",
      "|         c          |\n"
     ]
    }
   ],
   "source": [
    "a = \"|{:<20}|\".format('a')\n",
    "b = \"|{:>20}|\".format('b')\n",
    "c = \"|{:^20}|\".format('c')\n",
    "\n",
    "print(a)\n",
    "print(b)\n",
    "print(c)"
   ]
  },
  {
   "cell_type": "markdown",
   "id": "b48370ef",
   "metadata": {},
   "source": [
    "### 3. ` \"Jakaś wartość liczbowa %d\" % 123\" `\n",
    "\n",
    "Forma którą wstawisz zmienną bezpośrednio w tekst:"
   ]
  },
  {
   "cell_type": "code",
   "execution_count": 550,
   "id": "9959976f",
   "metadata": {},
   "outputs": [
    {
     "data": {
      "text/plain": [
       "'Jakaś wartość liczbowa 123'"
      ]
     },
     "execution_count": 550,
     "metadata": {},
     "output_type": "execute_result"
    }
   ],
   "source": [
    "\"Jakaś wartość liczbowa %d\" % 123"
   ]
  },
  {
   "cell_type": "markdown",
   "id": "c4df0936",
   "metadata": {},
   "source": [
    "### 4. \"Uporządkuj w wynikach liczby zmiennoprzecinkowe: `{0:.3f}.\".format(2.3333333)`\n",
    "\n",
    "#### Wstaw w szablon liczbę zmiennoprzecinkową. Użyj specjalnego formatu gdy po przecinku jest więcej znaków niż chcesz w tekście"
   ]
  },
  {
   "cell_type": "code",
   "execution_count": 551,
   "id": "b5a988fe",
   "metadata": {},
   "outputs": [
    {
     "name": "stdout",
     "output_type": "stream",
     "text": [
      "Wartość skrócona to: 2.123\n"
     ]
    }
   ],
   "source": [
    "a = \"Wartość skrócona to: {0:.3f}\".format(2.1234)\n",
    "\n",
    "print(a)"
   ]
  },
  {
   "cell_type": "markdown",
   "id": "e3a166e4",
   "metadata": {},
   "source": [
    "## Level 2"
   ]
  },
  {
   "cell_type": "markdown",
   "id": "78d6f1d5",
   "metadata": {},
   "source": [
    "## 1. Własne walidacje\n",
    "\n",
    "#### Możesz np. sprawdzić, czy stringu są znaki specjalne\n",
    "\n",
    "\n",
    "#### Czy w stringu znajdują się najczęściej używane znaki specjalne?"
   ]
  },
  {
   "cell_type": "code",
   "execution_count": 562,
   "id": "f5b47e13",
   "metadata": {},
   "outputs": [
    {
     "data": {
      "text/plain": [
       "'!\"#$%&\\'()*+,-./:;<=>?@[\\\\]^_`{|}~'"
      ]
     },
     "execution_count": 562,
     "metadata": {},
     "output_type": "execute_result"
    }
   ],
   "source": [
    "import string\n",
    "\n",
    "string.punctuation"
   ]
  },
  {
   "cell_type": "markdown",
   "id": "54eff083",
   "metadata": {},
   "source": [
    "#### Przykład 1"
   ]
  },
  {
   "cell_type": "code",
   "execution_count": 563,
   "id": "482a993e",
   "metadata": {},
   "outputs": [
    {
     "name": "stdout",
     "output_type": "stream",
     "text": [
      "True\n"
     ]
    }
   ],
   "source": [
    "znaki = '.....................................'\n",
    "\n",
    "znaki_specjalne = []\n",
    "for c in znaki:\n",
    "    if c in string.punctuation:\n",
    "        znaki_specjalne.append(c)\n",
    "if znaki_specjalne == list(znaki):\n",
    "    print(True)\n",
    "else:\n",
    "    print(False)"
   ]
  },
  {
   "cell_type": "markdown",
   "id": "c66aace4",
   "metadata": {},
   "source": [
    "#### Przykład 2"
   ]
  },
  {
   "cell_type": "code",
   "execution_count": 564,
   "id": "a21f1491",
   "metadata": {},
   "outputs": [
    {
     "data": {
      "text/plain": [
       "True"
      ]
     },
     "execution_count": 564,
     "metadata": {},
     "output_type": "execute_result"
    }
   ],
   "source": [
    "def ispunct(text):\n",
    "    '''\n",
    "    Check if string contains only '!\"#$%&\\'()*+,-./:;<=>?@[\\\\]^_`{|}~' characters.\n",
    "    '''\n",
    "    special_signs = '!\"#$%&\\'()*+,-./:;<=>?@[\\\\]^_`{|}~'\n",
    "    for c in text:\n",
    "        if c in special_signs:\n",
    "            pass\n",
    "        else:\n",
    "            return False\n",
    "    return True\n",
    "\n",
    "\n",
    "string = '.....................................'\n",
    "ispunct(string)"
   ]
  },
  {
   "cell_type": "code",
   "execution_count": 565,
   "id": "b521b7c8",
   "metadata": {},
   "outputs": [
    {
     "name": "stdout",
     "output_type": "stream",
     "text": [
      "True\n"
     ]
    }
   ],
   "source": [
    "string = '.'\n",
    "if ispunct(string):\n",
    "    print(True)"
   ]
  },
  {
   "cell_type": "markdown",
   "id": "eff38e68",
   "metadata": {},
   "source": [
    "Wcześniej wspomniana biblioteka [string](https://docs.python.org/3/library/string.html) zawiera wiele przydatnych zbiorów."
   ]
  },
  {
   "cell_type": "code",
   "execution_count": 567,
   "id": "f33e318f",
   "metadata": {},
   "outputs": [],
   "source": [
    "import string"
   ]
  },
  {
   "cell_type": "code",
   "execution_count": 568,
   "id": "eab86f4e",
   "metadata": {},
   "outputs": [
    {
     "data": {
      "text/plain": [
       "'abcdefghijklmnopqrstuvwxyzABCDEFGHIJKLMNOPQRSTUVWXYZ'"
      ]
     },
     "execution_count": 568,
     "metadata": {},
     "output_type": "execute_result"
    }
   ],
   "source": [
    "string.ascii_letters"
   ]
  },
  {
   "cell_type": "code",
   "execution_count": 569,
   "id": "f9334309",
   "metadata": {},
   "outputs": [
    {
     "data": {
      "text/plain": [
       "'abcdefghijklmnopqrstuvwxyz'"
      ]
     },
     "execution_count": 569,
     "metadata": {},
     "output_type": "execute_result"
    }
   ],
   "source": [
    "string.ascii_lowercase"
   ]
  },
  {
   "cell_type": "code",
   "execution_count": 570,
   "id": "bb743f97",
   "metadata": {},
   "outputs": [
    {
     "data": {
      "text/plain": [
       "'ABCDEFGHIJKLMNOPQRSTUVWXYZ'"
      ]
     },
     "execution_count": 570,
     "metadata": {},
     "output_type": "execute_result"
    }
   ],
   "source": [
    "string.ascii_uppercase"
   ]
  },
  {
   "cell_type": "code",
   "execution_count": 571,
   "id": "a054c7c3",
   "metadata": {},
   "outputs": [
    {
     "data": {
      "text/plain": [
       "'0123456789'"
      ]
     },
     "execution_count": 571,
     "metadata": {},
     "output_type": "execute_result"
    }
   ],
   "source": [
    "string.digits"
   ]
  },
  {
   "cell_type": "code",
   "execution_count": 572,
   "id": "cfe59254",
   "metadata": {},
   "outputs": [
    {
     "data": {
      "text/plain": [
       "'01234567'"
      ]
     },
     "execution_count": 572,
     "metadata": {},
     "output_type": "execute_result"
    }
   ],
   "source": [
    "string.octdigits"
   ]
  },
  {
   "cell_type": "code",
   "execution_count": 573,
   "id": "cbdc4a0a",
   "metadata": {},
   "outputs": [
    {
     "data": {
      "text/plain": [
       "'!\"#$%&\\'()*+,-./:;<=>?@[\\\\]^_`{|}~'"
      ]
     },
     "execution_count": 573,
     "metadata": {},
     "output_type": "execute_result"
    }
   ],
   "source": [
    "string.punctuation"
   ]
  },
  {
   "cell_type": "code",
   "execution_count": 574,
   "id": "7172fd02",
   "metadata": {},
   "outputs": [
    {
     "data": {
      "text/plain": [
       "'0123456789abcdefABCDEF'"
      ]
     },
     "execution_count": 574,
     "metadata": {},
     "output_type": "execute_result"
    }
   ],
   "source": [
    "string.hexdigits"
   ]
  },
  {
   "cell_type": "code",
   "execution_count": 575,
   "id": "6ffd1956",
   "metadata": {},
   "outputs": [
    {
     "data": {
      "text/plain": [
       "'0123456789abcdefghijklmnopqrstuvwxyzABCDEFGHIJKLMNOPQRSTUVWXYZ!\"#$%&\\'()*+,-./:;<=>?@[\\\\]^_`{|}~ \\t\\n\\r\\x0b\\x0c'"
      ]
     },
     "execution_count": 575,
     "metadata": {},
     "output_type": "execute_result"
    }
   ],
   "source": [
    "string.printable"
   ]
  },
  {
   "cell_type": "code",
   "execution_count": 576,
   "id": "527680a6",
   "metadata": {},
   "outputs": [
    {
     "data": {
      "text/plain": [
       "' \\t\\n\\r\\x0b\\x0c'"
      ]
     },
     "execution_count": 576,
     "metadata": {},
     "output_type": "execute_result"
    }
   ],
   "source": [
    "string.whitespace"
   ]
  },
  {
   "cell_type": "markdown",
   "id": "313a4d52",
   "metadata": {},
   "source": [
    "#### Spróbuj napisać funkcję która wyłapuje dowolne znaki np. używane w innych językach, matematyce, ikony i inne\n",
    "\n",
    "Możesz sprawdzać obecność dowolnych znaków w stringach"
   ]
  },
  {
   "cell_type": "code",
   "execution_count": null,
   "id": "362f1fb9",
   "metadata": {},
   "outputs": [],
   "source": []
  },
  {
   "cell_type": "markdown",
   "id": "16a26b15",
   "metadata": {},
   "source": [
    "### 3. Rzadziej używane metody stringów\n",
    "\n",
    "To opiszę niebawem. Narazie rzuć okiem."
   ]
  },
  {
   "cell_type": "markdown",
   "id": "94c6af02",
   "metadata": {},
   "source": [
    "### 1. string.encode()"
   ]
  },
  {
   "cell_type": "code",
   "execution_count": null,
   "id": "4e09c71d",
   "metadata": {},
   "outputs": [],
   "source": [
    "# string.encode(\"utf-8\")\n",
    "# string.encode(\"ascii\", \"ignore\")\n",
    "# string.encode(\"ascii\", \"replace\"))"
   ]
  },
  {
   "cell_type": "code",
   "execution_count": null,
   "id": "1cf8189d",
   "metadata": {},
   "outputs": [],
   "source": []
  },
  {
   "cell_type": "markdown",
   "id": "d86f578d",
   "metadata": {},
   "source": [
    "### 3. Inne"
   ]
  },
  {
   "cell_type": "markdown",
   "id": "c7500f9d",
   "metadata": {},
   "source": [
    "#### 1. `string.fomat_map(dict)`\n",
    "\n",
    "Wstaw w template wartości ze słownika. O słownikach pomówimy za kilka klocków. Najlepiej zabierz się za nie dopiero gdy dobrze opanujesz listy (klocek `008`)."
   ]
  },
  {
   "cell_type": "code",
   "execution_count": 577,
   "id": "2df8f14e",
   "metadata": {},
   "outputs": [
    {
     "name": "stdout",
     "output_type": "stream",
     "text": [
      "Wartość 1: 1\n",
      "Wartość 2: 2\n"
     ]
    }
   ],
   "source": [
    "slownik = {'wartosc_1': 1, 'wartosc_2':2}\n",
    "template = 'Wartość 1: {wartosc_1}\\nWartość 2: {wartosc_2}'\n",
    "string = template.format_map(slownik)\n",
    "\n",
    "print(string)"
   ]
  },
  {
   "cell_type": "markdown",
   "id": "1746baed",
   "metadata": {},
   "source": [
    "#### 2. `string.expandtabs(substring)`\n",
    "\n",
    "Zamień każdy znak `\\t` w stringu na tyle spacji ile zdefiniujesz jako argument `string.expandtables(a)`."
   ]
  },
  {
   "cell_type": "code",
   "execution_count": 578,
   "id": "d667caa4",
   "metadata": {},
   "outputs": [
    {
     "name": "stdout",
     "output_type": "stream",
     "text": [
      "Ala       Ma        Kota\n"
     ]
    }
   ],
   "source": [
    "string = \"Ala\\tMa\\tKota\"\n",
    "rezultat =  string.expandtabs(10)\n",
    "\n",
    "print(rezultat)"
   ]
  },
  {
   "cell_type": "markdown",
   "id": "bb91b8ce",
   "metadata": {},
   "source": [
    "#### 3. `translate()`\n"
   ]
  },
  {
   "cell_type": "markdown",
   "id": "4546de6b",
   "metadata": {},
   "source": [
    "#### 4. maketrans()"
   ]
  },
  {
   "cell_type": "markdown",
   "id": "6b2b07d8",
   "metadata": {},
   "source": [
    "#### 5. isidentifier()"
   ]
  },
  {
   "cell_type": "markdown",
   "id": "7f7f38a4",
   "metadata": {},
   "source": [
    "#### 6. isascii()"
   ]
  },
  {
   "cell_type": "markdown",
   "id": "83c1a627",
   "metadata": {},
   "source": [
    "#### 7. string.zfill()\n",
    "\n",
    "Dokłada na początku stringu tyle zer ile trzeba aby string miał długość x znaków (gdzie x to argument jaki podajesz `zfill()`."
   ]
  },
  {
   "cell_type": "code",
   "execution_count": 579,
   "id": "6d1caf9d",
   "metadata": {},
   "outputs": [
    {
     "name": "stdout",
     "output_type": "stream",
     "text": [
      "000000002313\n"
     ]
    }
   ],
   "source": [
    "string = \"2313\"\n",
    "\n",
    "string = string.zfill(12)\n",
    "\n",
    "print(string)"
   ]
  },
  {
   "cell_type": "code",
   "execution_count": null,
   "id": "e357a7c2",
   "metadata": {},
   "outputs": [],
   "source": []
  },
  {
   "cell_type": "markdown",
   "id": "6aeab617",
   "metadata": {},
   "source": [
    "## Level 3"
   ]
  },
  {
   "cell_type": "markdown",
   "id": "0571c2a4",
   "metadata": {},
   "source": [
    "# Zaawansowane.\n",
    "\n",
    "#### Tu wrócimy jak nabierzecie trochę krzepy :)\n",
    "\n",
    "### 1. regexp (re)\n",
    "\n",
    "Rozwiązanie a także biblioteka w Pythonie do wynajdywnia stringów które spełniają nieraz bardzo skomplikowane warunki używana np. do walidacji emaili, szukania w tekstach określonych, elementów, fraz i innych rzeczy."
   ]
  },
  {
   "cell_type": "code",
   "execution_count": 580,
   "id": "6b845d9d",
   "metadata": {},
   "outputs": [],
   "source": [
    "import re"
   ]
  },
  {
   "cell_type": "markdown",
   "id": "fc783611",
   "metadata": {},
   "source": [
    "### 2. Unicode\n",
    "\n",
    "JĘZYKI i ich specjalne znaki.\n",
    "W pythonie większość powinna śmigać w sama lub po zwykłym string.encode('utf-8')\n",
    "\n",
    "W innym razie, będziemy uzupełniać.\n",
    "\n",
    "Do tego wrócimy później. Jeżeli chcesz używać innych języków, np. pracować na językach Azjatyckich, Arabskich czy Afrykańskich, trafisz na znaki które będą w innych formatach. \n",
    "\n",
    "\n",
    "3 funkcje które mogą Cię zainteresować."
   ]
  },
  {
   "cell_type": "code",
   "execution_count": null,
   "id": "66206bbf",
   "metadata": {},
   "outputs": [],
   "source": [
    "# ord() # Convert an integer representing the Unicode of the specified character"
   ]
  },
  {
   "cell_type": "code",
   "execution_count": null,
   "id": "8628d010",
   "metadata": {},
   "outputs": [],
   "source": [
    "# ascii() # Returns a readable version of an object. Replaces none-ascii characters with escape character"
   ]
  },
  {
   "cell_type": "code",
   "execution_count": null,
   "id": "658a7da0",
   "metadata": {},
   "outputs": [],
   "source": [
    "# chr() # Returns a character from the specified Unicode code."
   ]
  },
  {
   "cell_type": "code",
   "execution_count": null,
   "id": "f7108dbe",
   "metadata": {},
   "outputs": [],
   "source": []
  },
  {
   "cell_type": "code",
   "execution_count": null,
   "id": "ad352a95",
   "metadata": {},
   "outputs": [],
   "source": []
  },
  {
   "cell_type": "markdown",
   "id": "d6f0ddc4",
   "metadata": {},
   "source": [
    "#### 3. Formatowanie w tekście liczb innergo rodzaju: bi / complex"
   ]
  },
  {
   "cell_type": "code",
   "execution_count": null,
   "id": "eaedbd50",
   "metadata": {},
   "outputs": [],
   "source": []
  },
  {
   "cell_type": "code",
   "execution_count": null,
   "id": "e0de5598",
   "metadata": {},
   "outputs": [],
   "source": []
  }
 ],
 "metadata": {
  "kernelspec": {
   "display_name": "Python 3 (ipykernel)",
   "language": "python",
   "name": "python3"
  },
  "language_info": {
   "codemirror_mode": {
    "name": "ipython",
    "version": 3
   },
   "file_extension": ".py",
   "mimetype": "text/x-python",
   "name": "python",
   "nbconvert_exporter": "python",
   "pygments_lexer": "ipython3",
   "version": "3.8.10"
  }
 },
 "nbformat": 4,
 "nbformat_minor": 5
}
