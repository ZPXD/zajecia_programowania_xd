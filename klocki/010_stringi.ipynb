{
 "cells": [
  {
   "cell_type": "markdown",
   "id": "5bf30b57",
   "metadata": {},
   "source": [
    "# 010 - stringi\n",
    "\n",
    "Tekst.\n",
    "\n",
    "#### Spis treści:\n",
    "1. x\n",
    "2. x\n",
    "3. x"
   ]
  },
  {
   "cell_type": "markdown",
   "id": "b8a69326",
   "metadata": {},
   "source": [
    "## Stringi\n",
    "\n",
    "#### Czyli dane tekstowe\n",
    "\n",
    "Nauka przyniesie najlepsze efekty gdy po przeczytaniu opisów metod i funkcji będziesz odpalał i modyfikowł wszystkie komórki z kodem. \n",
    "- otwórz nowy notebook (najlepiej poza TYM notebookiem)\n",
    "- wracaj codziennie przez kilka dni do tego zeszytu\n",
    "\n",
    "## Jak dobrze wyćwiczyć stringi?\n",
    "\n",
    "#### Ćwicz odrazu\n",
    "\n",
    "Odpalaj każdy kod w tym zeszycie, spróbuj modyfikować niektóre elementy aby lepiej je zrozumieć\n",
    "\n",
    "#### Powtarzaj wiele razy\n",
    "\n",
    "Przez conajmniej 7 dni przeglądaj codziennie ten zeszyt (daj sobie z 5-10 minut - a najlepiej więcej, przejrzyj wszystkie funkcje, kod) - utrwalisz materiał\n",
    "\n",
    "#### Przechodź po kolei poziomy -  oddziel to co ważne i pilne od tego co jest przydatne w dalszej kolejności\n",
    "\n",
    "Ten plik jest podzielony na kilka poziomów. \n",
    "\n",
    "Możesz przeczytać cały opis danego tematu za 1 razem albo\n",
    "nauczyć sie tego co najbardziej istotnie i po zaawansowany materiał\n",
    "wrócić tu później.\n"
   ]
  },
  {
   "cell_type": "markdown",
   "id": "fe0cc83e",
   "metadata": {},
   "source": [
    "Ciąg znaków to inaczej string - `str`:"
   ]
  },
  {
   "cell_type": "markdown",
   "id": "ea605f25",
   "metadata": {},
   "source": [
    "#### Stwórz string (str), tekst, ciąg znaków.\n",
    "\n",
    "To też treść klocka `#002` "
   ]
  },
  {
   "cell_type": "code",
   "execution_count": null,
   "id": "4245eda5",
   "metadata": {},
   "outputs": [],
   "source": [
    "ciag_znakow = 'a'\n",
    "ciag_znakow = 'abc'\n",
    "ciag_znakow = 'a b c    d'\n",
    "ciąg_znakow = 'Ala ma kota. xD'\n",
    "ciąg_znakow = 'Ala ma kota. xD'"
   ]
  },
  {
   "cell_type": "markdown",
   "id": "10ab2b83",
   "metadata": {},
   "source": [
    "#### Typ danych tekstówych, stringów to zawsze `str`:\n",
    "    \n",
    "Typy danych omówiliśmy w rozdziale `#003`"
   ]
  },
  {
   "cell_type": "markdown",
   "id": "bc7731ce",
   "metadata": {},
   "source": [
    "Aby podejrzeć tekst, jak zwykle, przy innych danych, będziemy posługiwać się funkcją print:"
   ]
  },
  {
   "cell_type": "code",
   "execution_count": 167,
   "id": "9e1d67ce",
   "metadata": {},
   "outputs": [
    {
     "name": "stdout",
     "output_type": "stream",
     "text": [
      "Ala ma kota. xD\n"
     ]
    }
   ],
   "source": [
    "print(ciag_znakow)"
   ]
  },
  {
   "cell_type": "markdown",
   "id": "83a82773",
   "metadata": {},
   "source": [
    "#### Podstawowe metody do pracy z tekstem\n",
    "\n",
    "xD"
   ]
  },
  {
   "cell_type": "markdown",
   "id": "8cd9c026",
   "metadata": {},
   "source": [
    "### X. len(string)\n",
    "\n",
    "#### Długość stringu (z ilu składa się znaków)?"
   ]
  },
  {
   "cell_type": "code",
   "execution_count": 194,
   "id": "59f4c663",
   "metadata": {},
   "outputs": [
    {
     "name": "stdout",
     "output_type": "stream",
     "text": [
      "20\n"
     ]
    }
   ],
   "source": [
    "ciag_znakow = 'abcdXDRSDFG049434...'\n",
    "dlugosc_stringa = len(ciag_znakow)\n",
    "\n",
    "print(dlugosc_stringa)"
   ]
  },
  {
   "cell_type": "markdown",
   "id": "6a70eeed",
   "metadata": {},
   "source": [
    "## X. Zmiana stringów:\n",
    "\n",
    "Główne metody zmieniające stringi "
   ]
  },
  {
   "cell_type": "markdown",
   "id": "5ea6fed3",
   "metadata": {},
   "source": [
    "#### Wielkość znaków"
   ]
  },
  {
   "cell_type": "code",
   "execution_count": null,
   "id": "fe0c031f",
   "metadata": {},
   "outputs": [],
   "source": [
    "# same małe litery\n",
    "string.lower()\n",
    "\n",
    "# SAME DUŻE LITERY\n",
    "string.upper()\n",
    "\n",
    "# Same Title Xd\n",
    "string.title()\n",
    "\n",
    "# Sama pierwsza litera duża\n",
    "string.capitalize()\n",
    "\n",
    "# Zmienia duże litery na małe i odwrotnie.\n",
    "string.swapcase()"
   ]
  },
  {
   "cell_type": "markdown",
   "id": "3c8db477",
   "metadata": {},
   "source": [
    "### X. string.lower()\n",
    "\n",
    "#### Zamień wielkość znaków (alfabetycznych) w stringu na same małe litery."
   ]
  },
  {
   "cell_type": "code",
   "execution_count": 172,
   "id": "b371ebdf",
   "metadata": {},
   "outputs": [
    {
     "name": "stdout",
     "output_type": "stream",
     "text": [
      "abcdxdrsdfg049434...\n"
     ]
    }
   ],
   "source": [
    "ciag_znakow = 'abcdXDRSDFG049434...'\n",
    "dlugosc_stringa = ciag_znakow.lower()\n",
    "\n",
    "print(dlugosc_stringa)"
   ]
  },
  {
   "cell_type": "markdown",
   "id": "9e65be3c",
   "metadata": {},
   "source": [
    "### X. string.upper()\n",
    "\n",
    "#### Zamień wielkość znaków (alfabetycznych) w stringu na same DUŻE litery."
   ]
  },
  {
   "cell_type": "markdown",
   "id": "7bc7699e",
   "metadata": {},
   "source": [
    "### X. string.title()\n",
    "\n",
    "#### Zamień wielkość znaków (alfabetycznych) w stringu na: Same Duże Litery Na Początku Słów."
   ]
  },
  {
   "cell_type": "markdown",
   "id": "10d064fb",
   "metadata": {},
   "source": [
    "### X. string.title()\n",
    "\n",
    "#### Zamień wielkość znaków (alfabetycznych) w stringu na: Same Duże Litery Na Początku Słów."
   ]
  },
  {
   "cell_type": "markdown",
   "id": "478f70b5",
   "metadata": {},
   "source": [
    "### X. string.swapcase()\n",
    "\n",
    "#### Zamień wielkość znaków na odwrotny. Małe litery zostaną dużymi a duże małymi: Same Duże Litery Na Początku Słów."
   ]
  },
  {
   "cell_type": "markdown",
   "id": "877e3b7c",
   "metadata": {},
   "source": [
    "## X. Treść stringów"
   ]
  },
  {
   "cell_type": "markdown",
   "id": "b1408de4",
   "metadata": {},
   "source": [
    "###  X. string.replace('to_zamien', 'na_to')\n",
    "\n",
    "Jeżeli w tekście jest/są fragmenty o treści `xxx` to zamień wszystkie `xxx` na `YYY`.\n"
   ]
  },
  {
   "cell_type": "code",
   "execution_count": 200,
   "id": "aa791da2",
   "metadata": {},
   "outputs": [
    {
     "name": "stdout",
     "output_type": "stream",
     "text": [
      "replace() to METODA stringów w języku Python.\n"
     ]
    }
   ],
   "source": [
    "string = 'replace() to funkcja w języku Python.'\n",
    "\n",
    "string_2 = string.replace('funkcja', 'METODA stringów')\n",
    "\n",
    "print(string_2)"
   ]
  },
  {
   "cell_type": "markdown",
   "id": "b949dd69",
   "metadata": {},
   "source": [
    "## Podziel string na listę stringów"
   ]
  },
  {
   "cell_type": "markdown",
   "id": "e49c3823",
   "metadata": {},
   "source": [
    "### 1. string.split()\n",
    "\n",
    "#### Potnij tekst na kilka kawałków w miejscu gdzie są spacje i zwróć - listę stringów\n",
    "\n",
    "Np. Aby podzielić zdanie na słowa, wystarczy pociąć je w miejscach gdzie występuje spacja."
   ]
  },
  {
   "cell_type": "code",
   "execution_count": 297,
   "id": "50082cd6",
   "metadata": {},
   "outputs": [
    {
     "data": {
      "text/plain": [
       "['To', 'jest', 'string', 'z', 'kilkoma', 'słowami.', 'Zdanie.']"
      ]
     },
     "execution_count": 297,
     "metadata": {},
     "output_type": "execute_result"
    }
   ],
   "source": [
    "slowa = 'To jest string z kilkoma słowami. Zdanie.'\n",
    "\n",
    "slowa.split()"
   ]
  },
  {
   "cell_type": "markdown",
   "id": "259a847c",
   "metadata": {},
   "source": [
    "### 2. slowa.split('/')\n",
    "\n",
    "#### Potnij w wyznaczonym miejscu."
   ]
  },
  {
   "cell_type": "code",
   "execution_count": 289,
   "id": "e37fa530",
   "metadata": {},
   "outputs": [
    {
     "data": {
      "text/plain": [
       "['', 'home', 'ja', '.ssh', 'known_hosts']"
      ]
     },
     "execution_count": 289,
     "metadata": {},
     "output_type": "execute_result"
    }
   ],
   "source": [
    "slowa = '/home/ja/.ssh/known_hosts'\n",
    "\n",
    "slowa.split('/')"
   ]
  },
  {
   "cell_type": "markdown",
   "id": "af9e36ee",
   "metadata": {},
   "source": [
    "### 3. slowa.splitlines()\n",
    "\n",
    "#### Potnij tekst w miejscach gdzie jest biały znak `\\n` i zwróć listę linii."
   ]
  },
  {
   "cell_type": "code",
   "execution_count": 293,
   "id": "9f10c8d3",
   "metadata": {},
   "outputs": [
    {
     "data": {
      "text/plain": [
       "['To jest 1 linia.', 'To jest 2 linia.', 'To jest 3 linia.']"
      ]
     },
     "execution_count": 293,
     "metadata": {},
     "output_type": "execute_result"
    }
   ],
   "source": [
    "slowa = 'To jest 1 linia.\\nTo jest 2 linia.\\nTo jest 3 linia.'\n",
    "\n",
    "slowa.splitlines()"
   ]
  },
  {
   "cell_type": "markdown",
   "id": "0d84534b",
   "metadata": {},
   "source": [
    "### 4. slowa.rsplit()\n",
    "\n",
    "#### Potnij tekst w miejscach gdzie jest to co podasz jako 1 argument, tyle razy ile wynosi argument drugi, licząc od tyłu.\n",
    "\n",
    "Bez drugiego argumentu - zwraca jako listę tekst pocięty w miejscu gdzie są spacje - tak jak `split()`."
   ]
  },
  {
   "cell_type": "code",
   "execution_count": 302,
   "id": "bf147611",
   "metadata": {},
   "outputs": [
    {
     "data": {
      "text/plain": [
       "['To', 'jest', 'string', 'z', 'kilkoma', 'słowami.', 'Zdanie.']"
      ]
     },
     "execution_count": 302,
     "metadata": {},
     "output_type": "execute_result"
    }
   ],
   "source": [
    "slowa.rsplit(' ')"
   ]
  },
  {
   "cell_type": "markdown",
   "id": "a1fcd45b",
   "metadata": {},
   "source": [
    "### X. string.partition('.')\n",
    "\n",
    "Podziel string na 2 kawałki w (pierwszym) miejscu, gdzie jest podany argument. Zwróć oba elementy wraz z argumentem którym były oddzielone jako tuplę 3 wartości.\n"
   ]
  },
  {
   "cell_type": "code",
   "execution_count": 282,
   "id": "b1864c92",
   "metadata": {},
   "outputs": [
    {
     "data": {
      "text/plain": [
       "('10', '.', '20.30.40')"
      ]
     },
     "execution_count": 282,
     "metadata": {},
     "output_type": "execute_result"
    }
   ],
   "source": [
    "string = '10.20.30.40'\n",
    "xd = string.partition('.')\n",
    "\n",
    "xd"
   ]
  },
  {
   "cell_type": "markdown",
   "id": "cfd5f0c7",
   "metadata": {},
   "source": [
    "### X. string.rpartition('.')\n",
    "\n",
    "Podziel string na 2 kawałki w (ostatnim) miejscu, gdzie jest podany argument. Zwróć oba elementy wraz z argumentem którym były oddzielone jako tuplę 3 wartości.\n"
   ]
  },
  {
   "cell_type": "code",
   "execution_count": 277,
   "id": "b347a839",
   "metadata": {},
   "outputs": [
    {
     "name": "stdout",
     "output_type": "stream",
     "text": [
      "('10.20.30', '.', '40')\n"
     ]
    }
   ],
   "source": [
    "string = '10.20.30.40'\n",
    "xd = string.rpartition('.')\n",
    "print(xd)"
   ]
  },
  {
   "cell_type": "markdown",
   "id": "b177e57b",
   "metadata": {},
   "source": [
    "#### Łączenie stringów"
   ]
  },
  {
   "cell_type": "code",
   "execution_count": 176,
   "id": "1db0512d",
   "metadata": {},
   "outputs": [
    {
     "ename": "NameError",
     "evalue": "name 'dodawanie' is not defined",
     "output_type": "error",
     "traceback": [
      "\u001b[0;31m---------------------------------------------------------------------------\u001b[0m",
      "\u001b[0;31mNameError\u001b[0m                                 Traceback (most recent call last)",
      "\u001b[0;32m/tmp/ipykernel_1577277/3380107207.py\u001b[0m in \u001b[0;36m<module>\u001b[0;34m\u001b[0m\n\u001b[0;32m----> 1\u001b[0;31m \u001b[0mdodawanie\u001b[0m\u001b[0;34m\u001b[0m\u001b[0;34m\u001b[0m\u001b[0m\n\u001b[0m",
      "\u001b[0;31mNameError\u001b[0m: name 'dodawanie' is not defined"
     ]
    }
   ],
   "source": [
    "dodawanie"
   ]
  },
  {
   "cell_type": "code",
   "execution_count": 177,
   "id": "27f07237",
   "metadata": {},
   "outputs": [
    {
     "ename": "NameError",
     "evalue": "name 'join' is not defined",
     "output_type": "error",
     "traceback": [
      "\u001b[0;31m---------------------------------------------------------------------------\u001b[0m",
      "\u001b[0;31mNameError\u001b[0m                                 Traceback (most recent call last)",
      "\u001b[0;32m/tmp/ipykernel_1577277/4214570251.py\u001b[0m in \u001b[0;36m<module>\u001b[0;34m\u001b[0m\n\u001b[0;32m----> 1\u001b[0;31m \u001b[0mjoin\u001b[0m\u001b[0;34m\u001b[0m\u001b[0;34m\u001b[0m\u001b[0m\n\u001b[0m",
      "\u001b[0;31mNameError\u001b[0m: name 'join' is not defined"
     ]
    }
   ],
   "source": [
    "join"
   ]
  },
  {
   "cell_type": "code",
   "execution_count": null,
   "id": "cd360080",
   "metadata": {},
   "outputs": [],
   "source": []
  },
  {
   "cell_type": "markdown",
   "id": "c1a5a895",
   "metadata": {},
   "source": [
    "#### Wieloliniowy string 1"
   ]
  },
  {
   "cell_type": "code",
   "execution_count": null,
   "id": "5949d5a2",
   "metadata": {},
   "outputs": [],
   "source": [
    "wieloliniowy_string = ''' \n",
    "To jest string\n",
    "Który ma \n",
    "Kilka linii\n",
    "'''\n",
    "\n",
    "print(wieloliniowy_string)"
   ]
  },
  {
   "cell_type": "markdown",
   "id": "acef0bc3",
   "metadata": {},
   "source": [
    "#### Wieloliniowy string 2"
   ]
  },
  {
   "cell_type": "code",
   "execution_count": null,
   "id": "f5604efb",
   "metadata": {},
   "outputs": [],
   "source": [
    "wieloliniowy_string = '''\n",
    "Hello \\\n",
    "World\n",
    "'''\n",
    "\n",
    "print(my_string)"
   ]
  },
  {
   "cell_type": "code",
   "execution_count": null,
   "id": "076362a0",
   "metadata": {},
   "outputs": [],
   "source": [
    "# Łączenie listy stringów:\n",
    "lista = ['ab','cd', 'ef']\n",
    "print('Lista przed połączeniem                :', lista) \n",
    "print('Lista    po połączeniu   \"\".join(lista):', \"\".join(lista)) \n",
    "print('Lista    po połączeniu \"xD\".join(lista):', \"xD\".join(lista)) \n",
    "print('Lista    po połączeniu  \" \".join(lista):', \" \".join(lista)) "
   ]
  },
  {
   "cell_type": "markdown",
   "id": "65637e0d",
   "metadata": {},
   "source": [
    "#### Dodawanie stringów"
   ]
  },
  {
   "cell_type": "code",
   "execution_count": null,
   "id": "03776e88",
   "metadata": {},
   "outputs": [],
   "source": [
    "'a' + 'b'"
   ]
  },
  {
   "cell_type": "code",
   "execution_count": null,
   "id": "fe0a2238",
   "metadata": {},
   "outputs": [],
   "source": [
    "'Ala' + ' ' + 'ma' + 'kota'"
   ]
  },
  {
   "cell_type": "code",
   "execution_count": null,
   "id": "99e94087",
   "metadata": {},
   "outputs": [],
   "source": []
  },
  {
   "cell_type": "markdown",
   "id": "2ada6606",
   "metadata": {},
   "source": [
    "Wszystkie dane tekstowe można dodawać w ten sposób nie zależnie od ich wielkości."
   ]
  },
  {
   "cell_type": "code",
   "execution_count": null,
   "id": "6ce53358",
   "metadata": {},
   "outputs": [],
   "source": []
  },
  {
   "cell_type": "markdown",
   "id": "63a2faec",
   "metadata": {},
   "source": [
    "## X. Biale znaki\n",
    "\n",
    "To znaki, których nie widać, jeżeli je wydrukujesz (wyświetlisz). Spróbuj wyświetlić znak nowej linii `\\n`.\n"
   ]
  },
  {
   "cell_type": "code",
   "execution_count": null,
   "id": "2f079ac4",
   "metadata": {},
   "outputs": [],
   "source": [
    "print('\\n')"
   ]
  },
  {
   "cell_type": "markdown",
   "id": "2d5ecb8d",
   "metadata": {},
   "source": [
    "Nic nie widać."
   ]
  },
  {
   "cell_type": "markdown",
   "id": "fa77320c",
   "metadata": {},
   "source": [
    "Taki znak jest na końcu każdej linii. Po prostu nie widać go w pliku tekstowym czy wordowym. Natomiast widać jego działanie."
   ]
  },
  {
   "cell_type": "code",
   "execution_count": null,
   "id": "e6f6d3a9",
   "metadata": {},
   "outputs": [],
   "source": [
    "tekst = 'To jest jakiś tekst\\nTo też jest jakiś tekst\\nI to też jest jakiś tekst'"
   ]
  },
  {
   "cell_type": "code",
   "execution_count": null,
   "id": "2edc716c",
   "metadata": {},
   "outputs": [],
   "source": [
    "Goły tekst wygląda tak:"
   ]
  },
  {
   "cell_type": "code",
   "execution_count": null,
   "id": "e7ebb5ad",
   "metadata": {},
   "outputs": [],
   "source": [
    "tekst"
   ]
  },
  {
   "cell_type": "markdown",
   "id": "56e4c5f9",
   "metadata": {},
   "source": [
    "Wyprintuj a zobaczysz, że nie będzie widać białych znaków. \n",
    "\n",
    "Jednak spełnią swoje zadanie"
   ]
  },
  {
   "cell_type": "code",
   "execution_count": null,
   "id": "bac0d419",
   "metadata": {},
   "outputs": [],
   "source": [
    "print(tekst)"
   ]
  },
  {
   "cell_type": "markdown",
   "id": "52180fd5",
   "metadata": {},
   "source": [
    "#### Inne białe znaki:"
   ]
  },
  {
   "cell_type": "markdown",
   "id": "4a9e74b8",
   "metadata": {},
   "source": [
    "1. **\\'**\tSingle Quote\t\n",
    "2. **\\\\**\tBackslash\t\n",
    "3. **\\n**\tNew Line\t\n",
    "\n",
    "\n",
    "4. **\\r**\tCarriage Return\t\n",
    "5. **\\t**\tTab\t\n",
    "6. **\\b**\tBackspace\t\n",
    "7. **\\f**\tForm Feed\t\n",
    "8. **\\ooo** Octal value\t\n",
    "9. **\\xhh** Hex value"
   ]
  },
  {
   "cell_type": "markdown",
   "id": "fcf98a8b",
   "metadata": {},
   "source": [
    "### Indeksy\n",
    "Zastosuj wiedzę z klocku 008 - list: [008_listy]('https://github.com/ZPXD/zajecia_programowania_xd/blob/main/klocki/008_listy.ipynb'). \n",
    "\n",
    "Tam też były indeksy. Zatrzymaj się na dziale indeksy.\n",
    "\n",
    "Oba okna są obok siebie?"
   ]
  },
  {
   "cell_type": "markdown",
   "id": "55e79abd",
   "metadata": {},
   "source": [
    "### string[:]\n",
    "\n",
    "#### Pokaż 1 literę ze stringu"
   ]
  },
  {
   "cell_type": "code",
   "execution_count": 197,
   "id": "ac89c86b",
   "metadata": {},
   "outputs": [],
   "source": [
    "string = 'abcdefghi'"
   ]
  },
  {
   "cell_type": "markdown",
   "id": "a6c1857a",
   "metadata": {},
   "source": [
    "### string[:]\n",
    "\n",
    "#### Pokaż ostatnią literę ze stringu"
   ]
  },
  {
   "cell_type": "code",
   "execution_count": null,
   "id": "f6a9f4a4",
   "metadata": {},
   "outputs": [],
   "source": [
    "fragment = string[]\n",
    "print(fragment)"
   ]
  },
  {
   "cell_type": "markdown",
   "id": "cd14cd28",
   "metadata": {},
   "source": [
    "### string[:]\n",
    "\n",
    "##### Pokaż 2 i 3 literę ze stringu."
   ]
  },
  {
   "cell_type": "code",
   "execution_count": null,
   "id": "60f41feb",
   "metadata": {},
   "outputs": [],
   "source": [
    "fragment = string[]\n",
    "print(fragment)"
   ]
  },
  {
   "cell_type": "markdown",
   "id": "d2787a98",
   "metadata": {},
   "source": [
    "### string[:]\n",
    "\n",
    "#### Pokaż  3, 4, 5, 6, 7, 8, 9, 10 literę ze stringu."
   ]
  },
  {
   "cell_type": "code",
   "execution_count": null,
   "id": "b41d3aa9",
   "metadata": {},
   "outputs": [],
   "source": [
    "fragment = string[:]\n",
    "print(fragment)"
   ]
  },
  {
   "cell_type": "markdown",
   "id": "e531a627",
   "metadata": {},
   "source": [
    "### string[:]\n",
    "\n",
    "#### Pokaż odwrócony string "
   ]
  },
  {
   "cell_type": "code",
   "execution_count": null,
   "id": "f845df99",
   "metadata": {},
   "outputs": [],
   "source": [
    "ciag_znakow = 'Ala ma kota. xD'\n",
    "fragment = ciag_znakow[::-1]\n",
    "\n",
    "print(fragment)"
   ]
  },
  {
   "cell_type": "markdown",
   "id": "ab89f372",
   "metadata": {},
   "source": [
    "### string[:]\n",
    "\n",
    "#### Pokaż od 4 do przedostatniej litery"
   ]
  },
  {
   "cell_type": "code",
   "execution_count": null,
   "id": "c5a6b80a",
   "metadata": {},
   "outputs": [],
   "source": [
    "ciag_znakow = 'Ala ma kota. xD'\n",
    "fragment = ciag_znakow[4:-2]\n",
    "\n",
    "print(fragment)"
   ]
  },
  {
   "cell_type": "markdown",
   "id": "9122daf1",
   "metadata": {},
   "source": [
    "Przemyśl ten fragment. Zobacz jak łatwo rzeźbiąc rozwiązanie zasugerować się spacją na końcu."
   ]
  },
  {
   "cell_type": "code",
   "execution_count": null,
   "id": "d098682a",
   "metadata": {},
   "outputs": [],
   "source": []
  },
  {
   "cell_type": "markdown",
   "id": "f58d6334",
   "metadata": {},
   "source": [
    "### Posumowując\n",
    "\n",
    "\n",
    "1. pokaż element - `string[0] / string[1]`\n",
    "2. ostatni element - `string[-1]`\n",
    "3. string odwrotnie - `string[::1]`\n",
    "4. fragment stringa - `string[4:2]`"
   ]
  },
  {
   "cell_type": "code",
   "execution_count": 196,
   "id": "9dd2b431",
   "metadata": {},
   "outputs": [
    {
     "data": {
      "text/plain": [
       "'ef'"
      ]
     },
     "execution_count": 196,
     "metadata": {},
     "output_type": "execute_result"
    }
   ],
   "source": [
    "string = 'abcdefgh'\n",
    "\n",
    "element_1 = string[0]\n",
    "element_2 = string[1]\n",
    "element_ostatni = string[-1]\n",
    "odwrocony_string = string[::-1]\n",
    "od_4_do_przedostatniej_litery = string[4:-2]"
   ]
  },
  {
   "cell_type": "markdown",
   "id": "87bd554c",
   "metadata": {},
   "source": [
    "#### Metody stringów do pracy z indeksem:\n",
    "\n",
    "### ciag_znakow.index('abc')\n",
    "\n",
    "Przeszukuje ciąg znaków od prawej strony i zwraca indeks dla pierwszego napotkanego argumentu (słowa, zdania, litery itp.)."
   ]
  },
  {
   "cell_type": "code",
   "execution_count": 180,
   "id": "ecc26ce0",
   "metadata": {},
   "outputs": [
    {
     "data": {
      "text/plain": [
       "2"
      ]
     },
     "execution_count": 180,
     "metadata": {},
     "output_type": "execute_result"
    }
   ],
   "source": [
    "ciag_znakow = 'abcdefg'\n",
    "\n",
    "ciag_znakow.index('c')"
   ]
  },
  {
   "cell_type": "markdown",
   "id": "68704c77",
   "metadata": {},
   "source": [
    "### ciag_znakow.rindex('f')\n",
    "\n",
    "Przeszukuje ciąg znaków od prawej strony i zwraca indeks dla pierwszego napotkanego argumentu (słowa, zdania, litery itp.)."
   ]
  },
  {
   "cell_type": "code",
   "execution_count": 182,
   "id": "5ce1fc66",
   "metadata": {},
   "outputs": [
    {
     "data": {
      "text/plain": [
       "6"
      ]
     },
     "execution_count": 182,
     "metadata": {},
     "output_type": "execute_result"
    }
   ],
   "source": [
    "ciag_znakow = 'afbcdefa'\n",
    "\n",
    "ciag_znakow.rindex('f')"
   ]
  },
  {
   "cell_type": "markdown",
   "id": "102d2e4b",
   "metadata": {},
   "source": [
    "#### Dodawanie stringów"
   ]
  },
  {
   "cell_type": "code",
   "execution_count": 188,
   "id": "39d95323",
   "metadata": {},
   "outputs": [
    {
     "name": "stdout",
     "output_type": "stream",
     "text": [
      "Dodając a do b (string_1 + string_3) otrzymamy: ab\n"
     ]
    }
   ],
   "source": [
    "string_1 = 'a'\n",
    "string_2 = 'b'\n",
    "\n",
    "string_3 = string_1 + string_2\n",
    "print('Dodając', string_1, 'do', string_2, '(string_1 + string_3) otrzymamy:', string_3)"
   ]
  },
  {
   "cell_type": "markdown",
   "id": "08a89cbc",
   "metadata": {},
   "source": [
    "## X. Metody sprawdzania rodzaju znaków w stringów\n",
    "\n",
    "Dotyczy pojedyńczych znaków jak i dłuższych tekstów (wtedy sprawdza cały tekst a nie np. jedną literę).\n",
    "\n",
    "### Sprawdź czy każdy znak w stringu zawiera:"
   ]
  },
  {
   "cell_type": "markdown",
   "id": "a794ebd5",
   "metadata": {},
   "source": [
    "#### Treść znaku"
   ]
  },
  {
   "cell_type": "code",
   "execution_count": null,
   "id": "11a9f828",
   "metadata": {},
   "outputs": [],
   "source": [
    "# Tylko litery\n",
    "string.isalpha()\n",
    "\n",
    "# Tylko cyfry\n",
    "string.isdigit()\n",
    "\n",
    "# Tylko litery i tylko cyfry\n",
    "string.isalnum()"
   ]
  },
  {
   "cell_type": "markdown",
   "id": "3cf0c233",
   "metadata": {},
   "source": [
    "#### Wielkość znaku"
   ]
  },
  {
   "cell_type": "code",
   "execution_count": null,
   "id": "7f8841ad",
   "metadata": {},
   "outputs": [],
   "source": [
    "# Tylko DUŻE litery\n",
    "string.isupper()\n",
    "\n",
    "# Tylko małe litery\n",
    "string.islower()\n",
    "\n",
    "# Tylko Duże Litery Na Początku Słów W Stringu Oddzielonym Spacjami.\n",
    "string.istitle()"
   ]
  },
  {
   "cell_type": "markdown",
   "id": "9893ee46",
   "metadata": {},
   "source": [
    "#### Spacje i znaki widzialne w print() lub w plikach tekstowych:"
   ]
  },
  {
   "cell_type": "code",
   "execution_count": null,
   "id": "6ab35e88",
   "metadata": {},
   "outputs": [],
   "source": [
    "# Same spacje\n",
    "string.isspace()\n",
    "\n",
    "# Same widoczne znaki\n",
    "string.isprintable()"
   ]
  },
  {
   "cell_type": "markdown",
   "id": "09363e0b",
   "metadata": {},
   "source": [
    "To wbudowane metody sprawdzania znaków. Możesz napisać więcej, np. sprawdź czy znak jest kropką lub przecinkiem - w swoich programach takie jak chcesz korzystając z połączenia różnych klocków takich jak min. funkcje i fory. Pokaże Ci więcej na Level 2. Są też biblioteki które czynią najróżniejsze dodatkowe walidacje. O najbardziej zaawansowanej z nich poczytasz na Level 3."
   ]
  },
  {
   "cell_type": "code",
   "execution_count": null,
   "id": "80c7a3ae",
   "metadata": {},
   "outputs": [],
   "source": []
  },
  {
   "cell_type": "markdown",
   "id": "5a4ff62f",
   "metadata": {},
   "source": [
    "### 1. string.isdigit()\n",
    "\n",
    "#### Pradwda, jeżeli string to same: cyfry\n",
    "\n",
    "Tu mamy do dyspozycji aż 3 funkcje. Nieznacznie się różnią (mają nieco inne zastosowanie przy różnym kodowaniu znaków), ale tym narazie niezawracaj sobie głowy."
   ]
  },
  {
   "cell_type": "code",
   "execution_count": null,
   "id": "cd21de21",
   "metadata": {},
   "outputs": [],
   "source": [
    "'023'.isdigit()"
   ]
  },
  {
   "cell_type": "code",
   "execution_count": null,
   "id": "d7e3d470",
   "metadata": {},
   "outputs": [],
   "source": [
    "if string.isdigit():\n",
    "    print(True)"
   ]
  },
  {
   "cell_type": "markdown",
   "id": "8423db5d",
   "metadata": {},
   "source": [
    "#### Przykład:"
   ]
  },
  {
   "cell_type": "code",
   "execution_count": null,
   "id": "c0e59d3f",
   "metadata": {},
   "outputs": [],
   "source": [
    "string = '1223'\n",
    "\n",
    "if string.isnumeric() and string.isdigit() and string.isdecimal():\n",
    "    print('string.isdigit() - CYFRY:')\n",
    "    print('0123456789')\n",
    "    print()"
   ]
  },
  {
   "cell_type": "markdown",
   "id": "a914632d",
   "metadata": {},
   "source": [
    "### 2. string.isalnum()\n",
    "\n",
    "#### Pradwda, jeżeli string to same: litery i cyfry"
   ]
  },
  {
   "cell_type": "code",
   "execution_count": 193,
   "id": "8d57a74a",
   "metadata": {},
   "outputs": [
    {
     "data": {
      "text/plain": [
       "True"
      ]
     },
     "execution_count": 193,
     "metadata": {},
     "output_type": "execute_result"
    }
   ],
   "source": [
    "string = '1232342abaeffjafaef'\n",
    "string.isalnum()"
   ]
  },
  {
   "cell_type": "code",
   "execution_count": null,
   "id": "7cd54c45",
   "metadata": {},
   "outputs": [],
   "source": [
    "if string.isalnum():\n",
    "    print(True)"
   ]
  },
  {
   "cell_type": "markdown",
   "id": "de7516f1",
   "metadata": {},
   "source": [
    "#### Przykład:"
   ]
  },
  {
   "cell_type": "code",
   "execution_count": null,
   "id": "839ea12d",
   "metadata": {},
   "outputs": [],
   "source": [
    "string = 'a'\n",
    "\n",
    "print('String:', string)\n",
    "\n",
    "print('Czy string zawiera same numery i litery?\\n')\n",
    "if string.isalnum():\n",
    "    print('Tak')\n",
    "else:\n",
    "    print('Nie')"
   ]
  },
  {
   "cell_type": "markdown",
   "id": "5ce5a026",
   "metadata": {},
   "source": [
    "### 3. string.isalpha()\n",
    "\n",
    "#### Pradwda, jeżeli string to same: litery i cyfry"
   ]
  },
  {
   "cell_type": "code",
   "execution_count": null,
   "id": "aebb3066",
   "metadata": {},
   "outputs": [],
   "source": [
    "string = 'abcd'\n",
    "string.isalpha()"
   ]
  },
  {
   "cell_type": "code",
   "execution_count": null,
   "id": "f695fb4e",
   "metadata": {},
   "outputs": [],
   "source": [
    "if string.isalpha():\n",
    "    print(True)"
   ]
  },
  {
   "cell_type": "markdown",
   "id": "03fd4dd8",
   "metadata": {},
   "source": [
    "#### Przykład:"
   ]
  },
  {
   "cell_type": "code",
   "execution_count": null,
   "id": "5955da79",
   "metadata": {},
   "outputs": [],
   "source": [
    "string = 'a'\n",
    "\n",
    "print('String:', string)\n",
    "\n",
    "print('Czy string zawiera same litery?\\n')\n",
    "if string.isalpha():\n",
    "    print('Tak')\n",
    "else:\n",
    "    print('Nie')"
   ]
  },
  {
   "cell_type": "markdown",
   "id": "b103f80b",
   "metadata": {},
   "source": [
    "### 4. string.isupper()\n",
    "\n",
    "#### Pradwda, jeżeli string to same: DUŻE litery"
   ]
  },
  {
   "cell_type": "code",
   "execution_count": null,
   "id": "3abb5ebf",
   "metadata": {},
   "outputs": [],
   "source": [
    "string = 'ABCD'\n",
    "string.isupper()"
   ]
  },
  {
   "cell_type": "code",
   "execution_count": null,
   "id": "c3037151",
   "metadata": {},
   "outputs": [],
   "source": [
    "if string.isupper():\n",
    "    print(True)"
   ]
  },
  {
   "cell_type": "code",
   "execution_count": null,
   "id": "b0710c6f",
   "metadata": {},
   "outputs": [],
   "source": [
    "string = 'a'\n",
    "if string.isupper():\n",
    "    print('string.isupper() - DUŻE LITERY:')\n",
    "    print('ABCDEFGHIJKLMNOPQRSTUVWXYZ')\n",
    "    print()"
   ]
  },
  {
   "cell_type": "code",
   "execution_count": null,
   "id": "3a098282",
   "metadata": {},
   "outputs": [],
   "source": [
    "string = 'a'\n",
    "\n",
    "print('String:', string)\n",
    "\n",
    "print('Czy string zawiera same numery i litery?\\n')\n",
    "if string.isalnum():\n",
    "    print('Tak')\n",
    "else:\n",
    "    print('Nie')"
   ]
  },
  {
   "cell_type": "markdown",
   "id": "ac0a402d",
   "metadata": {},
   "source": [
    "### 5. string.islower()\n",
    "\n",
    "#### Pradwda, jeżeli string to same: małe litery"
   ]
  },
  {
   "cell_type": "code",
   "execution_count": null,
   "id": "d7a3f862",
   "metadata": {},
   "outputs": [],
   "source": [
    "\n",
    "\n",
    "# https://stackoverflow.com/questions/44891070/whats-the-difference-between-str-isdigit-isnumeric-and-isdecimal-in-python/54912545#54912545\n",
    "# narazie do póki nie używacie porąbanych znaków cyfrowych typu \"༠༡༢༣༤༥༦༧༨༩\" to możecie przyjąć,\n",
    "# że wszystkie trzy funkcje robią to samo. sprawdzają czy mówimy o cyfrze czy nie.\n",
    "\n"
   ]
  },
  {
   "cell_type": "code",
   "execution_count": null,
   "id": "ed916602",
   "metadata": {},
   "outputs": [],
   "source": [
    "string = 'ABCD'\n",
    "string.isupper()"
   ]
  },
  {
   "cell_type": "code",
   "execution_count": null,
   "id": "57aba298",
   "metadata": {},
   "outputs": [],
   "source": [
    "if string.isupper():\n",
    "    print(True)"
   ]
  },
  {
   "cell_type": "code",
   "execution_count": null,
   "id": "67acfe99",
   "metadata": {},
   "outputs": [],
   "source": [
    "string = 'a'\n",
    "if string.islower():\n",
    "    print('string.islower() - MAŁE LITERY:')\n",
    "    print('abcdefghijklmnopqrstuvwxyz')\n",
    "    print()"
   ]
  },
  {
   "cell_type": "code",
   "execution_count": null,
   "id": "73d4a6eb",
   "metadata": {},
   "outputs": [],
   "source": [
    "string = 'a'\n",
    "\n",
    "print('String:', string)\n",
    "\n",
    "print('Czy string zawiera same numery i litery?\\n')\n",
    "if string.isalnum():\n",
    "    print('Tak')\n",
    "else:\n",
    "    print('Nie')"
   ]
  },
  {
   "cell_type": "markdown",
   "id": "1d6d1a8e",
   "metadata": {},
   "source": [
    "### 6. string.istitle()\n",
    "\n",
    "#### Prawda, jeżeli wszystkie frazy w stringu: zaczynają się z dużych liter"
   ]
  },
  {
   "cell_type": "code",
   "execution_count": null,
   "id": "bfb9366c",
   "metadata": {},
   "outputs": [],
   "source": [
    "string = 'Abc Xd Xd'\n",
    "string.istitle()"
   ]
  },
  {
   "cell_type": "code",
   "execution_count": null,
   "id": "9eac7b5e",
   "metadata": {},
   "outputs": [],
   "source": [
    "if string.istitle():\n",
    "    print(True)"
   ]
  },
  {
   "cell_type": "code",
   "execution_count": null,
   "id": "37ae2545",
   "metadata": {},
   "outputs": [],
   "source": [
    "string = 'Wszystkie Wyrazy Z Dużej Litery.'\n",
    "if string.istitle():\n",
    "    print('string.istitle() - WSZYSTKO Z DUŻEJ LITERY:')\n",
    "    print('Wszystkie Wyrazy Z Dużej Litery.')\n",
    "    print()\n"
   ]
  },
  {
   "cell_type": "markdown",
   "id": "96f94296",
   "metadata": {},
   "source": [
    "### 7. string.isprintable()\n",
    "\n",
    "#### Sprawdza czy cały ciąg znaków to: to znaki widoczne (np. w printach, plikach tekstowych)"
   ]
  },
  {
   "cell_type": "code",
   "execution_count": null,
   "id": "cb02db9c",
   "metadata": {},
   "outputs": [],
   "source": [
    "string = 'abc'\n",
    "string.isprintable()"
   ]
  },
  {
   "cell_type": "code",
   "execution_count": null,
   "id": "b8ccc4db",
   "metadata": {},
   "outputs": [],
   "source": [
    "if string.isprintable():\n",
    "      print(True)"
   ]
  },
  {
   "cell_type": "code",
   "execution_count": null,
   "id": "496011c9",
   "metadata": {},
   "outputs": [],
   "source": [
    "string = \"Cześć, to jest ---> \\n <--- nieprintable (niewidoczny) znak\"\n",
    "string = \"A tu są printable (widoczne) znaki.\"\n",
    "if string.isprintable():\n",
    "    print('string.isprintable() - WIDOCZNE ZNAKI:')\n",
    "    print('Bez znaków \\n\\r itp.')\n",
    "    print()"
   ]
  },
  {
   "cell_type": "code",
   "execution_count": null,
   "id": "7c648e22",
   "metadata": {},
   "outputs": [],
   "source": []
  },
  {
   "cell_type": "markdown",
   "id": "b5511914",
   "metadata": {},
   "source": [
    "### 8. string.isspace()\n",
    "\n",
    "#### Prawda, jeżeli wszystkie znaki w stringu są: białe lub spacją"
   ]
  },
  {
   "cell_type": "code",
   "execution_count": null,
   "id": "4bca725a",
   "metadata": {},
   "outputs": [],
   "source": [
    "string = '\\n'\n",
    "string.isspace()"
   ]
  },
  {
   "cell_type": "code",
   "execution_count": null,
   "id": "86a67660",
   "metadata": {},
   "outputs": [],
   "source": [
    "if string.isspace():\n",
    "    print(True)"
   ]
  },
  {
   "cell_type": "code",
   "execution_count": null,
   "id": "aad8afd1",
   "metadata": {},
   "outputs": [],
   "source": []
  },
  {
   "cell_type": "code",
   "execution_count": null,
   "id": "ab35aafb",
   "metadata": {
    "scrolled": false
   },
   "outputs": [],
   "source": [
    "string = \"  x  \" # Nie\n",
    "string = \"     \" # Tak\n",
    "if string.isspace():\n",
    "    print('string.isspace() - SAME SPACJE:')\n",
    "    print('           ')"
   ]
  },
  {
   "cell_type": "code",
   "execution_count": null,
   "id": "ff002f15",
   "metadata": {},
   "outputs": [],
   "source": []
  },
  {
   "cell_type": "code",
   "execution_count": null,
   "id": "cef2dede",
   "metadata": {},
   "outputs": [],
   "source": [
    "# count number of characters/substrings\n",
    "print(\"Hello\".count(\"e\"))"
   ]
  },
  {
   "cell_type": "markdown",
   "id": "eea46a86",
   "metadata": {},
   "source": [
    "## 3. \"Escape characters w tekście\"\n",
    "\n",
    "Znaki których używamy aby pisać w wielu liniach."
   ]
  },
  {
   "cell_type": "markdown",
   "id": "8bab9675",
   "metadata": {},
   "source": [
    "#### Nowa linia w tekście"
   ]
  },
  {
   "cell_type": "markdown",
   "id": "62fe64ac",
   "metadata": {},
   "source": []
  },
  {
   "cell_type": "code",
   "execution_count": null,
   "id": "95b4c8df",
   "metadata": {},
   "outputs": [],
   "source": [
    "string_1 = 'Ala ma'\n",
    "string_2 = 'super kota'\n",
    "\n",
    "print(string_1.)"
   ]
  },
  {
   "cell_type": "markdown",
   "id": "c3fe19c4",
   "metadata": {},
   "source": [
    "#### Usuwanie spacji i białych znaków z przodu i tyłu tekstu\n",
    "\n",
    "xD"
   ]
  },
  {
   "cell_type": "code",
   "execution_count": null,
   "id": "9bde4a94",
   "metadata": {},
   "outputs": [],
   "source": [
    "spacja = ' '\n",
    "spacje = '      '\n",
    "bialy_znak_1 = '\\n' # nowa linia\n",
    "bialy_znak_2 = '\\n' # nowa linia\n",
    "bialy_znak_3 = '\\n' # nowa linia\n",
    "spacje_str = '   abc   abc   '\n",
    "spacje_str1 = spacje_str.strip()\n",
    "spacje_str2 = spacje_str.rstrip()\n",
    "spacje_str3 = spacje_str.lstrip()\n",
    "print('String ze spacjami po  str.strip():', spacje_str1, '   Dlugosc:', len(spacje_str1))\n",
    "print('String ze spacjami po str.rstrip():', spacje_str2, 'Dlugosc:', len(spacje_str2))\n",
    "print('String ze spacjami po str.lstrip():', spacje_str3, 'Dlugosc:', len(spacje_str3))\n",
    "print()"
   ]
  },
  {
   "cell_type": "code",
   "execution_count": null,
   "id": "ddf3b7c5",
   "metadata": {},
   "outputs": [],
   "source": [
    "# Albo gdy na brzegach stringa jest zamiast spacji '..', to możemy \n",
    "# użyć string.strip('.') lub dla ',,,,' był by to string.stip(',')\n",
    "\n",
    "spacje_str = '   abc   abc   ..'\n",
    "print('String ze spacjami przed str.strip(\".\"):', spacje_str, 'Dlugosc:', len(spacje_str))\n",
    "spacje_str = spacje_str.strip(\".\")\n",
    "print('String ze spacjami    po str.strip(\".\"):', spacje_str, '  Dlugosc:', len(spacje_str))\n",
    "print()"
   ]
  },
  {
   "cell_type": "markdown",
   "id": "d68f7bdd",
   "metadata": {},
   "source": [
    "### Tekst w przestrzeni"
   ]
  },
  {
   "cell_type": "markdown",
   "id": "7a1d4535",
   "metadata": {},
   "source": [
    "### 1. string.center(10)\n",
    "\n",
    "Dodaje po prawej i lewej stronie stringa kilka spacji - tyle ile zdefiniujesz w argumencie `center()`."
   ]
  },
  {
   "cell_type": "code",
   "execution_count": 347,
   "id": "fb875baf",
   "metadata": {},
   "outputs": [
    {
     "name": "stdout",
     "output_type": "stream",
     "text": [
      "        abcd        \n"
     ]
    }
   ],
   "source": [
    "string = 'abcd'\n",
    "string = string.center(20)\n",
    "print(string)"
   ]
  },
  {
   "cell_type": "markdown",
   "id": "ade30c62",
   "metadata": {},
   "source": [
    "### 2. string.rjust()\n",
    "\n",
    "Dodaje przestrzeń w postaci tylu spacji ile zechcesz z lewej strony."
   ]
  },
  {
   "cell_type": "code",
   "execution_count": 348,
   "id": "71724008",
   "metadata": {},
   "outputs": [
    {
     "name": "stdout",
     "output_type": "stream",
     "text": [
      "x abcd\n",
      "x                 abcd\n"
     ]
    }
   ],
   "source": [
    "string_1 = 'abcd'\n",
    "string_2 = string_1.rjust(20)\n",
    "print('x', string_1)\n",
    "print('x', string_2)"
   ]
  },
  {
   "cell_type": "markdown",
   "id": "94d7c277",
   "metadata": {},
   "source": [
    "### 3. string.ljust(50)\n",
    "\n",
    "(Do sprawdzenia) dodaje tyle spacji ile jest potrzebnych aby string miał długość którą podajesz w argumencie. \n",
    "\n",
    "Jeżeli string ma mniej znaków, nie robi nic (do sprawdzenia)."
   ]
  },
  {
   "cell_type": "code",
   "execution_count": 362,
   "id": "505a37f6",
   "metadata": {},
   "outputs": [
    {
     "name": "stdout",
     "output_type": "stream",
     "text": [
      "x   abcd x 6\n",
      "x   abcd                                             x 50\n"
     ]
    }
   ],
   "source": [
    "string_1 = '  abcd'\n",
    "string_2 = string_1.ljust(50)\n",
    "\n",
    "print('x', string_1, 'x', len(string_1))\n",
    "print('x', string_2, 'x', len(string_2))"
   ]
  },
  {
   "cell_type": "code",
   "execution_count": 363,
   "id": "dc4ff9c6",
   "metadata": {},
   "outputs": [
    {
     "name": "stdout",
     "output_type": "stream",
     "text": [
      "banana               is my favorite fruit.\n"
     ]
    }
   ],
   "source": [
    "txt = \"banana\"\n",
    "\n",
    "x = txt.ljust(20)\n",
    "\n",
    "print(x, \"is my favorite fruit.\")"
   ]
  },
  {
   "cell_type": "markdown",
   "id": "fb692f55",
   "metadata": {},
   "source": [
    "### string.startswith('od_tego_sie_zaczyna')\n",
    "\n"
   ]
  },
  {
   "cell_type": "markdown",
   "id": "352a65c9",
   "metadata": {},
   "source": [
    "### string.endswith('tak_sie_konczy')"
   ]
  },
  {
   "cell_type": "code",
   "execution_count": 304,
   "id": "86760d01",
   "metadata": {},
   "outputs": [
    {
     "name": "stdout",
     "output_type": "stream",
     "text": [
      "True\n"
     ]
    }
   ],
   "source": [
    "string = 'Ala ma kota'\n",
    "\n",
    "if string.startswith('Ala'):\n",
    "    print(True)\n",
    "else:\n",
    "    print(False)"
   ]
  },
  {
   "cell_type": "markdown",
   "id": "f30d9a16",
   "metadata": {},
   "source": [
    "#### Formatowanie stringów\n",
    "\n",
    "xD"
   ]
  },
  {
   "cell_type": "code",
   "execution_count": 307,
   "id": "a0c6f93d",
   "metadata": {},
   "outputs": [],
   "source": [
    "### X. `'Liczba {} jest parzysta'.format(2)`\n",
    "\n",
    "#### Formatowanie poprzez wstawienie zmiennej w szablon."
   ]
  },
  {
   "cell_type": "code",
   "execution_count": null,
   "id": "cfc13f34",
   "metadata": {},
   "outputs": [],
   "source": [
    "# format\n",
    "wstawie_to_1 = 'xD'\n",
    "wstawie_to_2 = 'xDDD'\n",
    "\n",
    "# Szybki:\n",
    "string = f'{wstawie_to_1} string do formatu w tych miejscach z {wstawie_to_2}.'\n",
    "print('String po szybkim formacie:', string)\n",
    "\n",
    "\n",
    "\n",
    "# Wolny:\n",
    "string = '{} string do formatu w tych miejscach z {}.'\n",
    "print('String przed wolnym formatem:', string)\n",
    "print('String po    wolnym formacie:', string.format(wstawie_to_1, wstawie_to_2))"
   ]
  },
  {
   "cell_type": "code",
   "execution_count": null,
   "id": "39ef734e",
   "metadata": {},
   "outputs": [],
   "source": [
    "### X. `'Liczba {} jest parzysta'.format(2)`\n",
    "\n",
    "#### Formatowanie poprzez wstawienie zmiennej w szablon."
   ]
  },
  {
   "cell_type": "code",
   "execution_count": null,
   "id": "48b2ebab",
   "metadata": {},
   "outputs": [],
   "source": [
    "keyword_order = \"{s}, {b} and {j}\".format(j='John',b='Bill',s='Sean')\n",
    "print('\\n--- Keyword Order ---')\n",
    "print(keyword_order)\n",
    " \"|{:<10}|{:^10}|{:>10}|\".format('butter','bread','ham')\n",
    "'|butter    |  bread   |       ham|'\n",
    "# formatting integers\n",
    ">>> \"Binary representation of {0} is {0:b}\".format(12)\n",
    "'Binary representation of 12 is 1100'"
   ]
  },
  {
   "cell_type": "markdown",
   "id": "b48370ef",
   "metadata": {},
   "source": [
    "### X. ` \"The answer is %d\" % 20\" `\n",
    "\n",
    "#### Formatowanie poprzez wstawienie zmiennej w tekst"
   ]
  },
  {
   "cell_type": "code",
   "execution_count": 333,
   "id": "9959976f",
   "metadata": {},
   "outputs": [
    {
     "data": {
      "text/plain": [
       "'The answer is 20'"
      ]
     },
     "execution_count": 333,
     "metadata": {},
     "output_type": "execute_result"
    }
   ],
   "source": [
    "\"The answer is %d\" % 20"
   ]
  },
  {
   "cell_type": "markdown",
   "id": "c4df0936",
   "metadata": {},
   "source": [
    "### X. `\"Liczba zmiennoprzecinkowa: {0:.3f}.\".format(2.3333333)`\n",
    "\n",
    "#### Wstaw w szablon liczbę zmiennoprzecinkową. Użyj specjalnego formatu gdy po przecinku jest więcej znaków niż chcesz w tekście"
   ]
  },
  {
   "cell_type": "code",
   "execution_count": 327,
   "id": "b5a988fe",
   "metadata": {},
   "outputs": [
    {
     "name": "stdout",
     "output_type": "stream",
     "text": [
      "The float value is 2.123\n",
      "The float value is 2.123\n"
     ]
    }
   ],
   "source": [
    "a = \"The float value is {0:.3f}\".format(2.1234)\n",
    "\n",
    "print(a)\n",
    "print(a)"
   ]
  },
  {
   "cell_type": "markdown",
   "id": "b5e87941",
   "metadata": {},
   "source": [
    "### Rzadziej używane:"
   ]
  },
  {
   "cell_type": "markdown",
   "id": "e939a3ec",
   "metadata": {},
   "source": [
    "#### Wstaw w szablon liczbę binarną "
   ]
  },
  {
   "cell_type": "code",
   "execution_count": 325,
   "id": "38964f23",
   "metadata": {},
   "outputs": [
    {
     "name": "stdout",
     "output_type": "stream",
     "text": [
      "The binary value is 11111010000\n"
     ]
    }
   ],
   "source": [
    "a = \"The binary value is {0:b}\".format(2000)\n",
    "print(a)"
   ]
  },
  {
   "cell_type": "markdown",
   "id": "72ffe211",
   "metadata": {},
   "source": [
    "#### Wstaw w szablon liczbę zespoloną"
   ]
  },
  {
   "cell_type": "code",
   "execution_count": 323,
   "id": "04e6ab82",
   "metadata": {},
   "outputs": [
    {
     "name": "stdout",
     "output_type": "stream",
     "text": [
      "Licz 2.123400e+00\n"
     ]
    }
   ],
   "source": [
    "\"Liczba zespolona {0:e}\".format(2.1234)\n",
    "print(a)"
   ]
  },
  {
   "cell_type": "markdown",
   "id": "bf2fd7f5",
   "metadata": {},
   "source": [
    "### X. string.find('fraza')\n",
    "\n",
    "#### Znajdź nr indeksu wewnątrz stringa gdzie znajduje się tekst zadany jako argument\n",
    "\n",
    "Od `index()` różni się tym, że nie nie znajduje elementu, nie zwraca błędu ale przyjmuje wartość `-1`"
   ]
  },
  {
   "cell_type": "code",
   "execution_count": 339,
   "id": "d34df10b",
   "metadata": {},
   "outputs": [
    {
     "data": {
      "text/plain": [
       "(3, -1)"
      ]
     },
     "execution_count": 339,
     "metadata": {},
     "output_type": "execute_result"
    }
   ],
   "source": [
    "string = 'To jest jakieś zdanie.'\n",
    "\n",
    "string.find(\"jest\"), string.find(\"rwefefzf\")"
   ]
  },
  {
   "cell_type": "markdown",
   "id": "1e9e9535",
   "metadata": {},
   "source": [
    "### 1. `if 'a' in abecadlo:`\n",
    "\n",
    "Sprawdź czy string po lewej jest częścią stringu po prawej stronie."
   ]
  },
  {
   "cell_type": "code",
   "execution_count": null,
   "id": "bd8db6f2",
   "metadata": {
    "scrolled": true
   },
   "outputs": [],
   "source": [
    "if \"e\" in \"Hello\":\n",
    "    print(\"yes\")"
   ]
  },
  {
   "cell_type": "code",
   "execution_count": null,
   "id": "72becbb8",
   "metadata": {},
   "outputs": [],
   "source": [
    "if \"llo\" in \"Hello\":\n",
    "    print(\"yes\")"
   ]
  },
  {
   "cell_type": "markdown",
   "id": "e3a166e4",
   "metadata": {},
   "source": [
    "## Level 2"
   ]
  },
  {
   "cell_type": "code",
   "execution_count": null,
   "id": "79f7ff09",
   "metadata": {},
   "outputs": [],
   "source": [
    "string.punctuation"
   ]
  },
  {
   "cell_type": "code",
   "execution_count": null,
   "id": "f5b47e13",
   "metadata": {},
   "outputs": [],
   "source": [
    "import string\n",
    "\n",
    "string.punctuation"
   ]
  },
  {
   "cell_type": "markdown",
   "id": "78d6f1d5",
   "metadata": {},
   "source": [
    "### X. `if x in string.punctuation:`\n",
    "\n",
    "#### Czy w stringu znajdują się najczęściej wykorzystywane znaki specjalne?\n"
   ]
  },
  {
   "cell_type": "code",
   "execution_count": null,
   "id": "9d3dc916",
   "metadata": {},
   "outputs": [],
   "source": [
    "#### 1 znak"
   ]
  },
  {
   "cell_type": "code",
   "execution_count": null,
   "id": "482a993e",
   "metadata": {},
   "outputs": [],
   "source": [
    "x = '.....................................'\n",
    "\n",
    "if x in string.punctuation:\n",
    "    print(x)\n",
    "    \n",
    "if "
   ]
  },
  {
   "cell_type": "code",
   "execution_count": null,
   "id": "3c0e0594",
   "metadata": {},
   "outputs": [],
   "source": [
    "#### Wszystkie znaki"
   ]
  },
  {
   "cell_type": "code",
   "execution_count": null,
   "id": "a21f1491",
   "metadata": {},
   "outputs": [],
   "source": [
    "x = '.....................................'\n",
    "\n",
    "def ispunct(text):\n",
    "    '''\n",
    "    Check if string contains only '!\"#$%&\\'()*+,-./:;<=>?@[\\\\]^_`{|}~' characters.\n",
    "    '''\n",
    "    special_signs = '!\"#$%&\\'()*+,-./:;<=>?@[\\\\]^_`{|}~'\n",
    "    for c in text:\n",
    "        if c in special_signs:\n",
    "            pass\n",
    "        else:\n",
    "            return False\n",
    "    return True\n",
    "\n",
    "ispunct(x)"
   ]
  },
  {
   "cell_type": "code",
   "execution_count": null,
   "id": "b521b7c8",
   "metadata": {},
   "outputs": [],
   "source": [
    "\n",
    "if ispunct(x):\n",
    "    print(True)"
   ]
  },
  {
   "cell_type": "markdown",
   "id": "16a26b15",
   "metadata": {},
   "source": [
    "## Rzadziej używane metody stringów"
   ]
  },
  {
   "cell_type": "code",
   "execution_count": null,
   "id": "7f482f5a",
   "metadata": {},
   "outputs": [],
   "source": []
  },
  {
   "cell_type": "code",
   "execution_count": null,
   "id": "578d8798",
   "metadata": {},
   "outputs": [],
   "source": [
    "# ENCODE.\n",
    "# encode()\tReturns an encoded version of the string\n",
    "# unicode string\n",
    "string = 'pythön!'\n",
    "# print string\n",
    "print('The string is:', string)\n",
    "# ignore error\n",
    "print('The encoded version (with ignore) is:', string.encode(\"ascii\", \"ignore\"))\n",
    "# replace error\n",
    "print('The encoded version (with replace) is:', string.encode(\"ascii\", \"replace\"))"
   ]
  },
  {
   "cell_type": "code",
   "execution_count": null,
   "id": "1ee0b608",
   "metadata": {},
   "outputs": [],
   "source": [
    "# Inne\n",
    "# isidentifier()\tReturns True if the string is an identifier\n",
    "# isascii()\tReturns True if all characters in the string are ascii characters"
   ]
  },
  {
   "cell_type": "code",
   "execution_count": null,
   "id": "2df8f14e",
   "metadata": {},
   "outputs": [],
   "source": [
    "#### ZFILL."
   ]
  },
  {
   "cell_type": "code",
   "execution_count": null,
   "id": "d667caa4",
   "metadata": {},
   "outputs": [],
   "source": [
    "\n",
    "# zfill()\tFills the string with a specified number of 0 values at the beginning\n",
    "\n",
    "# TRANSLATION (?).\n",
    "# maketrans()\tReturns a translation table to be used in translations\n",
    "# translate()\tReturns a translated string\n",
    "\n",
    "# EXPANDTABS (?).\n",
    "# expandtabs()\tSets the tab size of the string\n",
    "\n",
    "# FORMAT_MAP (?).\n",
    "# format_map()\tFormats specified values in a string\n",
    "\n"
   ]
  },
  {
   "cell_type": "code",
   "execution_count": null,
   "id": "2102376f",
   "metadata": {},
   "outputs": [],
   "source": [
    "# Level 3"
   ]
  },
  {
   "cell_type": "code",
   "execution_count": null,
   "id": "948bada0",
   "metadata": {},
   "outputs": [],
   "source": [
    "# Zaawansowane:\n",
    "\n",
    "# REGEXP.\n",
    "\n",
    "# Tu wrócimy jak nabierzecie trochę krzepy :)"
   ]
  },
  {
   "cell_type": "code",
   "execution_count": null,
   "id": "6b845d9d",
   "metadata": {},
   "outputs": [],
   "source": [
    "import re"
   ]
  },
  {
   "cell_type": "code",
   "execution_count": null,
   "id": "66206bbf",
   "metadata": {},
   "outputs": [],
   "source": [
    "# JĘZYKI i ich specjalne znaki.\n",
    "# W pythonie większość powinna śmigać w sama lub po zwykłym string.encode('utf-8')\n",
    "# W innym razie, będziemy uzupełniać.\n",
    "\n",
    "# UNICODE.\n",
    "\n",
    "# Wszystkie popierdzielone ord(), chr(), ascii()\n",
    "\n",
    "# Tekstowe:\n",
    "ascii()    Returns a readable version of an object. Replaces none-ascii characters with escape character\n",
    "chr()    Returns a character from the specified Unicode code.\n",
    "ord()    Convert an integer representing the Unicode of the specified character"
   ]
  },
  {
   "cell_type": "code",
   "execution_count": null,
   "id": "d4b65ae2",
   "metadata": {},
   "outputs": [],
   "source": []
  }
 ],
 "metadata": {
  "kernelspec": {
   "display_name": "Python 3 (ipykernel)",
   "language": "python",
   "name": "python3"
  },
  "language_info": {
   "codemirror_mode": {
    "name": "ipython",
    "version": 3
   },
   "file_extension": ".py",
   "mimetype": "text/x-python",
   "name": "python",
   "nbconvert_exporter": "python",
   "pygments_lexer": "ipython3",
   "version": "3.8.10"
  }
 },
 "nbformat": 4,
 "nbformat_minor": 5
}
