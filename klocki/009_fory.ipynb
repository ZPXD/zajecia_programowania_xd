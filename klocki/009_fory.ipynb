{
 "cells": [
  {
   "cell_type": "markdown",
   "id": "a711d95b",
   "metadata": {},
   "source": [
    "# 009 - Fory\n",
    "\n",
    "#### Iteracja. Czyli wykonaj serię działań na każdym z elementów zbioru. "
   ]
  },
  {
   "cell_type": "code",
   "execution_count": 1,
   "id": "9efe72ed",
   "metadata": {},
   "outputs": [
    {
     "name": "stdout",
     "output_type": "stream",
     "text": [
      "1\n",
      "2\n"
     ]
    }
   ],
   "source": [
    "for i in range(1, 3):\n",
    "    print(i)"
   ]
  },
  {
   "cell_type": "markdown",
   "id": "14da3760",
   "metadata": {},
   "source": [
    "#### Spis treści:\n",
    "1. Klasyczny `for i in lista` czyli for loop czyli iteracja po liście\n",
    "2. iteracja po liście w iteracji po liście \n",
    "3. `while`\n",
    "4. `break`\n",
    "5. `continue`\n",
    "6. `pass`\n",
    "7. `for i, element in enumerate(lista)`\n",
    "8. `range(1, 10)`\n"
   ]
  },
  {
   "cell_type": "markdown",
   "id": "04992f27",
   "metadata": {},
   "source": [
    "## `For`'y \n",
    "\n",
    "### czyli pętle zwane loopami i iteracją na liście\n",
    "\n",
    "#### For'y, zwłaszcza w połączeniu z listami, warunkami, funkcjami i stringami stanowią piękno python'a.\n",
    "\n",
    "Nauka przyniesie najlepsze efekty gdy po przeczytaniu kawałka materiału od razu będziesz wrzucał kod do drugiego zeszytu ćwiczeń, bawił się nim, sprawdzał i modyfikował. I tak z wszystkimi komórkami kodu.\n",
    "- otwórz nowy notebook (najlepiej poza TYM notebookiem)\n",
    "- wracaj codziennie przez kilka dni do tego zeszytu\n",
    "\n",
    "## Jak dobrze wyćwiczyć fory?\n",
    "\n",
    "#### Ćwicz odrazu\n",
    "\n",
    "Odpalaj każdy kod w tym zeszycie, spróbuj modyfikować niektóre elementy aby lepiej je zrozumieć\n",
    "\n",
    "#### Powtarzaj wiele razy\n",
    "\n",
    "Przez conajmniej 7 dni przeglądaj codziennie ten zeszyt (daj sobie z 5-10 minut - a najlepiej więcej, przejrzyj wszystkie funkcje, kod) - utrwalisz materiał\n",
    "\n",
    "#### Przechodź po kolei poziomy -  oddziel to co ważne i pilne od tego co jest przydatne w dalszej kolejności\n",
    "\n",
    "Ten plik jest podzielony na kilka poziomów. \n",
    "\n",
    "Możesz przeczytać cały opis danego tematu za 1 razem albo\n",
    "nauczyć sie tego co najbardziej istotnie i po zaawansowany materiał\n",
    "wrócić tu później.\n"
   ]
  },
  {
   "cell_type": "markdown",
   "id": "2e0a806d",
   "metadata": {},
   "source": [
    "### 1. Fory\n",
    "\n",
    "Pętle, tzw. For loop's\n",
    "\n",
    "Pętle to niesamowita sprawa."
   ]
  },
  {
   "cell_type": "code",
   "execution_count": 2,
   "id": "c9864755",
   "metadata": {},
   "outputs": [
    {
     "name": "stdout",
     "output_type": "stream",
     "text": [
      "1\n",
      "pętla wykonuje się: 1 raz.\n",
      "2\n",
      "pętla wykonuje się: 2 raz.\n",
      "3\n",
      "pętla wykonuje się: 3 raz.\n",
      "4\n",
      "pętla wykonuje się: 4 raz.\n",
      "\n",
      "Koniec pętli.\n"
     ]
    }
   ],
   "source": [
    "lista = [1, 2, 3, 4]\n",
    "\n",
    "for i in lista:\n",
    "    print(i)\n",
    "    print('pętla wykonuje się:', i, 'raz.')\n",
    "\n",
    "print('\\nKoniec pętli.')"
   ]
  },
  {
   "cell_type": "markdown",
   "id": "9364c952",
   "metadata": {},
   "source": [
    "#### Rozłóżmy `for'a` na części pierwsze:\n",
    "- **for**            - zawsze rozpoczyna pętlę\n",
    "- **i**              - element z listy. najpierw pierwszy. potem drugi. potem trzeci.\n",
    "- **in**              - in - znaczy \"w\"\n",
    "- **[1, 2, 3]**       - lista.\n",
    "- **:**               - dwukropek zawsze kończy linię rozpoczynaną z for.\n",
    "- **---- tab**        - po otwierającym for w kolejnej linii zawsze jest wcięcie aż do końca.\n",
    "- **print(i)**        - ciało iteracji\n"
   ]
  },
  {
   "cell_type": "markdown",
   "id": "23f03e14",
   "metadata": {},
   "source": [
    "### 2. Pętla `for`: `for i in lista:`\n",
    "\n",
    "Zwykła pętla. Robi `coś` z każdym elementem listy. W tej sytacji? Wyświetla. W innej? Możesz użyć na każdym elemencie jakiejś funkcji, dodać if'y. Stworzyć nową listę z elementów z listy pierwszej. Jak uczysz się już trochę czasu, spróbuj coś tam dopisać od siebie."
   ]
  },
  {
   "cell_type": "code",
   "execution_count": null,
   "id": "af2dca00",
   "metadata": {},
   "outputs": [],
   "source": [
    "lista = [1, 2, 3]\n",
    "for i in lista:\n",
    "    print(i)"
   ]
  },
  {
   "cell_type": "markdown",
   "id": "1f364007",
   "metadata": {},
   "source": [
    "### 3. Pętla (for) w pętli (for)\n",
    "\n",
    "Czyli iteracja po liśćie 1 w iteracji po liście 2. Najłatwiej to zrozumieć patrząc na kod i wynik na dole. Pobaw się tym kodem, dodaj różne elementy do listy i zobacz co się dzieje."
   ]
  },
  {
   "cell_type": "code",
   "execution_count": null,
   "id": "55f11631",
   "metadata": {},
   "outputs": [],
   "source": [
    "lista_1 = [1, 2, 3] # True, 'abcdefg'\n",
    "lista_2 = [\"a\", \"b\", \"c\"] # [1, 2, 3], 'xD'\n",
    "\n",
    "for i in lista_1:\n",
    "    for j in lista_2:\n",
    "        print(i,j)\n",
    "    print('----------------------------')"
   ]
  },
  {
   "cell_type": "markdown",
   "id": "f0661143",
   "metadata": {},
   "source": [
    "### 4. pętla `while`"
   ]
  },
  {
   "cell_type": "code",
   "execution_count": null,
   "id": "4e348882",
   "metadata": {},
   "outputs": [],
   "source": [
    "x = 4\n",
    "while x > 0:\n",
    "    print('x równa się', x)\n",
    "    x -= 1 # odejmuje 1 od x.\n",
    "print('Pętla się wykonała.')"
   ]
  },
  {
   "cell_type": "markdown",
   "id": "e8aa84de",
   "metadata": {},
   "source": [
    "### 5. `break`\n",
    "\n",
    "Klasyczna iteracja po liście z warunkiem. Jeżeli warunek zostanie spełniony - czyli jeżeli `i` będzie równe `2` - pętla zatrzyma się. Wykonane zostaną kolejne linie po ciele `for'a`."
   ]
  },
  {
   "cell_type": "code",
   "execution_count": null,
   "id": "bc771128",
   "metadata": {},
   "outputs": [],
   "source": [
    "for i in [1, 2, 3, 4, 5, 6]:\n",
    "    if i == 5:\n",
    "        break\n",
    "    print(i)\n",
    "print('po forze')"
   ]
  },
  {
   "cell_type": "markdown",
   "id": "ac30ee89",
   "metadata": {},
   "source": [
    "### 6. `continue`\n",
    "\n",
    "`continue` w bloku if w przeciwieństwie do `break` nie zatrzymuje pętli, ale pomija element i przechodzi do następnego."
   ]
  },
  {
   "cell_type": "code",
   "execution_count": null,
   "id": "dcec22ca",
   "metadata": {},
   "outputs": [],
   "source": [
    "for i in [1, 2, 3, 4, 5]:\n",
    "    continue"
   ]
  },
  {
   "cell_type": "markdown",
   "id": "f1a32eaa",
   "metadata": {},
   "source": [
    "Dlatego najczęściej znajdujemy je w warunkach."
   ]
  },
  {
   "cell_type": "code",
   "execution_count": null,
   "id": "9a7fa851",
   "metadata": {},
   "outputs": [],
   "source": [
    "for i in [1, 2, 3, 4, 5]:\n",
    "    if i == 3:\n",
    "        continue\n",
    "    print(i)"
   ]
  },
  {
   "cell_type": "markdown",
   "id": "38983f65",
   "metadata": {},
   "source": [
    "### 7. `pass`\n",
    "\n",
    "Oznacza, że nic się nie dzieje.\n",
    "\n",
    "Używa się często rozpisując program, gdy właściwe ciało tego ustępu dopiero chcemy napisać w przyszłości."
   ]
  },
  {
   "cell_type": "code",
   "execution_count": null,
   "id": "6b513e2a",
   "metadata": {},
   "outputs": [],
   "source": [
    "for i in [1, 2, 3, 4, 5]:\n",
    "\n",
    "    if i == 2:\n",
    "        pass\n",
    "    \n",
    "    if i == 3:\n",
    "        pass\n",
    "    \n",
    "    print(i)"
   ]
  },
  {
   "cell_type": "markdown",
   "id": "df3870d4",
   "metadata": {},
   "source": [
    "Można łątwo napisać pętlę `while` tak, że może być nieskończona i nigdy się nie zatrzymać. Wtedy przerwij działanie programu pisząc (ctrl + C).\n",
    "\n",
    "wciśnij **ctrl + c** na komórce albo w kwadrat w menu na górze (`stop`)"
   ]
  },
  {
   "cell_type": "markdown",
   "id": "f025f5d1",
   "metadata": {},
   "source": [
    "Zapięte pasy? No to spróbujmy nieskończonej pętli.\n",
    "\n",
    "Odhaszuj kod poniżej i uruchom ten program jeszcze raz. Zwróć uwagę co dzieje się w terminalu. Jak się znudzisz, naciśnij ctrl+c."
   ]
  },
  {
   "cell_type": "code",
   "execution_count": null,
   "id": "4b077495",
   "metadata": {},
   "outputs": [],
   "source": [
    "c = 0\n",
    "while True:\n",
    "    c += 1\n",
    "    print(c)"
   ]
  },
  {
   "cell_type": "markdown",
   "id": "34b91c2c",
   "metadata": {},
   "source": [
    "Udało się, żyjesz? Całe szczęście."
   ]
  },
  {
   "cell_type": "markdown",
   "id": "9f4496b3",
   "metadata": {},
   "source": [
    "PS: Raczej nie zostawiaj zapętlonych programów, chyba, że to jest świadomym celem."
   ]
  },
  {
   "cell_type": "markdown",
   "id": "50e162ad",
   "metadata": {},
   "source": [
    "### 8. Iteracja po 2, 3 elementach - lista list\n",
    "\n",
    "Czyli jak, gdy iterujesz po liście list, pracować na 2 lub więcej elementach z każdego elementu listy."
   ]
  },
  {
   "cell_type": "code",
   "execution_count": 7,
   "id": "08df0aef",
   "metadata": {},
   "outputs": [
    {
     "name": "stdout",
     "output_type": "stream",
     "text": [
      "1 plus 2 plus 3 równa się 6\n",
      "3 plus 4 plus 5 równa się 12\n",
      "5 plus 6 plus 7 równa się 18\n"
     ]
    }
   ],
   "source": [
    "lista = [(1, 2, 3), (3, 4, 5), (5, 6, 7)]\n",
    "\n",
    "\n",
    "\n",
    "for a, b, c in lista:\n",
    "    \n",
    "    print(a, \"plus\", b, \"plus\", c,  \"równa się\", a+b+c)"
   ]
  },
  {
   "cell_type": "markdown",
   "id": "61554fa0",
   "metadata": {},
   "source": [
    "### 9. `for i, element in enumerate(lista):`\n",
    "\n",
    "Listę można też ponumerować. Będziemy o tym zaraz mówić przy okazji indexów."
   ]
  },
  {
   "cell_type": "code",
   "execution_count": null,
   "id": "b5408e61",
   "metadata": {},
   "outputs": [],
   "source": [
    "for i, element in enumerate(lista):\n",
    "    print(i, element)"
   ]
  },
  {
   "cell_type": "code",
   "execution_count": null,
   "id": "a7db9cb4",
   "metadata": {},
   "outputs": [],
   "source": [
    "enumerate(lista)"
   ]
  },
  {
   "cell_type": "code",
   "execution_count": null,
   "id": "e5838ab3",
   "metadata": {},
   "outputs": [],
   "source": [
    "type(enumerate(lista))"
   ]
  },
  {
   "cell_type": "code",
   "execution_count": null,
   "id": "c1529c58",
   "metadata": {},
   "outputs": [],
   "source": [
    "list(enumerate(lista))"
   ]
  },
  {
   "cell_type": "markdown",
   "id": "f510ef70",
   "metadata": {},
   "source": [
    "Teraz jest to lista tupli `[(),(),()]`. Omówimy to potem."
   ]
  },
  {
   "cell_type": "markdown",
   "id": "e61b6798",
   "metadata": {},
   "source": [
    "### 10. `range(2, 4)`\n",
    "\n",
    "Określa zakres wartości od - do. `range(1, 4)`. Jeżeli chcesz uzyskać obiekt listy to musisz zamienić range na listę `list(range(1, 4))`."
   ]
  },
  {
   "cell_type": "code",
   "execution_count": null,
   "id": "82ebf5ea",
   "metadata": {},
   "outputs": [],
   "source": [
    "range(1,4)"
   ]
  },
  {
   "cell_type": "code",
   "execution_count": null,
   "id": "ba3622e5",
   "metadata": {},
   "outputs": [],
   "source": [
    "type(range(1, 4))"
   ]
  },
  {
   "cell_type": "code",
   "execution_count": null,
   "id": "bf34b64f",
   "metadata": {},
   "outputs": [],
   "source": [
    "list(range(1, 4))"
   ]
  },
  {
   "cell_type": "code",
   "execution_count": null,
   "id": "689fd66e",
   "metadata": {},
   "outputs": [],
   "source": [
    "for i in range(1, 4):\n",
    "    print('i ma wartość', i)"
   ]
  },
  {
   "cell_type": "markdown",
   "id": "19687f90",
   "metadata": {},
   "source": [
    "## Level 2\n",
    "\n",
    "\n",
    "### 1. iter() / next()\n",
    "\n",
    "Zamiast pisać pętlę `for`, można też użyć na liście (albo stringu) funkcji `iter()` . "
   ]
  },
  {
   "cell_type": "code",
   "execution_count": 1,
   "id": "8b7ee1bd",
   "metadata": {},
   "outputs": [
    {
     "name": "stdout",
     "output_type": "stream",
     "text": [
      "b\n",
      "a\n",
      "n\n",
      "a\n",
      "n\n",
      "a\n"
     ]
    }
   ],
   "source": [
    "mystr = \"banana\"\n",
    "myit = iter(mystr)\n",
    "\n",
    "print(next(myit))\n",
    "print(next(myit))\n",
    "print(next(myit))\n",
    "print(next(myit))\n",
    "print(next(myit))\n",
    "print(next(myit))"
   ]
  }
 ],
 "metadata": {
  "kernelspec": {
   "display_name": "Python 3 (ipykernel)",
   "language": "python",
   "name": "python3"
  },
  "language_info": {
   "codemirror_mode": {
    "name": "ipython",
    "version": 3
   },
   "file_extension": ".py",
   "mimetype": "text/x-python",
   "name": "python",
   "nbconvert_exporter": "python",
   "pygments_lexer": "ipython3",
   "version": "3.8.10"
  }
 },
 "nbformat": 4,
 "nbformat_minor": 5
}
