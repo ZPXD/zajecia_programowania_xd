{
 "cells": [
  {
   "cell_type": "markdown",
   "id": "846e4510",
   "metadata": {},
   "source": [
    "# 013 - pliki"
   ]
  },
  {
   "cell_type": "markdown",
   "id": "81beaad4",
   "metadata": {},
   "source": [
    "Tekstowe źródła danych."
   ]
  },
  {
   "cell_type": "markdown",
   "id": "2404a487",
   "metadata": {},
   "source": [
    "#### Spis treści:\n",
    "\n",
    "Level 1:\n",
    "1. Pliki tekstowe\n",
    "2. Pliki CSV\n",
    "\n",
    "Level 2:\n",
    "1. Format JSON\n",
    "    1. Otwórz plik JSON jako słownik\n",
    "    2. Pracuj z danymi, modyfikuj zawartość słownika lub np. dodaj nowe wartości\n",
    "    3. Zapisz słownik spowrotem jako plik JSON\n",
    "    4. Zamień słownik dict w JSON string str\n",
    "    5. Rzadsze: Zamień JSON string str w słownik dict - slownik = json.loads(\"{'a':1}\")\n",
    "    6. JSON w pracy z usługami internetowymi we Flask\n",
    "    7. JSON w pracy z połączeniami z biblioteką requests\n",
    "2. Format Excel\n",
    "3. Format HTML\n",
    "4. Inne formaty\n",
    "\n",
    "Level 3:\n",
    "1. PDF\n",
    "2. Inne"
   ]
  },
  {
   "cell_type": "markdown",
   "id": "8e811556",
   "metadata": {},
   "source": [
    "\n",
    "\n",
    "## Pliki\n",
    "\n",
    "#### Czyli dane tekstowe\n",
    "\n",
    "Nauka przyniesie najlepsze efekty gdy po przeczytaniu opisów metod i funkcji będziesz odpalał i modyfikowł wszystkie komórki z kodem. \n",
    "- otwórz nowy notebook (najlepiej poza TYM notebookiem)\n",
    "- wracaj codziennie przez kilka dni do tego zeszytu\n"
   ]
  },
  {
   "cell_type": "markdown",
   "id": "b8a69326",
   "metadata": {},
   "source": [
    "\n",
    "## Jak dobrze wyćwiczyć pracę z plikami?\n",
    "\n",
    "#### Ćwicz odrazu\n",
    "\n",
    "Odpalaj każdy kod w tym zeszycie, spróbuj modyfikować niektóre elementy aby lepiej je zrozumieć\n",
    "\n",
    "#### Powtarzaj wiele razy\n",
    "\n",
    "Przez conajmniej 7 dni przeglądaj codziennie ten zeszyt (daj sobie z 5-10 minut - a najlepiej więcej, przejrzyj wszystkie funkcje, kod) - utrwalisz materiał\n",
    "\n",
    "#### Przechodź po kolei poziomy -  oddziel to co ważne i pilne od tego co jest przydatne w dalszej kolejności\n",
    "\n",
    "Ten plik jest podzielony na kilka poziomów. \n",
    "\n",
    "Możesz przeczytać cały opis danego tematu za 1 razem albo\n",
    "nauczyć sie tego co najbardziej istotnie i po zaawansowany materiał\n",
    "wrócić tu później.\n"
   ]
  },
  {
   "cell_type": "markdown",
   "id": "f749c980",
   "metadata": {},
   "source": [
    "#### W jakich plikach najczęściej trzyma się dane?"
   ]
  },
  {
   "cell_type": "markdown",
   "id": "7d2d6068",
   "metadata": {},
   "source": [
    "1. pliki tekstowe **plik.txt** - po prostu tekst w liniach\n",
    "2. pliki CSV **plik.csv** - pliki przechowujące dane w typie tabeli\n",
    "3. pliki JSON **plik.json** - pliki przechowujące dane w typie podobnym do słowników Pythona - JSON\n",
    "4. pliki excel - ze względu na formę tabularną przy możliwości łatwej modyfikacji przez osoby nietechniczne"
   ]
  },
  {
   "cell_type": "markdown",
   "id": "39f34f4e",
   "metadata": {},
   "source": [
    "## 1. Pliki tekstowe - `plik.txt`"
   ]
  },
  {
   "cell_type": "code",
   "execution_count": 310,
   "id": "ce505132",
   "metadata": {},
   "outputs": [],
   "source": [
    "plik = 'plik_tekstowy.txt'"
   ]
  },
  {
   "cell_type": "markdown",
   "id": "b195e6ce",
   "metadata": {},
   "source": [
    "Do otwierania plików służy funkcja `open('nazwa_pliku.txt')`"
   ]
  },
  {
   "cell_type": "code",
   "execution_count": 311,
   "id": "44710630",
   "metadata": {},
   "outputs": [
    {
     "data": {
      "text/plain": [
       "<_io.TextIOWrapper name='plik_tekstowy.txt' mode='r' encoding='UTF-8'>"
      ]
     },
     "execution_count": 311,
     "metadata": {},
     "output_type": "execute_result"
    }
   ],
   "source": [
    "open(plik)"
   ]
  },
  {
   "cell_type": "code",
   "execution_count": 312,
   "id": "31d5586f",
   "metadata": {},
   "outputs": [
    {
     "data": {
      "text/plain": [
       "_io.TextIOWrapper"
      ]
     },
     "execution_count": 312,
     "metadata": {},
     "output_type": "execute_result"
    }
   ],
   "source": [
    "type(open(plik))"
   ]
  },
  {
   "cell_type": "markdown",
   "id": "c224ba1a",
   "metadata": {},
   "source": [
    "Jednak `open(plik)` zwraca obiekt io.TextIOWrapper a nie faktyczną treść pliku. O takich obiektach pomówimy w przyszłości (raczej rzadko kiedy przyda Ci się to w praktyce). Teraz zobaczmy jak zamienić taki obiekt na tekst który do którego chcemy się dostać.\n",
    "\n",
    "w tym celu użyjemy metody `.read()` lub `.readlines()`. Wczyta z obiektu do zmiennej właściwy tekst pliku."
   ]
  },
  {
   "cell_type": "markdown",
   "id": "ee5b2057",
   "metadata": {},
   "source": [
    "### 1. Wczytaj treść pliku jako taflę tekstu - `tekst = open(plik).read()`"
   ]
  },
  {
   "cell_type": "code",
   "execution_count": 313,
   "id": "10de4e1f",
   "metadata": {},
   "outputs": [
    {
     "data": {
      "text/plain": [
       "'Ale kto czci duszę rozumną, ogarniającą wszechświat i społeczeństwo, o żadną z innych rzeczy już się nie troszczy. Ponad wszystko duszę własną utrzymuje w takim stanie, aby była rozumna i społeczna i czynna, i śpieszyła z pomocą bliźniemu, który do tego samego celu dąży.\\nDługość życia ludzkiego – to punkcik, istota – płynna, spostrzeganie – niejasne, zespól całego ciała – to zgnilizna, dusza – wir, los – to zagadka, sława – rzecz niepewna.\\nJak wielki spokój zyskuje ten, kto nie baczy na to, co bliźni mówi, czyni lub myśli, ale na to tylko, co sam robi, by było sprawiedliwie i zbożnie. Wszystko bowiem, cokolwiek czynię sam, czy z pomocą obcą, powinno jeden tylko cel mieć na oku: pożytek i korzyść społeczną.\\nJeśli życzliwość jest szczera i nieobłudna, to jest niezwyciężona.\\nKiedy wady innych sprawiają ci przykrość, spójrz na siebie i zastanów się nad twoimi własnymi. Zajmując się nimi, zapomnisz o złości i nauczysz się żyć mądrze.\\nLudzie, którzy pragną się jeden nad drugim wywyższyć, przed sobą wzajem się poniżają.\\nNajtrudniej dotrzeć do siebie samego.\\nNajważniejsza jest prostota.\\nNie chlubą jest uciec przed śmiercią, lecz uśmiechnąć się gdy i ona się do ciebie uśmiecha.\\nNie godzi się, aby twoja dusza czuła się zmęczona tym życiem, zanim nie zmęczy się nim ciało.\\nNie należy gniewać się na bieg wypadków, bo to ich nic nie obchodzi.\\nNie żyj tak, jakbyś miał żyć lat dziesięć tysięcy. Los wisi nad tobą. Dopóty żyjesz, dopóki można, bądź dobry.\\nNiezdobytą warownię przedstawia dusza wolna od namiętności.\\nNigdzie bowiem nie schroni się człowiek spokojniej i łatwiej jak do duszy własnej.\\nO własnych stój siłach – nie zaś podtrzymywany.\\nPrawda jeszcze nikomu nie zaszkodziła.\\nSkutki gniewu są dużo poważniejsze od jego przyczyn.\\nSztuka życia ma większe podobieństwo z atletyką niż z tańcem, bo trzeba być w pogotowiu i stać bez trwogi wobec wypadków, nawet nieprzewidzianych.\\nZajrzyj w siebie! W twoim wnętrzu jest źródło, które nigdy nie wyschnie, jeśli potrafisz je odszukać.\\nZamierzam spotkać się dzisiaj z ludźmi, którzy zbyt wiele mówią, z ludźmi samolubnymi, egoistami i niewdzięcznikami. To mnie jednak nie zaskoczy i nie zdziwi, ponieważ nie umiem wyobrazić sobie świata bez ludzi tego rodzaju.\\nZastanów się, o ile częściej cierpisz z powodu swego gniewu i żalu, niż z powodu rzeczy, które wprawiają cię w gniew i wzbudzają żal.\\nZawsze wybieraj drogę najkrótszą, albowiem krótka droga jest naturalna.\\nŻycie człowieka sprowadza się do snu, płodzenia dzieci, wypróżniania się oraz płaszczenia przed innymi, przy jednoczesnym pysznieniu się swoją władzą.\\nŻycie jest krótkie. Korzystaj z teraźniejszości w sposób rozumny i słuszny. Bądź rozsądny w odpoczynku.\\nŻycie mężczyzny jest ufarbowane na kolor jego wyobraźni.'"
      ]
     },
     "execution_count": 313,
     "metadata": {},
     "output_type": "execute_result"
    }
   ],
   "source": [
    "tekst = open(plik).read()\n",
    "tekst"
   ]
  },
  {
   "cell_type": "markdown",
   "id": "7a6ec2e2",
   "metadata": {},
   "source": [
    "### 2. Wczytaj treść pliku jako linie - `tekst_linie = open(plik).readlines()`"
   ]
  },
  {
   "cell_type": "code",
   "execution_count": 296,
   "id": "cc6a15a0",
   "metadata": {},
   "outputs": [
    {
     "data": {
      "text/plain": [
       "['Ale kto czci duszę rozumną, ogarniającą wszechświat i społeczeństwo, o żadną z innych rzeczy już się nie troszczy. Ponad wszystko duszę własną utrzymuje w takim stanie, aby była rozumna i społeczna i czynna, i śpieszyła z pomocą bliźniemu, który do tego samego celu dąży.\\n',\n",
       " 'Długość życia ludzkiego – to punkcik, istota – płynna, spostrzeganie – niejasne, zespól całego ciała – to zgnilizna, dusza – wir, los – to zagadka, sława – rzecz niepewna.\\n',\n",
       " 'Jak wielki spokój zyskuje ten, kto nie baczy na to, co bliźni mówi, czyni lub myśli, ale na to tylko, co sam robi, by było sprawiedliwie i zbożnie. Wszystko bowiem, cokolwiek czynię sam, czy z pomocą obcą, powinno jeden tylko cel mieć na oku: pożytek i korzyść społeczną.\\n',\n",
       " 'Jeśli życzliwość jest szczera i nieobłudna, to jest niezwyciężona.\\n',\n",
       " 'Kiedy wady innych sprawiają ci przykrość, spójrz na siebie i zastanów się nad twoimi własnymi. Zajmując się nimi, zapomnisz o złości i nauczysz się żyć mądrze.\\n',\n",
       " 'Ludzie, którzy pragną się jeden nad drugim wywyższyć, przed sobą wzajem się poniżają.\\n',\n",
       " 'Najtrudniej dotrzeć do siebie samego.\\n',\n",
       " 'Najważniejsza jest prostota.\\n',\n",
       " 'Nie chlubą jest uciec przed śmiercią, lecz uśmiechnąć się gdy i ona się do ciebie uśmiecha.\\n',\n",
       " 'Nie godzi się, aby twoja dusza czuła się zmęczona tym życiem, zanim nie zmęczy się nim ciało.\\n',\n",
       " 'Nie należy gniewać się na bieg wypadków, bo to ich nic nie obchodzi.\\n',\n",
       " 'Nie żyj tak, jakbyś miał żyć lat dziesięć tysięcy. Los wisi nad tobą. Dopóty żyjesz, dopóki można, bądź dobry.\\n',\n",
       " 'Niezdobytą warownię przedstawia dusza wolna od namiętności.\\n',\n",
       " 'Nigdzie bowiem nie schroni się człowiek spokojniej i łatwiej jak do duszy własnej.\\n',\n",
       " 'O własnych stój siłach – nie zaś podtrzymywany.\\n',\n",
       " 'Prawda jeszcze nikomu nie zaszkodziła.\\n',\n",
       " 'Skutki gniewu są dużo poważniejsze od jego przyczyn.\\n',\n",
       " 'Sztuka życia ma większe podobieństwo z atletyką niż z tańcem, bo trzeba być w pogotowiu i stać bez trwogi wobec wypadków, nawet nieprzewidzianych.\\n',\n",
       " 'Zajrzyj w siebie! W twoim wnętrzu jest źródło, które nigdy nie wyschnie, jeśli potrafisz je odszukać.\\n',\n",
       " 'Zamierzam spotkać się dzisiaj z ludźmi, którzy zbyt wiele mówią, z ludźmi samolubnymi, egoistami i niewdzięcznikami. To mnie jednak nie zaskoczy i nie zdziwi, ponieważ nie umiem wyobrazić sobie świata bez ludzi tego rodzaju.\\n',\n",
       " 'Zastanów się, o ile częściej cierpisz z powodu swego gniewu i żalu, niż z powodu rzeczy, które wprawiają cię w gniew i wzbudzają żal.\\n',\n",
       " 'Zawsze wybieraj drogę najkrótszą, albowiem krótka droga jest naturalna.\\n',\n",
       " 'Życie człowieka sprowadza się do snu, płodzenia dzieci, wypróżniania się oraz płaszczenia przed innymi, przy jednoczesnym pysznieniu się swoją władzą.\\n',\n",
       " 'Życie jest krótkie. Korzystaj z teraźniejszości w sposób rozumny i słuszny. Bądź rozsądny w odpoczynku.\\n',\n",
       " 'Życie mężczyzny jest ufarbowane na kolor jego wyobraźni.']"
      ]
     },
     "execution_count": 296,
     "metadata": {},
     "output_type": "execute_result"
    }
   ],
   "source": [
    "tekst_linie = open(plik).readlines()\n",
    "tekst_linie"
   ]
  },
  {
   "cell_type": "markdown",
   "id": "3207fc27",
   "metadata": {},
   "source": [
    "### 1. Otwórz plik - `text = f.read()` / `lista_linii = f.readlines()`\n",
    "\n",
    "Jako taflę tekstu albo jako listę linii."
   ]
  },
  {
   "cell_type": "code",
   "execution_count": 297,
   "id": "6a6f6d13",
   "metadata": {},
   "outputs": [],
   "source": [
    "file = 'plik_tekstowy.txt'\n",
    "mode = 'r+'"
   ]
  },
  {
   "cell_type": "code",
   "execution_count": 298,
   "id": "6ff7d44e",
   "metadata": {},
   "outputs": [],
   "source": [
    "with open(file, mode) as f:\n",
    "    text = f.read()"
   ]
  },
  {
   "cell_type": "code",
   "execution_count": 299,
   "id": "71b6005d",
   "metadata": {},
   "outputs": [],
   "source": [
    "with open(file, mode) as f:\n",
    "    lista_linii = f.readlines()"
   ]
  },
  {
   "cell_type": "markdown",
   "id": "2feaf8cb",
   "metadata": {},
   "source": [
    "### 2. Zapisz tekst do pliku - `f.write(txt)` / `f.writelines(lista)`"
   ]
  },
  {
   "cell_type": "code",
   "execution_count": 301,
   "id": "1a3003c8",
   "metadata": {},
   "outputs": [],
   "source": [
    "plik = 'plik_tekstowy2.txt'\n",
    "mode = 'w+'"
   ]
  },
  {
   "cell_type": "markdown",
   "id": "810192c7",
   "metadata": {},
   "source": [
    "#### Zapisz do pliku string:"
   ]
  },
  {
   "cell_type": "code",
   "execution_count": 302,
   "id": "0eb7e6ee",
   "metadata": {},
   "outputs": [],
   "source": [
    "string = 'abc'\n",
    "\n",
    "with open(plik, mode) as f:\n",
    "    f.write(string)"
   ]
  },
  {
   "cell_type": "markdown",
   "id": "b173861d",
   "metadata": {},
   "source": [
    "#### Zapisz do pliku listę stringów:"
   ]
  },
  {
   "cell_type": "code",
   "execution_count": 303,
   "id": "adc22a49",
   "metadata": {},
   "outputs": [],
   "source": [
    "lista_stringow = [\n",
    "    'abc1',\n",
    "    'abc2',\n",
    "    'abc3',\n",
    "]\n",
    "\n",
    "with open(plik, mode) as f:\n",
    "    f.writelines(lista_stringow)"
   ]
  },
  {
   "cell_type": "markdown",
   "id": "a05ed21c",
   "metadata": {},
   "source": [
    "### konstrukcja `with`\n",
    "\n",
    "#### Główne wartości występujące jako `mode`.  Mode otwiera plik w celu :\n",
    "1. **r** - read - wczytanie tekstu.\n",
    "2. **r+** - read / write - wczytanie tekstu i zapisywanie tekstu do pliku.\n",
    "3. **w** - write - pisanie / tworzenie pliku - stwórz nowy plik i zapisz tam tekst.\n",
    "4. **w+** - jak wyżej, ale do tego jeszcze read - czytanie treści pliku.\n",
    "5. **a** - otwiera tekst aby w nim coś zapisać. Twoży plik, jeżeli ten nie istnieje. Dopisuje tekst na końcu pliku.\n",
    "6. **a+** - j/w ale jeszcze wczytuje tekst.\n",
    "\n",
    "Możesz poćwiczyć poniżej:"
   ]
  },
  {
   "cell_type": "code",
   "execution_count": null,
   "id": "5c3f5782",
   "metadata": {},
   "outputs": [],
   "source": []
  },
  {
   "cell_type": "code",
   "execution_count": null,
   "id": "97f8508a",
   "metadata": {},
   "outputs": [],
   "source": []
  },
  {
   "cell_type": "markdown",
   "id": "cfec1fca",
   "metadata": {},
   "source": [
    "### 2. Pliki CSV"
   ]
  },
  {
   "cell_type": "markdown",
   "id": "13497bfa",
   "metadata": {},
   "source": [
    "Biblioteka [pandas](https://pandas.pydata.org/)\n",
    "\n",
    "Biblioteka pandas jest geniala i pomówimy o niej więcej w przyszłości w dedykowanym temu miejscu. Do tej pory jednak, jeżeli trafisz na dane w formie tabeli, pamiętaj aby sięgnąć tutaj.\n",
    "\n",
    "\n",
    "\n",
    "W skrócie:"
   ]
  },
  {
   "cell_type": "markdown",
   "id": "800f817f",
   "metadata": {},
   "source": [
    "#### 1. Otwieranie plików i przypisywanie ich wartości do zmiennej jako `DataFrame`"
   ]
  },
  {
   "cell_type": "code",
   "execution_count": 304,
   "id": "83fb326f",
   "metadata": {},
   "outputs": [
    {
     "data": {
      "text/html": [
       "<div>\n",
       "<style scoped>\n",
       "    .dataframe tbody tr th:only-of-type {\n",
       "        vertical-align: middle;\n",
       "    }\n",
       "\n",
       "    .dataframe tbody tr th {\n",
       "        vertical-align: top;\n",
       "    }\n",
       "\n",
       "    .dataframe thead th {\n",
       "        text-align: right;\n",
       "    }\n",
       "</style>\n",
       "<table border=\"1\" class=\"dataframe\">\n",
       "  <thead>\n",
       "    <tr style=\"text-align: right;\">\n",
       "      <th></th>\n",
       "      <th>name</th>\n",
       "      <th>win</th>\n",
       "      <th>loss</th>\n",
       "      <th>nc</th>\n",
       "      <th>draw</th>\n",
       "      <th>Height</th>\n",
       "      <th>Weight</th>\n",
       "      <th>Reach</th>\n",
       "      <th>STANCE</th>\n",
       "      <th>DOB</th>\n",
       "      <th>SLpM</th>\n",
       "      <th>Str.Acc.</th>\n",
       "      <th>SApM</th>\n",
       "      <th>Str.Def</th>\n",
       "      <th>TDAvg.</th>\n",
       "      <th>TDAcc.</th>\n",
       "      <th>TDDef.</th>\n",
       "      <th>Sub.Avg.</th>\n",
       "    </tr>\n",
       "  </thead>\n",
       "  <tbody>\n",
       "    <tr>\n",
       "      <th>0</th>\n",
       "      <td>Uriah Hall</td>\n",
       "      <td>8</td>\n",
       "      <td>7</td>\n",
       "      <td>0</td>\n",
       "      <td>0</td>\n",
       "      <td>6'0\"</td>\n",
       "      <td>185lbs.</td>\n",
       "      <td>79\"</td>\n",
       "      <td>Orthodox</td>\n",
       "      <td>Jul31,1984</td>\n",
       "      <td>3.31</td>\n",
       "      <td>50%</td>\n",
       "      <td>3.57</td>\n",
       "      <td>53%</td>\n",
       "      <td>0.75</td>\n",
       "      <td>38%</td>\n",
       "      <td>69%</td>\n",
       "      <td>0.2</td>\n",
       "    </tr>\n",
       "    <tr>\n",
       "      <th>1</th>\n",
       "      <td>Anderson Silva</td>\n",
       "      <td>31</td>\n",
       "      <td>10</td>\n",
       "      <td>1</td>\n",
       "      <td>0</td>\n",
       "      <td>6'2\"</td>\n",
       "      <td>185lbs.</td>\n",
       "      <td>77\"</td>\n",
       "      <td>Southpaw</td>\n",
       "      <td>Apr14,1975</td>\n",
       "      <td>3.04</td>\n",
       "      <td>62%</td>\n",
       "      <td>1.98</td>\n",
       "      <td>61%</td>\n",
       "      <td>0.52</td>\n",
       "      <td>77%</td>\n",
       "      <td>69%</td>\n",
       "      <td>0.8</td>\n",
       "    </tr>\n",
       "  </tbody>\n",
       "</table>\n",
       "</div>"
      ],
      "text/plain": [
       "             name  win  loss  nc  draw Height   Weight Reach    STANCE  \\\n",
       "0      Uriah Hall    8     7   0     0   6'0\"  185lbs.   79\"  Orthodox   \n",
       "1  Anderson Silva   31    10   1     0   6'2\"  185lbs.   77\"  Southpaw   \n",
       "\n",
       "          DOB  SLpM Str.Acc.  SApM Str.Def  TDAvg. TDAcc. TDDef.  Sub.Avg.  \n",
       "0  Jul31,1984  3.31      50%  3.57     53%    0.75    38%    69%       0.2  \n",
       "1  Apr14,1975  3.04      62%  1.98     61%    0.52    77%    69%       0.8  "
      ]
     },
     "execution_count": 304,
     "metadata": {},
     "output_type": "execute_result"
    }
   ],
   "source": [
    "import pandas as pd\n",
    "\n",
    "df = pd.read_csv('plik.csv')\n",
    "\n",
    "df.head(2)"
   ]
  },
  {
   "cell_type": "markdown",
   "id": "54d74c63",
   "metadata": {},
   "source": [
    "#### 2. Praca z danymi w jednym `DataFrame` i zapisanie efektu jako nowy `DataFrame`\n",
    "\n",
    "Stwórzmy nową tabelę która zawiera jedynie kolumny `name` i `win` (funkcja `head(1)` wyświetli tyle rzędów tabeli ile wpiszesz w nawiasy)."
   ]
  },
  {
   "cell_type": "code",
   "execution_count": 305,
   "id": "950c2df6",
   "metadata": {},
   "outputs": [
    {
     "data": {
      "text/html": [
       "<div>\n",
       "<style scoped>\n",
       "    .dataframe tbody tr th:only-of-type {\n",
       "        vertical-align: middle;\n",
       "    }\n",
       "\n",
       "    .dataframe tbody tr th {\n",
       "        vertical-align: top;\n",
       "    }\n",
       "\n",
       "    .dataframe thead th {\n",
       "        text-align: right;\n",
       "    }\n",
       "</style>\n",
       "<table border=\"1\" class=\"dataframe\">\n",
       "  <thead>\n",
       "    <tr style=\"text-align: right;\">\n",
       "      <th></th>\n",
       "      <th>name</th>\n",
       "      <th>win</th>\n",
       "    </tr>\n",
       "  </thead>\n",
       "  <tbody>\n",
       "    <tr>\n",
       "      <th>0</th>\n",
       "      <td>Uriah Hall</td>\n",
       "      <td>8</td>\n",
       "    </tr>\n",
       "    <tr>\n",
       "      <th>1</th>\n",
       "      <td>Anderson Silva</td>\n",
       "      <td>31</td>\n",
       "    </tr>\n",
       "  </tbody>\n",
       "</table>\n",
       "</div>"
      ],
      "text/plain": [
       "             name  win\n",
       "0      Uriah Hall    8\n",
       "1  Anderson Silva   31"
      ]
     },
     "execution_count": 305,
     "metadata": {},
     "output_type": "execute_result"
    }
   ],
   "source": [
    "df2 = df.loc[:, ['name', 'win']] \n",
    "\n",
    "df2.head(2)"
   ]
  },
  {
   "cell_type": "markdown",
   "id": "cd6bbec4",
   "metadata": {},
   "source": [
    "#### 3. Zapisz `DataFrame` do `nazwa_pliku.csv`"
   ]
  },
  {
   "cell_type": "code",
   "execution_count": 306,
   "id": "dcd6039b",
   "metadata": {},
   "outputs": [],
   "source": [
    "df2.to_csv('nazwa_pliku.csv', index=False)"
   ]
  },
  {
   "cell_type": "markdown",
   "id": "52e11312",
   "metadata": {},
   "source": [
    "W przyszłości omówimy bibliotekę pandas szerzej. Jest genialna."
   ]
  },
  {
   "cell_type": "markdown",
   "id": "a459ca09",
   "metadata": {},
   "source": [
    "#### 4. Praca z danymi w formie tabularnej - biblioteka `pandas`\n",
    "\n",
    "#### Np. pokaż zawodników którzy mają powyżej 25 wygranych\n",
    "\n",
    "O tym pomówimy więcej przy okazji biblioteki pandas :) jednak jak chcesz, poczytaj o niej już teraz, jest świetna."
   ]
  },
  {
   "cell_type": "code",
   "execution_count": 31,
   "id": "7fd169bf",
   "metadata": {},
   "outputs": [
    {
     "data": {
      "text/html": [
       "<div>\n",
       "<style scoped>\n",
       "    .dataframe tbody tr th:only-of-type {\n",
       "        vertical-align: middle;\n",
       "    }\n",
       "\n",
       "    .dataframe tbody tr th {\n",
       "        vertical-align: top;\n",
       "    }\n",
       "\n",
       "    .dataframe thead th {\n",
       "        text-align: right;\n",
       "    }\n",
       "</style>\n",
       "<table border=\"1\" class=\"dataframe\">\n",
       "  <thead>\n",
       "    <tr style=\"text-align: right;\">\n",
       "      <th></th>\n",
       "      <th>name</th>\n",
       "      <th>win</th>\n",
       "      <th>loss</th>\n",
       "      <th>nc</th>\n",
       "      <th>draw</th>\n",
       "      <th>Height</th>\n",
       "      <th>Weight</th>\n",
       "      <th>Reach</th>\n",
       "      <th>STANCE</th>\n",
       "      <th>DOB</th>\n",
       "      <th>SLpM</th>\n",
       "      <th>Str.Acc.</th>\n",
       "      <th>SApM</th>\n",
       "      <th>Str.Def</th>\n",
       "      <th>TDAvg.</th>\n",
       "      <th>TDAcc.</th>\n",
       "      <th>TDDef.</th>\n",
       "      <th>Sub.Avg.</th>\n",
       "    </tr>\n",
       "  </thead>\n",
       "  <tbody>\n",
       "    <tr>\n",
       "      <th>0</th>\n",
       "      <td>Uriah Hall</td>\n",
       "      <td>8</td>\n",
       "      <td>7</td>\n",
       "      <td>0</td>\n",
       "      <td>0</td>\n",
       "      <td>6'0\"</td>\n",
       "      <td>185lbs.</td>\n",
       "      <td>79\"</td>\n",
       "      <td>Orthodox</td>\n",
       "      <td>Jul31,1984</td>\n",
       "      <td>3.31</td>\n",
       "      <td>50%</td>\n",
       "      <td>3.57</td>\n",
       "      <td>53%</td>\n",
       "      <td>0.75</td>\n",
       "      <td>38%</td>\n",
       "      <td>69%</td>\n",
       "      <td>0.2</td>\n",
       "    </tr>\n",
       "    <tr>\n",
       "      <th>1</th>\n",
       "      <td>Anderson Silva</td>\n",
       "      <td>31</td>\n",
       "      <td>10</td>\n",
       "      <td>1</td>\n",
       "      <td>0</td>\n",
       "      <td>6'2\"</td>\n",
       "      <td>185lbs.</td>\n",
       "      <td>77\"</td>\n",
       "      <td>Southpaw</td>\n",
       "      <td>Apr14,1975</td>\n",
       "      <td>3.04</td>\n",
       "      <td>62%</td>\n",
       "      <td>1.98</td>\n",
       "      <td>61%</td>\n",
       "      <td>0.52</td>\n",
       "      <td>77%</td>\n",
       "      <td>69%</td>\n",
       "      <td>0.8</td>\n",
       "    </tr>\n",
       "  </tbody>\n",
       "</table>\n",
       "</div>"
      ],
      "text/plain": [
       "             name  win  loss  nc  draw Height   Weight Reach    STANCE  \\\n",
       "0      Uriah Hall    8     7   0     0   6'0\"  185lbs.   79\"  Orthodox   \n",
       "1  Anderson Silva   31    10   1     0   6'2\"  185lbs.   77\"  Southpaw   \n",
       "\n",
       "          DOB  SLpM Str.Acc.  SApM Str.Def  TDAvg. TDAcc. TDDef.  Sub.Avg.  \n",
       "0  Jul31,1984  3.31      50%  3.57     53%    0.75    38%    69%       0.2  \n",
       "1  Apr14,1975  3.04      62%  1.98     61%    0.52    77%    69%       0.8  "
      ]
     },
     "execution_count": 31,
     "metadata": {},
     "output_type": "execute_result"
    }
   ],
   "source": [
    "import pandas as pd\n",
    "\n",
    "csv_file = 'plik.csv'\n",
    "\n",
    "df = pd.read_csv(csv_file)\n",
    "\n",
    "pokaz_n_rzedow = 2\n",
    "df.head(pokaz_n_rzedow)"
   ]
  },
  {
   "cell_type": "markdown",
   "id": "6fd52e1a",
   "metadata": {},
   "source": [
    "#### Sortowanie wartości - od największej liczby wygranej do najmniejszej."
   ]
  },
  {
   "cell_type": "code",
   "execution_count": 66,
   "id": "f0174efd",
   "metadata": {},
   "outputs": [
    {
     "data": {
      "text/html": [
       "<div>\n",
       "<style scoped>\n",
       "    .dataframe tbody tr th:only-of-type {\n",
       "        vertical-align: middle;\n",
       "    }\n",
       "\n",
       "    .dataframe tbody tr th {\n",
       "        vertical-align: top;\n",
       "    }\n",
       "\n",
       "    .dataframe thead th {\n",
       "        text-align: right;\n",
       "    }\n",
       "</style>\n",
       "<table border=\"1\" class=\"dataframe\">\n",
       "  <thead>\n",
       "    <tr style=\"text-align: right;\">\n",
       "      <th></th>\n",
       "      <th>name</th>\n",
       "      <th>win</th>\n",
       "      <th>loss</th>\n",
       "      <th>nc</th>\n",
       "      <th>draw</th>\n",
       "      <th>Height</th>\n",
       "      <th>Weight</th>\n",
       "      <th>Reach</th>\n",
       "      <th>STANCE</th>\n",
       "      <th>DOB</th>\n",
       "      <th>SLpM</th>\n",
       "      <th>Str.Acc.</th>\n",
       "      <th>SApM</th>\n",
       "      <th>Str.Def</th>\n",
       "      <th>TDAvg.</th>\n",
       "      <th>TDAcc.</th>\n",
       "      <th>TDDef.</th>\n",
       "      <th>Sub.Avg.</th>\n",
       "    </tr>\n",
       "  </thead>\n",
       "  <tbody>\n",
       "    <tr>\n",
       "      <th>188</th>\n",
       "      <td>Alistair Overeem</td>\n",
       "      <td>33</td>\n",
       "      <td>15</td>\n",
       "      <td>1</td>\n",
       "      <td>0</td>\n",
       "      <td>6'4\"</td>\n",
       "      <td>265lbs.</td>\n",
       "      <td>80\"</td>\n",
       "      <td>Orthodox</td>\n",
       "      <td>May17,1980</td>\n",
       "      <td>3.71</td>\n",
       "      <td>64%</td>\n",
       "      <td>2.33</td>\n",
       "      <td>58%</td>\n",
       "      <td>1.44</td>\n",
       "      <td>56%</td>\n",
       "      <td>73%</td>\n",
       "      <td>0.8</td>\n",
       "    </tr>\n",
       "    <tr>\n",
       "      <th>1</th>\n",
       "      <td>Anderson Silva</td>\n",
       "      <td>31</td>\n",
       "      <td>10</td>\n",
       "      <td>1</td>\n",
       "      <td>0</td>\n",
       "      <td>6'2\"</td>\n",
       "      <td>185lbs.</td>\n",
       "      <td>77\"</td>\n",
       "      <td>Southpaw</td>\n",
       "      <td>Apr14,1975</td>\n",
       "      <td>3.04</td>\n",
       "      <td>62%</td>\n",
       "      <td>1.98</td>\n",
       "      <td>61%</td>\n",
       "      <td>0.52</td>\n",
       "      <td>77%</td>\n",
       "      <td>69%</td>\n",
       "      <td>0.8</td>\n",
       "    </tr>\n",
       "  </tbody>\n",
       "</table>\n",
       "</div>"
      ],
      "text/plain": [
       "                 name  win  loss  nc  draw Height   Weight Reach    STANCE  \\\n",
       "188  Alistair Overeem   33    15   1     0   6'4\"  265lbs.   80\"  Orthodox   \n",
       "1      Anderson Silva   31    10   1     0   6'2\"  185lbs.   77\"  Southpaw   \n",
       "\n",
       "            DOB  SLpM Str.Acc.  SApM Str.Def  TDAvg. TDAcc. TDDef.  Sub.Avg.  \n",
       "188  May17,1980  3.71      64%  2.33     58%    1.44    56%    73%       0.8  \n",
       "1    Apr14,1975  3.04      62%  1.98     61%    0.52    77%    69%       0.8  "
      ]
     },
     "execution_count": 66,
     "metadata": {},
     "output_type": "execute_result"
    }
   ],
   "source": [
    "df.sort_values(by='win', inplace=True, ascending=False)\n",
    "df.head(pokaz_n_rzedow)"
   ]
  },
  {
   "cell_type": "markdown",
   "id": "ec6a29b1",
   "metadata": {},
   "source": [
    "#### Wyświetl jedynie te rzędy które mają w kolumnie wygrana wartość powyżej 25.\n"
   ]
  },
  {
   "cell_type": "code",
   "execution_count": 67,
   "id": "97853311",
   "metadata": {},
   "outputs": [
    {
     "name": "stdout",
     "output_type": "stream",
     "text": [
      "33 Alistair Overeem\n",
      "31 Anderson Silva\n",
      "29 Gegard Mousasi\n",
      "29 Donald Cerrone\n",
      "28 Mirko Filipovic\n",
      "27 Dan Henderson\n",
      "27 Wanderlei Silva\n",
      "27 Mauricio Rua\n",
      "26 Georges St-Pierre\n",
      "26 Kazushi Sakuraba\n"
     ]
    }
   ],
   "source": [
    "for i, row in df.iterrows():\n",
    "    if row['win'] > 25:\n",
    "        print('{} {}'.format(row['win'], row['name']))"
   ]
  },
  {
   "cell_type": "markdown",
   "id": "2c7a5c18",
   "metadata": {},
   "source": [
    "## Level 2:\n",
    "\n",
    "1. Format JSON\n",
    "    1. Otwórz plik JSON jako słownik\n",
    "    2. Pracuj z danymi, modyfikuj zawartość słownika lub np. dodaj nowe wartości\n",
    "    3. Zapisz słownik spowrotem jako plik JSON\n",
    "    4. Zamień słownik dict w JSON string str\n",
    "    5. Rzadsze: Zamień JSON string str w słownik dict - slownik = json.loads(\"{'a':1}\")\n",
    "    6. JSON w pracy z usługami internetowymi we Flask\n",
    "    7. JSON w pracy z połączeniami z biblioteką requests\n",
    "2. Format Excel\n",
    "3. Format HTML\n",
    "4. Inne formaty"
   ]
  },
  {
   "cell_type": "markdown",
   "id": "2f4ad068",
   "metadata": {},
   "source": [
    "## 1. JSON\n",
    "\n",
    "1. Otwórz plik JSON jako słownik    \n",
    "2. Pracuj z danymi, modyfikuj zawartość słownika lub np. dodaj nowe wartości\n",
    "3. Zapisz słownik spowrotem jako plik JSON\n",
    "4. Zamień słownik `dict` w JSON string `str`\n",
    "5. Rzadsze: Zamień JSON string `str` w słownik `dict` - `slownik = json.loads(\"{'a':1}\")`\n",
    "6. JSON w pracy z usługami internetowymi we `Flask`\n",
    "7. JSON w pracy z połączeniami z biblioteką requests\n",
    "\n",
    "\n",
    "Do tego rozdziału wróć później gdy opanujesz już słowniki `dict()` w kolejnym klocku.\n",
    "\n",
    "Załaduj dane z pliku / formatu json do zmiennej."
   ]
  },
  {
   "cell_type": "markdown",
   "id": "4c99f385",
   "metadata": {},
   "source": [
    "Biblioteka [json](https://docs.python.org/3/library/json.html)"
   ]
  },
  {
   "cell_type": "markdown",
   "id": "ed77990f",
   "metadata": {},
   "source": [
    "#### 3 główne rzeczy które potrzebujesz umieć robić z plikami JSON"
   ]
  },
  {
   "cell_type": "code",
   "execution_count": 188,
   "id": "0c494aac",
   "metadata": {},
   "outputs": [
    {
     "name": "stdout",
     "output_type": "stream",
     "text": [
      "{'age': 30, 'city': 'New York', 'name': 'm'}\n"
     ]
    }
   ],
   "source": [
    "import json\n",
    "\n",
    "json_file = 'plik.json'\n",
    "plik_json = 'plik_slownik.json'\n",
    "\n",
    "# 1. Otwórz plik JSON i zapisz dane wewnątrz progrmu jako słownik data.\n",
    "with open(plik_json, 'r') as file:\n",
    "    data = json.load(file)\n",
    "\n",
    "# 2. Modyfikuj słownik data - np zmienną name\n",
    "data['name'] = 'm'\n",
    "\n",
    "# 3. Zapisz zmodyfikowany słownik data spowrotem do pliku JSON\n",
    "with open(plik_json, 'w') as file:\n",
    "    json.dump(data, file)\n",
    "\n",
    "# I otwórz plik ponownie aby wyświetlić zapisane w pliku dane po modyfikacji:\n",
    "with open(plik_json, 'r') as file:\n",
    "    data = json.load(file)\n",
    "    print(data)"
   ]
  },
  {
   "cell_type": "markdown",
   "id": "6b07bf44",
   "metadata": {},
   "source": [
    "### 1. Otwórz plik JSON jako słownik"
   ]
  },
  {
   "cell_type": "code",
   "execution_count": 207,
   "id": "16687a95",
   "metadata": {},
   "outputs": [],
   "source": [
    "with open('json_data.json', 'r') as f:\n",
    "    data = json.load(f)"
   ]
  },
  {
   "cell_type": "markdown",
   "id": "7183bb90",
   "metadata": {},
   "source": [
    "### 2. Pracuj z danymi, modyfikuj zawartość słownika lub np. dodaj nowe wartości\n"
   ]
  },
  {
   "cell_type": "code",
   "execution_count": 208,
   "id": "b0650694",
   "metadata": {},
   "outputs": [],
   "source": [
    "data['x'] = 3"
   ]
  },
  {
   "cell_type": "markdown",
   "id": "d1173ec0",
   "metadata": {},
   "source": [
    "### 3. Zapisz słownik spowrotem jako plik JSON"
   ]
  },
  {
   "cell_type": "code",
   "execution_count": 209,
   "id": "4389e1d3",
   "metadata": {},
   "outputs": [],
   "source": [
    "with open('json_data.json', 'w') as fp:\n",
    "    json.dump(data, fp, sort_keys=True, indent=4)"
   ]
  },
  {
   "cell_type": "markdown",
   "id": "5531b7ac",
   "metadata": {},
   "source": [
    "#### Zamień słownik `dict()` w ładniej i czytelniej ułożony string `str()` - `json.dumps(data, indent = 4)`"
   ]
  },
  {
   "cell_type": "code",
   "execution_count": 210,
   "id": "da277d9d",
   "metadata": {},
   "outputs": [
    {
     "name": "stdout",
     "output_type": "stream",
     "text": [
      "{\n",
      "    \"age\": 30,\n",
      "    \"city\": \"New York\",\n",
      "    \"name\": \"John\",\n",
      "    \"x\": 3\n",
      "}\n"
     ]
    }
   ],
   "source": [
    "ladny_string = json.dumps(data, indent = 4, sort_keys=True)\n",
    "print(ladny_string)"
   ]
  },
  {
   "cell_type": "code",
   "execution_count": 250,
   "id": "1b745bf9",
   "metadata": {},
   "outputs": [],
   "source": [
    "with open('json_data.json', 'w') as outfile:\n",
    "    outfile.write(ladny_string)"
   ]
  },
  {
   "cell_type": "markdown",
   "id": "3b29d046",
   "metadata": {},
   "source": [
    "### 4. Zamień słownik `dict` w JSON string `str`"
   ]
  },
  {
   "cell_type": "code",
   "execution_count": 257,
   "id": "2100bf52",
   "metadata": {},
   "outputs": [
    {
     "name": "stdout",
     "output_type": "stream",
     "text": [
      "dict  : {'name': 'John', 'age': 30} <class 'dict'>\n",
      "string: {\"name\": \"John\", \"age\": 30} <class 'str'>\n"
     ]
    }
   ],
   "source": [
    "slownik = {\"name\": \"John\", \"age\": 30}\n",
    "string = json.dumps(slownik)\n",
    "\n",
    "print('dict  :', slownik, type(slownik))\n",
    "print('string:', string, type(string))"
   ]
  },
  {
   "cell_type": "markdown",
   "id": "70bc373d",
   "metadata": {},
   "source": [
    "#### Zapisz słownik (`dict()`) do `plik_string.json`"
   ]
  },
  {
   "cell_type": "code",
   "execution_count": 258,
   "id": "a7a62768",
   "metadata": {},
   "outputs": [],
   "source": [
    "with open('plik_slownik.json', \"w\") as JSON:\n",
    "    json.dump(slownik, JSON, sort_keys=True, indent=4)"
   ]
  },
  {
   "cell_type": "markdown",
   "id": "906606f1",
   "metadata": {},
   "source": [
    "#### PS: `json.dumps(cokolwiek)` - To też zamiana czegokolwiek w JSONową reprezentację stringową"
   ]
  },
  {
   "cell_type": "code",
   "execution_count": 249,
   "id": "c59a8c9d",
   "metadata": {},
   "outputs": [
    {
     "data": {
      "text/plain": [
       "'\"cokolwiek\"'"
      ]
     },
     "execution_count": 249,
     "metadata": {},
     "output_type": "execute_result"
    }
   ],
   "source": [
    "dane = \"cokolwiek\"\n",
    "json.dumps(dane)"
   ]
  },
  {
   "cell_type": "markdown",
   "id": "1194a1ca",
   "metadata": {},
   "source": [
    "### 5. Rzadsze: Zamień JSON string `str` w słownik `dict` - `slownik = json.loads(\"{'a':1}\")`\n",
    "\n",
    "To JSON string. Pamiętaj, że taka opcja istnieje :)"
   ]
  },
  {
   "cell_type": "code",
   "execution_count": 253,
   "id": "32d7dd2b",
   "metadata": {},
   "outputs": [
    {
     "name": "stdout",
     "output_type": "stream",
     "text": [
      "string: { \"name\":\"John\", \"age\":30, \"city\":\"New York\"} <class 'str'>\n",
      "dict  : {'name': 'John', 'age': 30, 'city': 'New York'} <class 'dict'>\n"
     ]
    }
   ],
   "source": [
    "string = '{ \"name\":\"John\", \"age\":30, \"city\":\"New York\"}'\n",
    "slownik = json.loads(string)\n",
    "\n",
    "print('string:', string, type(string))\n",
    "print('dict  :', slownik, type(slownik))"
   ]
  },
  {
   "cell_type": "markdown",
   "id": "d9524a41",
   "metadata": {},
   "source": [
    "#### Zapisz string w formacie JSON do `plik_string.json`"
   ]
  },
  {
   "cell_type": "code",
   "execution_count": 254,
   "id": "68aae463",
   "metadata": {},
   "outputs": [],
   "source": [
    "with open('plik_string.json', \"w\") as JSON:\n",
    "    JSON.write(string)"
   ]
  },
  {
   "cell_type": "markdown",
   "id": "6fc533d3",
   "metadata": {},
   "source": [
    "#### Nie ważne, czy zapisałeś jako JSON dane ze stringa czy słownika, wczytasz je do programu w ten sam sposób."
   ]
  },
  {
   "cell_type": "code",
   "execution_count": 193,
   "id": "ad26b4c6",
   "metadata": {},
   "outputs": [
    {
     "data": {
      "text/plain": [
       "{'age': 30, 'city': 'New York', 'name': 'm'}"
      ]
     },
     "execution_count": 193,
     "metadata": {},
     "output_type": "execute_result"
    }
   ],
   "source": [
    "nazwa_pliku = 'plik_slownik.json'\n",
    "with open(nazwa_pliku, 'r') as f:\n",
    "    data = json.load(f)\n",
    "    \n",
    "data"
   ]
  },
  {
   "cell_type": "markdown",
   "id": "fde16890",
   "metadata": {},
   "source": [
    "Zajrzyj do klocka poświęconego zagadnieniom słowników (`dict()`)."
   ]
  },
  {
   "cell_type": "markdown",
   "id": "2c91569c",
   "metadata": {},
   "source": [
    "### 6. JSON w pracy z usługami internetowymi we `Flask`"
   ]
  },
  {
   "cell_type": "markdown",
   "id": "5dda827d",
   "metadata": {},
   "source": [
    "#### 1. `jsonify()`"
   ]
  },
  {
   "cell_type": "code",
   "execution_count": 198,
   "id": "3662ff0d",
   "metadata": {},
   "outputs": [],
   "source": [
    "# from flask import Flask, jsonify\n",
    "\n",
    "# data = {'sender': 'Alice', 'receiver': 'Bob', 'message': 'We did it!'}\n",
    "# jsonify(data)"
   ]
  },
  {
   "cell_type": "markdown",
   "id": "be3e0893",
   "metadata": {},
   "source": [
    "#### 2. `request.get_json()` / `request.json`"
   ]
  },
  {
   "cell_type": "code",
   "execution_count": 219,
   "id": "bccb0d8d",
   "metadata": {},
   "outputs": [],
   "source": [
    "# from flask import Flask, request\n",
    "\n",
    "# data = request.json\n",
    "# data = request.get_json()"
   ]
  },
  {
   "cell_type": "markdown",
   "id": "410e7226",
   "metadata": {},
   "source": [
    "### 7. JSON w pracy z połączeniami z biblioteką `requests`"
   ]
  },
  {
   "cell_type": "markdown",
   "id": "553f2786",
   "metadata": {},
   "source": [
    "#### 1. Metoda `GET` - `requests.get(url).json()`"
   ]
  },
  {
   "cell_type": "code",
   "execution_count": 218,
   "id": "3e601b67",
   "metadata": {},
   "outputs": [
    {
     "data": {
      "text/plain": [
       "{'current_user_url': 'https://api.github.com/user',\n",
       " 'current_user_authorizations_html_url': 'https://github.com/settings/connections/applications{/client_id}',\n",
       " 'authorizations_url': 'https://api.github.com/authorizations',\n",
       " 'code_search_url': 'https://api.github.com/search/code?q={query}{&page,per_page,sort,order}',\n",
       " 'commit_search_url': 'https://api.github.com/search/commits?q={query}{&page,per_page,sort,order}',\n",
       " 'emails_url': 'https://api.github.com/user/emails',\n",
       " 'emojis_url': 'https://api.github.com/emojis',\n",
       " 'events_url': 'https://api.github.com/events',\n",
       " 'feeds_url': 'https://api.github.com/feeds',\n",
       " 'followers_url': 'https://api.github.com/user/followers',\n",
       " 'following_url': 'https://api.github.com/user/following{/target}',\n",
       " 'gists_url': 'https://api.github.com/gists{/gist_id}',\n",
       " 'hub_url': 'https://api.github.com/hub',\n",
       " 'issue_search_url': 'https://api.github.com/search/issues?q={query}{&page,per_page,sort,order}',\n",
       " 'issues_url': 'https://api.github.com/issues',\n",
       " 'keys_url': 'https://api.github.com/user/keys',\n",
       " 'label_search_url': 'https://api.github.com/search/labels?q={query}&repository_id={repository_id}{&page,per_page}',\n",
       " 'notifications_url': 'https://api.github.com/notifications',\n",
       " 'organization_url': 'https://api.github.com/orgs/{org}',\n",
       " 'organization_repositories_url': 'https://api.github.com/orgs/{org}/repos{?type,page,per_page,sort}',\n",
       " 'organization_teams_url': 'https://api.github.com/orgs/{org}/teams',\n",
       " 'public_gists_url': 'https://api.github.com/gists/public',\n",
       " 'rate_limit_url': 'https://api.github.com/rate_limit',\n",
       " 'repository_url': 'https://api.github.com/repos/{owner}/{repo}',\n",
       " 'repository_search_url': 'https://api.github.com/search/repositories?q={query}{&page,per_page,sort,order}',\n",
       " 'current_user_repositories_url': 'https://api.github.com/user/repos{?type,page,per_page,sort}',\n",
       " 'starred_url': 'https://api.github.com/user/starred{/owner}{/repo}',\n",
       " 'starred_gists_url': 'https://api.github.com/gists/starred',\n",
       " 'topic_search_url': 'https://api.github.com/search/topics?q={query}{&page,per_page}',\n",
       " 'user_url': 'https://api.github.com/users/{user}',\n",
       " 'user_organizations_url': 'https://api.github.com/user/orgs',\n",
       " 'user_repositories_url': 'https://api.github.com/users/{user}/repos{?type,page,per_page,sort}',\n",
       " 'user_search_url': 'https://api.github.com/search/users?q={query}{&page,per_page,sort,order}'}"
      ]
     },
     "execution_count": 218,
     "metadata": {},
     "output_type": "execute_result"
    }
   ],
   "source": [
    "import requests\n",
    "\n",
    "url = 'https://api.github.com'\n",
    "response = requests.get(url)\n",
    "response.json()"
   ]
  },
  {
   "cell_type": "markdown",
   "id": "49274d48",
   "metadata": {},
   "source": [
    "#### 2. Metoda `POST` - `requests.post(url ,data, headers)`"
   ]
  },
  {
   "cell_type": "code",
   "execution_count": 213,
   "id": "77ad06a5",
   "metadata": {},
   "outputs": [],
   "source": [
    "import requests\n",
    "\n",
    "url = 'https://api.github.com'\n",
    "data = {'sender': 'Alice', 'receiver': 'Bob', 'message': 'We did it!'}\n",
    "headers = {'Content-type': 'application/json', 'Accept': 'text/plain'}\n",
    "\n",
    "r = requests.post(url, data=json.dumps(data), headers=headers)"
   ]
  },
  {
   "cell_type": "markdown",
   "id": "a96100a8",
   "metadata": {},
   "source": [
    "## 2. Format HTML"
   ]
  },
  {
   "cell_type": "code",
   "execution_count": null,
   "id": "61eda6c3",
   "metadata": {},
   "outputs": [],
   "source": []
  },
  {
   "cell_type": "markdown",
   "id": "182036e0",
   "metadata": {},
   "source": [
    "## 3. Format Excel"
   ]
  },
  {
   "cell_type": "code",
   "execution_count": null,
   "id": "67860b65",
   "metadata": {},
   "outputs": [],
   "source": []
  },
  {
   "cell_type": "markdown",
   "id": "c61252ae",
   "metadata": {},
   "source": [
    "## 4. Inne formaty"
   ]
  },
  {
   "cell_type": "code",
   "execution_count": null,
   "id": "7efe30a9",
   "metadata": {},
   "outputs": [],
   "source": []
  },
  {
   "cell_type": "markdown",
   "id": "f9f57b16",
   "metadata": {},
   "source": [
    "## Level 3:\n",
    "1. PDF\n",
    "2. Inne"
   ]
  },
  {
   "cell_type": "markdown",
   "id": "91934d64",
   "metadata": {},
   "source": [
    "### X. PDF"
   ]
  },
  {
   "cell_type": "code",
   "execution_count": null,
   "id": "4444ead9",
   "metadata": {},
   "outputs": [],
   "source": []
  },
  {
   "cell_type": "markdown",
   "id": "d7e89ef5",
   "metadata": {},
   "source": [
    "### X. H5"
   ]
  },
  {
   "cell_type": "code",
   "execution_count": null,
   "id": "26a6da33",
   "metadata": {},
   "outputs": [],
   "source": []
  },
  {
   "cell_type": "markdown",
   "id": "49e960c5",
   "metadata": {},
   "source": [
    "### X. Inne"
   ]
  },
  {
   "cell_type": "code",
   "execution_count": null,
   "id": "7d832b6b",
   "metadata": {},
   "outputs": [],
   "source": []
  }
 ],
 "metadata": {
  "kernelspec": {
   "display_name": "Python 3 (ipykernel)",
   "language": "python",
   "name": "python3"
  },
  "language_info": {
   "codemirror_mode": {
    "name": "ipython",
    "version": 3
   },
   "file_extension": ".py",
   "mimetype": "text/x-python",
   "name": "python",
   "nbconvert_exporter": "python",
   "pygments_lexer": "ipython3",
   "version": "3.8.10"
  }
 },
 "nbformat": 4,
 "nbformat_minor": 5
}
