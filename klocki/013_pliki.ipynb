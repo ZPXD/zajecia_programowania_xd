{
 "cells": [
  {
   "cell_type": "markdown",
   "id": "846e4510",
   "metadata": {},
   "source": [
    "# 013 - pliki"
   ]
  },
  {
   "cell_type": "markdown",
   "id": "81beaad4",
   "metadata": {},
   "source": [
    "Tekstowe źródła danych."
   ]
  },
  {
   "cell_type": "markdown",
   "id": "2404a487",
   "metadata": {},
   "source": [
    "#### Spis treści:\n",
    "\n",
    "Level 1:\n",
    "1. Pliki tekstowe\n",
    "2. Pliki CSV\n",
    "\n",
    "Level 2:\n",
    "1. JSON\n",
    "2. Excel\n",
    "3. HTML\n",
    "4. Inne\n",
    "\n",
    "Level 3:\n",
    "1. PDF\n",
    "2. Inne"
   ]
  },
  {
   "cell_type": "markdown",
   "id": "8e811556",
   "metadata": {},
   "source": [
    "\n",
    "\n",
    "## Pliki\n",
    "\n",
    "#### Czyli dane tekstowe\n",
    "\n",
    "Nauka przyniesie najlepsze efekty gdy po przeczytaniu opisów metod i funkcji będziesz odpalał i modyfikowł wszystkie komórki z kodem. \n",
    "- otwórz nowy notebook (najlepiej poza TYM notebookiem)\n",
    "- wracaj codziennie przez kilka dni do tego zeszytu\n"
   ]
  },
  {
   "cell_type": "markdown",
   "id": "b8a69326",
   "metadata": {},
   "source": [
    "\n",
    "## Jak dobrze wyćwiczyć pracę z plikami?\n",
    "\n",
    "#### Ćwicz odrazu\n",
    "\n",
    "Odpalaj każdy kod w tym zeszycie, spróbuj modyfikować niektóre elementy aby lepiej je zrozumieć\n",
    "\n",
    "#### Powtarzaj wiele razy\n",
    "\n",
    "Przez conajmniej 7 dni przeglądaj codziennie ten zeszyt (daj sobie z 5-10 minut - a najlepiej więcej, przejrzyj wszystkie funkcje, kod) - utrwalisz materiał\n",
    "\n",
    "#### Przechodź po kolei poziomy -  oddziel to co ważne i pilne od tego co jest przydatne w dalszej kolejności\n",
    "\n",
    "Ten plik jest podzielony na kilka poziomów. \n",
    "\n",
    "Możesz przeczytać cały opis danego tematu za 1 razem albo\n",
    "nauczyć sie tego co najbardziej istotnie i po zaawansowany materiał\n",
    "wrócić tu później.\n"
   ]
  },
  {
   "cell_type": "markdown",
   "id": "f749c980",
   "metadata": {},
   "source": [
    "#### W jakich plikach najczęściej trzyma się dane?"
   ]
  },
  {
   "cell_type": "markdown",
   "id": "7d2d6068",
   "metadata": {},
   "source": [
    "1. pliki tekstowe **plik.txt** - po prostu tekst w liniach\n",
    "2. pliki CSV **plik.csv** - pliki przechowujące dane w typie tabeli\n",
    "3. pliki JSON **plik.json** - pliki przechowujące dane w typie podobnym do słowników Pythona - JSON\n",
    "4. pliki excel - ze względu na formę tabularną przy możliwości łatwej modyfikacji przez osoby nietechniczne"
   ]
  },
  {
   "cell_type": "markdown",
   "id": "39f34f4e",
   "metadata": {},
   "source": [
    "## 1. Pliki tekstowe"
   ]
  },
  {
   "cell_type": "markdown",
   "id": "ee5b2057",
   "metadata": {},
   "source": [
    "### 1. Wczytaj treść pliku jako taflę tekstu - `tekst = open(plik).read()`"
   ]
  },
  {
   "cell_type": "code",
   "execution_count": 19,
   "id": "10de4e1f",
   "metadata": {},
   "outputs": [
    {
     "data": {
      "text/plain": [
       "'O własnych stój siłach – nie zaś podtrzymywany.\\nNajważniejsza jest prostota.\\nNie chlubą jest uciec przed śmiercią, lecz uśmiechnąć się gdy i ona się do ciebie uśmiecha.\\nNie czyń nic bez rozwagi, lecz tylko według zasady dobrze obmyślanej.\\nNie godzi się, aby twoja dusza czuła się zmęczona tym życiem, zanim nie zmęczy się nim ciało.\\nNie należy gniewać się na bieg wypadków, bo to ich nic nie obchodzi.\\nNiezdobytą warownię przedstawia dusza wolna od namiętności.\\nNigdzie bowiem nie schroni się człowiek spokojniej i łatwiej jak do duszy własnej.\\nŻycie jest krótkie. Korzystaj z teraźniejszości w sposób rozumny i słuszny. Bądź rozsądny w odpoczynku.\\nŻycie mężczyzny jest ufarbowane na kolor jego wyobraźni.\\nJak wielki spokój zyskuje ten, kto nie baczy na to, co bliźni mówi, czyni lub myśli, ale na to tylko, co sam robi, by było sprawiedliwie i zbożnie.\\n'"
      ]
     },
     "execution_count": 19,
     "metadata": {},
     "output_type": "execute_result"
    }
   ],
   "source": [
    "tekst = open(plik).read()\n",
    "tekst"
   ]
  },
  {
   "cell_type": "markdown",
   "id": "7a6ec2e2",
   "metadata": {},
   "source": [
    "### 2. Wczytaj treść pliku jako linie - `tekst_linie = open(plik).readlines()`"
   ]
  },
  {
   "cell_type": "code",
   "execution_count": 20,
   "id": "cc6a15a0",
   "metadata": {},
   "outputs": [
    {
     "data": {
      "text/plain": [
       "['O własnych stój siłach – nie zaś podtrzymywany.\\n',\n",
       " 'Najważniejsza jest prostota.\\n',\n",
       " 'Nie chlubą jest uciec przed śmiercią, lecz uśmiechnąć się gdy i ona się do ciebie uśmiecha.\\n',\n",
       " 'Nie czyń nic bez rozwagi, lecz tylko według zasady dobrze obmyślanej.\\n',\n",
       " 'Nie godzi się, aby twoja dusza czuła się zmęczona tym życiem, zanim nie zmęczy się nim ciało.\\n',\n",
       " 'Nie należy gniewać się na bieg wypadków, bo to ich nic nie obchodzi.\\n',\n",
       " 'Niezdobytą warownię przedstawia dusza wolna od namiętności.\\n',\n",
       " 'Nigdzie bowiem nie schroni się człowiek spokojniej i łatwiej jak do duszy własnej.\\n',\n",
       " 'Życie jest krótkie. Korzystaj z teraźniejszości w sposób rozumny i słuszny. Bądź rozsądny w odpoczynku.\\n',\n",
       " 'Życie mężczyzny jest ufarbowane na kolor jego wyobraźni.\\n',\n",
       " 'Jak wielki spokój zyskuje ten, kto nie baczy na to, co bliźni mówi, czyni lub myśli, ale na to tylko, co sam robi, by było sprawiedliwie i zbożnie.\\n']"
      ]
     },
     "execution_count": 20,
     "metadata": {},
     "output_type": "execute_result"
    }
   ],
   "source": [
    "tekst_linie = open(plik).readlines()\n",
    "tekst_linie"
   ]
  },
  {
   "cell_type": "markdown",
   "id": "a05ed21c",
   "metadata": {},
   "source": [
    "### 3. konstrukcja `with`\n",
    "\n",
    "#### Główne wartości występujące jako `mode`:\n",
    "1. **r** - Opis\n",
    "2. **r+** - Opis\n",
    "3. **w** - Opis\n",
    "4. **w+** - Opis\n",
    "5. **a** - Opis\n",
    "6. **a+** - Opis "
   ]
  },
  {
   "cell_type": "code",
   "execution_count": 44,
   "id": "da483049",
   "metadata": {},
   "outputs": [],
   "source": [
    "file = 'plik_tekstowy.txt'\n",
    "mode = 'r'\n",
    "\n",
    "with open(file, mode) as f:\n",
    "    text = f.read()"
   ]
  },
  {
   "cell_type": "code",
   "execution_count": null,
   "id": "d8a53556",
   "metadata": {},
   "outputs": [],
   "source": [
    "# Pliki tekstowe\n",
    "# - open().read()\n",
    "# - open().readlines()\n",
    "# - with ? ;////"
   ]
  },
  {
   "cell_type": "code",
   "execution_count": null,
   "id": "d22accf7",
   "metadata": {},
   "outputs": [],
   "source": [
    "# File\n",
    "open()\tOpens a file and returns a file object\n",
    "x. open / read / with\n",
    "Method\tDescription\n",
    "close()\tCloses the file\n",
    "detach()\tReturns the separated raw stream from the buffer\n",
    "fileno()\tReturns a number that represents the stream, from the operating system's perspective\n",
    "flush()\tFlushes the internal buffer\n",
    "isatty()\tReturns whether the file stream is interactive or not\n",
    "read()\tReturns the file content\n",
    "readable()\tReturns whether the file stream can be read or not\n",
    "readline()\tReturns one line from the file\n",
    "readlines()\tReturns a list of lines from the file\n",
    "seek()\tChange the file position\n",
    "seekable()\tReturns whether the file allows us to change the file position\n",
    "tell()\tReturns the current file position\n",
    "truncate()\tResizes the file to a specified size\n",
    "writable()\tReturns whether the file can be written to or not\n",
    "write()\tWrites the specified string to the file\n",
    "writelines()\tWrites a list of strings to the file"
   ]
  },
  {
   "cell_type": "markdown",
   "id": "cfec1fca",
   "metadata": {},
   "source": [
    "### 2. Pliki CSV"
   ]
  },
  {
   "cell_type": "markdown",
   "id": "13497bfa",
   "metadata": {},
   "source": [
    "Biblioteka [pandas](https://pandas.pydata.org/)"
   ]
  },
  {
   "cell_type": "markdown",
   "id": "800f817f",
   "metadata": {},
   "source": [
    "#### 1. Otwieranie plików"
   ]
  },
  {
   "cell_type": "code",
   "execution_count": 9,
   "id": "7fd169bf",
   "metadata": {},
   "outputs": [
    {
     "data": {
      "text/html": [
       "<div>\n",
       "<style scoped>\n",
       "    .dataframe tbody tr th:only-of-type {\n",
       "        vertical-align: middle;\n",
       "    }\n",
       "\n",
       "    .dataframe tbody tr th {\n",
       "        vertical-align: top;\n",
       "    }\n",
       "\n",
       "    .dataframe thead th {\n",
       "        text-align: right;\n",
       "    }\n",
       "</style>\n",
       "<table border=\"1\" class=\"dataframe\">\n",
       "  <thead>\n",
       "    <tr style=\"text-align: right;\">\n",
       "      <th></th>\n",
       "      <th>name</th>\n",
       "      <th>win</th>\n",
       "      <th>loss</th>\n",
       "      <th>nc</th>\n",
       "      <th>draw</th>\n",
       "      <th>Height</th>\n",
       "      <th>Weight</th>\n",
       "      <th>Reach</th>\n",
       "      <th>STANCE</th>\n",
       "      <th>DOB</th>\n",
       "      <th>SLpM</th>\n",
       "      <th>Str.Acc.</th>\n",
       "      <th>SApM</th>\n",
       "      <th>Str.Def</th>\n",
       "      <th>TDAvg.</th>\n",
       "      <th>TDAcc.</th>\n",
       "      <th>TDDef.</th>\n",
       "      <th>Sub.Avg.</th>\n",
       "    </tr>\n",
       "  </thead>\n",
       "  <tbody>\n",
       "    <tr>\n",
       "      <th>0</th>\n",
       "      <td>Uriah Hall</td>\n",
       "      <td>8</td>\n",
       "      <td>7</td>\n",
       "      <td>0</td>\n",
       "      <td>0</td>\n",
       "      <td>6'0\"</td>\n",
       "      <td>185lbs.</td>\n",
       "      <td>79\"</td>\n",
       "      <td>Orthodox</td>\n",
       "      <td>Jul31,1984</td>\n",
       "      <td>3.31</td>\n",
       "      <td>50%</td>\n",
       "      <td>3.57</td>\n",
       "      <td>53%</td>\n",
       "      <td>0.75</td>\n",
       "      <td>38%</td>\n",
       "      <td>69%</td>\n",
       "      <td>0.2</td>\n",
       "    </tr>\n",
       "    <tr>\n",
       "      <th>1</th>\n",
       "      <td>Anderson Silva</td>\n",
       "      <td>31</td>\n",
       "      <td>10</td>\n",
       "      <td>1</td>\n",
       "      <td>0</td>\n",
       "      <td>6'2\"</td>\n",
       "      <td>185lbs.</td>\n",
       "      <td>77\"</td>\n",
       "      <td>Southpaw</td>\n",
       "      <td>Apr14,1975</td>\n",
       "      <td>3.04</td>\n",
       "      <td>62%</td>\n",
       "      <td>1.98</td>\n",
       "      <td>61%</td>\n",
       "      <td>0.52</td>\n",
       "      <td>77%</td>\n",
       "      <td>69%</td>\n",
       "      <td>0.8</td>\n",
       "    </tr>\n",
       "    <tr>\n",
       "      <th>2</th>\n",
       "      <td>Bryce Mitchell</td>\n",
       "      <td>4</td>\n",
       "      <td>0</td>\n",
       "      <td>0</td>\n",
       "      <td>0</td>\n",
       "      <td>5'10\"</td>\n",
       "      <td>145lbs.</td>\n",
       "      <td>70\"</td>\n",
       "      <td>Southpaw</td>\n",
       "      <td>Oct04,1994</td>\n",
       "      <td>2.05</td>\n",
       "      <td>59%</td>\n",
       "      <td>1.36</td>\n",
       "      <td>58%</td>\n",
       "      <td>2.13</td>\n",
       "      <td>41%</td>\n",
       "      <td>33%</td>\n",
       "      <td>2.7</td>\n",
       "    </tr>\n",
       "    <tr>\n",
       "      <th>3</th>\n",
       "      <td>Andre Fili</td>\n",
       "      <td>9</td>\n",
       "      <td>6</td>\n",
       "      <td>0</td>\n",
       "      <td>0</td>\n",
       "      <td>5'11\"</td>\n",
       "      <td>145lbs.</td>\n",
       "      <td>74\"</td>\n",
       "      <td>Orthodox</td>\n",
       "      <td>Jun25,1990</td>\n",
       "      <td>3.90</td>\n",
       "      <td>36%</td>\n",
       "      <td>3.97</td>\n",
       "      <td>53%</td>\n",
       "      <td>2.71</td>\n",
       "      <td>49%</td>\n",
       "      <td>69%</td>\n",
       "      <td>0.2</td>\n",
       "    </tr>\n",
       "    <tr>\n",
       "      <th>4</th>\n",
       "      <td>Kevin Holland</td>\n",
       "      <td>7</td>\n",
       "      <td>2</td>\n",
       "      <td>0</td>\n",
       "      <td>0</td>\n",
       "      <td>6'3\"</td>\n",
       "      <td>170lbs.</td>\n",
       "      <td>81\"</td>\n",
       "      <td>Orthodox</td>\n",
       "      <td>Nov05,1992</td>\n",
       "      <td>4.69</td>\n",
       "      <td>56%</td>\n",
       "      <td>2.85</td>\n",
       "      <td>56%</td>\n",
       "      <td>0.96</td>\n",
       "      <td>36%</td>\n",
       "      <td>54%</td>\n",
       "      <td>0.8</td>\n",
       "    </tr>\n",
       "    <tr>\n",
       "      <th>5</th>\n",
       "      <td>Makhmud Muradov</td>\n",
       "      <td>2</td>\n",
       "      <td>0</td>\n",
       "      <td>0</td>\n",
       "      <td>0</td>\n",
       "      <td>6'2\"</td>\n",
       "      <td>185lbs.</td>\n",
       "      <td>75\"</td>\n",
       "      <td>Orthodox</td>\n",
       "      <td>Feb08,1990</td>\n",
       "      <td>4.97</td>\n",
       "      <td>41%</td>\n",
       "      <td>2.57</td>\n",
       "      <td>64%</td>\n",
       "      <td>0.51</td>\n",
       "      <td>25%</td>\n",
       "      <td>100%</td>\n",
       "      <td>0.5</td>\n",
       "    </tr>\n",
       "  </tbody>\n",
       "</table>\n",
       "</div>"
      ],
      "text/plain": [
       "              name  win  loss  nc  draw Height   Weight Reach    STANCE  \\\n",
       "0       Uriah Hall    8     7   0     0   6'0\"  185lbs.   79\"  Orthodox   \n",
       "1   Anderson Silva   31    10   1     0   6'2\"  185lbs.   77\"  Southpaw   \n",
       "2   Bryce Mitchell    4     0   0     0  5'10\"  145lbs.   70\"  Southpaw   \n",
       "3       Andre Fili    9     6   0     0  5'11\"  145lbs.   74\"  Orthodox   \n",
       "4    Kevin Holland    7     2   0     0   6'3\"  170lbs.   81\"  Orthodox   \n",
       "5  Makhmud Muradov    2     0   0     0   6'2\"  185lbs.   75\"  Orthodox   \n",
       "\n",
       "          DOB  SLpM Str.Acc.  SApM Str.Def  TDAvg. TDAcc. TDDef.  Sub.Avg.  \n",
       "0  Jul31,1984  3.31      50%  3.57     53%    0.75    38%    69%       0.2  \n",
       "1  Apr14,1975  3.04      62%  1.98     61%    0.52    77%    69%       0.8  \n",
       "2  Oct04,1994  2.05      59%  1.36     58%    2.13    41%    33%       2.7  \n",
       "3  Jun25,1990  3.90      36%  3.97     53%    2.71    49%    69%       0.2  \n",
       "4  Nov05,1992  4.69      56%  2.85     56%    0.96    36%    54%       0.8  \n",
       "5  Feb08,1990  4.97      41%  2.57     64%    0.51    25%   100%       0.5  "
      ]
     },
     "execution_count": 9,
     "metadata": {},
     "output_type": "execute_result"
    }
   ],
   "source": [
    "import pandas as pd\n",
    "\n",
    "csv_file = 'plik.csv'\n",
    "\n",
    "df = pd.read_csv(csv_file)\n",
    "\n",
    "pokaz_n_rzedow = 6\n",
    "df.head(pokaz_n_rzedow)"
   ]
  },
  {
   "cell_type": "markdown",
   "id": "52e11312",
   "metadata": {},
   "source": [
    "W przyszłości omówimy bibliotekę pandas szerzej. Jest genialna."
   ]
  },
  {
   "cell_type": "markdown",
   "id": "a459ca09",
   "metadata": {},
   "source": [
    "#### 2. Praca z danymi w formie tabularnej - biblioteka `pandas`\n",
    "\n",
    "#### Np. pokaż zawodników którzy mają powyżej 15 wygranych\n",
    "\n",
    "O tym pomówimy więcej przy okazji biblioteki pandas :) jednak jak chcesz, poczytaj o niej już teraz, jest świetna."
   ]
  },
  {
   "cell_type": "code",
   "execution_count": 24,
   "id": "f0174efd",
   "metadata": {},
   "outputs": [
    {
     "name": "stdout",
     "output_type": "stream",
     "text": [
      "33 Alistair Overeem\n",
      "31 Anderson Silva\n",
      "29 Donald Cerrone\n",
      "29 Gegard Mousasi\n",
      "28 Mirko Filipovic\n",
      "27 Wanderlei Silva\n",
      "27 Dan Henderson\n",
      "27 Mauricio Rua\n",
      "26 Georges St-Pierre\n",
      "26 Kazushi Sakuraba\n",
      "24 Vitor Belfort\n",
      "24 Lyoto Machida\n",
      "23 Antonio Rodrigo Nogueira\n",
      "23 Fabricio Werdum\n",
      "23 Michael Bisping\n",
      "22 Demian Maia\n",
      "22 Diego Sanchez\n",
      "21 Jim Miller\n",
      "21 Quinton Jackson\n",
      "21 Joseph Benavidez\n",
      "21 Josh Barnett\n",
      "21 Rich Franklin\n",
      "20 Andrei Arlovski\n",
      "20 Jon Jones\n",
      "20 Urijah Faber\n",
      "20 Tatsuya Kawajiri\n",
      "19 Ovince Saint Preux\n",
      "19 Rogerio Nogueira\n",
      "19 Robbie Lawler\n",
      "19 Jacare Souza\n",
      "19 Nick Diaz\n",
      "19 Nate Diaz\n",
      "19 Dustin Poirier\n",
      "19 Daniel Cormier\n",
      "18 Jose Aldo\n",
      "18 Ikuhisa Minowa\n",
      "18 Frankie Edgar\n",
      "18 Matt Hughes\n",
      "18 Chuck Liddell\n",
      "18 Rafael Dos Anjos\n",
      "17 Gilbert Melendez\n",
      "17 Takanori Gomi\n",
      "17 Tyron Woodley\n",
      "17 Jorge Masvidal\n",
      "17 Rashad Evans\n",
      "17 Demetrious Johnson\n",
      "17 Max Holloway\n",
      "17 Neil Magny\n",
      "17 Clay Guida\n",
      "17 Charles Oliveira\n",
      "17 Glover Teixeira\n",
      "16 Randy Couture\n",
      "16 Francisco Trinaldo\n",
      "16 BJ Penn\n",
      "16 Frank Mir\n",
      "16 Mark Coleman\n",
      "16 Benson Henderson\n",
      "16 Jake Shields\n",
      "16 Gleison Tibau\n",
      "16 Yushin Okami\n",
      "16 Cub Swanson\n"
     ]
    }
   ],
   "source": [
    "df.sort_values(by='win', inplace=True, ascending=False)\n",
    "for i, row in df.iterrows():\n",
    "    if row['win'] > 15:\n",
    "        print('{} {}'.format(row['win'], row['name']))"
   ]
  },
  {
   "cell_type": "markdown",
   "id": "2c7a5c18",
   "metadata": {},
   "source": [
    "## Level 2:\n",
    "1. JSON\n",
    "2. Excel\n",
    "3. HTML\n",
    "4. Inne"
   ]
  },
  {
   "cell_type": "markdown",
   "id": "2f4ad068",
   "metadata": {},
   "source": [
    "### 1. JSON\n",
    "\n",
    "Załaduj dane z pliku / formatu json do zmiennej.\n",
    "1. load()\n",
    "2. loads()\n",
    "3. dump\n",
    "4. dumps\n"
   ]
  },
  {
   "cell_type": "code",
   "execution_count": null,
   "id": "35ee278f",
   "metadata": {},
   "outputs": [],
   "source": []
  },
  {
   "cell_type": "markdown",
   "id": "10cc2b9a",
   "metadata": {},
   "source": [
    "### 1. Otwórz plik JSON i trzymaj dane w formie `dict()`"
   ]
  },
  {
   "cell_type": "code",
   "execution_count": 100,
   "id": "ec1ef81d",
   "metadata": {},
   "outputs": [
    {
     "name": "stdout",
     "output_type": "stream",
     "text": [
      "{'quiz': {'sport': {'q1': {'question': 'Which one is correct team name in NBA?', 'options': ['New York Bulls', 'Los Angeles Kings', 'Golden State Warriros', 'Huston Rocket'], 'answer': 'Huston Rocket'}}, 'maths': {'q1': {'question': '5 + 7 = ?', 'options': ['10', '11', '12', '13'], 'answer': '12'}, 'q2': {'question': '12 - 8 = ?', 'options': ['1', '2', '3', '4'], 'answer': '4'}}}}\n",
      "{\n",
      "    \"quiz\": {\n",
      "        \"maths\": {\n",
      "            \"q1\": {\n",
      "                \"answer\": \"12\",\n",
      "                \"options\": [\n",
      "                    \"10\",\n",
      "                    \"11\",\n",
      "                    \"12\",\n",
      "                    \"13\"\n",
      "                ],\n",
      "                \"question\": \"5 + 7 = ?\"\n",
      "            },\n",
      "            \"q2\": {\n",
      "                \"answer\": \"4\",\n",
      "                \"options\": [\n",
      "                    \"1\",\n",
      "                    \"2\",\n",
      "                    \"3\",\n",
      "                    \"4\"\n",
      "                ],\n",
      "                \"question\": \"12 - 8 = ?\"\n",
      "            }\n",
      "        },\n",
      "        \"sport\": {\n",
      "            \"q1\": {\n",
      "                \"answer\": \"Huston Rocket\",\n",
      "                \"options\": [\n",
      "                    \"New York Bulls\",\n",
      "                    \"Los Angeles Kings\",\n",
      "                    \"Golden State Warriros\",\n",
      "                    \"Huston Rocket\"\n",
      "                ],\n",
      "                \"question\": \"Which one is correct team name in NBA?\"\n",
      "            }\n",
      "        }\n",
      "    }\n",
      "}\n"
     ]
    }
   ],
   "source": [
    "import json\n",
    "\n",
    "json_file = 'plik.json'\n",
    "\n",
    "with open(json_file) as JSON:\n",
    "    data = json.load(JSON)\n",
    "\n",
    "print(data)\n",
    "\n",
    "print(json.dumps(data, indent = 4, sort_keys=True))"
   ]
  },
  {
   "cell_type": "code",
   "execution_count": null,
   "id": "6f7821bd",
   "metadata": {},
   "outputs": [],
   "source": []
  },
  {
   "cell_type": "markdown",
   "id": "1194a1ca",
   "metadata": {},
   "source": [
    "#### 9. `str` -> `dict`"
   ]
  },
  {
   "cell_type": "code",
   "execution_count": 85,
   "id": "32d7dd2b",
   "metadata": {},
   "outputs": [
    {
     "name": "stdout",
     "output_type": "stream",
     "text": [
      "30\n"
     ]
    },
    {
     "data": {
      "text/plain": [
       "dict"
      ]
     },
     "execution_count": 85,
     "metadata": {},
     "output_type": "execute_result"
    }
   ],
   "source": [
    "x =  '{ \"name\":\"John\", \"age\":30, \"city\":\"New York\"}'\n",
    "\n",
    "y = json.loads(x)\n",
    "\n",
    "print(y[\"age\"])\n",
    "type(y)"
   ]
  },
  {
   "cell_type": "code",
   "execution_count": null,
   "id": "2100bf52",
   "metadata": {},
   "outputs": [],
   "source": []
  },
  {
   "cell_type": "code",
   "execution_count": null,
   "id": "a7a62768",
   "metadata": {},
   "outputs": [],
   "source": []
  },
  {
   "cell_type": "markdown",
   "id": "4c99f385",
   "metadata": {},
   "source": [
    "Biblioteka [json](https://docs.python.org/3/library/json.html)"
   ]
  },
  {
   "cell_type": "code",
   "execution_count": 80,
   "id": "8d2d7697",
   "metadata": {},
   "outputs": [
    {
     "name": "stdout",
     "output_type": "stream",
     "text": [
      "{\n",
      "    \"languages\": \"English\",\n",
      "    \"name\": \"Bob\",\n",
      "    \"numbers\": [\n",
      "        2,\n",
      "        1.6,\n",
      "        null\n",
      "    ]\n",
      "}\n"
     ]
    }
   ],
   "source": [
    "person_string = '{\"name\": \"Bob\", \"languages\": \"English\", \"numbers\": [2, 1.6, null]}'\n",
    "\n",
    "# Getting dictionary\n",
    "person_dict = json.loads(person_string)\n",
    "\n",
    "# Pretty Printing JSON string back\n",
    "print(json.dumps(person_dict, indent = 4, sort_keys=True))"
   ]
  },
  {
   "cell_type": "code",
   "execution_count": null,
   "id": "b220ef46",
   "metadata": {},
   "outputs": [],
   "source": []
  },
  {
   "cell_type": "code",
   "execution_count": 45,
   "id": "84954952",
   "metadata": {},
   "outputs": [
    {
     "ename": "JSONDecodeError",
     "evalue": "Expecting value: line 1 column 1 (char 0)",
     "output_type": "error",
     "traceback": [
      "\u001b[0;31m---------------------------------------------------------------------------\u001b[0m",
      "\u001b[0;31mJSONDecodeError\u001b[0m                           Traceback (most recent call last)",
      "\u001b[0;32m/tmp/ipykernel_1916199/2098052960.py\u001b[0m in \u001b[0;36m<module>\u001b[0;34m\u001b[0m\n\u001b[1;32m      1\u001b[0m \u001b[0mplik\u001b[0m \u001b[0;34m=\u001b[0m \u001b[0;34m'plik1.json'\u001b[0m\u001b[0;34m\u001b[0m\u001b[0;34m\u001b[0m\u001b[0m\n\u001b[1;32m      2\u001b[0m \u001b[0;34m\u001b[0m\u001b[0m\n\u001b[0;32m----> 3\u001b[0;31m \u001b[0my\u001b[0m \u001b[0;34m=\u001b[0m \u001b[0mjson\u001b[0m\u001b[0;34m.\u001b[0m\u001b[0mloads\u001b[0m\u001b[0;34m(\u001b[0m\u001b[0mplik\u001b[0m\u001b[0;34m)\u001b[0m\u001b[0;34m\u001b[0m\u001b[0;34m\u001b[0m\u001b[0m\n\u001b[0m\u001b[1;32m      4\u001b[0m \u001b[0my\u001b[0m\u001b[0;34m\u001b[0m\u001b[0;34m\u001b[0m\u001b[0m\n",
      "\u001b[0;32m/usr/lib/python3.8/json/__init__.py\u001b[0m in \u001b[0;36mloads\u001b[0;34m(s, cls, object_hook, parse_float, parse_int, parse_constant, object_pairs_hook, **kw)\u001b[0m\n\u001b[1;32m    355\u001b[0m             \u001b[0mparse_int\u001b[0m \u001b[0;32mis\u001b[0m \u001b[0;32mNone\u001b[0m \u001b[0;32mand\u001b[0m \u001b[0mparse_float\u001b[0m \u001b[0;32mis\u001b[0m \u001b[0;32mNone\u001b[0m \u001b[0;32mand\u001b[0m\u001b[0;34m\u001b[0m\u001b[0;34m\u001b[0m\u001b[0m\n\u001b[1;32m    356\u001b[0m             parse_constant is None and object_pairs_hook is None and not kw):\n\u001b[0;32m--> 357\u001b[0;31m         \u001b[0;32mreturn\u001b[0m \u001b[0m_default_decoder\u001b[0m\u001b[0;34m.\u001b[0m\u001b[0mdecode\u001b[0m\u001b[0;34m(\u001b[0m\u001b[0ms\u001b[0m\u001b[0;34m)\u001b[0m\u001b[0;34m\u001b[0m\u001b[0;34m\u001b[0m\u001b[0m\n\u001b[0m\u001b[1;32m    358\u001b[0m     \u001b[0;32mif\u001b[0m \u001b[0mcls\u001b[0m \u001b[0;32mis\u001b[0m \u001b[0;32mNone\u001b[0m\u001b[0;34m:\u001b[0m\u001b[0;34m\u001b[0m\u001b[0;34m\u001b[0m\u001b[0m\n\u001b[1;32m    359\u001b[0m         \u001b[0mcls\u001b[0m \u001b[0;34m=\u001b[0m \u001b[0mJSONDecoder\u001b[0m\u001b[0;34m\u001b[0m\u001b[0;34m\u001b[0m\u001b[0m\n",
      "\u001b[0;32m/usr/lib/python3.8/json/decoder.py\u001b[0m in \u001b[0;36mdecode\u001b[0;34m(self, s, _w)\u001b[0m\n\u001b[1;32m    335\u001b[0m \u001b[0;34m\u001b[0m\u001b[0m\n\u001b[1;32m    336\u001b[0m         \"\"\"\n\u001b[0;32m--> 337\u001b[0;31m         \u001b[0mobj\u001b[0m\u001b[0;34m,\u001b[0m \u001b[0mend\u001b[0m \u001b[0;34m=\u001b[0m \u001b[0mself\u001b[0m\u001b[0;34m.\u001b[0m\u001b[0mraw_decode\u001b[0m\u001b[0;34m(\u001b[0m\u001b[0ms\u001b[0m\u001b[0;34m,\u001b[0m \u001b[0midx\u001b[0m\u001b[0;34m=\u001b[0m\u001b[0m_w\u001b[0m\u001b[0;34m(\u001b[0m\u001b[0ms\u001b[0m\u001b[0;34m,\u001b[0m \u001b[0;36m0\u001b[0m\u001b[0;34m)\u001b[0m\u001b[0;34m.\u001b[0m\u001b[0mend\u001b[0m\u001b[0;34m(\u001b[0m\u001b[0;34m)\u001b[0m\u001b[0;34m)\u001b[0m\u001b[0;34m\u001b[0m\u001b[0;34m\u001b[0m\u001b[0m\n\u001b[0m\u001b[1;32m    338\u001b[0m         \u001b[0mend\u001b[0m \u001b[0;34m=\u001b[0m \u001b[0m_w\u001b[0m\u001b[0;34m(\u001b[0m\u001b[0ms\u001b[0m\u001b[0;34m,\u001b[0m \u001b[0mend\u001b[0m\u001b[0;34m)\u001b[0m\u001b[0;34m.\u001b[0m\u001b[0mend\u001b[0m\u001b[0;34m(\u001b[0m\u001b[0;34m)\u001b[0m\u001b[0;34m\u001b[0m\u001b[0;34m\u001b[0m\u001b[0m\n\u001b[1;32m    339\u001b[0m         \u001b[0;32mif\u001b[0m \u001b[0mend\u001b[0m \u001b[0;34m!=\u001b[0m \u001b[0mlen\u001b[0m\u001b[0;34m(\u001b[0m\u001b[0ms\u001b[0m\u001b[0;34m)\u001b[0m\u001b[0;34m:\u001b[0m\u001b[0;34m\u001b[0m\u001b[0;34m\u001b[0m\u001b[0m\n",
      "\u001b[0;32m/usr/lib/python3.8/json/decoder.py\u001b[0m in \u001b[0;36mraw_decode\u001b[0;34m(self, s, idx)\u001b[0m\n\u001b[1;32m    353\u001b[0m             \u001b[0mobj\u001b[0m\u001b[0;34m,\u001b[0m \u001b[0mend\u001b[0m \u001b[0;34m=\u001b[0m \u001b[0mself\u001b[0m\u001b[0;34m.\u001b[0m\u001b[0mscan_once\u001b[0m\u001b[0;34m(\u001b[0m\u001b[0ms\u001b[0m\u001b[0;34m,\u001b[0m \u001b[0midx\u001b[0m\u001b[0;34m)\u001b[0m\u001b[0;34m\u001b[0m\u001b[0;34m\u001b[0m\u001b[0m\n\u001b[1;32m    354\u001b[0m         \u001b[0;32mexcept\u001b[0m \u001b[0mStopIteration\u001b[0m \u001b[0;32mas\u001b[0m \u001b[0merr\u001b[0m\u001b[0;34m:\u001b[0m\u001b[0;34m\u001b[0m\u001b[0;34m\u001b[0m\u001b[0m\n\u001b[0;32m--> 355\u001b[0;31m             \u001b[0;32mraise\u001b[0m \u001b[0mJSONDecodeError\u001b[0m\u001b[0;34m(\u001b[0m\u001b[0;34m\"Expecting value\"\u001b[0m\u001b[0;34m,\u001b[0m \u001b[0ms\u001b[0m\u001b[0;34m,\u001b[0m \u001b[0merr\u001b[0m\u001b[0;34m.\u001b[0m\u001b[0mvalue\u001b[0m\u001b[0;34m)\u001b[0m \u001b[0;32mfrom\u001b[0m \u001b[0;32mNone\u001b[0m\u001b[0;34m\u001b[0m\u001b[0;34m\u001b[0m\u001b[0m\n\u001b[0m\u001b[1;32m    356\u001b[0m         \u001b[0;32mreturn\u001b[0m \u001b[0mobj\u001b[0m\u001b[0;34m,\u001b[0m \u001b[0mend\u001b[0m\u001b[0;34m\u001b[0m\u001b[0;34m\u001b[0m\u001b[0m\n",
      "\u001b[0;31mJSONDecodeError\u001b[0m: Expecting value: line 1 column 1 (char 0)"
     ]
    }
   ],
   "source": [
    "plik = 'plik1.json'\n",
    "\n",
    "y = json.loads(plik)\n",
    "y"
   ]
  },
  {
   "cell_type": "code",
   "execution_count": 46,
   "id": "27873e9a",
   "metadata": {},
   "outputs": [
    {
     "ename": "TypeError",
     "evalue": "string indices must be integers",
     "output_type": "error",
     "traceback": [
      "\u001b[0;31m---------------------------------------------------------------------------\u001b[0m",
      "\u001b[0;31mTypeError\u001b[0m                                 Traceback (most recent call last)",
      "\u001b[0;32m/tmp/ipykernel_1916199/3437538004.py\u001b[0m in \u001b[0;36m<module>\u001b[0;34m\u001b[0m\n\u001b[1;32m      3\u001b[0m \u001b[0mx\u001b[0m \u001b[0;34m=\u001b[0m  \u001b[0;34m'{ \"name\":\"John\", \"age\":30, \"city\":\"New York\"}'\u001b[0m\u001b[0;34m\u001b[0m\u001b[0;34m\u001b[0m\u001b[0m\n\u001b[1;32m      4\u001b[0m \u001b[0;34m\u001b[0m\u001b[0m\n\u001b[0;32m----> 5\u001b[0;31m \u001b[0mprint\u001b[0m\u001b[0;34m(\u001b[0m\u001b[0mx\u001b[0m\u001b[0;34m[\u001b[0m\u001b[0;34m\"name\"\u001b[0m\u001b[0;34m]\u001b[0m\u001b[0;34m)\u001b[0m\u001b[0;34m\u001b[0m\u001b[0;34m\u001b[0m\u001b[0m\n\u001b[0m",
      "\u001b[0;31mTypeError\u001b[0m: string indices must be integers"
     ]
    }
   ],
   "source": [
    "import json\n",
    "\n",
    "x =  '{ \"name\":\"John\", \"age\":30, \"city\":\"New York\"}'\n",
    "\n",
    "print(x[\"name\"])"
   ]
  },
  {
   "cell_type": "code",
   "execution_count": 51,
   "id": "82361a45",
   "metadata": {},
   "outputs": [
    {
     "name": "stdout",
     "output_type": "stream",
     "text": [
      "{\"name\": \"John\", \"age\": 30, \"city\": \"New York\"}\n"
     ]
    }
   ],
   "source": [
    "import json\n",
    "\n",
    "# a Python object (dict):\n",
    "x = {\n",
    "  \"name\": \"John\",\n",
    "  \"age\": 30,\n",
    "  \"city\": \"New York\"\n",
    "}\n",
    "\n",
    "# convert into JSON:\n",
    "y = json.dumps(x)\n",
    "\n",
    "# the result is a JSON string:\n",
    "print(y)"
   ]
  },
  {
   "cell_type": "code",
   "execution_count": 48,
   "id": "84fe52a2",
   "metadata": {},
   "outputs": [
    {
     "name": "stdout",
     "output_type": "stream",
     "text": [
      "{\"name\": \"John\", \"age\": 30}\n",
      "[\"apple\", \"bananas\"]\n",
      "[\"apple\", \"bananas\"]\n",
      "\"hello\"\n",
      "42\n",
      "31.76\n",
      "true\n",
      "false\n",
      "null\n"
     ]
    }
   ],
   "source": [
    "import json\n",
    "\n",
    "print(json.dumps({\"name\": \"John\", \"age\": 30}))\n",
    "print(json.dumps([\"apple\", \"bananas\"]))\n",
    "print(json.dumps((\"apple\", \"bananas\")))\n",
    "print(json.dumps(\"hello\"))\n",
    "print(json.dumps(42))\n",
    "print(json.dumps(31.76))\n",
    "print(json.dumps(True))\n",
    "print(json.dumps(False))\n",
    "print(json.dumps(None))"
   ]
  },
  {
   "cell_type": "code",
   "execution_count": null,
   "id": "0fc2a38b",
   "metadata": {},
   "outputs": [],
   "source": []
  },
  {
   "cell_type": "code",
   "execution_count": null,
   "id": "b8ea218b",
   "metadata": {},
   "outputs": [],
   "source": [
    "# Directly from dictionary\n",
    "with open('json_data.json', 'w') as outfile:\n",
    "    json.dump(json_string, outfile)"
   ]
  },
  {
   "cell_type": "code",
   "execution_count": null,
   "id": "1b745bf9",
   "metadata": {},
   "outputs": [],
   "source": [
    "\n",
    "# Using a JSON string\n",
    "with open('json_data.json', 'w') as outfile:\n",
    "    outfile.write(json_string)"
   ]
  },
  {
   "cell_type": "code",
   "execution_count": 65,
   "id": "c10704de",
   "metadata": {},
   "outputs": [
    {
     "ename": "FileNotFoundError",
     "evalue": "[Errno 2] No such file or directory: 'path_to_file/person.json'",
     "output_type": "error",
     "traceback": [
      "\u001b[0;31m---------------------------------------------------------------------------\u001b[0m",
      "\u001b[0;31mFileNotFoundError\u001b[0m                         Traceback (most recent call last)",
      "\u001b[0;32m/tmp/ipykernel_1916199/3765982164.py\u001b[0m in \u001b[0;36m<module>\u001b[0;34m\u001b[0m\n\u001b[1;32m      1\u001b[0m \u001b[0;32mimport\u001b[0m \u001b[0mjson\u001b[0m\u001b[0;34m\u001b[0m\u001b[0;34m\u001b[0m\u001b[0m\n\u001b[1;32m      2\u001b[0m \u001b[0;34m\u001b[0m\u001b[0m\n\u001b[0;32m----> 3\u001b[0;31m \u001b[0;32mwith\u001b[0m \u001b[0mopen\u001b[0m\u001b[0;34m(\u001b[0m\u001b[0;34m'path_to_file/person.json'\u001b[0m\u001b[0;34m,\u001b[0m \u001b[0;34m'r'\u001b[0m\u001b[0;34m)\u001b[0m \u001b[0;32mas\u001b[0m \u001b[0mf\u001b[0m\u001b[0;34m:\u001b[0m\u001b[0;34m\u001b[0m\u001b[0;34m\u001b[0m\u001b[0m\n\u001b[0m\u001b[1;32m      4\u001b[0m     \u001b[0mdata\u001b[0m \u001b[0;34m=\u001b[0m \u001b[0mjson\u001b[0m\u001b[0;34m.\u001b[0m\u001b[0mload\u001b[0m\u001b[0;34m(\u001b[0m\u001b[0mf\u001b[0m\u001b[0;34m)\u001b[0m\u001b[0;34m\u001b[0m\u001b[0;34m\u001b[0m\u001b[0m\n\u001b[1;32m      5\u001b[0m \u001b[0;34m\u001b[0m\u001b[0m\n",
      "\u001b[0;31mFileNotFoundError\u001b[0m: [Errno 2] No such file or directory: 'path_to_file/person.json'"
     ]
    }
   ],
   "source": [
    "import json\n",
    "\n",
    "with open('path_to_file/person.json', 'r') as f:\n",
    "    data = json.load(f)\n",
    "\n",
    "# Output: {'name': 'Bob', 'languages': ['English', 'French']}\n",
    "print(data)"
   ]
  },
  {
   "cell_type": "code",
   "execution_count": 76,
   "id": "feb9740e",
   "metadata": {},
   "outputs": [
    {
     "name": "stdout",
     "output_type": "stream",
     "text": [
      "{\"name\": \"Bob\", \"age\": 12, \"children\": null}\n"
     ]
    }
   ],
   "source": [
    "import json\n",
    "\n",
    "person_dict = {'name': 'Bob',\n",
    "'age': 12,\n",
    "'children': None\n",
    "}\n",
    "person_json = json.dumps(person_dict)\n",
    "\n",
    "# Output: {\"name\": \"Bob\", \"age\": 12, \"children\": null}\n",
    "print(person_json)"
   ]
  },
  {
   "cell_type": "code",
   "execution_count": 70,
   "id": "29e3f174",
   "metadata": {},
   "outputs": [],
   "source": [
    "import json\n",
    "\n",
    "person_dict = {\"name\": \"Bob\",\n",
    "\"languages\": [\"English\", \"French\"],\n",
    "\"married\": True,\n",
    "\"age\": 32\n",
    "}\n",
    "\n",
    "with open('person.txt', 'w') as json_file:\n",
    "    json.dump(person_dict, json_file)"
   ]
  },
  {
   "cell_type": "code",
   "execution_count": 72,
   "id": "af016651",
   "metadata": {},
   "outputs": [],
   "source": [
    "x =  '{\"name\":\"John\", \"age\":30, \"city\":\"New York\"}'"
   ]
  },
  {
   "cell_type": "code",
   "execution_count": 73,
   "id": "01806ccf",
   "metadata": {},
   "outputs": [
    {
     "data": {
      "text/plain": [
       "'\"{\\\\\"name\\\\\":\\\\\"John\\\\\", \\\\\"age\\\\\":30, \\\\\"city\\\\\":\\\\\"New York\\\\\"}\"'"
      ]
     },
     "execution_count": 73,
     "metadata": {},
     "output_type": "execute_result"
    }
   ],
   "source": [
    "json.dumps(x, indent=4)"
   ]
  },
  {
   "cell_type": "code",
   "execution_count": 62,
   "id": "64febcb3",
   "metadata": {},
   "outputs": [
    {
     "ename": "SyntaxError",
     "evalue": "unexpected EOF while parsing (24102057.py, line 1)",
     "output_type": "error",
     "traceback": [
      "\u001b[0;36m  File \u001b[0;32m\"/tmp/ipykernel_1916199/24102057.py\"\u001b[0;36m, line \u001b[0;32m1\u001b[0m\n\u001b[0;31m    json.dumps(x, indent=4, separators=(\". \", \" = \")\u001b[0m\n\u001b[0m                                                    ^\u001b[0m\n\u001b[0;31mSyntaxError\u001b[0m\u001b[0;31m:\u001b[0m unexpected EOF while parsing\n"
     ]
    }
   ],
   "source": [
    "json.dumps(x, indent=4, separators=(\". \", \" = \")"
   ]
  },
  {
   "cell_type": "code",
   "execution_count": 63,
   "id": "ce3ab3f6",
   "metadata": {},
   "outputs": [
    {
     "data": {
      "text/plain": [
       "'\"{\\\\\"name\\\\\":\\\\\"John\\\\\", \\\\\"age\\\\\":30, \\\\\"city\\\\\":\\\\\"New York\\\\\"}\"'"
      ]
     },
     "execution_count": 63,
     "metadata": {},
     "output_type": "execute_result"
    }
   ],
   "source": [
    "json.dumps(x, indent=4, sort_keys=True)"
   ]
  },
  {
   "cell_type": "markdown",
   "id": "a96100a8",
   "metadata": {},
   "source": [
    "### 2. HTML"
   ]
  },
  {
   "cell_type": "code",
   "execution_count": null,
   "id": "61eda6c3",
   "metadata": {},
   "outputs": [],
   "source": []
  },
  {
   "cell_type": "markdown",
   "id": "182036e0",
   "metadata": {},
   "source": [
    "### 3. Excel"
   ]
  },
  {
   "cell_type": "code",
   "execution_count": null,
   "id": "67860b65",
   "metadata": {},
   "outputs": [],
   "source": []
  },
  {
   "cell_type": "markdown",
   "id": "c61252ae",
   "metadata": {},
   "source": [
    "### 4. Inne formaty"
   ]
  },
  {
   "cell_type": "code",
   "execution_count": null,
   "id": "7efe30a9",
   "metadata": {},
   "outputs": [],
   "source": []
  },
  {
   "cell_type": "markdown",
   "id": "f9f57b16",
   "metadata": {},
   "source": [
    "## Level 3:\n",
    "1. PDF\n",
    "2. Inne"
   ]
  },
  {
   "cell_type": "markdown",
   "id": "91934d64",
   "metadata": {},
   "source": [
    "### X. PDF"
   ]
  },
  {
   "cell_type": "code",
   "execution_count": null,
   "id": "4444ead9",
   "metadata": {},
   "outputs": [],
   "source": []
  },
  {
   "cell_type": "markdown",
   "id": "d7e89ef5",
   "metadata": {},
   "source": [
    "### X. H5"
   ]
  },
  {
   "cell_type": "code",
   "execution_count": null,
   "id": "26a6da33",
   "metadata": {},
   "outputs": [],
   "source": []
  },
  {
   "cell_type": "markdown",
   "id": "49e960c5",
   "metadata": {},
   "source": [
    "### X. Inne"
   ]
  },
  {
   "cell_type": "code",
   "execution_count": null,
   "id": "7d832b6b",
   "metadata": {},
   "outputs": [],
   "source": []
  }
 ],
 "metadata": {
  "kernelspec": {
   "display_name": "Python 3 (ipykernel)",
   "language": "python",
   "name": "python3"
  },
  "language_info": {
   "codemirror_mode": {
    "name": "ipython",
    "version": 3
   },
   "file_extension": ".py",
   "mimetype": "text/x-python",
   "name": "python",
   "nbconvert_exporter": "python",
   "pygments_lexer": "ipython3",
   "version": "3.8.10"
  }
 },
 "nbformat": 4,
 "nbformat_minor": 5
}
