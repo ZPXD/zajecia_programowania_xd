{
 "cells": [
  {
   "cell_type": "markdown",
   "id": "5bf30b57",
   "metadata": {},
   "source": [
    "\n",
    "\n",
    "\n",
    "# 012 - funkcje\n",
    "\n",
    "[Funk](https://www.youtube.com/watch?v=OPf0YbXqDm0)\n",
    "\n",
    "\n",
    "#### Spis treści:\n",
    "\n",
    "Level 1:\n",
    "1. Funkcja\n",
    "2. Argumenty\n",
    "\n",
    "Level 2:\n",
    "1. lambda - `dodawanie = lambda a, b: a + b` /  `dodawanie(1, 2)`\n",
    "2. argumenty `*args`\n",
    "3. argumenty `**kwargs`\n",
    "4. argumenty lokalne i globalne z `global`\n",
    "5. generatory i `yield`\n",
    "\n",
    "Level 3:\n",
    "1. Dekoratory\n",
    "2. Functools"
   ]
  },
  {
   "cell_type": "markdown",
   "id": "8e811556",
   "metadata": {},
   "source": [
    "\n",
    "\n",
    "## Funkcje\n",
    "\n",
    "#### Czyli dane tekstowe\n",
    "\n",
    "Nauka przyniesie najlepsze efekty gdy po przeczytaniu opisów metod i funkcji będziesz odpalał i modyfikowł wszystkie komórki z kodem. \n",
    "- otwórz nowy notebook (najlepiej poza TYM notebookiem)\n",
    "- wracaj codziennie przez kilka dni do tego zeszytu\n"
   ]
  },
  {
   "cell_type": "markdown",
   "id": "b8a69326",
   "metadata": {},
   "source": [
    "\n",
    "## Jak dobrze wyćwiczyć funkcje?\n",
    "\n",
    "#### Ćwicz odrazu\n",
    "\n",
    "Odpalaj każdy kod w tym zeszycie, spróbuj modyfikować niektóre elementy aby lepiej je zrozumieć\n",
    "\n",
    "#### Powtarzaj wiele razy\n",
    "\n",
    "Przez conajmniej 7 dni przeglądaj codziennie ten zeszyt (daj sobie z 5-10 minut - a najlepiej więcej, przejrzyj wszystkie funkcje, kod) - utrwalisz materiał\n",
    "\n",
    "#### Przechodź po kolei poziomy -  oddziel to co ważne i pilne od tego co jest przydatne w dalszej kolejności\n",
    "\n",
    "Ten plik jest podzielony na kilka poziomów. \n",
    "\n",
    "Możesz przeczytać cały opis danego tematu za 1 razem albo\n",
    "nauczyć sie tego co najbardziej istotnie i po zaawansowany materiał\n",
    "wrócić tu później.\n"
   ]
  },
  {
   "cell_type": "markdown",
   "id": "1ed98dd5",
   "metadata": {},
   "source": [
    "# Level 1"
   ]
  },
  {
   "cell_type": "markdown",
   "id": "3e95ca93",
   "metadata": {},
   "source": [
    "## 1. Funkcja"
   ]
  },
  {
   "cell_type": "markdown",
   "id": "58ec008d",
   "metadata": {},
   "source": [
    "### Minimalny przykład funkcji:"
   ]
  },
  {
   "cell_type": "code",
   "execution_count": 126,
   "id": "0f434db4",
   "metadata": {},
   "outputs": [],
   "source": [
    "def mini_funkcja():\n",
    "    print('Cześć')"
   ]
  },
  {
   "cell_type": "markdown",
   "id": "ca9e5fff",
   "metadata": {},
   "source": [
    "#### Wywołanie funkcji"
   ]
  },
  {
   "cell_type": "code",
   "execution_count": 127,
   "id": "0c290cf0",
   "metadata": {},
   "outputs": [
    {
     "name": "stdout",
     "output_type": "stream",
     "text": [
      "Cześć\n"
     ]
    }
   ],
   "source": [
    "mini_funkcja()"
   ]
  },
  {
   "cell_type": "markdown",
   "id": "57292167",
   "metadata": {},
   "source": [
    "### Przykład funkcji:"
   ]
  },
  {
   "cell_type": "code",
   "execution_count": 133,
   "id": "162bc440",
   "metadata": {},
   "outputs": [],
   "source": [
    "def funkcja_dodawania(argument_1, argument_2):\n",
    "    '''\n",
    "    Opis funkcji\n",
    "    '''\n",
    "    wynik = argument_1 + argument_2\n",
    "    wynik = wynik * 2\n",
    "    return wynik"
   ]
  },
  {
   "cell_type": "markdown",
   "id": "b238fbc5",
   "metadata": {},
   "source": [
    "#### Wywołanie funkcji"
   ]
  },
  {
   "cell_type": "code",
   "execution_count": 132,
   "id": "a03cf97c",
   "metadata": {},
   "outputs": [
    {
     "data": {
      "text/plain": [
       "60"
      ]
     },
     "execution_count": 132,
     "metadata": {},
     "output_type": "execute_result"
    }
   ],
   "source": [
    "a1 = 10\n",
    "a2 = 20\n",
    "funkcja_dodawania(a1, a2)"
   ]
  },
  {
   "cell_type": "markdown",
   "id": "80366875",
   "metadata": {},
   "source": [
    "#### Anatomia funkcji:\n",
    "1. **def** - Opis\n",
    "2. **funkcja_dodawania** - Opis\n",
    "3. **():** - Opis\n",
    "4. **(argument1, argument2):** - Opis\n",
    "5. **'''opis funkcji'''** - Opis\n",
    "6. **wynik = argument1 + argument2** - Opis\n",
    "7. **return wynik** - Opis\n",
    "8. **wynik = funkcja_dodawania(a1, a2)** - Opis\n"
   ]
  },
  {
   "cell_type": "markdown",
   "id": "fa1d1e08",
   "metadata": {},
   "source": [
    "### Krótszy zapis - kod w `return`"
   ]
  },
  {
   "cell_type": "code",
   "execution_count": null,
   "id": "33d67398",
   "metadata": {},
   "outputs": [],
   "source": [
    "def funkcja_mnozenia(arg1, arg2):\n",
    "    wynik = arg1 * arg2\n",
    "    return wynik"
   ]
  },
  {
   "cell_type": "code",
   "execution_count": null,
   "id": "4804b361",
   "metadata": {},
   "outputs": [],
   "source": [
    "def funkcja_mnozenia(arg1, arg2):\n",
    "    return arg1 * arg2"
   ]
  },
  {
   "cell_type": "markdown",
   "id": "380aa9f3",
   "metadata": {},
   "source": [
    "### Funkcja - ważne\n",
    "\n",
    "#### 1. Definicja funkcji i argumenty\n",
    "\n",
    "`def nazwa_funkcji(argument_1, argument_2):`\n",
    "\n",
    "Nazwanie funkcji i wypisanie argumentów (zmiennych) jakich funkcja będzie oczekiwać i wymagać aby zostać uruchomiona.\n",
    "\n",
    "#### 2. Opis funkcji\n",
    "`'''`\n",
    "`Opis funkcji` \n",
    "`'''`\n",
    "\n",
    "Czasem warto (a nieraz wypada) napisać kilka słów o tym jakie (i jakiego rodzaju) funkcja przyjmuje argumenty, co robi i co oddaje jako wynik.\n",
    "\n",
    "#### 3. Ciało funkcji\n",
    "`wynik = argument1 argument2`\n",
    "`wynik = wynik * 2`\n",
    "\n",
    "To co właściwie funkcja robi. Jeżeli funkcja np. zbiera linki ze strony www, to w ciele jest kod który zbiera linki ze strony www.\n",
    "\n",
    "\n",
    "#### 4. Wynik funkcji - return\n",
    "`return wynik`\n",
    "\n",
    "`retrurn wynik_1, wynik_2`\n",
    "\n",
    "Funkcja zwraca jedną lub więcej zmiennych wypisanych w return.\n",
    "\n",
    "#### 5. Wywołanie funkcji\n",
    "`wynik = funkcja_dodawania(a1, a2)`\n",
    "\n",
    "Aby funkcja cokolwiek zrobiła, trzeba ją wywołać. Inaczej jej kod nie zostanie uruchomiony.\n",
    "\n",
    "\n",
    "Wywołanie funkcji to zawsze wypisanie jej nazwy z okrągłymi nawiasami na końcu. `funkcja_dodawania():`. Wywołana funkcja zwraca wynik i zapisuje go do zmiennej po lewej stronie."
   ]
  },
  {
   "cell_type": "markdown",
   "id": "35715417",
   "metadata": {},
   "source": [
    "## 2. Argumenty\n"
   ]
  },
  {
   "cell_type": "markdown",
   "id": "cdf8da8c",
   "metadata": {},
   "source": [
    "### 1. Funkcja bez argumentów"
   ]
  },
  {
   "cell_type": "code",
   "execution_count": 13,
   "id": "16d93098",
   "metadata": {},
   "outputs": [],
   "source": [
    "def funkcja_1():\n",
    "    print('abcd')"
   ]
  },
  {
   "cell_type": "code",
   "execution_count": 14,
   "id": "233fdcd2",
   "metadata": {},
   "outputs": [
    {
     "name": "stdout",
     "output_type": "stream",
     "text": [
      "abcd\n"
     ]
    }
   ],
   "source": [
    "funkcja_1()"
   ]
  },
  {
   "cell_type": "markdown",
   "id": "61c287ab",
   "metadata": {},
   "source": [
    "### 2. Funkcja z 1 argumentem"
   ]
  },
  {
   "cell_type": "code",
   "execution_count": 19,
   "id": "88feffb5",
   "metadata": {},
   "outputs": [],
   "source": [
    "def funkcja_2(arg1):\n",
    "    return arg1*10"
   ]
  },
  {
   "cell_type": "code",
   "execution_count": 20,
   "id": "bed8b8a4",
   "metadata": {},
   "outputs": [
    {
     "data": {
      "text/plain": [
       "30"
      ]
     },
     "execution_count": 20,
     "metadata": {},
     "output_type": "execute_result"
    }
   ],
   "source": [
    "funkcja_2(3)"
   ]
  },
  {
   "cell_type": "markdown",
   "id": "d94b0e48",
   "metadata": {},
   "source": [
    "### 3. Funkcja z 2 argumentami"
   ]
  },
  {
   "cell_type": "code",
   "execution_count": 23,
   "id": "7dfeedd9",
   "metadata": {},
   "outputs": [],
   "source": [
    "def funkcja_3(arg1, arg2):\n",
    "    return arg1 * arg2"
   ]
  },
  {
   "cell_type": "code",
   "execution_count": 24,
   "id": "8aea2403",
   "metadata": {},
   "outputs": [
    {
     "data": {
      "text/plain": [
       "12"
      ]
     },
     "execution_count": 24,
     "metadata": {},
     "output_type": "execute_result"
    }
   ],
   "source": [
    "funkcja_3(3, 4)"
   ]
  },
  {
   "cell_type": "markdown",
   "id": "6fc973db",
   "metadata": {},
   "source": [
    "### 4. Funkcja z 4 argumentami"
   ]
  },
  {
   "cell_type": "code",
   "execution_count": 25,
   "id": "529825a2",
   "metadata": {},
   "outputs": [],
   "source": [
    "def funkcja_4(arg1, arg2, arg3, arg4):\n",
    "    return arg1 + arg2 + arg3 + arg4"
   ]
  },
  {
   "cell_type": "code",
   "execution_count": 26,
   "id": "bcbcb9e3",
   "metadata": {},
   "outputs": [
    {
     "data": {
      "text/plain": [
       "11"
      ]
     },
     "execution_count": 26,
     "metadata": {},
     "output_type": "execute_result"
    }
   ],
   "source": [
    "funkcja_4(1, 2, 4 , 4)"
   ]
  },
  {
   "cell_type": "markdown",
   "id": "80eb2ac5",
   "metadata": {},
   "source": [
    "### 5. Argumenty podane jako wartości"
   ]
  },
  {
   "cell_type": "code",
   "execution_count": 7,
   "id": "e4533095",
   "metadata": {},
   "outputs": [],
   "source": [
    "def funkcja_1(arg):\n",
    "    argument_w_funkcji = arg + 10\n",
    "    wynik = argument_w_funkcji * 10\n",
    "    return wynik"
   ]
  },
  {
   "cell_type": "code",
   "execution_count": 8,
   "id": "a599b3b3",
   "metadata": {},
   "outputs": [
    {
     "data": {
      "text/plain": [
       "110"
      ]
     },
     "execution_count": 8,
     "metadata": {},
     "output_type": "execute_result"
    }
   ],
   "source": [
    "funkcja_1(1)"
   ]
  },
  {
   "cell_type": "markdown",
   "id": "053ce3de",
   "metadata": {},
   "source": [
    "### 6. Argumenty podane jako zmienne"
   ]
  },
  {
   "cell_type": "code",
   "execution_count": 9,
   "id": "adb25a84",
   "metadata": {},
   "outputs": [],
   "source": [
    "def funkcja_1(arg1, arg2):\n",
    "    argument_w_funkcji = arg1 + arg2\n",
    "    wynik = argument_w_funkcji * 10\n",
    "    return wynik"
   ]
  },
  {
   "cell_type": "code",
   "execution_count": 10,
   "id": "89e1ecb0",
   "metadata": {},
   "outputs": [
    {
     "data": {
      "text/plain": [
       "30"
      ]
     },
     "execution_count": 10,
     "metadata": {},
     "output_type": "execute_result"
    }
   ],
   "source": [
    "x = 1\n",
    "y = 2\n",
    "funkcja_1(x, y)"
   ]
  },
  {
   "cell_type": "markdown",
   "id": "6887d8aa",
   "metadata": {},
   "source": [
    "### 7. Argumenty domyślne"
   ]
  },
  {
   "cell_type": "code",
   "execution_count": 11,
   "id": "a5894ef2",
   "metadata": {},
   "outputs": [],
   "source": [
    "def funkcja_2(arg1, arg2=110):\n",
    "    wynik = arg1 + arg2\n",
    "    return wynik"
   ]
  },
  {
   "cell_type": "code",
   "execution_count": 12,
   "id": "498df685",
   "metadata": {},
   "outputs": [
    {
     "data": {
      "text/plain": [
       "3"
      ]
     },
     "execution_count": 12,
     "metadata": {},
     "output_type": "execute_result"
    }
   ],
   "source": [
    "funkcja_2(1, 2)"
   ]
  },
  {
   "cell_type": "code",
   "execution_count": 13,
   "id": "8c221b8d",
   "metadata": {},
   "outputs": [
    {
     "data": {
      "text/plain": [
       "111"
      ]
     },
     "execution_count": 13,
     "metadata": {},
     "output_type": "execute_result"
    }
   ],
   "source": [
    "funkcja_2(1)"
   ]
  },
  {
   "cell_type": "markdown",
   "id": "dc0e304f",
   "metadata": {},
   "source": [
    "### 8. Kolejność podawania argumentów"
   ]
  },
  {
   "cell_type": "code",
   "execution_count": 14,
   "id": "b5b309e5",
   "metadata": {},
   "outputs": [],
   "source": [
    "def funkcja_2(arg1, arg2, arg3):\n",
    "    wynik = arg1 + arg2 + arg3\n",
    "    return wynik"
   ]
  },
  {
   "cell_type": "markdown",
   "id": "56266e74",
   "metadata": {},
   "source": [
    "Podczas wywoływania funkcji argumenty nazwane następują po argumentach podanych jako wartośći."
   ]
  },
  {
   "cell_type": "code",
   "execution_count": 15,
   "id": "9d0863f2",
   "metadata": {},
   "outputs": [
    {
     "data": {
      "text/plain": [
       "5"
      ]
     },
     "execution_count": 15,
     "metadata": {},
     "output_type": "execute_result"
    }
   ],
   "source": [
    "funkcja_2(1, 2, arg3=2)"
   ]
  },
  {
   "cell_type": "markdown",
   "id": "64a90345",
   "metadata": {},
   "source": [
    "#### Bład 1: nazwane argumenty nie mogą być przed wartościami"
   ]
  },
  {
   "cell_type": "code",
   "execution_count": 129,
   "id": "5181966e",
   "metadata": {},
   "outputs": [
    {
     "ename": "SyntaxError",
     "evalue": "positional argument follows keyword argument (3488220647.py, line 1)",
     "output_type": "error",
     "traceback": [
      "\u001b[0;36m  File \u001b[0;32m\"/tmp/ipykernel_1845421/3488220647.py\"\u001b[0;36m, line \u001b[0;32m1\u001b[0m\n\u001b[0;31m    funkcja_2(1, arg3=2, 3)\u001b[0m\n\u001b[0m                         ^\u001b[0m\n\u001b[0;31mSyntaxError\u001b[0m\u001b[0;31m:\u001b[0m positional argument follows keyword argument\n"
     ]
    }
   ],
   "source": [
    "funkcja_2(1, arg3=2, 3)"
   ]
  },
  {
   "cell_type": "markdown",
   "id": "78bae7b2",
   "metadata": {},
   "source": [
    "#### Błąd 2: jeden argument nie może być podany dwukrotnie"
   ]
  },
  {
   "cell_type": "code",
   "execution_count": 125,
   "id": "6b53eb52",
   "metadata": {},
   "outputs": [
    {
     "ename": "TypeError",
     "evalue": "funkcja_2() got multiple values for argument 'arg2'",
     "output_type": "error",
     "traceback": [
      "\u001b[0;31m---------------------------------------------------------------------------\u001b[0m",
      "\u001b[0;31mTypeError\u001b[0m                                 Traceback (most recent call last)",
      "\u001b[0;32m/tmp/ipykernel_1845421/4190273061.py\u001b[0m in \u001b[0;36m<module>\u001b[0;34m\u001b[0m\n\u001b[0;32m----> 1\u001b[0;31m \u001b[0mfunkcja_2\u001b[0m\u001b[0;34m(\u001b[0m\u001b[0;36m1\u001b[0m\u001b[0;34m,\u001b[0m \u001b[0;36m2\u001b[0m\u001b[0;34m,\u001b[0m \u001b[0marg2\u001b[0m\u001b[0;34m=\u001b[0m\u001b[0;36m3\u001b[0m\u001b[0;34m)\u001b[0m\u001b[0;34m\u001b[0m\u001b[0;34m\u001b[0m\u001b[0m\n\u001b[0m",
      "\u001b[0;31mTypeError\u001b[0m: funkcja_2() got multiple values for argument 'arg2'"
     ]
    }
   ],
   "source": [
    "funkcja_2(1, 2, arg2=3)"
   ]
  },
  {
   "cell_type": "markdown",
   "id": "7d47a82b",
   "metadata": {},
   "source": [
    "### 9. Argumenty wewnątrz funkcji - argumenty lokalne"
   ]
  },
  {
   "cell_type": "code",
   "execution_count": 22,
   "id": "fcefa762",
   "metadata": {},
   "outputs": [],
   "source": [
    "def funkcja_1(arg):\n",
    "    argument_w_funkcji = arg + 10\n",
    "    wynik = argument_w_funkcji * 10\n",
    "    return wynik"
   ]
  },
  {
   "cell_type": "code",
   "execution_count": 23,
   "id": "2d19fe0a",
   "metadata": {},
   "outputs": [
    {
     "ename": "NameError",
     "evalue": "name 'argument_w_funkcji' is not defined",
     "output_type": "error",
     "traceback": [
      "\u001b[0;31m---------------------------------------------------------------------------\u001b[0m",
      "\u001b[0;31mNameError\u001b[0m                                 Traceback (most recent call last)",
      "\u001b[0;32m/tmp/ipykernel_1916164/2902690094.py\u001b[0m in \u001b[0;36m<module>\u001b[0;34m\u001b[0m\n\u001b[0;32m----> 1\u001b[0;31m \u001b[0margument_w_funkcji\u001b[0m\u001b[0;34m\u001b[0m\u001b[0;34m\u001b[0m\u001b[0m\n\u001b[0m\u001b[1;32m      2\u001b[0m \u001b[0mfunkcja_2\u001b[0m\u001b[0;34m(\u001b[0m\u001b[0;36m1\u001b[0m\u001b[0;34m)\u001b[0m\u001b[0;34m\u001b[0m\u001b[0;34m\u001b[0m\u001b[0m\n",
      "\u001b[0;31mNameError\u001b[0m: name 'argument_w_funkcji' is not defined"
     ]
    }
   ],
   "source": [
    "argument_w_funkcji\n",
    "funkcja_2(1)"
   ]
  },
  {
   "cell_type": "code",
   "execution_count": 30,
   "id": "c0a38828",
   "metadata": {},
   "outputs": [],
   "source": [
    "def funkcja_1():\n",
    "    a1 = 10\n",
    "    \n",
    "def funkcja_2():\n",
    "    a2 = 10\n",
    "    print(a1)"
   ]
  },
  {
   "cell_type": "code",
   "execution_count": 32,
   "id": "bd213e60",
   "metadata": {},
   "outputs": [],
   "source": [
    "funkcja_1()"
   ]
  },
  {
   "cell_type": "markdown",
   "id": "5d991b11",
   "metadata": {},
   "source": [
    "#### Ale `funkcja_2()` wywyołą błąd, \n",
    "\n",
    "#### ponieważ odwołuje się do argumentu do któreg nie posiada dostępu - argumentu z innej funkcji."
   ]
  },
  {
   "cell_type": "code",
   "execution_count": 31,
   "id": "ce64fc2f",
   "metadata": {},
   "outputs": [
    {
     "ename": "NameError",
     "evalue": "name 'a1' is not defined",
     "output_type": "error",
     "traceback": [
      "\u001b[0;31m---------------------------------------------------------------------------\u001b[0m",
      "\u001b[0;31mNameError\u001b[0m                                 Traceback (most recent call last)",
      "\u001b[0;32m/tmp/ipykernel_1916164/2896990325.py\u001b[0m in \u001b[0;36m<module>\u001b[0;34m\u001b[0m\n\u001b[0;32m----> 1\u001b[0;31m \u001b[0mfunkcja_2\u001b[0m\u001b[0;34m(\u001b[0m\u001b[0;34m)\u001b[0m\u001b[0;34m\u001b[0m\u001b[0;34m\u001b[0m\u001b[0m\n\u001b[0m",
      "\u001b[0;32m/tmp/ipykernel_1916164/2111525114.py\u001b[0m in \u001b[0;36mfunkcja_2\u001b[0;34m()\u001b[0m\n\u001b[1;32m      4\u001b[0m \u001b[0;32mdef\u001b[0m \u001b[0mfunkcja_2\u001b[0m\u001b[0;34m(\u001b[0m\u001b[0;34m)\u001b[0m\u001b[0;34m:\u001b[0m\u001b[0;34m\u001b[0m\u001b[0;34m\u001b[0m\u001b[0m\n\u001b[1;32m      5\u001b[0m     \u001b[0ma2\u001b[0m \u001b[0;34m=\u001b[0m \u001b[0;36m10\u001b[0m\u001b[0;34m\u001b[0m\u001b[0;34m\u001b[0m\u001b[0m\n\u001b[0;32m----> 6\u001b[0;31m     \u001b[0mprint\u001b[0m\u001b[0;34m(\u001b[0m\u001b[0ma1\u001b[0m\u001b[0;34m)\u001b[0m\u001b[0;34m\u001b[0m\u001b[0;34m\u001b[0m\u001b[0m\n\u001b[0m",
      "\u001b[0;31mNameError\u001b[0m: name 'a1' is not defined"
     ]
    }
   ],
   "source": [
    "funkcja_2()"
   ]
  },
  {
   "cell_type": "markdown",
   "id": "a6e12fbd",
   "metadata": {},
   "source": [
    "### 10. Argumenty z poza funkcji w funkcji"
   ]
  },
  {
   "cell_type": "code",
   "execution_count": 28,
   "id": "59f93c12",
   "metadata": {},
   "outputs": [],
   "source": [
    "ARGUMENT_POZA_FUNKCJA = 10\n",
    "\n",
    "def funkcja():\n",
    "    print('->', ARGUMENT_POZA_FUNKCJA)"
   ]
  },
  {
   "cell_type": "code",
   "execution_count": 29,
   "id": "278052ea",
   "metadata": {},
   "outputs": [
    {
     "name": "stdout",
     "output_type": "stream",
     "text": [
      "-> 10\n"
     ]
    }
   ],
   "source": [
    "funkcja()"
   ]
  },
  {
   "cell_type": "markdown",
   "id": "23ff6ebd",
   "metadata": {},
   "source": [
    "### 11. Funkcja w funkcji"
   ]
  },
  {
   "cell_type": "code",
   "execution_count": 34,
   "id": "e7c933bc",
   "metadata": {},
   "outputs": [],
   "source": [
    "def funkcja1(a):\n",
    "    \n",
    "    def funkcja2(y):\n",
    "        return y * 10\n",
    "    \n",
    "    y = a * 10\n",
    "    x = funkcja2(y)\n",
    "    return x"
   ]
  },
  {
   "cell_type": "code",
   "execution_count": 35,
   "id": "ae4bd754",
   "metadata": {},
   "outputs": [
    {
     "data": {
      "text/plain": [
       "100"
      ]
     },
     "execution_count": 35,
     "metadata": {},
     "output_type": "execute_result"
    }
   ],
   "source": [
    "funkcja1(1)"
   ]
  },
  {
   "cell_type": "markdown",
   "id": "9fc07909",
   "metadata": {},
   "source": [
    "#### Jednak bezpośrednie wywołanie `funkcja2()` zwróci błąd"
   ]
  },
  {
   "cell_type": "code",
   "execution_count": 36,
   "id": "62007c02",
   "metadata": {},
   "outputs": [
    {
     "ename": "NameError",
     "evalue": "name 'funkcja2' is not defined",
     "output_type": "error",
     "traceback": [
      "\u001b[0;31m---------------------------------------------------------------------------\u001b[0m",
      "\u001b[0;31mNameError\u001b[0m                                 Traceback (most recent call last)",
      "\u001b[0;32m/tmp/ipykernel_1916164/3025586475.py\u001b[0m in \u001b[0;36m<module>\u001b[0;34m\u001b[0m\n\u001b[0;32m----> 1\u001b[0;31m \u001b[0mfunkcja2\u001b[0m\u001b[0;34m(\u001b[0m\u001b[0;36m2\u001b[0m\u001b[0;34m)\u001b[0m\u001b[0;34m\u001b[0m\u001b[0;34m\u001b[0m\u001b[0m\n\u001b[0m",
      "\u001b[0;31mNameError\u001b[0m: name 'funkcja2' is not defined"
     ]
    }
   ],
   "source": [
    "funkcja2(2) "
   ]
  },
  {
   "cell_type": "markdown",
   "id": "e890f9ae",
   "metadata": {},
   "source": [
    "#### Funkcja ta nie jest dostępna poza `funkcja1()` w której została zdefiniowana."
   ]
  },
  {
   "cell_type": "markdown",
   "id": "8ea6b051",
   "metadata": {},
   "source": [
    "## Level 2\n",
    "\n",
    "1. lambda - `dodawanie = lambda a, b: a + b` /  `dodawanie(1, 2)`\n",
    "2. argumenty `*args`\n",
    "3. argumenty `**kwargs`\n",
    "4. argumenty lokalne i globalne z `global`\n",
    "5. generatory i `yield`"
   ]
  },
  {
   "cell_type": "markdown",
   "id": "e7ff5ebf",
   "metadata": {},
   "source": [
    "### 1. lambda\n",
    "\n",
    "To rodzaj krótkiej, 1 liniowej funkcji. \n",
    "\n",
    "Jest szybka w zapisie i z uwagi na to często używa się jej jako argument funkcji wymagających innych funkcji."
   ]
  },
  {
   "cell_type": "markdown",
   "id": "0da56bbf",
   "metadata": {},
   "source": [
    "#### Funkcja dodawania"
   ]
  },
  {
   "cell_type": "markdown",
   "id": "2756dbcb",
   "metadata": {},
   "source": [
    "Definicja"
   ]
  },
  {
   "cell_type": "code",
   "execution_count": 44,
   "id": "548deed6",
   "metadata": {},
   "outputs": [],
   "source": [
    "def dodawanie(a, b):\n",
    "    return a + b"
   ]
  },
  {
   "cell_type": "markdown",
   "id": "df7998e4",
   "metadata": {},
   "source": [
    "Wywołanie"
   ]
  },
  {
   "cell_type": "code",
   "execution_count": 45,
   "id": "c9cbdedc",
   "metadata": {},
   "outputs": [
    {
     "data": {
      "text/plain": [
       "3"
      ]
     },
     "execution_count": 45,
     "metadata": {},
     "output_type": "execute_result"
    }
   ],
   "source": [
    "dodawanie(1, 2)"
   ]
  },
  {
   "cell_type": "markdown",
   "id": "25e5a0ca",
   "metadata": {},
   "source": [
    "#### To samo ale `lambda`"
   ]
  },
  {
   "cell_type": "markdown",
   "id": "c0b5bebc",
   "metadata": {},
   "source": [
    "Definicja"
   ]
  },
  {
   "cell_type": "code",
   "execution_count": 48,
   "id": "394c46af",
   "metadata": {},
   "outputs": [],
   "source": [
    "dodawanie = lambda a, b: a + b"
   ]
  },
  {
   "cell_type": "markdown",
   "id": "d4aa1252",
   "metadata": {},
   "source": [
    "Wywołanie"
   ]
  },
  {
   "cell_type": "code",
   "execution_count": 49,
   "id": "073f8c8f",
   "metadata": {},
   "outputs": [
    {
     "data": {
      "text/plain": [
       "3"
      ]
     },
     "execution_count": 49,
     "metadata": {},
     "output_type": "execute_result"
    }
   ],
   "source": [
    "dodawanie(1, 2)"
   ]
  },
  {
   "cell_type": "code",
   "execution_count": null,
   "id": "466782ce",
   "metadata": {},
   "outputs": [],
   "source": []
  },
  {
   "cell_type": "markdown",
   "id": "6dafe557",
   "metadata": {},
   "source": [
    "### 2.`*args`"
   ]
  },
  {
   "cell_type": "code",
   "execution_count": 75,
   "id": "ce06fd53",
   "metadata": {},
   "outputs": [
    {
     "data": {
      "text/plain": [
       "100"
      ]
     },
     "execution_count": 75,
     "metadata": {},
     "output_type": "execute_result"
    }
   ],
   "source": [
    "def funkcja_4(*argumenty):\n",
    "    suma = 0\n",
    "    for argument in argumenty:\n",
    "        suma += argument\n",
    "    return suma"
   ]
  },
  {
   "cell_type": "code",
   "execution_count": null,
   "id": "55845652",
   "metadata": {},
   "outputs": [],
   "source": [
    "lista_argumentow = [10, 20, 30, 40]\n",
    "\n",
    "funkcja_4(*lista_argumentow)"
   ]
  },
  {
   "cell_type": "code",
   "execution_count": 76,
   "id": "43f2023c",
   "metadata": {},
   "outputs": [
    {
     "data": {
      "text/plain": [
       "100"
      ]
     },
     "execution_count": 76,
     "metadata": {},
     "output_type": "execute_result"
    }
   ],
   "source": [
    "def funkcja_4(arg1, arg2, arg3, arg4):\n",
    "    return arg1 + arg2 + arg3 + arg4"
   ]
  },
  {
   "cell_type": "code",
   "execution_count": null,
   "id": "1d140ce7",
   "metadata": {},
   "outputs": [],
   "source": [
    "lista_argumentow = [10, 20, 30, 40]\n",
    "\n",
    "funkcja_4(*lista_argumentow)"
   ]
  },
  {
   "cell_type": "code",
   "execution_count": null,
   "id": "f54a278c",
   "metadata": {},
   "outputs": [],
   "source": [
    "def test_var_args(f_arg, *argv):\n",
    "    print(\"first normal arg:\", f_arg)\n",
    "    for arg in argv:\n",
    "        print(\"another arg through *argv:\", arg)\n",
    "\n",
    "test_var_args('yasoob', 'python', 'eggs', 'test')"
   ]
  },
  {
   "cell_type": "code",
   "execution_count": null,
   "id": "2bbd9883",
   "metadata": {},
   "outputs": [],
   "source": [
    "def test_args_kwargs(arg1, arg2, arg3):\n",
    "    print(\"arg1:\", arg1)\n",
    "    print(\"arg2:\", arg2)\n",
    "    print(\"arg3:\", arg3)"
   ]
  },
  {
   "cell_type": "code",
   "execution_count": 123,
   "id": "fcd79124",
   "metadata": {},
   "outputs": [
    {
     "ename": "NameError",
     "evalue": "name 'test_args_kwargs' is not defined",
     "output_type": "error",
     "traceback": [
      "\u001b[0;31m---------------------------------------------------------------------------\u001b[0m",
      "\u001b[0;31mNameError\u001b[0m                                 Traceback (most recent call last)",
      "\u001b[0;32m/tmp/ipykernel_1845421/3999252648.py\u001b[0m in \u001b[0;36m<module>\u001b[0;34m\u001b[0m\n\u001b[0;32m----> 1\u001b[0;31m \u001b[0mtest_args_kwargs\u001b[0m\u001b[0;34m(\u001b[0m\u001b[0mf_arg\u001b[0m\u001b[0;34m,\u001b[0m \u001b[0;34m*\u001b[0m\u001b[0margs\u001b[0m\u001b[0;34m)\u001b[0m\u001b[0;34m\u001b[0m\u001b[0;34m\u001b[0m\u001b[0m\n\u001b[0m",
      "\u001b[0;31mNameError\u001b[0m: name 'test_args_kwargs' is not defined"
     ]
    }
   ],
   "source": [
    "test_args_kwargs(f_arg, *args)"
   ]
  },
  {
   "cell_type": "code",
   "execution_count": 124,
   "id": "c874c6eb",
   "metadata": {},
   "outputs": [
    {
     "ename": "NameError",
     "evalue": "name 'test_args_kwargs' is not defined",
     "output_type": "error",
     "traceback": [
      "\u001b[0;31m---------------------------------------------------------------------------\u001b[0m",
      "\u001b[0;31mNameError\u001b[0m                                 Traceback (most recent call last)",
      "\u001b[0;32m/tmp/ipykernel_1845421/2663027594.py\u001b[0m in \u001b[0;36m<module>\u001b[0;34m\u001b[0m\n\u001b[0;32m----> 1\u001b[0;31m \u001b[0mtest_args_kwargs\u001b[0m\u001b[0;34m(\u001b[0m\u001b[0mf_arg\u001b[0m\u001b[0;34m,\u001b[0m \u001b[0;34m**\u001b[0m\u001b[0mkwargs\u001b[0m\u001b[0;34m)\u001b[0m\u001b[0;34m\u001b[0m\u001b[0;34m\u001b[0m\u001b[0m\n\u001b[0m",
      "\u001b[0;31mNameError\u001b[0m: name 'test_args_kwargs' is not defined"
     ]
    }
   ],
   "source": [
    " test_args_kwargs(f_arg, **kwargs)"
   ]
  },
  {
   "cell_type": "markdown",
   "id": "a0bfa7ef",
   "metadata": {},
   "source": [
    "### 3. `**kwargs`"
   ]
  },
  {
   "cell_type": "code",
   "execution_count": 86,
   "id": "ad4eb71d",
   "metadata": {},
   "outputs": [
    {
     "ename": "TypeError",
     "evalue": "funkcja_4() argument after ** must be a mapping, not set",
     "output_type": "error",
     "traceback": [
      "\u001b[0;31m---------------------------------------------------------------------------\u001b[0m",
      "\u001b[0;31mTypeError\u001b[0m                                 Traceback (most recent call last)",
      "\u001b[0;32m/tmp/ipykernel_1845421/3623405979.py\u001b[0m in \u001b[0;36m<module>\u001b[0;34m\u001b[0m\n\u001b[1;32m      7\u001b[0m \u001b[0mslownik_argumentow\u001b[0m \u001b[0;34m=\u001b[0m \u001b[0;34m{\u001b[0m\u001b[0;34m'a'\u001b[0m\u001b[0;34m,\u001b[0m \u001b[0;36m1\u001b[0m\u001b[0;34m,\u001b[0m \u001b[0;34m'b'\u001b[0m\u001b[0;34m,\u001b[0m \u001b[0;36m2\u001b[0m\u001b[0;34m}\u001b[0m\u001b[0;34m\u001b[0m\u001b[0;34m\u001b[0m\u001b[0m\n\u001b[1;32m      8\u001b[0m \u001b[0;34m\u001b[0m\u001b[0m\n\u001b[0;32m----> 9\u001b[0;31m \u001b[0mfunkcja_4\u001b[0m\u001b[0;34m(\u001b[0m\u001b[0;34m**\u001b[0m\u001b[0mslownik_argumentow\u001b[0m\u001b[0;34m)\u001b[0m\u001b[0;34m\u001b[0m\u001b[0;34m\u001b[0m\u001b[0m\n\u001b[0m",
      "\u001b[0;31mTypeError\u001b[0m: funkcja_4() argument after ** must be a mapping, not set"
     ]
    }
   ],
   "source": [
    "def funkcja_4(**kwargs):\n",
    "    suma = 0\n",
    "    for argument in kwargs:\n",
    "        suma += argument\n",
    "    return suma\n",
    "\n",
    "slownik_argumentow = {'a', 1, 'b', 2}\n",
    "\n",
    "funkcja_4(**slownik_argumentow)"
   ]
  },
  {
   "cell_type": "code",
   "execution_count": 78,
   "id": "3960b88b",
   "metadata": {},
   "outputs": [
    {
     "data": {
      "text/plain": [
       "100"
      ]
     },
     "execution_count": 78,
     "metadata": {},
     "output_type": "execute_result"
    }
   ],
   "source": [
    "funkcja_4(*lista_argumentow)"
   ]
  },
  {
   "cell_type": "code",
   "execution_count": 99,
   "id": "9a7a8ea7",
   "metadata": {},
   "outputs": [
    {
     "name": "stdout",
     "output_type": "stream",
     "text": [
      "Klucz: a - Wartość: abc\n",
      "Klucz: b - Wartość: abc\n",
      "Klucz: c - Wartość: {'a': 1}\n"
     ]
    }
   ],
   "source": [
    "def f1(**kwargs):\n",
    "    for klucz, wartosc in kwargs.items():\n",
    "        print(\"Klucz: {0} - Wartość: {1}\".format(klucz, wartosc))\n",
    "\n",
    "f1(a=\"abc\", b='abc', c={'a':1})"
   ]
  },
  {
   "cell_type": "code",
   "execution_count": null,
   "id": "f36a57a4",
   "metadata": {},
   "outputs": [],
   "source": [
    "Order of using *args **kwargs and formal args\n",
    "\n",
    "So if you want to use all three of these in functions then the order is\n",
    "\n",
    "some_func(fargs, *args, **kwargs)"
   ]
  },
  {
   "cell_type": "markdown",
   "id": "65980e11",
   "metadata": {},
   "source": [
    "### 4. argumenty lokalne i globalne z `global`\n",
    "\n",
    "TBD"
   ]
  },
  {
   "cell_type": "markdown",
   "id": "e5362cd2",
   "metadata": {},
   "source": [
    "### 5. Generatory i `yield`\n",
    "\n",
    "TBD"
   ]
  },
  {
   "cell_type": "markdown",
   "id": "3da472a8",
   "metadata": {},
   "source": [
    "## Level 3"
   ]
  },
  {
   "cell_type": "markdown",
   "id": "dda140dd",
   "metadata": {},
   "source": [
    "### 1. Functools\n",
    "\n",
    "TBD"
   ]
  },
  {
   "cell_type": "markdown",
   "id": "1a1ca54a",
   "metadata": {},
   "source": [
    "### 2. `@dekoratory`\n",
    "\n",
    "TBD"
   ]
  },
  {
   "cell_type": "code",
   "execution_count": null,
   "id": "c2d982be",
   "metadata": {},
   "outputs": [],
   "source": []
  }
 ],
 "metadata": {
  "kernelspec": {
   "display_name": "Python 3 (ipykernel)",
   "language": "python",
   "name": "python3"
  },
  "language_info": {
   "codemirror_mode": {
    "name": "ipython",
    "version": 3
   },
   "file_extension": ".py",
   "mimetype": "text/x-python",
   "name": "python",
   "nbconvert_exporter": "python",
   "pygments_lexer": "ipython3",
   "version": "3.8.10"
  }
 },
 "nbformat": 4,
 "nbformat_minor": 5
}
