{
 "cells": [
  {
   "cell_type": "markdown",
   "id": "583f8564",
   "metadata": {},
   "source": [
    "# Ćwiczenia\n",
    "\n",
    "### Tu wklejaj i edytuj kod z zeszytów klocków. Ćwicz, baw się nim.\n",
    "\n",
    "W przyszłości stwórz własny system notatników aby trzymać w nich najważniejsze notatki i skrypty.\n",
    "\n",
    "(Jeżeli zechcesz się nimi podzielić, wyślij **Pull Request (PR)** na `ZPXD/zajecia_programowania_xd`).\n",
    "\n",
    "#### Najlepiej przekejaj tutaj i po kilka razy na różne sposoby przećwicz każdą komórkę kodu jaką napotkasz w zeszytach klocków. "
   ]
  },
  {
   "cell_type": "markdown",
   "id": "629a4650",
   "metadata": {},
   "source": [
    "#### Ćwiczenie 1"
   ]
  },
  {
   "cell_type": "code",
   "execution_count": null,
   "id": "d249aa4c",
   "metadata": {},
   "outputs": [],
   "source": []
  },
  {
   "cell_type": "markdown",
   "id": "a0d72433",
   "metadata": {},
   "source": [
    "#### Ćwiczenie 2"
   ]
  },
  {
   "cell_type": "code",
   "execution_count": null,
   "id": "9f602083",
   "metadata": {},
   "outputs": [],
   "source": []
  },
  {
   "cell_type": "markdown",
   "id": "33d64900",
   "metadata": {},
   "source": [
    "#### Ćwiczenie 3"
   ]
  },
  {
   "cell_type": "code",
   "execution_count": null,
   "id": "fe35b0d3",
   "metadata": {},
   "outputs": [],
   "source": []
  },
  {
   "cell_type": "markdown",
   "id": "967e0673",
   "metadata": {},
   "source": [
    "#### Itp."
   ]
  },
  {
   "cell_type": "code",
   "execution_count": null,
   "id": "9eb9b0f8",
   "metadata": {},
   "outputs": [],
   "source": []
  }
 ],
 "metadata": {
  "kernelspec": {
   "display_name": "Python 3 (ipykernel)",
   "language": "python",
   "name": "python3"
  },
  "language_info": {
   "codemirror_mode": {
    "name": "ipython",
    "version": 3
   },
   "file_extension": ".py",
   "mimetype": "text/x-python",
   "name": "python",
   "nbconvert_exporter": "python",
   "pygments_lexer": "ipython3",
   "version": "3.8.10"
  }
 },
 "nbformat": 4,
 "nbformat_minor": 5
}
