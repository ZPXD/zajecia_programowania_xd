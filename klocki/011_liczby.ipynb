{
 "cells": [
  {
   "cell_type": "markdown",
   "id": "2213638f",
   "metadata": {},
   "source": [
    "# 011 - liczby\n",
    "\n",
    "Liczby.\n",
    "\n",
    "#### Spis treści:\n",
    "\n",
    "Level 1:\n",
    "1. Liczby w Pythonie\n",
    "2. Podstawowa matematyka w Pythonie\n",
    "3. Inkrementacja / liczniki\n",
    "4. Stwórz zakres liczbowy - `zakres = range(10)`\n",
    "5. Sprawdź czy wartość jest typu liczby - `isinstance(liczba, int)` / `isinstance(liczba, float)`\n",
    "\n",
    "Level 2:\n",
    "1. Podstawy biblioteki `numpy`\n",
    "2. Podstawy biblioteki `random`\n",
    "3. Biblioteka `math`\n",
    "\n",
    "Level 3:\n",
    "1. Inne formaty liczbowe: `bin()` / `hex()` / `oct()`\n",
    "2. Bytes -`bytes()`\n",
    "3. Biblioteka `numpy`\n",
    "4. Biblioteka `scipy`"
   ]
  },
  {
   "cell_type": "markdown",
   "id": "b8a69326",
   "metadata": {},
   "source": [
    "## Liczby\n",
    "\n",
    "#### Czyli dane tekstowe\n",
    "\n",
    "Nauka przyniesie najlepsze efekty gdy po przeczytaniu opisów metod i funkcji będziesz odpalał i modyfikował wszystkie komórki z kodem. \n",
    "- otwórz nowy notebook (najlepiej poza TYM notebookiem)\n",
    "- wracaj codziennie przez kilka dni do tego zeszytu\n",
    "\n",
    "## Jak dobrze wyćwiczyć wszystko co związane z typami liczbowymi?\n",
    "\n",
    "#### Ćwicz od razu\n",
    "\n",
    "Odpalaj każdy kod w tym zeszycie, spróbuj modyfikować niektóre elementy aby lepiej je zrozumieć\n",
    "\n",
    "#### Powtarzaj wiele razy\n",
    "\n",
    "Przez co najmniej 7 dni przeglądaj codziennie ten zeszyt (daj sobie z 5-10 minut - a najlepiej więcej, przejrzyj wszystkie funkcje, kod) - utrwalisz materiał\n",
    "\n",
    "#### Przechodź po kolei poziomy -  oddziel to co ważne i pilne od tego co jest przydatne w dalszej kolejności\n",
    "\n",
    "Ten plik jest podzielony na kilka poziomów. \n",
    "\n",
    "Możesz przeczytać cały opis danego tematu za jednym razem albo\n",
    "nauczyć sie tego co najbardziej istotnie i po zaawansowany materiał\n",
    "wrócić tu później.\n"
   ]
  },
  {
   "cell_type": "markdown",
   "id": "5604c9cd",
   "metadata": {},
   "source": [
    "## 1. Liczby w Pythonie\n",
    "\n",
    "Liczby w Pythonie mają dwa główne typy i troche rzadziej używanych."
   ]
  },
  {
   "cell_type": "markdown",
   "id": "9799888c",
   "metadata": {},
   "source": [
    "#### Liczba całkowita. `integer`, `int`\n",
    "\n",
    "Po prostu liczba. "
   ]
  },
  {
   "cell_type": "code",
   "execution_count": 108,
   "id": "33a2c3d8",
   "metadata": {},
   "outputs": [
    {
     "data": {
      "text/plain": [
       "10000000000000000000000000000000000000000000000000000000000000000000000000000000000000000000000000000000000000"
      ]
     },
     "execution_count": 108,
     "metadata": {},
     "output_type": "execute_result"
    }
   ],
   "source": [
    "10000000000000000000000000000000000000000000000000000000000000000000000000000000000000000000000000000000000000"
   ]
  },
  {
   "cell_type": "code",
   "execution_count": 15,
   "id": "4b0757b6",
   "metadata": {},
   "outputs": [
    {
     "data": {
      "text/plain": [
       "int"
      ]
     },
     "execution_count": 15,
     "metadata": {},
     "output_type": "execute_result"
    }
   ],
   "source": [
    "type(10)"
   ]
  },
  {
   "cell_type": "markdown",
   "id": "58177d00",
   "metadata": {},
   "source": [
    "#### Liczba zmiennoprzecinkowa. `float` "
   ]
  },
  {
   "cell_type": "code",
   "execution_count": 16,
   "id": "8831bb94",
   "metadata": {},
   "outputs": [
    {
     "data": {
      "text/plain": [
       "1.1"
      ]
     },
     "execution_count": 16,
     "metadata": {},
     "output_type": "execute_result"
    }
   ],
   "source": [
    "1.1"
   ]
  },
  {
   "cell_type": "code",
   "execution_count": 17,
   "id": "c6083533",
   "metadata": {},
   "outputs": [
    {
     "data": {
      "text/plain": [
       "float"
      ]
     },
     "execution_count": 17,
     "metadata": {},
     "output_type": "execute_result"
    }
   ],
   "source": [
    "type(1.1)"
   ]
  },
  {
   "cell_type": "markdown",
   "id": "5cd2764a",
   "metadata": {},
   "source": [
    "#### Zamiana `float` na `int` - `int()` i odwrotnie `int` na `float` - `float()` "
   ]
  },
  {
   "cell_type": "code",
   "execution_count": 21,
   "id": "a6d4d317",
   "metadata": {},
   "outputs": [
    {
     "data": {
      "text/plain": [
       "1"
      ]
     },
     "execution_count": 21,
     "metadata": {},
     "output_type": "execute_result"
    }
   ],
   "source": [
    "int(1.1)"
   ]
  },
  {
   "cell_type": "code",
   "execution_count": 22,
   "id": "168c7464",
   "metadata": {},
   "outputs": [
    {
     "data": {
      "text/plain": [
       "int"
      ]
     },
     "execution_count": 22,
     "metadata": {},
     "output_type": "execute_result"
    }
   ],
   "source": [
    "type(int(1.1))"
   ]
  },
  {
   "cell_type": "code",
   "execution_count": 23,
   "id": "dafd7d43",
   "metadata": {},
   "outputs": [
    {
     "data": {
      "text/plain": [
       "1.0"
      ]
     },
     "execution_count": 23,
     "metadata": {},
     "output_type": "execute_result"
    }
   ],
   "source": [
    "float(1)"
   ]
  },
  {
   "cell_type": "code",
   "execution_count": 24,
   "id": "d662b47e",
   "metadata": {},
   "outputs": [
    {
     "data": {
      "text/plain": [
       "float"
      ]
     },
     "execution_count": 24,
     "metadata": {},
     "output_type": "execute_result"
    }
   ],
   "source": [
    "type(float(1))"
   ]
  },
  {
   "cell_type": "markdown",
   "id": "1a24ee2c",
   "metadata": {},
   "source": [
    "## 2. Podstawowa matematyka w Pythonie"
   ]
  },
  {
   "cell_type": "markdown",
   "id": "01e5fe23",
   "metadata": {},
   "source": [
    "#### Dodawanie"
   ]
  },
  {
   "cell_type": "code",
   "execution_count": 27,
   "id": "b1e0ca3a",
   "metadata": {},
   "outputs": [
    {
     "data": {
      "text/plain": [
       "2"
      ]
     },
     "execution_count": 27,
     "metadata": {},
     "output_type": "execute_result"
    }
   ],
   "source": [
    "1 + 1"
   ]
  },
  {
   "cell_type": "markdown",
   "id": "8dff81b7",
   "metadata": {},
   "source": [
    "#### Dodawanie elementów w liście"
   ]
  },
  {
   "cell_type": "code",
   "execution_count": 62,
   "id": "2ceffd25",
   "metadata": {},
   "outputs": [
    {
     "data": {
      "text/plain": [
       "4"
      ]
     },
     "execution_count": 62,
     "metadata": {},
     "output_type": "execute_result"
    }
   ],
   "source": [
    "sum([1, 1, 2])"
   ]
  },
  {
   "cell_type": "markdown",
   "id": "a1c17d14",
   "metadata": {},
   "source": [
    "#### Odejmowanie"
   ]
  },
  {
   "cell_type": "code",
   "execution_count": 28,
   "id": "0c6952aa",
   "metadata": {},
   "outputs": [
    {
     "data": {
      "text/plain": [
       "0"
      ]
     },
     "execution_count": 28,
     "metadata": {},
     "output_type": "execute_result"
    }
   ],
   "source": [
    "1 - 1"
   ]
  },
  {
   "cell_type": "markdown",
   "id": "c5ad24b9",
   "metadata": {},
   "source": [
    "#### Mnożenie"
   ]
  },
  {
   "cell_type": "code",
   "execution_count": 29,
   "id": "bf6bba7f",
   "metadata": {},
   "outputs": [
    {
     "data": {
      "text/plain": [
       "16"
      ]
     },
     "execution_count": 29,
     "metadata": {},
     "output_type": "execute_result"
    }
   ],
   "source": [
    "4 * 4"
   ]
  },
  {
   "cell_type": "markdown",
   "id": "98d700c9",
   "metadata": {},
   "source": [
    "#### Dzielenie - normalne"
   ]
  },
  {
   "cell_type": "code",
   "execution_count": 30,
   "id": "08b47d4b",
   "metadata": {},
   "outputs": [
    {
     "data": {
      "text/plain": [
       "2.5"
      ]
     },
     "execution_count": 30,
     "metadata": {},
     "output_type": "execute_result"
    }
   ],
   "source": [
    "5 / 2"
   ]
  },
  {
   "cell_type": "markdown",
   "id": "7401047e",
   "metadata": {},
   "source": [
    "#### Dzielenie - zaokrąglając w dół"
   ]
  },
  {
   "cell_type": "code",
   "execution_count": 37,
   "id": "c11470bd",
   "metadata": {},
   "outputs": [
    {
     "data": {
      "text/plain": [
       "3"
      ]
     },
     "execution_count": 37,
     "metadata": {},
     "output_type": "execute_result"
    }
   ],
   "source": [
    "9 // 3"
   ]
  },
  {
   "cell_type": "code",
   "execution_count": 38,
   "id": "f590927f",
   "metadata": {},
   "outputs": [
    {
     "data": {
      "text/plain": [
       "2"
      ]
     },
     "execution_count": 38,
     "metadata": {},
     "output_type": "execute_result"
    }
   ],
   "source": [
    "8 // 3"
   ]
  },
  {
   "cell_type": "markdown",
   "id": "b90b6210",
   "metadata": {},
   "source": [
    "#### Reszta z dzielenia -  `ile, reszta = divmod(10, 3)`:\n",
    "\n",
    "Masz 20 cukierków i chcesz je podzielić na 8 osób. \n",
    "1. Ile cukierków każdy dostanie?\n",
    "2. Ile cukierków Ci zostanie? xDDD"
   ]
  },
  {
   "cell_type": "code",
   "execution_count": 78,
   "id": "8be3c720",
   "metadata": {},
   "outputs": [
    {
     "data": {
      "text/plain": [
       "(2, 4)"
      ]
     },
     "execution_count": 78,
     "metadata": {},
     "output_type": "execute_result"
    }
   ],
   "source": [
    "liczba = 20\n",
    "podziel_przez = 8\n",
    "\n",
    "ile_grup, reszta_z_dzielenia = divmod(liczba, podziel_przez)\n",
    "ile_grup, reszta_z_dzielenia"
   ]
  },
  {
   "cell_type": "code",
   "execution_count": 79,
   "id": "87f5ee58",
   "metadata": {},
   "outputs": [
    {
     "data": {
      "text/plain": [
       "1"
      ]
     },
     "execution_count": 79,
     "metadata": {},
     "output_type": "execute_result"
    }
   ],
   "source": [
    "5 % 2"
   ]
  },
  {
   "cell_type": "code",
   "execution_count": 80,
   "id": "77f2dc46",
   "metadata": {},
   "outputs": [
    {
     "data": {
      "text/plain": [
       "0"
      ]
     },
     "execution_count": 80,
     "metadata": {},
     "output_type": "execute_result"
    }
   ],
   "source": [
    "4 % 2"
   ]
  },
  {
   "cell_type": "markdown",
   "id": "735c7de9",
   "metadata": {},
   "source": [
    "#### Potęgowanie"
   ]
  },
  {
   "cell_type": "code",
   "execution_count": 81,
   "id": "0a9be6eb",
   "metadata": {},
   "outputs": [
    {
     "data": {
      "text/plain": [
       "16"
      ]
     },
     "execution_count": 81,
     "metadata": {},
     "output_type": "execute_result"
    }
   ],
   "source": [
    "4 ** 2"
   ]
  },
  {
   "cell_type": "markdown",
   "id": "b4dd871e",
   "metadata": {},
   "source": [
    "lub"
   ]
  },
  {
   "cell_type": "code",
   "execution_count": 82,
   "id": "b868b007",
   "metadata": {},
   "outputs": [
    {
     "data": {
      "text/plain": [
       "16"
      ]
     },
     "execution_count": 82,
     "metadata": {},
     "output_type": "execute_result"
    }
   ],
   "source": [
    "pow(4, 2)"
   ]
  },
  {
   "cell_type": "markdown",
   "id": "0f75a8b1",
   "metadata": {},
   "source": [
    "#### Odwrócenie znaku zmiennej"
   ]
  },
  {
   "cell_type": "code",
   "execution_count": 83,
   "id": "55416226",
   "metadata": {},
   "outputs": [],
   "source": [
    "x = 10"
   ]
  },
  {
   "cell_type": "markdown",
   "id": "8cd4b592",
   "metadata": {},
   "source": [
    "#### Zamień ujemną liczbę na dodatnią"
   ]
  },
  {
   "cell_type": "code",
   "execution_count": 84,
   "id": "4597ad9d",
   "metadata": {},
   "outputs": [
    {
     "data": {
      "text/plain": [
       "-10"
      ]
     },
     "execution_count": 84,
     "metadata": {},
     "output_type": "execute_result"
    }
   ],
   "source": [
    "-x"
   ]
  },
  {
   "cell_type": "markdown",
   "id": "548b773d",
   "metadata": {},
   "source": [
    "#### Zamień dodatnią liczbę na ujemną"
   ]
  },
  {
   "cell_type": "code",
   "execution_count": 85,
   "id": "ce12c4b1",
   "metadata": {},
   "outputs": [
    {
     "data": {
      "text/plain": [
       "10"
      ]
     },
     "execution_count": 85,
     "metadata": {},
     "output_type": "execute_result"
    }
   ],
   "source": [
    "+x"
   ]
  },
  {
   "cell_type": "markdown",
   "id": "7e78daf9",
   "metadata": {},
   "source": [
    "lub"
   ]
  },
  {
   "cell_type": "code",
   "execution_count": 65,
   "id": "a2a933f7",
   "metadata": {},
   "outputs": [
    {
     "data": {
      "text/plain": [
       "1000"
      ]
     },
     "execution_count": 65,
     "metadata": {},
     "output_type": "execute_result"
    }
   ],
   "source": [
    "abs(-1000)"
   ]
  },
  {
   "cell_type": "markdown",
   "id": "d9edaabe",
   "metadata": {},
   "source": [
    "## 3. Inkrementacja / liczniki\n",
    "\n",
    "Czasem w programach będziesz chciał zliczać rzeczy np. za każdym razem jak ktoś odwiedzi Twoją stronę."
   ]
  },
  {
   "cell_type": "markdown",
   "id": "800615cd",
   "metadata": {},
   "source": [
    "#### Inkrementacja dodatnia - znak `+=`"
   ]
  },
  {
   "cell_type": "code",
   "execution_count": 46,
   "id": "c9a5b78a",
   "metadata": {},
   "outputs": [
    {
     "name": "stdout",
     "output_type": "stream",
     "text": [
      "0\n",
      "9\n"
     ]
    }
   ],
   "source": [
    "c = 0\n",
    "print(c)\n",
    "for i in range(1, 10):\n",
    "    c += 1\n",
    "print(c)"
   ]
  },
  {
   "cell_type": "markdown",
   "id": "94781083",
   "metadata": {},
   "source": [
    "#### Inkrementacja ujemna - znak `-=`"
   ]
  },
  {
   "cell_type": "code",
   "execution_count": 2,
   "id": "38efadc4",
   "metadata": {},
   "outputs": [
    {
     "name": "stdout",
     "output_type": "stream",
     "text": [
      "10\n",
      "1\n"
     ]
    }
   ],
   "source": [
    "c = 10 \n",
    "print(c)\n",
    "for i in range(1, 10):\n",
    "    c -= 1\n",
    "print(c)"
   ]
  },
  {
   "cell_type": "markdown",
   "id": "4f02e886",
   "metadata": {},
   "source": [
    "### 4. Stwórz zakres liczbowy - `zakres = range(10)`\n",
    "\n",
    "Jeżeli zechcesz użyć zakresu jako listy, musisz najpierw zamienić go w listę."
   ]
  },
  {
   "cell_type": "code",
   "execution_count": 54,
   "id": "3fb17a09",
   "metadata": {},
   "outputs": [
    {
     "data": {
      "text/plain": [
       "range(0, 10)"
      ]
     },
     "execution_count": 54,
     "metadata": {},
     "output_type": "execute_result"
    }
   ],
   "source": [
    "range(10)"
   ]
  },
  {
   "cell_type": "code",
   "execution_count": 55,
   "id": "b2d35fdc",
   "metadata": {},
   "outputs": [
    {
     "data": {
      "text/plain": [
       "range"
      ]
     },
     "execution_count": 55,
     "metadata": {},
     "output_type": "execute_result"
    }
   ],
   "source": [
    "type(range(10))"
   ]
  },
  {
   "cell_type": "code",
   "execution_count": 56,
   "id": "9e147a5f",
   "metadata": {},
   "outputs": [
    {
     "data": {
      "text/plain": [
       "[0, 1, 2, 3, 4, 5, 6, 7, 8, 9]"
      ]
     },
     "execution_count": 56,
     "metadata": {},
     "output_type": "execute_result"
    }
   ],
   "source": [
    "list(range(10))"
   ]
  },
  {
   "cell_type": "code",
   "execution_count": 53,
   "id": "7dc7f9e4",
   "metadata": {},
   "outputs": [
    {
     "data": {
      "text/plain": [
       "list"
      ]
     },
     "execution_count": 53,
     "metadata": {},
     "output_type": "execute_result"
    }
   ],
   "source": [
    "type(list(range(10)))"
   ]
  },
  {
   "cell_type": "markdown",
   "id": "7b61f693",
   "metadata": {},
   "source": [
    "### 5. Sprawdź czy wartość jest typu liczby - `isinstance(liczba, int)` / `isinstance(liczba, float)`"
   ]
  },
  {
   "cell_type": "code",
   "execution_count": 91,
   "id": "5aa2b893",
   "metadata": {},
   "outputs": [
    {
     "name": "stdout",
     "output_type": "stream",
     "text": [
      "True\n"
     ]
    }
   ],
   "source": [
    "liczba = 1\n",
    "if isinstance(liczba, int):\n",
    "    print(True)"
   ]
  },
  {
   "cell_type": "code",
   "execution_count": 94,
   "id": "d65aa139",
   "metadata": {},
   "outputs": [
    {
     "name": "stdout",
     "output_type": "stream",
     "text": [
      "True\n"
     ]
    }
   ],
   "source": [
    "liczba = 1.111\n",
    "if isinstance(liczba, float):\n",
    "    print(True)"
   ]
  },
  {
   "cell_type": "markdown",
   "id": "5dff1710",
   "metadata": {},
   "source": [
    "## Level 2\n",
    "\n",
    "1. Podstawy biblioteki `numpy`\n",
    "2. Podstawy biblioteki `random`\n",
    "3. Biblioteka `math`\n",
    "\n",
    "\n"
   ]
  },
  {
   "cell_type": "markdown",
   "id": "370bc388",
   "metadata": {},
   "source": [
    "### 1. podstawy biblioteki `numpy`\n",
    "\n",
    "Biblioteka [numpy](https://numpy.org/)"
   ]
  },
  {
   "cell_type": "code",
   "execution_count": 48,
   "id": "55958bc6",
   "metadata": {},
   "outputs": [],
   "source": [
    "import numpy"
   ]
  },
  {
   "cell_type": "markdown",
   "id": "a855f179",
   "metadata": {},
   "source": [
    "### 2. podstawy biblioteki `random`\n",
    "\n",
    "Bliblioteka [random](https://docs.python.org/3/library/random.html)"
   ]
  },
  {
   "cell_type": "code",
   "execution_count": 103,
   "id": "b0a637c5",
   "metadata": {},
   "outputs": [],
   "source": [
    "import random"
   ]
  },
  {
   "cell_type": "markdown",
   "id": "89e692a2",
   "metadata": {},
   "source": [
    "### 3. math\n",
    "\n",
    "Biblioteka [math](https://docs.python.org/3/library/math.html)"
   ]
  },
  {
   "cell_type": "code",
   "execution_count": 47,
   "id": "ddbfdffb",
   "metadata": {},
   "outputs": [],
   "source": [
    "import math"
   ]
  },
  {
   "cell_type": "markdown",
   "id": "e8e6aff2",
   "metadata": {},
   "source": [
    "## Level 3\n",
    "\n",
    "1. Inne formaty liczbowe:  bin / hex / oct\n",
    "2. Bytes\n",
    "3. Biblioteka `numpy`\n",
    "4. Biblioteka `scipy`"
   ]
  },
  {
   "cell_type": "markdown",
   "id": "28e96ed0",
   "metadata": {},
   "source": [
    "### 1. Inne formaty liczbowe: bin / hex / oct"
   ]
  },
  {
   "cell_type": "code",
   "execution_count": null,
   "id": "ef71f23e",
   "metadata": {},
   "outputs": [],
   "source": [
    "# bin()    Returns the binary version of a number\n",
    "# hex()    Converts a number into a hexadecimal value\n",
    "# oct()    Converts a number into an octal"
   ]
  },
  {
   "cell_type": "code",
   "execution_count": 104,
   "id": "89f847ca",
   "metadata": {},
   "outputs": [],
   "source": [
    "# complex() # nie przejmuj się tym. Jest spora szansa, że w życiu tego nie użyjesz."
   ]
  },
  {
   "cell_type": "code",
   "execution_count": null,
   "id": "b0b65882",
   "metadata": {},
   "outputs": [],
   "source": [
    "# c.conjugate() # conjugate of the complex number c"
   ]
  },
  {
   "cell_type": "markdown",
   "id": "84e8b05b",
   "metadata": {},
   "source": [
    "### 2. Bytes"
   ]
  },
  {
   "cell_type": "code",
   "execution_count": 107,
   "id": "62a05e82",
   "metadata": {},
   "outputs": [],
   "source": [
    "# bytearray()    Returns an array of bytes\n",
    "# bytes()    Returns a bytes object"
   ]
  },
  {
   "cell_type": "markdown",
   "id": "6835cac1",
   "metadata": {},
   "source": [
    "### 3. Biblioteka `numpy`\n",
    "\n",
    "Biblioteka [numpy](https://numpy.org/)"
   ]
  },
  {
   "cell_type": "code",
   "execution_count": 98,
   "id": "21a6a5ba",
   "metadata": {},
   "outputs": [],
   "source": [
    "import numpy "
   ]
  },
  {
   "cell_type": "markdown",
   "id": "529ab01a",
   "metadata": {},
   "source": [
    "### 4. Biblioteka scipy\n",
    "\n",
    "Biblioteka [scipy](https://scipy.org/)"
   ]
  },
  {
   "cell_type": "code",
   "execution_count": 105,
   "id": "3ee301e0",
   "metadata": {},
   "outputs": [],
   "source": [
    "import scipy"
   ]
  }
 ],
 "metadata": {
  "kernelspec": {
   "display_name": "Python 3 (ipykernel)",
   "language": "python",
   "name": "python3"
  },
  "language_info": {
   "codemirror_mode": {
    "name": "ipython",
    "version": 3
   },
   "file_extension": ".py",
   "mimetype": "text/x-python",
   "name": "python",
   "nbconvert_exporter": "python",
   "pygments_lexer": "ipython3",
   "version": "3.8.10"
  }
 },
 "nbformat": 4,
 "nbformat_minor": 5
}
