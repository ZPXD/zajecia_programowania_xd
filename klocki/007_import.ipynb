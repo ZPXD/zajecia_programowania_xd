{
 "cells": [
  {
   "cell_type": "markdown",
   "id": "fee20fa8",
   "metadata": {},
   "source": [
    "# 007 - Import\n",
    "\n",
    "Prawdę mówiąc, przydał by się eksport.\n",
    "\n",
    "### Spis treści:\n",
    "1. Import\n",
    "2. Biblioteka\n",
    "3. PIP\n",
    "4. A po co, a na co?\n",
    "5. Inne"
   ]
  },
  {
   "cell_type": "markdown",
   "id": "3b66ee7f",
   "metadata": {},
   "source": [
    "### 1. Import\n",
    "\n",
    "\n",
    "\n",
    "Import udostępnia kod bibliteki do użytku wewnątrz pliku programu.\n",
    "\n",
    "Import to danie naszemu programowi możliwości korzystania z biblioteki którą importujemy. Oczywiście bibliotekę (czyli jej kod) musimy mieć najpierw pobraną na komputerze :) zajmuje się tym moduł **pip** ale o tym za chwilę. Najpierw rzuć okiem na import."
   ]
  },
  {
   "cell_type": "code",
   "execution_count": 4,
   "id": "f6d32b5d",
   "metadata": {},
   "outputs": [],
   "source": [
    "import os"
   ]
  },
  {
   "cell_type": "markdown",
   "id": "ca516e2b",
   "metadata": {},
   "source": [
    "Teraz mogę korzystać z bliblioteki os. mogę np. użyć jej metody **.getcwd()** która pokaże mi ścieżkę wewnątrz której jest wykonywany program. Zobacz sam:"
   ]
  },
  {
   "cell_type": "code",
   "execution_count": 5,
   "id": "5b44c04b",
   "metadata": {},
   "outputs": [
    {
     "data": {
      "text/plain": [
       "'/home/luke/klocki/zajecia_programowania_xd/klocki'"
      ]
     },
     "execution_count": 5,
     "metadata": {},
     "output_type": "execute_result"
    }
   ],
   "source": [
    "os.getcwd()"
   ]
  },
  {
   "cell_type": "markdown",
   "id": "1c42e058",
   "metadata": {},
   "source": [
    "Jest też biblioteka random która generuje losową liczbę. Spróbuj użyć jej metody:"
   ]
  },
  {
   "cell_type": "code",
   "execution_count": 10,
   "id": "e8faa575",
   "metadata": {},
   "outputs": [
    {
     "data": {
      "text/plain": [
       "1"
      ]
     },
     "execution_count": 10,
     "metadata": {},
     "output_type": "execute_result"
    }
   ],
   "source": [
    "random.choice([1,2])"
   ]
  },
  {
   "cell_type": "markdown",
   "id": "db99a7d7",
   "metadata": {},
   "source": [
    "Jak się domyślasz - efektem będzie błąd. Bibliotekę należy najpierw zaimportować aby korzystać z jej kodu.  Zrób to jak poniżej i sprawdź ponownie:"
   ]
  },
  {
   "cell_type": "code",
   "execution_count": 11,
   "id": "4ef9833d",
   "metadata": {},
   "outputs": [],
   "source": [
    "import random"
   ]
  },
  {
   "cell_type": "code",
   "execution_count": 12,
   "id": "4f69b2e9",
   "metadata": {},
   "outputs": [
    {
     "data": {
      "text/plain": [
       "2"
      ]
     },
     "execution_count": 12,
     "metadata": {},
     "output_type": "execute_result"
    }
   ],
   "source": [
    "random.choice([1,2])"
   ]
  },
  {
   "cell_type": "markdown",
   "id": "5c698640",
   "metadata": {},
   "source": [
    "### 2. Biblioteka"
   ]
  },
  {
   "cell_type": "markdown",
   "id": "eb6ecab5",
   "metadata": {},
   "source": [
    "#### Czym jest taka biblioteka?\n",
    "\n",
    "**Biblioteka** -  Każda zawiera zestaw rozwiązań na określony problem czy sytuację. To coś jak zestaw gotowych skryptów, rozwiązań na konkretny zestaw problemów, zadań, sytuacji. Na przykład wyobraź sobie, że chcesz rozwiązać problem generowania liczb losowych. Napisałeś kilka programów które losują dowolną liczbę. Chciał byś wykorzystać je w przyszłości. Możesz utworzyć więc \"bibliotekę\" do losowania liczb, odpowiednio skonfigurowany zestaw skryptów, programów. Jeżeli zechcesz go użyć - będziesz musiał go **zaimportować**. Tak jak wyżej z biblioteką \"os\"."
   ]
  },
  {
   "cell_type": "markdown",
   "id": "8010664b",
   "metadata": {},
   "source": [
    "#### Biblioteki wbudowane\n",
    "\n",
    "To takie które wchodzą w skład głównego kodu Pythona. Musisz je zainmportować, ale nie potrzeba ich pobierać z internetu i instalować. Kod jest zawsze pod ręką."
   ]
  },
  {
   "cell_type": "code",
   "execution_count": 2,
   "id": "df209ad9",
   "metadata": {},
   "outputs": [],
   "source": [
    "import os"
   ]
  },
  {
   "cell_type": "code",
   "execution_count": 3,
   "id": "e6e75a7b",
   "metadata": {},
   "outputs": [],
   "source": [
    "import random"
   ]
  },
  {
   "cell_type": "markdown",
   "id": "9c17f6cb",
   "metadata": {},
   "source": [
    "#### Biblioteki pozostałe\n",
    "\n",
    "To takie które są napisane przez innych programistów.Niektóre są fenomenalne. Pozwalają w kilka linii tworzyć rozwiązania na światowym poziomie co do statystyki, sztutcznej inteligencji, sieci, czy najróżniejszych z pozoru skomplikowanych czynności. Biblioteki sprawiają, że bardzo potężne rozwiazania znajdują się w zasięgu 10-20 linijek kodu. AI rozpoznająca czyjąś twarz? Automatyczne odpowiedzi na maile? Nie ma problemu. Wystarczy skorzystać z właściwej biblioteki. No i umieć z niej korzystać. Biblioteki są do siebie podobne. Łatwość korzystania z nich przyjdzie z czasem. Narazie nie przejmuj się tym i skup się na zrozumieniu ogólnej zasady i kiilku bibliotekach podstawowych. Potem poznaj kilka innych. W krótce będziesz się po tym sprawnie poruszać."
   ]
  },
  {
   "cell_type": "markdown",
   "id": "6de4408c",
   "metadata": {},
   "source": [
    "1. Zaimportuj bibliotekę \"zewnętrzną\" np. pandas - to świetna, genialna wręcz biblioteka do pracy z danymi. Przez ten rok będziemy bardzo często z niej korzystać :)"
   ]
  },
  {
   "cell_type": "code",
   "execution_count": null,
   "id": "ecbc1a17",
   "metadata": {},
   "outputs": [],
   "source": [
    "import pandas"
   ]
  },
  {
   "cell_type": "markdown",
   "id": "77263d70",
   "metadata": {},
   "source": [
    "Efektem (o ile nie masz jej zainstalowanej) powinen być błąd. Przyjrzyj mu się. Mówi Ci wyraźnie co jest nie tak - nie ma takiego modułu. Należy najpierw go pobrać. Zrobisz to korzystając z **pip**'a. Wpisz w terminalu \n",
    "\n",
    "`pip3 install pandas`\n",
    "\n",
    "Lub w Jupyter notebooku możesz zrobić to sam oddając na początku wykrzyknik (o ile jesteś na serwerze albo na linux'ie - na windowsie komenda może się nieco różnić. Daj wtedy znać na discordzie - coś na to wymyślimy :)"
   ]
  },
  {
   "cell_type": "code",
   "execution_count": null,
   "id": "fdaa7ef9",
   "metadata": {},
   "outputs": [],
   "source": [
    "!pip3 install pandas"
   ]
  },
  {
   "cell_type": "markdown",
   "id": "9b2b6e76",
   "metadata": {},
   "source": [
    "Udało się? Spróbuj jeszcze raz:"
   ]
  },
  {
   "cell_type": "code",
   "execution_count": null,
   "id": "a2829172",
   "metadata": {},
   "outputs": [],
   "source": [
    "import pandas"
   ]
  },
  {
   "cell_type": "markdown",
   "id": "ab983c02",
   "metadata": {},
   "source": [
    "Po pobraniu i instalacji bliblioteki - możemy pobrać ją do kodu. \n",
    "\n",
    "\n",
    "**Dygresja:** Instalacje można wywoływać wewnątrz programu, np. korzystając z funkcji system modułu os która jak widzisz niżej po prostu odpala zawartość, czyli komendę w stringu `pip3 install pandas`  i biblioteka też się zainstaluje. `os.system()` to przydatna komenda do odpalania komend linuxowych z poziomu skryptów pythona. Ale narazie się tym nie przejmuj, jedynie rzuć okiem:"
   ]
  },
  {
   "cell_type": "code",
   "execution_count": null,
   "id": "69d8c779",
   "metadata": {},
   "outputs": [],
   "source": [
    "import requests"
   ]
  },
  {
   "cell_type": "markdown",
   "id": "e12fd6fe",
   "metadata": {},
   "source": [
    "O ile nie masz tej biblioteki, to efektem powyższej linii będzie błąd. Pobierz i zainstaluj więc bibliotekę requests."
   ]
  },
  {
   "cell_type": "code",
   "execution_count": null,
   "id": "519e3be9",
   "metadata": {},
   "outputs": [],
   "source": [
    "import os \n",
    "os.system(\"pip3 install requests\")"
   ]
  },
  {
   "cell_type": "markdown",
   "id": "73fe4981",
   "metadata": {},
   "source": [
    "I spróbuj ponownie ją zaimportować. Teraz jest to możliwe."
   ]
  },
  {
   "cell_type": "code",
   "execution_count": null,
   "id": "69b462bf",
   "metadata": {},
   "outputs": [],
   "source": [
    "import requests"
   ]
  },
  {
   "cell_type": "markdown",
   "id": "80e90dda",
   "metadata": {},
   "source": [
    "Jeżeli chodzi o brakujące bliblioteki i ich pobieranie, instalację, osobiście preferuję robić to ręcznie z poziomu terminala po prostu wpisując:\n",
    "\n",
    "`pip3 install nazwa-biblioteki`\n",
    "\n",
    "a dla większych aplikacji po prostu przygotowuję plik requirements.txt który automatycznie umożliwia instalację wszystkich wymaganych bibliotek."
   ]
  },
  {
   "cell_type": "markdown",
   "id": "776dd77f",
   "metadata": {},
   "source": [
    "### 3. PIP\n",
    "\n",
    "Pip jest instalatorem Pythonowych bibliotek. Jeżeli czegoś potrzebujesz, to pytasz tego pana. \n",
    "\n",
    "O bibliotekach można jeszcze wiele powiedzieć, ale na ten moment starczy Ci wiedzieć, że:\n",
    "1. Biblioteki mają wersje. Wersje mogą różnić się między sobą. (o tym więcej w przyszłości)\n",
    "2. Niewbudowane biblioteki najpierw pobieramy korzystając z pip'a wpisując w terminalu np.:\n",
    "\n",
    "`pip3 install pandas`\n",
    "\n",
    "\n",
    "3. Biblioteki są dostępne w kodzie dopiero po zaimportowaniu ich.\n",
    "4. Gdy kończymy projekt zwykle tworzymy listę użytych w nim bibliotek w formie pliku tekstowego requirements.txt który zawiera kompletną listę użytych bibliotek i ich wersji, dzięki któremu można je wszystkie łatwo zainstalować komendą w terminalu:\n",
    "\n",
    "`pip3 install -r requirements.txt`\n",
    "\n",
    "\n",
    "Tak się składa, że przygotowałem dla was przykładowy requirements.txt - znajduje się we fladze :) instalowaliście już wszyscy biblioteki w ten sposób stawiając stronę www na szturmie i wieszając flagę. Wróć na chwilę do repozytorium flagi i zobacz znajdujący się tam plik requirements.txt. Mając go przed oczami zastanów się jeszcze raz jak działa powyższa komenda :) i leć dalej."
   ]
  },
  {
   "cell_type": "markdown",
   "id": "23ce1cb7",
   "metadata": {},
   "source": [
    "### 4. A po co, a na co?\n",
    "\n",
    "Przyłady:"
   ]
  },
  {
   "cell_type": "markdown",
   "id": "44572208",
   "metadata": {},
   "source": [
    "Zazwyczaj można użyć jakiejś użytecznej funkcji."
   ]
  },
  {
   "cell_type": "code",
   "execution_count": null,
   "id": "8ab1f724",
   "metadata": {},
   "outputs": [],
   "source": [
    "import os\n",
    "sciezka_tutaj = os.getcwd() # po kropce, z nawiasem.\n",
    "print( sciezka_tutaj)"
   ]
  },
  {
   "cell_type": "code",
   "execution_count": null,
   "id": "570c0d8b",
   "metadata": {},
   "outputs": [],
   "source": [
    "\n",
    "# Czasem można pobrać jakaś zmienna:\n",
    "import string\n",
    "male_litery = string.ascii_lowercase # po kropce, ale bez nawiasu.\n",
    "print(male_litery)"
   ]
  },
  {
   "cell_type": "code",
   "execution_count": null,
   "id": "4bb0386d",
   "metadata": {},
   "outputs": [],
   "source": [
    "\n",
    "# Można użyć też aliasu. Np.\n",
    "import string as xd # od teraz można użyć xd. zamiast string.\n",
    "male_litery = xd.ascii_lowercase \n",
    "print(male_litery)"
   ]
  },
  {
   "cell_type": "markdown",
   "id": "6dbb848b",
   "metadata": {},
   "source": [
    "#### Ważna uwaga: Importy w 99% sytuacji umieszczamy na samej górze pliku.\n",
    "\n",
    "Tak jest najczytelniej. Można je też wtedy pogrupować w zależności od tego w jaki sposób wspierają nasz skrypt (np. na górze biblioteki ogólne, niżej do czyszczenia danych a jeszcze niżej do bazy danych a jeszcze niżej kilka do wystawiania strony www)."
   ]
  },
  {
   "cell_type": "markdown",
   "id": "fac70bd7",
   "metadata": {},
   "source": [
    "#### Importy wypisujemy pojedyńczo jeden pod drugim\n",
    "\n",
    "Tak jest najczytelniej."
   ]
  },
  {
   "cell_type": "code",
   "execution_count": 3,
   "id": "7e62eabc",
   "metadata": {},
   "outputs": [],
   "source": [
    "import os\n",
    "import random\n",
    "import sys"
   ]
  },
  {
   "cell_type": "markdown",
   "id": "6c3d12d5",
   "metadata": {},
   "source": [
    "Chociaż można zaimportować kilka bibliotek jednocześnie w 1 linii:"
   ]
  },
  {
   "cell_type": "code",
   "execution_count": 2,
   "id": "64abe821",
   "metadata": {},
   "outputs": [],
   "source": [
    "import sys, os, time, random "
   ]
  },
  {
   "cell_type": "markdown",
   "id": "2bbce655",
   "metadata": {},
   "source": [
    "Czasem nie chcemy importować całej biblioteki (np. dlatego, że bardzo dużo waży) ale jedynie jedną lub dwie z jej funkcji - np. `system` i `listdir` czy `getcwd`:"
   ]
  },
  {
   "cell_type": "code",
   "execution_count": null,
   "id": "4665dc77",
   "metadata": {},
   "outputs": [],
   "source": [
    "from os import system, listdir, getcwd"
   ]
  },
  {
   "cell_type": "code",
   "execution_count": 10,
   "id": "8dc72f1d",
   "metadata": {},
   "outputs": [
    {
     "data": {
      "text/plain": [
       "'/home/luke/klocki/zajecia_programowania_xd/klocki'"
      ]
     },
     "execution_count": 10,
     "metadata": {},
     "output_type": "execute_result"
    }
   ],
   "source": [
    "os.getcwd()"
   ]
  },
  {
   "cell_type": "markdown",
   "id": "d0dc4b48",
   "metadata": {},
   "source": [
    "#### Czym biblioteki róznią się od siebie?\n",
    "\n",
    "Biblioteki można rozróżnić przez problemy które rozwiązują albo możiwości jakie dają. Każda adresuje jakieś z zagadnień których lista jest naprawde szeroka, od kwestii cząstkowych jak praca z danymi czasowymi, losowymi, tekstowymi po szersze jak tworzenie stron www, projektowanie sztucznej inteligencji czy tworzenie gier. \n",
    "\n",
    "Na większość problemów jakie można wymyśleć istnieją biblioteki które umożliwiają zaadresowanie ich w łatwiejszy, lepszy sposób.\n",
    "\n",
    "\n",
    "Oficjalny indeks bibliotek pythonowych: https://pypi.org/\n",
    "\n",
    "Jest ich na liście około 361 tysięcy.\n"
   ]
  },
  {
   "cell_type": "markdown",
   "id": "5092780a",
   "metadata": {},
   "source": [
    "#### Czy trzeba znać wszystkie biblioteki?\n",
    "\n",
    "361 tysięcy? Nie. "
   ]
  },
  {
   "cell_type": "markdown",
   "id": "3fc260cd",
   "metadata": {},
   "source": [
    "#### Jak poznawać biblioteki?\n",
    "\n",
    "W zależności od Twojego poziomu. Jeżeli dopiero zaczynasz to zrób jak poniżej w krokach.\n",
    "\n",
    "Po drugie: w zależności od potrzeb. \n",
    "\n",
    "#### Sytuacja A: szybki problem - rozwiązanie.\n",
    "\n",
    "Czasem potrzebujesz użyć z biblioteki 1, 2 metod aby rozwiązać problem, a nie pisać doktorat z jej stosowania. Wejdź na stronę biblioteki, znajdź te rozwiązania, zastosuj i tyle. Jak zaczynasz to jeszcze rzuć okiem dookoła, zorientuj się co ta biblioteka zawiera (ogólnie jakiego rodzaju problemy rozwiązuje np wysyłka maili, dalej: jakie są najpopularniejsze funkcje (2-5) oraz: gdzie co znaleźć gdybyś potrzebował wrócić tu w przyszłości (a wrócisz.). Przyda Ci się potem.\n",
    "\n",
    "#### Sytuacja B: dłuższy temat. Np główna biblioteka w projekcie.\n",
    "\n",
    "Tym się nie martw narazie (ale warto). To omowimy przy okazji pracy nad szerszymi projektami.\n",
    "\n",
    "TL;DR: Wejdź na stornę biblioteki i poczytaj jej quickstart (taki dział na stronie biblioteki gdzie jest opis co gdzie jest). Najlepiej przed rozpoczęciem projektu daj sobie z 15 minut aby przejrzeć stronę biblioteki i postosować jej podstawowe skrypty, rozwiązania na brudno - o ile jej nie znasz. Warto też przejrzeć przykłady popularnych zastosowań. I pisząc miej tę stronę na podorędziu, zerkaj tam czasem. Pamiętaj, że pierwszy projekt jak byś się nie starał zwykle wyjdzie gorzej niż 3 czy 5ty :)). Powodzenia i pisz na discordzie!\n",
    "\n",
    "#### Sytuacja C: ogólnie rozwój na początku \n",
    "\n",
    "Co do bibliotek będzie ok jak będzie wyglądał mniej więcej tak:\n",
    "\n",
    "\n",
    "\n",
    "#### 1. Na początku? \n",
    "\n",
    "W ogóle olej biblioteki. \n",
    "\n",
    "#### 2. Chwilę później?\n",
    "\n",
    "Rzuć okiem na jedną czy dwie typu os. Użyj jednej czy 2 metod.\n",
    "\n",
    "#### 3. Dalej?\n",
    "\n",
    "Wejdź na stronę bibliteki i zobacz czy ma dział \"Quickstart\", tam zwykle jest opis kilku najważniejszych komend. Wiedź gdzie to jest aby tam wrócić.\n",
    "\n",
    "#### 4. Kolejnym razem\n",
    "\n",
    "Rzuć okiem na ten Quickstart biblioteki i wypróbuj te komendy, poznaj je.\n",
    "\n",
    "#### 5. Następnym razem\n",
    "\n",
    "Rzuć okiem na całą stronę biblioteki, gdzie co jest. Daj sobie na to 2 minutki albo 5 - tak z ciekawości.\n",
    "\n",
    "Gdy przyjdzie co do czego, będziesz wiedział gdzie szybko znaleźć rozwiązanie.\n",
    "\n",
    "#### 6. Potem\n",
    "\n",
    "Zastanów się nad 10-20 najczęściej używanymi funkjcami, rozwiązaniami z biblioteki i poczytaj o nich więcej.\n",
    "\n",
    "\n",
    "I tak dalej. Etapami."
   ]
  },
  {
   "cell_type": "markdown",
   "id": "3ff0653f",
   "metadata": {},
   "source": [
    "### Jakie biblioteki znać?\n",
    "\n",
    "W zależności od poziomu na jakim jesteś:\n",
    "\n",
    "#### Level 0:\n",
    "\n",
    "Żadnych. Ewentualnie os.\n",
    "\n",
    "#### Level 1:\n",
    "\n",
    "Kilka które przypadkiem miałeś możliwość poznać.\n",
    "\n",
    "#### Level 2:\n",
    "\n",
    "Kilka które są przydatne. Powiedźmy os, random, time, podstawy paru innych. Tak z 5-10 bilbiotek zanając po 5 funkcji z nich. Nic szalonego.\n",
    "\n",
    "#### Level 3:\n",
    "\n",
    "Zaczynamy myśleć o problemach i zagadnieniach. Poznaj 1-2 biblioteki z zagadnienia które Cię interesują. Poznaj tak z 5-10 funkcji czy rzeczy z wewnątrz ich, pobaw się tym. \n",
    "\n",
    "#### Level 4:\n",
    "\n",
    "Zrób jakiś mały projekt i zobacz po drodze czego będzie Ci potrzeba. Jak będzie trzeba jakiś rozwiązań dodatkowych to się ich ucz, po 5-10 rozwiązań, bez przesady. Ale wiedź gdzie są i jak znaleźć ich więcej.\n",
    "\n",
    "#### Level 5:\n",
    "\n",
    "Wybierz jedną z bibliotek specjalizacyjnych (np. chcesz robić strony www lub backend to niech to będzie **Flask**, chcesz robić dane, to wybierz **pandas** a chcesz robić fizykę to wybierz jakąś bibliotekę do pracy dla Fizyków (a są takie do każdej dziedziny nauki). I poznaj ją lepiej. Poczytaj dokumnetacje, funkcje. Rozeznaj się gdzie co jest i jak w ogóle chodzić po dokumentacji.\n",
    "\n",
    "#### Level 6:\n",
    "\n",
    "Wyluzuj z tym czego się dowiedziałeś w level 5 i powtórz level 4 kilka razy.\n",
    "\n",
    "#### Level 7:\n",
    "\n",
    "Poznaj z 10-20 podstawowych bibliotek tak na +/- po 5-10 funkcji i wiedź co jak tam szybko znaleźć.\n",
    "\n",
    "#### Level 8:\n",
    "\n",
    "Poznaj więcej biblitek wewnątrz swojej specjalizacji lub obierz nowe specjalizacje/zagadnienia z listy tych najpopularniejszych które mogą mieć związek z Twoją/Twoim - i dołóż je do swego arsenału. Jak chcesz robić np. dane to może przyda Ci się coś z security tak na zapas?\n",
    "\n",
    "#### Level 9, 10 I tak dalej.\n",
    "\n",
    "Już jest nieźle. \n",
    "\n",
    "I tak dalej. Za jakiś czas nabierzesz jeszcze więcej obycia i wprawy i będziesz nowe biblioteki poznawał szybciej niż dotychczas. \n",
    "\n",
    "\n",
    "\n",
    "\n"
   ]
  },
  {
   "cell_type": "markdown",
   "id": "6e98d2f2",
   "metadata": {},
   "source": [
    "#### Na ten moment tyle Ci wystarcz. Możesz iść dalej."
   ]
  },
  {
   "cell_type": "markdown",
   "id": "39463d42",
   "metadata": {},
   "source": [
    "\n",
    "### Skąd wiem, że w ogóle potrzebuję jakiejś biblioteki?\n",
    "- robisz coś co jest złożone? prawdopodobnie jest biblioteka która robi to prościej, lepiej. Kto wie, może jesteś o 10 sekund googlowania od wielkiego odkrycia :) \n",
    "\n",
    "\n",
    "### Jak znaleźć bibliotekę?\n",
    "- chce zakodować x np losowy numer.\n",
    "- wpisuje w google po angielsku \"python library\" + \"random number\"\n",
    "\n",
    "### Biblioteka zaimportowana. Co dalej?\n",
    "\n",
    "Otworz strone z dokumentacją i zobacz \"quick-start\" - i dajcie sobie 5 minut :) Rozejrzyj się. Szukaj:\n",
    "- ogólnej informacji jakiego rodzaju problemy rozwiązuje biblioteka\n",
    "- rzuć okiem na najpopularniejsze funkcje, zapamiętaj ze 2, wypróbuj sobie z 5\n",
    "- rozejrzyj się gdzie co jest\n",
    "\n",
    "###  Jak znaleźć zastosowania biblitoteki?\n",
    "\n",
    "Wpisz w google \"python\" + \"nazwa_bliblioteki\" + \"example\" albo \"git\" albo \"stackoverflow\" albo \"explained\""
   ]
  },
  {
   "cell_type": "markdown",
   "id": "71541bdd",
   "metadata": {},
   "source": [
    "## 5. Inne"
   ]
  },
  {
   "cell_type": "markdown",
   "id": "ef007fbb",
   "metadata": {},
   "source": [
    "## Level 2"
   ]
  },
  {
   "cell_type": "markdown",
   "id": "3673f3bc",
   "metadata": {},
   "source": [
    "#### Przykładowy przegląd biblioteki kilku fajnych bibliotek na początek:\n",
    "\n",
    "[ W klolejnej wersji dodam tu kilka słów :) ]\n",
    "\n",
    "Szyk:\n",
    "1. przyklad\n",
    "2. import\n",
    "3. link do docs\n",
    "4. przyklad z 5 uzyc fajnych.\n",
    "5. co dalej?\n"
   ]
  },
  {
   "cell_type": "markdown",
   "id": "249e8893",
   "metadata": {},
   "source": [
    "Import Twoich własnych (lub cudzych) programów z innych plików.\n",
    "\n",
    "Aby to zrobić, możesz użyć: \n",
    "\n",
    "#### Import pliku z tego samego folderu.\n",
    "\n",
    "\n",
    "Oczywiście poniższy kod nie zadziała jeżeli nie będzie w folderze gdzie jest nasz program także istniał taki plik o nazwie `nazwa_pliku_bez_koncowki` w ktorym bedzie funkcja o nazwie `funkcja_z_tego_pliku`."
   ]
  },
  {
   "cell_type": "code",
   "execution_count": null,
   "id": "5eb16067",
   "metadata": {},
   "outputs": [],
   "source": [
    "from nazwa_pliku_bez_koncowki import funkcja_z_tego_pliku\n",
    "\n",
    "funkcja_z_tego_pliku"
   ]
  },
  {
   "cell_type": "markdown",
   "id": "f7ca6bf8",
   "metadata": {},
   "source": [
    "#### Import pliku z folderu głębiej.\n",
    "\n",
    "Oczywiście poniższy kod nie zadziała jeżeli nie będzie istniał w katalogu gdzie jest nasz program także folder o nazwie `nazwa_folderu` a w nim taki plik o nazwie `nazwa_pliku_bez_koncowki` w ktorym bedzie funkcja o nazwie `funkcja_z_tego_pliku`."
   ]
  },
  {
   "cell_type": "code",
   "execution_count": null,
   "id": "b956fa39",
   "metadata": {},
   "outputs": [],
   "source": [
    "from nazwa_folderu.nazwa_pliku_bez_koncowki import funkcja_z_tego_pliku\n",
    "\n",
    "funkcja_z_tego_pliku"
   ]
  },
  {
   "cell_type": "markdown",
   "id": "f0036513",
   "metadata": {},
   "source": [
    "#### Import pliku z folderu głębiej.\n",
    "\n",
    "Oczywiście poniższy kod nie zadziała jeżeli nie będzie istniał taki plik o nazwie `nazwa_pliku_bez_koncowki` w ktorym bedzie funkcja o nazwie `funkcja_z_tego_pliku`."
   ]
  },
  {
   "cell_type": "markdown",
   "id": "1a659a1b",
   "metadata": {},
   "source": [
    "\n",
    "#### Na ten moment tyle Ci wystarcz. Możesz iść dalej.\n",
    "\n",
    "W przyszłości dodam tu:\n",
    "- link do ćwiczenia do poruszania się po ścieżkach, folderach\n",
    "- więcej o PYPI\n",
    "- więcej o wersjach paczek"
   ]
  }
 ],
 "metadata": {
  "kernelspec": {
   "display_name": "Python 3 (ipykernel)",
   "language": "python",
   "name": "python3"
  },
  "language_info": {
   "codemirror_mode": {
    "name": "ipython",
    "version": 3
   },
   "file_extension": ".py",
   "mimetype": "text/x-python",
   "name": "python",
   "nbconvert_exporter": "python",
   "pygments_lexer": "ipython3",
   "version": "3.6.9"
  }
 },
 "nbformat": 4,
 "nbformat_minor": 5
}
