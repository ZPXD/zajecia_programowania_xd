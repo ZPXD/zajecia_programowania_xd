{
 "cells": [
  {
   "cell_type": "markdown",
   "id": "846e4510",
   "metadata": {},
   "source": [
    "# 015 - słowniki"
   ]
  },
  {
   "cell_type": "markdown",
   "id": "81beaad4",
   "metadata": {},
   "source": [
    "Pary kluczy i wartości."
   ]
  },
  {
   "cell_type": "markdown",
   "id": "2404a487",
   "metadata": {},
   "source": [
    "#### Spis treści:\n",
    "\n",
    "Level 1:\n",
    "1. Słownik - dict() / s = {} / s = {'a':1}\n",
    "2. Dostęp do danych słownika - po kluczach\n",
    "3. Zmiana wartości klucza - slownik['klucz'] = 'abc'\n",
    "4. Dostęp do kluczy i wartości słownika\n",
    "5. Stwórz kopię słownika - slownik2 = slownik.copy()\n",
    "6. slownik.clear() / slownik = {}\n",
    "7. wartosc = slownik.fromkeys(klucz)\n",
    "8. wartosc = slownik.pop(klucz)\n",
    "9. `klucz_wartosc = slownik.popitem()`\n",
    "10. `slownik.update(slownik_2)` / `slownik.update(a=1,b=2)`\n",
    "11. rezultat = slownik.setdefault(klucz, wartosc_domyslna)\n",
    "12. \n",
    "\n",
    "Level 2:\n",
    "1. Indeksy w słownikach"
   ]
  },
  {
   "cell_type": "markdown",
   "id": "8e811556",
   "metadata": {},
   "source": [
    "## Słowniki\n",
    "\n",
    "#### Znane też jako tablice asocjacyjne, dicty, dictionaries. Jest to zbiór par klucz - wartość.\n",
    "\n",
    "Słowniki mogą być wewnętrznie złożone, w tym sensie w jakim lista może zawierać listy, tak też słownik może zawierać słowniki zawierające słowniki zawierające słowniki.\n",
    "\n",
    "\n",
    "Nauka przyniesie najlepsze efekty gdy po przeczytaniu opisów metod i funkcji będziesz odpalał i modyfikował wszystkie komórki z kodem. \n",
    "- otwórz nowy notebook (najlepiej poza TYM notebookiem)\n",
    "- wracaj codziennie przez kilka dni do tego zeszytu\n"
   ]
  },
  {
   "cell_type": "markdown",
   "id": "b8a69326",
   "metadata": {},
   "source": [
    "\n",
    "## Jak dobrze wyćwiczyć pracę ze słownikami?\n",
    "\n",
    "#### Ćwicz od razu\n",
    "\n",
    "Odpalaj każdy kod w tym zeszycie, spróbuj modyfikować niektóre elementy aby lepiej je zrozumieć\n",
    "\n",
    "#### Powtarzaj wiele razy\n",
    "\n",
    "Przez co najmniej 7 dni przeglądaj codziennie ten zeszyt (daj sobie z 5-10 minut - a najlepiej więcej, przejrzyj wszystkie funkcje, kod) - utrwalisz materiał\n",
    "\n",
    "#### Przechodź po kolei poziomy -  oddziel to co ważne i pilne od tego co jest przydatne w dalszej kolejności\n",
    "\n",
    "Ten plik jest podzielony na kilka poziomów. \n",
    "\n",
    "Możesz przeczytać cały opis danego tematu za pierwszym razem albo\n",
    "nauczyć sie tego co najbardziej istotnie i po zaawansowany materiał\n",
    "wrócić tu później.\n"
   ]
  },
  {
   "cell_type": "markdown",
   "id": "2a738143",
   "metadata": {},
   "source": [
    "### 1. Słownik - `dict()` / `s = {}` / `s = {'a':1}`"
   ]
  },
  {
   "cell_type": "markdown",
   "id": "9501242a",
   "metadata": {},
   "source": [
    "#### 1. Stwórz pusty słownik"
   ]
  },
  {
   "cell_type": "code",
   "execution_count": 150,
   "id": "c05a0156",
   "metadata": {},
   "outputs": [],
   "source": [
    "slownik = dict()\n",
    "slownik = {}"
   ]
  },
  {
   "cell_type": "markdown",
   "id": "a1814d2b",
   "metadata": {},
   "source": [
    "#### Słownik z kluczami i wartościami"
   ]
  },
  {
   "cell_type": "code",
   "execution_count": 166,
   "id": "d9ce1f91",
   "metadata": {},
   "outputs": [],
   "source": [
    "slownik = {\n",
    "  \"klucz\": \"wartosc\",\n",
    "  \"model\": \"Mustang\",\n",
    "  \"year\": 1964\n",
    "}"
   ]
  },
  {
   "cell_type": "code",
   "execution_count": 162,
   "id": "4bd9ab55",
   "metadata": {},
   "outputs": [
    {
     "data": {
      "text/plain": [
       "{'klucz': 'wartosc', 'model': 'Mustang', 'year': 1964}"
      ]
     },
     "execution_count": 162,
     "metadata": {},
     "output_type": "execute_result"
    }
   ],
   "source": [
    "slownik"
   ]
  },
  {
   "cell_type": "code",
   "execution_count": 163,
   "id": "7fd8345c",
   "metadata": {},
   "outputs": [
    {
     "data": {
      "text/plain": [
       "dict"
      ]
     },
     "execution_count": 163,
     "metadata": {},
     "output_type": "execute_result"
    }
   ],
   "source": [
    "type(slownik)"
   ]
  },
  {
   "cell_type": "code",
   "execution_count": 164,
   "id": "45705309",
   "metadata": {},
   "outputs": [
    {
     "data": {
      "text/plain": [
       "3"
      ]
     },
     "execution_count": 164,
     "metadata": {},
     "output_type": "execute_result"
    }
   ],
   "source": [
    "len(slownik)"
   ]
  },
  {
   "cell_type": "markdown",
   "id": "ce495837",
   "metadata": {},
   "source": [
    "#### Podejrzyj zawartość słownika"
   ]
  },
  {
   "cell_type": "code",
   "execution_count": 167,
   "id": "456aafd9",
   "metadata": {},
   "outputs": [
    {
     "data": {
      "text/plain": [
       "{'klucz': 'wartosc', 'model': 'Mustang', 'year': 1964}"
      ]
     },
     "execution_count": 167,
     "metadata": {},
     "output_type": "execute_result"
    }
   ],
   "source": [
    "slownik"
   ]
  },
  {
   "cell_type": "markdown",
   "id": "b69b3f3b",
   "metadata": {},
   "source": [
    "#### Dodaj klucz i wartość do słownika"
   ]
  },
  {
   "cell_type": "code",
   "execution_count": 170,
   "id": "5ca65ea2",
   "metadata": {},
   "outputs": [
    {
     "data": {
      "text/plain": [
       "{'klucz': 'wartosc',\n",
       " 'model': 'Mustang',\n",
       " 'year': 1964,\n",
       " 'a': 1,\n",
       " 'b': [1, 2],\n",
       " 'c': True}"
      ]
     },
     "execution_count": 170,
     "metadata": {},
     "output_type": "execute_result"
    }
   ],
   "source": [
    "slownik['a'] = 1\n",
    "slownik['b'] = [1, 2]\n",
    "slownik['c'] = True\n",
    "\n",
    "slownik"
   ]
  },
  {
   "cell_type": "markdown",
   "id": "223fd6cb",
   "metadata": {},
   "source": [
    "#### Zmień wartość klucza słownika"
   ]
  },
  {
   "cell_type": "code",
   "execution_count": 173,
   "id": "81ea05e7",
   "metadata": {},
   "outputs": [
    {
     "data": {
      "text/plain": [
       "{'klucz': 'WARTOŚĆ', 'model': 'Mustang', 'year': 1964}"
      ]
     },
     "execution_count": 173,
     "metadata": {},
     "output_type": "execute_result"
    }
   ],
   "source": [
    "slownik['klucz'] = 'WARTOŚĆ'\n",
    "\n",
    "slownik"
   ]
  },
  {
   "cell_type": "markdown",
   "id": "ff4a0355",
   "metadata": {},
   "source": [
    "#### Usuń klucz i wartość ze słownika"
   ]
  },
  {
   "cell_type": "code",
   "execution_count": 171,
   "id": "5c765270",
   "metadata": {},
   "outputs": [
    {
     "data": {
      "text/plain": [
       "{'klucz': 'wartosc', 'model': 'Mustang', 'year': 1964}"
      ]
     },
     "execution_count": 171,
     "metadata": {},
     "output_type": "execute_result"
    }
   ],
   "source": [
    "del slownik['a']\n",
    "del slownik['b']\n",
    "del slownik['c']\n",
    "\n",
    "slownik"
   ]
  },
  {
   "cell_type": "markdown",
   "id": "57f9b8c1",
   "metadata": {},
   "source": [
    "### 2. Dostęp do danych słownika - po kluczach"
   ]
  },
  {
   "cell_type": "markdown",
   "id": "6b94d8cc",
   "metadata": {},
   "source": [
    "#### Sposób 1 - `wartosc = slownik.get('klucz', None)`"
   ]
  },
  {
   "cell_type": "code",
   "execution_count": 6,
   "id": "38eba886",
   "metadata": {},
   "outputs": [
    {
     "data": {
      "text/plain": [
       "'wartosc'"
      ]
     },
     "execution_count": 6,
     "metadata": {},
     "output_type": "execute_result"
    }
   ],
   "source": [
    "wartosc = slownik.get('klucz', 'nima')\n",
    "wartosc"
   ]
  },
  {
   "cell_type": "markdown",
   "id": "0ac1af28",
   "metadata": {},
   "source": [
    "#### Wartość przyjmie 2 argument `get('klucz', None)` jeżeli\n",
    "\n",
    "klucz podany w `get('klucz', None)` jako 1 argument nie będzie obecny w słowniku."
   ]
  },
  {
   "cell_type": "code",
   "execution_count": 296,
   "id": "00d115b1",
   "metadata": {},
   "outputs": [
    {
     "data": {
      "text/plain": [
       "'nima'"
      ]
     },
     "execution_count": 296,
     "metadata": {},
     "output_type": "execute_result"
    }
   ],
   "source": [
    "wartosc = slownik.get('blabla', 'nima')\n",
    "wartosc"
   ]
  },
  {
   "cell_type": "markdown",
   "id": "cc90cd37",
   "metadata": {},
   "source": [
    "#### Sposób 2 - `wartosc = slownik['klucz']`"
   ]
  },
  {
   "cell_type": "code",
   "execution_count": 298,
   "id": "893783d7",
   "metadata": {},
   "outputs": [
    {
     "data": {
      "text/plain": [
       "'wartosc'"
      ]
     },
     "execution_count": 298,
     "metadata": {},
     "output_type": "execute_result"
    }
   ],
   "source": [
    "wartosc = slownik['klucz']\n",
    "\n",
    "wartosc"
   ]
  },
  {
   "cell_type": "markdown",
   "id": "2c6aabb5",
   "metadata": {},
   "source": [
    "### 3. Zmiana wartości klucza - `slownik['klucz'] = 'abc'`"
   ]
  },
  {
   "cell_type": "code",
   "execution_count": 9,
   "id": "f08d6cce",
   "metadata": {},
   "outputs": [
    {
     "data": {
      "text/plain": [
       "{'klucz': 'abc', 'model': 'Mustang', 'year': 1964}"
      ]
     },
     "execution_count": 9,
     "metadata": {},
     "output_type": "execute_result"
    }
   ],
   "source": [
    "slownik['klucz'] = 'abc'\n",
    "\n",
    "slownik"
   ]
  },
  {
   "cell_type": "markdown",
   "id": "f70d1bbd",
   "metadata": {},
   "source": [
    "### 4. Dostęp do kluczy i wartości słownika\n",
    "\n",
    "1. `slownik.keys()` - zwraca klucze w słowniku\n",
    "2. `slownik.values()` - zwraca wartości przypisane do kluczy w słowniku\n",
    "3. `slownik.items()` - zwraca klucze i ich wartości.\n",
    "\n",
    "Powyższe metody nie zwracają listy. Można po nich iterować w pętlach for, jednak aby np. używać na nich indeksów, trzeba najpierw zamienić je na listy np. `list(slownik.keys())`"
   ]
  },
  {
   "cell_type": "markdown",
   "id": "c9ab8e57",
   "metadata": {},
   "source": [
    "#### 1. `klucze = slownik.keys()`"
   ]
  },
  {
   "cell_type": "code",
   "execution_count": 196,
   "id": "5c4a6349",
   "metadata": {},
   "outputs": [
    {
     "data": {
      "text/plain": [
       "dict_keys(['klucz', 'model', 'year'])"
      ]
     },
     "execution_count": 196,
     "metadata": {},
     "output_type": "execute_result"
    }
   ],
   "source": [
    "slownik.keys()"
   ]
  },
  {
   "cell_type": "code",
   "execution_count": 210,
   "id": "df1d3f35",
   "metadata": {},
   "outputs": [
    {
     "name": "stdout",
     "output_type": "stream",
     "text": [
      "klucz\n",
      "model\n",
      "year\n"
     ]
    }
   ],
   "source": [
    "for k in slownik.keys():\n",
    "    print(k)"
   ]
  },
  {
   "cell_type": "markdown",
   "id": "ec2414d3",
   "metadata": {},
   "source": [
    "#### 2. `wartosci = slownik.values()`"
   ]
  },
  {
   "cell_type": "code",
   "execution_count": 212,
   "id": "9876f552",
   "metadata": {},
   "outputs": [
    {
     "data": {
      "text/plain": [
       "dict_values(['WARTOŚĆ', 'Mustang', 1964])"
      ]
     },
     "execution_count": 212,
     "metadata": {},
     "output_type": "execute_result"
    }
   ],
   "source": [
    "slownik.values()"
   ]
  },
  {
   "cell_type": "code",
   "execution_count": 216,
   "id": "ea9c1947",
   "metadata": {},
   "outputs": [
    {
     "name": "stdout",
     "output_type": "stream",
     "text": [
      "WARTOŚĆ\n",
      "Mustang\n",
      "1964\n"
     ]
    }
   ],
   "source": [
    "for v in slownik.values():\n",
    "    print(v)"
   ]
  },
  {
   "cell_type": "markdown",
   "id": "52bfc7b1",
   "metadata": {},
   "source": [
    "#### 3. klucze i wartosci - `klucze_i_wartosci = slownik.items()`"
   ]
  },
  {
   "cell_type": "code",
   "execution_count": 299,
   "id": "3e636fdc",
   "metadata": {},
   "outputs": [
    {
     "data": {
      "text/plain": [
       "dict_items([('klucz', 'wartosc'), ('model', 'Mustang'), ('xd', 134)])"
      ]
     },
     "execution_count": 299,
     "metadata": {},
     "output_type": "execute_result"
    }
   ],
   "source": [
    "slownik.items()"
   ]
  },
  {
   "cell_type": "code",
   "execution_count": 301,
   "id": "745852a0",
   "metadata": {},
   "outputs": [
    {
     "name": "stdout",
     "output_type": "stream",
     "text": [
      "klucz wartosc\n",
      "model Mustang\n",
      "xd 134\n"
     ]
    }
   ],
   "source": [
    "for k, v in slownik.items():\n",
    "    print(k, v)"
   ]
  },
  {
   "cell_type": "markdown",
   "id": "ca9bf933",
   "metadata": {},
   "source": [
    "#### Typy słownikowe\n",
    "\n",
    "Przyjrzyj się typom obiektów, których przed chwilą używałeś."
   ]
  },
  {
   "cell_type": "code",
   "execution_count": 222,
   "id": "2a754a80",
   "metadata": {},
   "outputs": [
    {
     "data": {
      "text/plain": [
       "dict"
      ]
     },
     "execution_count": 222,
     "metadata": {},
     "output_type": "execute_result"
    }
   ],
   "source": [
    "type(slownik)"
   ]
  },
  {
   "cell_type": "code",
   "execution_count": 218,
   "id": "f2438565",
   "metadata": {},
   "outputs": [
    {
     "data": {
      "text/plain": [
       "dict_items"
      ]
     },
     "execution_count": 218,
     "metadata": {},
     "output_type": "execute_result"
    }
   ],
   "source": [
    "type(slownik.items())"
   ]
  },
  {
   "cell_type": "code",
   "execution_count": 219,
   "id": "5dbf41cc",
   "metadata": {},
   "outputs": [
    {
     "data": {
      "text/plain": [
       "dict_keys"
      ]
     },
     "execution_count": 219,
     "metadata": {},
     "output_type": "execute_result"
    }
   ],
   "source": [
    "type(slownik.keys())"
   ]
  },
  {
   "cell_type": "code",
   "execution_count": 221,
   "id": "67093513",
   "metadata": {},
   "outputs": [
    {
     "data": {
      "text/plain": [
       "dict_values"
      ]
     },
     "execution_count": 221,
     "metadata": {},
     "output_type": "execute_result"
    }
   ],
   "source": [
    "type(slownik.values())"
   ]
  },
  {
   "cell_type": "markdown",
   "id": "e03a05d9",
   "metadata": {},
   "source": [
    "Mimo, że sprawiają wrażenia kolekcji podobnych do list, ich typ jest inny. Aby pracować z nimi jak z listami, np. używać indeksów czy metod listy - zmień je w listę np. `list(slownik.keys())`.\n"
   ]
  },
  {
   "cell_type": "code",
   "execution_count": 228,
   "id": "3cc28b1f",
   "metadata": {},
   "outputs": [
    {
     "data": {
      "text/plain": [
       "dict_items([('klucz', 'WARTOŚĆ'), ('model', 'Mustang'), ('year', 1964)])"
      ]
     },
     "execution_count": 228,
     "metadata": {},
     "output_type": "execute_result"
    }
   ],
   "source": [
    "slownik.items()"
   ]
  },
  {
   "cell_type": "code",
   "execution_count": 230,
   "id": "9aef9843",
   "metadata": {},
   "outputs": [],
   "source": [
    "# slownik.items()[1] # <---- to nie zadziała bo typ dict_items nie pracuje z indeksem."
   ]
  },
  {
   "cell_type": "code",
   "execution_count": 225,
   "id": "42837ea0",
   "metadata": {},
   "outputs": [
    {
     "data": {
      "text/plain": [
       "[('klucz', 'WARTOŚĆ'), ('model', 'Mustang'), ('year', 1964)]"
      ]
     },
     "execution_count": 225,
     "metadata": {},
     "output_type": "execute_result"
    }
   ],
   "source": [
    "list(slownik.items())"
   ]
  },
  {
   "cell_type": "code",
   "execution_count": 227,
   "id": "f0754af6",
   "metadata": {},
   "outputs": [
    {
     "data": {
      "text/plain": [
       "('model', 'Mustang')"
      ]
     },
     "execution_count": 227,
     "metadata": {},
     "output_type": "execute_result"
    }
   ],
   "source": [
    "list(slownik.items())[1]"
   ]
  },
  {
   "cell_type": "code",
   "execution_count": 231,
   "id": "448ad46c",
   "metadata": {},
   "outputs": [
    {
     "data": {
      "text/plain": [
       "'Mustang'"
      ]
     },
     "execution_count": 231,
     "metadata": {},
     "output_type": "execute_result"
    }
   ],
   "source": [
    "list(slownik.items())[1][1]"
   ]
  },
  {
   "cell_type": "markdown",
   "id": "7d73dc69",
   "metadata": {},
   "source": [
    "### 5. Stwórz kopię słownika - `slownik2 = slownik.copy()`\n",
    "\n",
    "#### Stwórz kopię słownika"
   ]
  },
  {
   "cell_type": "code",
   "execution_count": 303,
   "id": "e2c0d28b",
   "metadata": {},
   "outputs": [
    {
     "data": {
      "text/plain": [
       "{'klucz': 'wartosc', 'model': 'Mustang', 'xd': 134}"
      ]
     },
     "execution_count": 303,
     "metadata": {},
     "output_type": "execute_result"
    }
   ],
   "source": [
    "slownik2 = slownik.copy()\n",
    "\n",
    "slownik2"
   ]
  },
  {
   "cell_type": "markdown",
   "id": "efbcb4dd",
   "metadata": {},
   "source": [
    "### 6. `slownik.clear()` / `slownik = {}`\n",
    "\n",
    "#### Spraw aby słownik był pusty"
   ]
  },
  {
   "cell_type": "code",
   "execution_count": 243,
   "id": "dd4a10e3",
   "metadata": {},
   "outputs": [
    {
     "name": "stdout",
     "output_type": "stream",
     "text": [
      "{}\n",
      "{}\n"
     ]
    }
   ],
   "source": [
    "slownik = {}\n",
    "slownik.clear()\n",
    "\n",
    "print(slownik)\n",
    "print(slownik2)\n",
    "slownik = slownik2.copy()"
   ]
  },
  {
   "cell_type": "markdown",
   "id": "2954518c",
   "metadata": {},
   "source": [
    "### 7. `wartosc = slownik.fromkeys(klucz)`"
   ]
  },
  {
   "cell_type": "code",
   "execution_count": 72,
   "id": "a8aac44d",
   "metadata": {},
   "outputs": [
    {
     "data": {
      "text/plain": [
       "{'a': True, 'b': True, 'c': True}"
      ]
     },
     "execution_count": 72,
     "metadata": {},
     "output_type": "execute_result"
    }
   ],
   "source": [
    "lista_kluczy = ['a', 'b', 'c'] # To może być też set, string\n",
    "wartosc = True\n",
    "\n",
    "d = slownik.fromkeys(lista_kluczy, wartosc)\n",
    "d"
   ]
  },
  {
   "cell_type": "code",
   "execution_count": null,
   "id": "627259ae",
   "metadata": {},
   "outputs": [],
   "source": []
  },
  {
   "cell_type": "code",
   "execution_count": 246,
   "id": "f56eaa90",
   "metadata": {},
   "outputs": [],
   "source": [
    "slownik = {\n",
    "  \"klucz\": \"wartosc\",\n",
    "  \"model\": \"Mustang\",\n",
    "  \"year\": 1964\n",
    "}"
   ]
  },
  {
   "cell_type": "code",
   "execution_count": 247,
   "id": "78b05818",
   "metadata": {},
   "outputs": [],
   "source": [
    "slownik['xd'] = 134"
   ]
  },
  {
   "cell_type": "markdown",
   "id": "7d591705",
   "metadata": {},
   "source": [
    "### 8. `wartosc = slownik.pop(klucz)`"
   ]
  },
  {
   "cell_type": "code",
   "execution_count": 248,
   "id": "c56e4a0e",
   "metadata": {},
   "outputs": [
    {
     "name": "stdout",
     "output_type": "stream",
     "text": [
      "{'klucz': 'wartosc', 'model': 'Mustang', 'year': 1964, 'xd': 134}\n",
      "{'klucz': 'wartosc', 'model': 'Mustang', 'xd': 134}\n",
      "{'x': 67, 'y': 87, 'z': 48, 'f': 44, 'a': 1, 'b': 2, 'c': 3}\n"
     ]
    }
   ],
   "source": [
    "print(slownik)\n",
    "\n",
    "klucz = 'year'\n",
    "wartosc = slownik.pop(klucz)\n",
    "print(slownik)\n",
    "print(x)"
   ]
  },
  {
   "cell_type": "markdown",
   "id": "ea69e606",
   "metadata": {},
   "source": [
    "### 9. `klucz_wartosc = slownik.popitem()`\n",
    "\n",
    "#### Wyjmij jedną parę `{klucz:wartość}` ze słownika.\n",
    "\n",
    "Zawsze wybiera ostatnio dodaną parę `klucz:wartość`."
   ]
  },
  {
   "cell_type": "code",
   "execution_count": 87,
   "id": "20bd528e",
   "metadata": {},
   "outputs": [
    {
     "data": {
      "text/plain": [
       "('nowy_klucz', 1412444234)"
      ]
     },
     "execution_count": 87,
     "metadata": {},
     "output_type": "execute_result"
    }
   ],
   "source": [
    "slownik['nowy_klucz'] = 1412444234\n",
    "\n",
    "klucz_wartosc = slownik.popitem()\n",
    "klucz_wartosc"
   ]
  },
  {
   "cell_type": "markdown",
   "id": "d38e9385",
   "metadata": {},
   "source": [
    "### 10. `slownik.update(slownik_2)` / `slownik.update(a=1,b=2)`\n",
    "\n",
    "#### Dodaj do słownika inny słownik lub więcej par `klucz:wartość`"
   ]
  },
  {
   "cell_type": "code",
   "execution_count": 109,
   "id": "897a1a42",
   "metadata": {},
   "outputs": [
    {
     "name": "stdout",
     "output_type": "stream",
     "text": [
      "{'x': 67, 'y': 87}\n",
      "{'x': 67, 'y': 87, 'z': 48, 'f': 44}\n",
      "{'x': 67, 'y': 87, 'z': 48, 'f': 44, 'a': 1, 'b': 2, 'c': 3}\n"
     ]
    }
   ],
   "source": [
    "slownik_1 = {'x':67, 'y':87}\n",
    "slownik_2 = {'z':48, 'f':44}\n",
    "print(slownik_1)\n",
    "\n",
    "# Sposób 1\n",
    "slownik_1.update(slownik_2)\n",
    "print(slownik_1)\n",
    "\n",
    "# Sposób 2\n",
    "slownik_1.update(a=1, b=2, c=3)\n",
    "print(slownik_1)"
   ]
  },
  {
   "cell_type": "markdown",
   "id": "9ea70a5a",
   "metadata": {},
   "source": [
    "### 11. `rezultat = slownik.setdefault(klucz, wartosc_domyslna)`\n",
    "\n",
    "#### Włóż do słownika parę klucz-wartość, ale jeżeli klucz już istnieje, zwróć jego wartość."
   ]
  },
  {
   "cell_type": "code",
   "execution_count": 258,
   "id": "ca63d7a0",
   "metadata": {},
   "outputs": [],
   "source": [
    "slownik_1 = {'z':48, 'f':44}\n",
    "klucz = 'z'\n",
    "wartosc_domyslna = 'xD'"
   ]
  },
  {
   "cell_type": "markdown",
   "id": "17c045c7",
   "metadata": {},
   "source": [
    "#### Jeżeli klucz jest w słowniku\n",
    "\n",
    "zwróci wartość klucza, a słownik pozostanie bez zmian."
   ]
  },
  {
   "cell_type": "code",
   "execution_count": 259,
   "id": "2404ac63",
   "metadata": {},
   "outputs": [
    {
     "name": "stdout",
     "output_type": "stream",
     "text": [
      "Rezultat: 48\n",
      "Słownik : {'z': 48, 'f': 44}\n"
     ]
    }
   ],
   "source": [
    "rezultat = slownik_1.setdefault(klucz, wartosc_domyslna)\n",
    "\n",
    "print('Rezultat:', rezultat)\n",
    "print('Słownik :', slownik_1)"
   ]
  },
  {
   "cell_type": "markdown",
   "id": "f97457f3",
   "metadata": {},
   "source": [
    "#### Jeżeli klucza nie ma w słowniku\n",
    "\n",
    "doda do słownika klucz o zdefiniowanej wartości `wartosc_domyslna`."
   ]
  },
  {
   "cell_type": "markdown",
   "id": "d212be00",
   "metadata": {},
   "source": [
    "Dla ćwiczenia, usuń wartość klucza `z` "
   ]
  },
  {
   "cell_type": "code",
   "execution_count": 260,
   "id": "4aa412f7",
   "metadata": {},
   "outputs": [],
   "source": [
    "del slownik_1['z']"
   ]
  },
  {
   "cell_type": "markdown",
   "id": "83ce696b",
   "metadata": {},
   "source": [
    "i zobacz jak zadziała `setdefault()`"
   ]
  },
  {
   "cell_type": "code",
   "execution_count": 261,
   "id": "29fce0d8",
   "metadata": {},
   "outputs": [
    {
     "name": "stdout",
     "output_type": "stream",
     "text": [
      "Rezultat: xD\n",
      "Słownik : {'f': 44, 'z': 'xD'}\n"
     ]
    }
   ],
   "source": [
    "rezultat = slownik_1.setdefault(klucz, wartosc_domyslna)\n",
    "\n",
    "print('Rezultat:', rezultat)\n",
    "print('Słownik :', slownik_1)"
   ]
  },
  {
   "cell_type": "markdown",
   "id": "6f75e127",
   "metadata": {},
   "source": [
    "## Level 2\n",
    "\n",
    "1. Indeksy w słownikach\n",
    "2. \n",
    "3. "
   ]
  },
  {
   "cell_type": "markdown",
   "id": "206dd0fc",
   "metadata": {},
   "source": [
    "### 1. Indeksy w słownikach"
   ]
  },
  {
   "cell_type": "code",
   "execution_count": 295,
   "id": "d43f3404",
   "metadata": {},
   "outputs": [
    {
     "name": "stdout",
     "output_type": "stream",
     "text": [
      "a 1\n",
      "b 2\n",
      "c 3\n",
      "d 4\n"
     ]
    }
   ],
   "source": [
    "d = {}\n",
    "d['a'] = 1\n",
    "d['b'] = 2\n",
    "d['c'] = 3\n",
    "d['d'] = 4\n",
    " \n",
    "for key, value in d.items():\n",
    "    print(key, value)"
   ]
  },
  {
   "cell_type": "code",
   "execution_count": null,
   "id": "9746d8fd",
   "metadata": {},
   "outputs": [],
   "source": [
    "print()\n",
    "print(list(d.keys())[2])\n",
    "print(list(d.values())[2])\n",
    "print(list(d.items())[2])"
   ]
  },
  {
   "cell_type": "code",
   "execution_count": 1,
   "id": "6e85f3a1",
   "metadata": {},
   "outputs": [
    {
     "ename": "SyntaxError",
     "evalue": "invalid syntax (124706467.py, line 2)",
     "output_type": "error",
     "traceback": [
      "\u001b[0;36m  File \u001b[0;32m\"/tmp/ipykernel_2157037/124706467.py\"\u001b[0;36m, line \u001b[0;32m2\u001b[0m\n\u001b[0;31m    delattr()\tDeletes the specified attribute (property or method) from the specified object\u001b[0m\n\u001b[0m             \t^\u001b[0m\n\u001b[0;31mSyntaxError\u001b[0m\u001b[0;31m:\u001b[0m invalid syntax\n"
     ]
    }
   ],
   "source": [
    "# Objects:\n",
    "\n",
    "# delattr() - Deletes the specified attribute (property or method) from the specified object\n",
    "# getattr() - Returns the value of the specified attribute (property or method)\n",
    "# hasattr() - Returns True if the specified object has the specified attribute (property/method)\n",
    "# setattr() - Sets an attribute (property/method) of an object.\n"
   ]
  }
 ],
 "metadata": {
  "kernelspec": {
   "display_name": "Python 3 (ipykernel)",
   "language": "python",
   "name": "python3"
  },
  "language_info": {
   "codemirror_mode": {
    "name": "ipython",
    "version": 3
   },
   "file_extension": ".py",
   "mimetype": "text/x-python",
   "name": "python",
   "nbconvert_exporter": "python",
   "pygments_lexer": "ipython3",
   "version": "3.8.10"
  }
 },
 "nbformat": 4,
 "nbformat_minor": 5
}
