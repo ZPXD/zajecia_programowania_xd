{
 "cells": [
  {
   "cell_type": "markdown",
   "id": "fee20fa8",
   "metadata": {},
   "source": [
    "# #005 - Błąd\n",
    "\n",
    "Kto pyta nie błądzi.\n",
    "\n",
    "### Spis treści:\n",
    "\n",
    "#### Level 1\n",
    "1. Błąd?\n",
    "2. Przykład błędu?\n",
    "3. Jak to czytać? Analiza przykładowego błędu\n",
    "4. Googlowanie będu\n",
    "5. Ostatnia linia błędu.\n",
    "6. Co robić gdy mamy bład?\n",
    "7. Najczęstsze powody błędów\n",
    "8. Jak walczyć z błędami\n",
    "9. Zadanie domowe"
   ]
  },
  {
   "cell_type": "markdown",
   "id": "68d7abab",
   "metadata": {},
   "source": [
    "## 1. Bład\n",
    "\n",
    "#### Czyli upraszczając, gdy coś się  schrzani. \n",
    "\n",
    "Werbalną reprezentacją błędu jest to co wyśietla się w terminalu gdy program się \"złoży\". To czego na początku potrzebujesz to wiedzieć jak przeczesywać te linie i błyskawicznie odnajdywać w nich informacje które pozwolą Ci zorientować się codokładnie siadło, w którym miejscu i z jakiego typu sytuacją masz doczynienia.\n",
    "\n",
    "\n",
    "\n",
    "## 2. Przykład błędu. \n",
    "\n",
    "Odpal blad.py poniżej, to skrypt zawierający błędny kod. Zobaczysz zaraz co się stanie."
   ]
  },
  {
   "cell_type": "code",
   "execution_count": 36,
   "id": "2da1a379",
   "metadata": {},
   "outputs": [
    {
     "name": "stdout",
     "output_type": "stream",
     "text": [
      "print(x)"
     ]
    }
   ],
   "source": [
    "cat blad.py"
   ]
  },
  {
   "cell_type": "code",
   "execution_count": null,
   "id": "91fdae71",
   "metadata": {},
   "outputs": [],
   "source": [
    "!python3 blad.py"
   ]
  },
  {
   "cell_type": "markdown",
   "id": "60334c55",
   "metadata": {},
   "source": [
    "## 3. Jak to czytać? Analiza przykładowego błędu.\n",
    "\n",
    "Przyjrzyj sie jeszcze raz treści błędu. \n",
    "'''\n",
    "Traceback (most recent call last):\n",
    "  File \"x.py\", line 2, in <module>\n",
    "    if x:\n",
    "NameError: name 'x' is not defined\n",
    "'''"
   ]
  },
  {
   "cell_type": "markdown",
   "id": "d62bd693",
   "metadata": {},
   "source": [
    "Zróbmy to jesszcze raz z poziomu kodu, odpalmy podobny kod:"
   ]
  },
  {
   "cell_type": "code",
   "execution_count": 37,
   "id": "5916f55f",
   "metadata": {},
   "outputs": [
    {
     "ename": "NameError",
     "evalue": "name 'x' is not defined",
     "output_type": "error",
     "traceback": [
      "\u001b[0;31m---------------------------------------------------------------------------\u001b[0m",
      "\u001b[0;31mNameError\u001b[0m                                 Traceback (most recent call last)",
      "\u001b[0;32m/tmp/ipykernel_790833/3874084442.py\u001b[0m in \u001b[0;36m<module>\u001b[0;34m\u001b[0m\n\u001b[0;32m----> 1\u001b[0;31m \u001b[0;32mif\u001b[0m \u001b[0mx\u001b[0m\u001b[0;34m:\u001b[0m\u001b[0;34m\u001b[0m\u001b[0;34m\u001b[0m\u001b[0m\n\u001b[0m\u001b[1;32m      2\u001b[0m     \u001b[0mprint\u001b[0m\u001b[0;34m(\u001b[0m\u001b[0;34m'x istnieje'\u001b[0m\u001b[0;34m)\u001b[0m\u001b[0;34m\u001b[0m\u001b[0;34m\u001b[0m\u001b[0m\n",
      "\u001b[0;31mNameError\u001b[0m: name 'x' is not defined"
     ]
    }
   ],
   "source": [
    "if x:\n",
    "    print('x istnieje')"
   ]
  },
  {
   "cell_type": "markdown",
   "id": "6920b00c",
   "metadata": {},
   "source": [
    "Dobrze znać trochę angielskiego, bo to cenne informacje. Ale możesz użyć też translatora.\n",
    "\n",
    "**Przeanalizujmy błąd linia po linii. Zwróć uwagę na:**"
   ]
  },
  {
   "cell_type": "markdown",
   "id": "953e71ad",
   "metadata": {},
   "source": [
    "#### 1. Pierwsza linia.\n",
    "\n",
    "```\n",
    "Traceback (most recent call last):   # <---- o tym gadamy.\n",
    "```\n",
    "\n",
    "mówi tyle, że to co jest po dwukropku to będzie opis naszego błedu, zaczynając opisy od najnowszego do najstarszego. Tu mamy 1 błąd, ale gdybyśmy mieli dwa, były by przedzielone enterem.\n"
   ]
  },
  {
   "cell_type": "markdown",
   "id": "b4e26e49",
   "metadata": {},
   "source": [
    "#### 2. Druga linia.\n",
    "\n",
    "```\n",
    "Traceback (most recent call last):\n",
    "  File \"blad.py\", line 2, in <module> # <---- o tym gadamy.\n",
    "```"
   ]
  },
  {
   "cell_type": "markdown",
   "id": "828dafb0",
   "metadata": {},
   "source": [
    "Kolejno:\n",
    "- **File \"blad.py\",** -  czyli, że bład dotyczy pliku \"blad.py\".\n",
    "- **line 2,** - czyli, że błąd znajduje się w 3 linii ww. pliku. Wystarczy tam spojrzeć.\n",
    "- **in \\<module>** - jeżeli błąd był by w jakimś konkretnym miejscu np. wewnątrz danej funkcji, to wewnątrz \\<module> była by jej nazwa.\n",
    "\n",
    "Krótko mówiąc, mamy informację w jakim pliku, linii, funkcj jest błąd."
   ]
  },
  {
   "cell_type": "markdown",
   "id": "577c8477",
   "metadata": {},
   "source": [
    "#### 3. Trzecia linia.\n",
    "\n",
    "Pokazuje dokładnie linię, w której wysŧąpił błąd. Tą linię którą wynumerował wyżej pisząc 'line 3'.\n",
    "\n",
    "\n",
    "\n",
    "```\n",
    "Traceback (most recent call last):\n",
    "  File \"x.py\", line 2, in <module>\n",
    "    if x:                           # <---- o tym gadamy.\n",
    "```\n",
    "\n",
    "pokazuje dokładnie linię, w której wysŧąpił błąd. Tą linię którą wynumerował wyżej pisząc 'line 3'.\n"
   ]
  },
  {
   "cell_type": "markdown",
   "id": "46082d6b",
   "metadata": {},
   "source": [
    "#### 4. Ostatnia linia błędu.\n",
    "\n",
    "\n",
    "```\n",
    "Traceback (most recent call last):\n",
    "  File \"x.py\", line 2, in <module>\n",
    "    if x:\n",
    "NameError: name 'x' is not defined  # <---- o tym gadamy.\n",
    "```\n",
    "\n",
    "Linia mówi nam to co najciekawsze. Rodzaj i treść błędu.\n",
    "\n",
    "```\n",
    "<TypBłędu>: <TreśćBłędu> # <---- to ta sama 4 linia co powyżej.\n",
    "```\n",
    "\n",
    "Rodzaj, typ błędu.\n",
    "\n",
    "```\n",
    "NameError: xxxxxxxxx\n",
    "```\n",
    "\n",
    "\n",
    "### 5. Googlowanie będu.\n",
    "\n",
    "Mówi nam, że błąd dotyczy nazwy czyli np. nazwy zmiennej\"x\". Tak jest w tym ćwiczeniu. Okazuje się, że zapomnieliśmy zdefiniować zmienną x.\n",
    "\n",
    "\n",
    "Warto rozróżniać typy błędów, bo  \n",
    "- najpopularniejszych jest z 5-10-15 i łatwo je poznać.\n",
    "- mają podobne rozwiązania albo rodzaje rozwiązań, odrazu wiadomo na co zwrócić uwagę, jakiego rozwiązania szukać.\n",
    "- gdy w przyszłości będziemy opracowywać \"wyjątki\" dla błędów, ta wiedza będzie procentować.\n",
    "\n",
    "\n",
    "Jednak typ nie mówi nam o co chodzi. W tym celu potrzebujemy poznać:\n",
    "\n",
    "\n",
    "#### Treść błędu:\n",
    "\n",
    "Ta 2 część linii mówi nam dokładnie co się wydarzyło. \n",
    "```\n",
    "<XXXXXX>: name 'x' is not defined\n",
    "```\n",
    "\n",
    "Faktycznie, nie zdążyliśmy zdefiniować x, czyli napisać np. zwykłego x = 1. Zrób tak, odpal ponownie komórkę a zobaczysz, że błąd zniknie.\n",
    "\n",
    "\n",
    "#### Jeszcze raz spójrz na całość i przeczytaj od początku do końca na spokojnie.\n",
    "```\n",
    "Traceback (most recent call last):\n",
    "  File \"x.py\", line 2, in <module>\n",
    "    if x:\n",
    "NameError: name 'x' is not defined\n",
    "```\n",
    "\n",
    "\n",
    "## 5. Co robić gdy mamy bład?\n",
    "1. Jak jesteś początkujący - to po pierwsze kolekcjonować. Znalazłeś nowy typ błędu? Dodaj go do notatnika. Zgoogluj potem co to jest, dopisz krótką definicję, dla siebie.\n",
    "2. Zwróć uwagę jakiego pliku, linii dotyczy i przeczytaj tę linię.\n",
    "3. Być może rozwiązanie samo się nasuwa.\n",
    "4. Przeczytaj co mówi treść błędu. To powinno być rozstrzygające. Z tego powinno wynikać co zrobić. Nie jest?\n",
    "5. Zgoogluj bład. Wpisz najprostszą jego formę w googla.\n",
    "6. Odnajdź stronę z wyników googla która zawiera rozwiązanie jakie:\n",
    "   - przedewszystkim je zawiera xD\n",
    "        - stackoverflow\n",
    "        - wszelkie blogi, tutoriale\n",
    "    - wygląda solidnie (kod z 1991 może zadziałać, ale to nie jest pewne xD )\n",
    "        - data jest w miarę sensowna (10 lat jest ok, 30 też może być ale nie musi.)\n",
    "        - dotyczy tej wersji oprogramowania której używasz (np jak rozwiązanie jest dla python 2 to może być psikus.)\n",
    "    - jest bezpieczne (jak masz w rozwiązaniu coś w styu \"and import trojan.exe here\" to raczej temu nie ufaj.)\n",
    "        - jeżeli jest na stackoverflow, to są przy nim plusy, komentarze.\n",
    "        - jeżeli jest w sieci, to na stronie która wygląda wiarygodnie i najlepiej z komentarzami innych ludzi.\n",
    "        - w treści rozwiązania nie ma niczego co budzi podejżenia. (np. dowolne: połączenia, pobieranie plików, biblioteki z czapy).\n",
    "    Jak to zrobić? Heh. Trochę to kwestia praktyki i doświadczenia a trochę logiki a trochę rozeznania.\n",
    "    \n",
    "    Dokładnie omówimy te i inne zawiłości na bloku poświęconym goolowaniu rozwiązań błędów.\n",
    "\n",
    " 6. Na stronie znajdź opis błędu. Upewnij się, że sytuacja jest analogiczna do Twojej, tzn, błąd wygląda w miare podobnie w kontekście który jest w miarę podobny.\n",
    "7. Zobacz rozwiązanie.  \n",
    "8. Zastosuj je u siebie jeżeli to proste, jeżeli bardziej złożone - być może Twoje rozwiązanie jest takie sobie. Może lepiej poszukać innego, bardziej adekwatnego, nie zamykając tej zakładki?\n",
    "9. Jeżeli trzeba, modyfikuj roziwiązanie tak aby pasowało do Twojego kodu.\n",
    "10. Pamiętaj, że jeżeli jesteś początkujący, to normalne, że uczysz się we wszystkim poruszać, nie znasz jeszcze dobrze pythona, różnych zawiłości, daj sobie na luz, że czasem nie znajdziesz rozwiązania albo nie szybko.\n",
    "\n",
    "\n",
    "Dobrą praktyką jest ustalić sobie ile czasu dajesz sobie na próbowanie/googlowanie, zanim spytasz się kogoś o pomoc. To moze być 15 min, 1h albo 4h. To pierwsze i drugie brzmi sensowniej niż trzecie, jak mnie pytasz o zdanie.\n"
   ]
  },
  {
   "cell_type": "markdown",
   "id": "52c0791f",
   "metadata": {},
   "source": [
    "## 6. Googlowanie będu - przykład.\n",
    "\n",
    "'''\n",
    "Traceback (most recent call last):\n",
    "  File \"klocek5_bledy.py\", line 3, in <module>\n",
    "    print(int(x))\n",
    "ValueError: invalid literal for int() with base 10: 'a'\n",
    "'''\n",
    "\n",
    "W Googla wpisz: \n",
    "a. w jednym oknie python + całą linię błędu:\n",
    "\n",
    "'''\n",
    "ValueError: invalid literal for int() with base 10: 'a'\n",
    "'''\n",
    "\n",
    "b. w drugie okno googla wpisz  python + to:\n",
    "\n",
    "'''\n",
    "invalid literal for int() with base 10: 'a'\n",
    "'''\n",
    "\n",
    "c. a w trzecie  python + to:\n",
    "\n",
    "'''\n",
    "invalid literal for int()\n",
    "'''\n",
    "\n",
    "\n",
    "\n",
    "Porównaj wyniki, Jaka jest różnica? Jakie wypływają z niej wnioski?\n",
    "Wpisz wszystkie 3 rodzaje w googla. Porównaj rezultaty.\n",
    "\n",
    "Czy są błedy które będą wyglądać inaczej? Jasne. Będziemy jeszcze o tym sporo mówić.\n",
    "Najważniejsze to zachować spokój i przechodzić przez nie :)\n",
    "    \n",
    "Narazie tyle plus własne doświadczenie w googlowaniu musi Ci wystarczeć. \n",
    "O googlowaniu będziemy jeszcze mówić.\n",
    "        \n",
    "## 7. Najczęstsze powody błędów\n",
    "- Nieuwaga\n",
    "- Pośpiech\n",
    "- Błąd w nazwie. Brakująca czy nadmiarowa literka, przecinek.\n",
    "- Wywołanie zmiennej która nie została zadeklarowana.\n",
    "- Brak wcięcia, nierówne wcięcie, pomieszanie tabów i spacji we wcięciach.\n",
    "    \n",
    "\n",
    "## 8. Jak walczyć z błędami:\n",
    "- Jak reagujesz na błąd?\n",
    "- Jak szukasz rozwiązania samemu?\n",
    "- Kiedy uznajesz, że zgooglujesz rozwiązanie?\n",
    "- Kiedy uznasz, że czas kogoś zapytać?\n",
    "- Mam bład chce go komuś pokazać - jak najlepiej to zrobić?\n",
    "\n",
    "## 9. Zadanie domowe:\n",
    "1. Cofnij się do 3 linii i napraw błąd. \n",
    "2. Spróbuj zepsuć TEN program. Wywołaj conajmniej 3 różne TYPY błędów i zapisz je. Nie wiesz jak zepsuć ten program? Spróbuj napisać srgrsgsgrgggsrgsrg i go uruchomić. spróbuj dodać 3 do 'abc'. Spróbuj zrobić coś co wydaje Ci się dziwne.\n",
    "3. Gdy poznasz nowy bład, zapisz go.\n",
    "4. Wywołaj jak najwięcej różnych TYPów błędów i zapisuj ich nazwy.\n",
    "    \n",
    "    \n",
    "#### Inne opracowane błędy:\n",
    "\n",
    "#### Błąd 1\n",
    "\n",
    "#### Błąd 2\n",
    "    \n",
    "## Inne / notatki / pomysły\n",
    "\n",
    "To chyba tyle. Jak coś jeszcze wynajdę to tutaj dodam.\n",
    "    \n",
    "- Do dodania jest przykład błędu z palca z programu (nawet z print(''  # <-- bez domk"
   ]
  }
 ],
 "metadata": {
  "kernelspec": {
   "display_name": "Python 3 (ipykernel)",
   "language": "python",
   "name": "python3"
  },
  "language_info": {
   "codemirror_mode": {
    "name": "ipython",
    "version": 3
   },
   "file_extension": ".py",
   "mimetype": "text/x-python",
   "name": "python",
   "nbconvert_exporter": "python",
   "pygments_lexer": "ipython3",
   "version": "3.8.10"
  }
 },
 "nbformat": 4,
 "nbformat_minor": 5
}
