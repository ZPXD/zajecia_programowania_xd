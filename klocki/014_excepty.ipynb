{
 "cells": [
  {
   "cell_type": "markdown",
   "id": "846e4510",
   "metadata": {},
   "source": [
    "# 014 - excepty"
   ]
  },
  {
   "cell_type": "markdown",
   "id": "81beaad4",
   "metadata": {},
   "source": [
    "Na wszelki wypadek."
   ]
  },
  {
   "cell_type": "markdown",
   "id": "2404a487",
   "metadata": {},
   "source": [
    "#### Spis treści:\n",
    "\n",
    "Level 1:\n",
    "1. `try` / `except'\n",
    "2. `finally`\n",
    "3. `else`\n",
    "4. `rise`\n",
    "5. wiele `except`\n",
    "6. wiele `try` / `except`\n",
    "7. wychwyć treść błędu - `except Exception as e:`\n",
    "\n",
    "Level 2:\n",
    "1. Błędy\n"
   ]
  },
  {
   "cell_type": "markdown",
   "id": "8e811556",
   "metadata": {},
   "source": [
    "## Błędy, wyjątki i jak zabezpieczyć program na wypadek kraszu\n",
    "\n",
    "#### Czyli dane tekstowe\n",
    "\n",
    "Nauka przyniesie najlepsze efekty gdy po przeczytaniu opisów metod i funkcji będziesz odpalał i modyfikowł wszystkie komórki z kodem. \n",
    "- otwórz nowy notebook (najlepiej poza TYM notebookiem)\n",
    "- wracaj codziennie przez kilka dni do tego zeszytu\n"
   ]
  },
  {
   "cell_type": "markdown",
   "id": "b8a69326",
   "metadata": {},
   "source": [
    "\n",
    "## Jak dobrze wyćwiczyć pracę z exceptami?\n",
    "\n",
    "#### Ćwicz odrazu\n",
    "\n",
    "Odpalaj każdy kod w tym zeszycie, spróbuj modyfikować niektóre elementy aby lepiej je zrozumieć\n",
    "\n",
    "#### Powtarzaj wiele razy\n",
    "\n",
    "Przez conajmniej 7 dni przeglądaj codziennie ten zeszyt (daj sobie z 5-10 minut - a najlepiej więcej, przejrzyj wszystkie funkcje, kod) - utrwalisz materiał\n",
    "\n",
    "#### Przechodź po kolei poziomy -  oddziel to co ważne i pilne od tego co jest przydatne w dalszej kolejności\n",
    "\n",
    "Ten plik jest podzielony na kilka poziomów. \n",
    "\n",
    "Możesz przeczytać cały opis danego tematu za 1 razem albo\n",
    "nauczyć sie tego co najbardziej istotnie i po zaawansowany materiał\n",
    "wrócić tu później.\n"
   ]
  },
  {
   "cell_type": "markdown",
   "id": "3247e506",
   "metadata": {},
   "source": [
    "## Level 1"
   ]
  },
  {
   "cell_type": "markdown",
   "id": "f259dc9f",
   "metadata": {},
   "source": [
    "### 1. `try` / `except`\n",
    "\n",
    "Będzie wykonywać kod w bloku `try` aż skończy i wyjdzie z sekwencji `try/except`. Jeżeli jednak w którejś z linii napotka na błąd, przerwie realizację kodu wewnątrz bloku `try` i rozpocznie realizację kodu w bloku `except`."
   ]
  },
  {
   "cell_type": "code",
   "execution_count": 26,
   "id": "d83fd61d",
   "metadata": {},
   "outputs": [
    {
     "name": "stdout",
     "output_type": "stream",
     "text": [
      "abc\n",
      "abcdef\n"
     ]
    }
   ],
   "source": [
    "x = 'abc'\n",
    "\n",
    "try:\n",
    "    print(x)      # wykona sie\n",
    "    x = x + y     # <---- nie wykona sie bo nie ma y i przejdzie do 1 linii excepta\n",
    "    x = x.lower() # <---- nie wykona sie.\n",
    "except:\n",
    "    y = 'def'     # wykona sie\n",
    "    x = x + y     # wykona sie\n",
    "    x = x.lower() # wykona sie\n",
    "    \n",
    "print(x)"
   ]
  },
  {
   "cell_type": "markdown",
   "id": "c44605a3",
   "metadata": {},
   "source": [
    "W powyższej komórce dodaj zmienną y a zobaczysz jak zmieni się wykonanie kodu."
   ]
  },
  {
   "cell_type": "markdown",
   "id": "02350e53",
   "metadata": {},
   "source": [
    "#### Stosuje się to np. gdy nie wiemy czy dana operacja przyniesie sukces i chcemy zapewnić alternatywę.\n"
   ]
  },
  {
   "cell_type": "code",
   "execution_count": 47,
   "id": "7ee0e490",
   "metadata": {},
   "outputs": [
    {
     "name": "stdout",
     "output_type": "stream",
     "text": [
      "B: <Response [200]>\n"
     ]
    }
   ],
   "source": [
    "import requests\n",
    "\n",
    "try:\n",
    "    response = requests.get('https://www.aefsgsgergeqgrqegqgeqgeggr.com/')\n",
    "    print('A:', response)\n",
    "except:\n",
    "    # Alternatywa\n",
    "    response = requests.get('https://www.youtube.com/')\n",
    "    print('B:', response)"
   ]
  },
  {
   "cell_type": "markdown",
   "id": "130dec45",
   "metadata": {},
   "source": [
    "### 2. `finally`\n",
    "\n",
    "Wykona się zawsze na końcu, niezależnie czy kod napotkał błędy i odpalił część `except` czy nie."
   ]
  },
  {
   "cell_type": "code",
   "execution_count": 48,
   "id": "593e16dc",
   "metadata": {},
   "outputs": [
    {
     "name": "stdout",
     "output_type": "stream",
     "text": [
      "1. Na początku\n",
      "3. Zawsze na końcu\n"
     ]
    }
   ],
   "source": [
    "x = 'abc'\n",
    "try:\n",
    "    print('1. Na początku')\n",
    "    #print(c)\n",
    "except:\n",
    "    print(\"2. Jeżeli coś pójdzie nie tak\")\n",
    "finally:\n",
    "    print(\"3. Zawsze na końcu\")"
   ]
  },
  {
   "cell_type": "markdown",
   "id": "34680cd6",
   "metadata": {},
   "source": [
    "### 3. `else`\n",
    "\n",
    "Wykona się na końcu, jeżeli kod nie napotkał błędy w części `try`."
   ]
  },
  {
   "cell_type": "code",
   "execution_count": 50,
   "id": "d06826a1",
   "metadata": {},
   "outputs": [
    {
     "name": "stdout",
     "output_type": "stream",
     "text": [
      "1. Na początku\n",
      "3. Tylko gdy wszystko pójdzie ok\n"
     ]
    }
   ],
   "source": [
    "try:\n",
    "    print('1. Na początku')\n",
    "    #print(c)\n",
    "except:\n",
    "    print(\"2. Jeżeli coś pójdzie nie tak\")\n",
    "else:\n",
    "    print(\"3. Tylko gdy wszystko pójdzie ok\")"
   ]
  },
  {
   "cell_type": "markdown",
   "id": "f6b61f3d",
   "metadata": {},
   "source": [
    "### 4. `raise`\n",
    "\n",
    "wywołaj błąd."
   ]
  },
  {
   "cell_type": "code",
   "execution_count": 52,
   "id": "53f71901",
   "metadata": {},
   "outputs": [
    {
     "ename": "NameError",
     "evalue": "Czeeeeeeeść",
     "output_type": "error",
     "traceback": [
      "\u001b[0;31m---------------------------------------------------------------------------\u001b[0m",
      "\u001b[0;31mNameError\u001b[0m                                 Traceback (most recent call last)",
      "\u001b[0;32m/tmp/ipykernel_2147646/3731328296.py\u001b[0m in \u001b[0;36m<module>\u001b[0;34m\u001b[0m\n\u001b[0;32m----> 1\u001b[0;31m \u001b[0;32mraise\u001b[0m \u001b[0mNameError\u001b[0m\u001b[0;34m(\u001b[0m\u001b[0;34m'Czeeeeeeeść'\u001b[0m\u001b[0;34m)\u001b[0m\u001b[0;34m\u001b[0m\u001b[0;34m\u001b[0m\u001b[0m\n\u001b[0m",
      "\u001b[0;31mNameError\u001b[0m: Czeeeeeeeść"
     ]
    }
   ],
   "source": [
    "raise NameError('Czeeeeeeeść')"
   ]
  },
  {
   "cell_type": "markdown",
   "id": "6336faba",
   "metadata": {},
   "source": [
    "### 5. Wiele `except`\n",
    "\n",
    "Można zastosować except w odniesieniu do określonego rodzaju błędu. Można użyć wielu `except`."
   ]
  },
  {
   "cell_type": "code",
   "execution_count": 63,
   "id": "8cc1fa33",
   "metadata": {},
   "outputs": [
    {
     "name": "stdout",
     "output_type": "stream",
     "text": [
      "B. NameError\n"
     ]
    }
   ],
   "source": [
    "try:\n",
    "    print('A. Bez błędu', o)\n",
    "except NameError:\n",
    "    print('B. NameError')\n",
    "except:\n",
    "    print('C. Inny błąd')"
   ]
  },
  {
   "cell_type": "markdown",
   "id": "b7f777d2",
   "metadata": {},
   "source": [
    "### 6. Wiele `try/except`"
   ]
  },
  {
   "cell_type": "code",
   "execution_count": 46,
   "id": "8a6a785f",
   "metadata": {},
   "outputs": [
    {
     "name": "stdout",
     "output_type": "stream",
     "text": [
      "D: <Response [200]>\n"
     ]
    }
   ],
   "source": [
    "import requests\n",
    "\n",
    "try:\n",
    "    response = requests.get('https://www.aefsgsgergeqgrqegqgeqgeggr.com/')\n",
    "    print('A:', response)\n",
    "except:\n",
    "    try:\n",
    "        # Alternatywa 1\n",
    "        response = requests.get('https://www.wefwefeffwef.com/')\n",
    "        print('B:', response)\n",
    "    except:\n",
    "        try:\n",
    "            # Alternatywa 2\n",
    "            response = requests.get('https://www.wewefgtb.com/')\n",
    "            print('C:', response)\n",
    "        except:\n",
    "            # Alternatywa 3\n",
    "            response = requests.get('https://www.youtube.com/')\n",
    "            print('D:', response)"
   ]
  },
  {
   "cell_type": "markdown",
   "id": "a3b1bdbc",
   "metadata": {},
   "source": [
    "### 7. Wychwyć treść błędu -`except Exception as e`"
   ]
  },
  {
   "cell_type": "code",
   "execution_count": 68,
   "id": "d0861f2e",
   "metadata": {},
   "outputs": [
    {
     "name": "stdout",
     "output_type": "stream",
     "text": [
      "Błąd ma treść:\n",
      "\n",
      " name 'o' is not defined\n"
     ]
    }
   ],
   "source": [
    "try:\n",
    "    print('A', o)\n",
    "except Exception as e:\n",
    "    print('Błąd ma treść:\\n\\n', e)"
   ]
  },
  {
   "cell_type": "markdown",
   "id": "a8f9c75a",
   "metadata": {},
   "source": [
    "## Level 2"
   ]
  },
  {
   "cell_type": "markdown",
   "id": "c7ab1b49",
   "metadata": {},
   "source": [
    "### 1. Wyjątki wbudowane. (Built-in Exceptions)"
   ]
  },
  {
   "cell_type": "code",
   "execution_count": 2,
   "id": "15f5bd94",
   "metadata": {},
   "outputs": [],
   "source": [
    "#ArithmeticError\tRaised when an error occurs in numeric calculations\n",
    "#AssertionError\tRaised when an assert statement fails\n",
    "#AttributeError\tRaised when attribute reference or assignment fails\n",
    "#Exception\tBase class for all exceptions\n",
    "#EOFError\tRaised when the input() method hits an \"end of file\" condition (EOF)\n",
    "#FloatingPointError\tRaised when a floating point calculation fails\n",
    "#GeneratorExit\tRaised when a generator is closed (with the close() method)\n",
    "#ImportError\tRaised when an imported module does not exist\n",
    "#IndentationError\tRaised when indendation is not correct\n",
    "#IndexError\tRaised when an index of a sequence does not exist\n",
    "#KeyError\tRaised when a key does not exist in a dictionary\n",
    "#KeyboardInterrupt\tRaised when the user presses Ctrl+c, Ctrl+z or Delete\n",
    "#LookupError\tRaised when errors raised cant be found\n",
    "#MemoryError\tRaised when a program runs out of memory\n",
    "#NameError\tRaised when a variable does not exist\n",
    "#NotImplementedError\tRaised when an abstract method requires an inherited class to override the method\n",
    "#OSError\tRaised when a system related operation causes an error\n",
    "#OverflowError\tRaised when the result of a numeric calculation is too large\n",
    "#ReferenceError\tRaised when a weak reference object does not exist\n",
    "#RuntimeError\tRaised when an error occurs that do not belong to any specific expections\n",
    "#StopIteration\tRaised when the next() method of an iterator has no further values\n",
    "#SyntaxError\tRaised when a syntax error occurs\n",
    "#TabError\tRaised when indentation consists of tabs or spaces\n",
    "#SystemError\tRaised when a system error occurs\n",
    "#SystemExit\tRaised when the sys.exit() function is called\n",
    "#TypeError\tRaised when two different types are combined\n",
    "#UnboundLocalError\tRaised when a local variable is referenced before assignment\n",
    "#UnicodeError\tRaised when a unicode problem occurs\n",
    "#UnicodeEncodeError\tRaised when a unicode encoding problem occurs\n",
    "#UnicodeDecodeError\tRaised when a unicode decoding problem occurs\n",
    "#UnicodeTranslateError\tRaised when a unicode translation problem occurs\n",
    "#ValueError\tRaised when there is a wrong value in a specified data type\n",
    "#ZeroDivisionError\tRaised when the second operator in a division is zero"
   ]
  },
  {
   "cell_type": "code",
   "execution_count": null,
   "id": "e56d1295",
   "metadata": {},
   "outputs": [],
   "source": []
  }
 ],
 "metadata": {
  "kernelspec": {
   "display_name": "Python 3 (ipykernel)",
   "language": "python",
   "name": "python3"
  },
  "language_info": {
   "codemirror_mode": {
    "name": "ipython",
    "version": 3
   },
   "file_extension": ".py",
   "mimetype": "text/x-python",
   "name": "python",
   "nbconvert_exporter": "python",
   "pygments_lexer": "ipython3",
   "version": "3.8.10"
  }
 },
 "nbformat": 4,
 "nbformat_minor": 5
}
