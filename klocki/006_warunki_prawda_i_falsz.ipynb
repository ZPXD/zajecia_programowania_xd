{
 "cells": [
  {
   "cell_type": "markdown",
   "id": "fee20fa8",
   "metadata": {},
   "source": [
    "# 006 - If\n",
    "\n",
    "Warunkowo.\n",
    "\n",
    "### Spis treści:\n",
    "1. Warunek 'if'\n",
    "2. Prawda i Fałsz. Zero i jeden\n",
    "3. Prawda i Fałsz w warunkach 'if'\n",
    "4. Prawda i Fałsz w warunkach w pozostałych typach danych\n",
    "5. Warunki - równania\n",
    "6. Warunki (If, elif i else) - wszystkie struktury które musisz znać."
   ]
  },
  {
   "cell_type": "markdown",
   "id": "65591898",
   "metadata": {},
   "source": [
    "## 1. Warunek 'if'\n",
    "\n",
    "Warunek to coś jak pytanie \"Czy to prawda, że?\". \n",
    "\n",
    "\n",
    "Czy to prawda, że x jest równe 1? Zmień wartość x i odpal poniższą komórkę, zobacz co się stanie."
   ]
  },
  {
   "cell_type": "code",
   "execution_count": 2,
   "id": "ce8944d9",
   "metadata": {},
   "outputs": [
    {
     "name": "stdout",
     "output_type": "stream",
     "text": [
      "Czy to prawda, że x to 1?\n",
      "Tak, x to 1\n"
     ]
    }
   ],
   "source": [
    "x = 1\n",
    "\n",
    "print('Czy to prawda, że x to 1?')\n",
    "\n",
    "if x == 1:\n",
    "    print('Tak, x to 1')\n",
    "else:\n",
    "    print('nie xD')"
   ]
  },
  {
   "cell_type": "markdown",
   "id": "31b212a9",
   "metadata": {},
   "source": [
    "#### Ify znane jako warunki.\n",
    "\n",
    "To dowolna sytuacja gdy chcesz się zapytać\n",
    "\n",
    "\"Czy spełniony jest warunek X?\" a jeżeli tak, to (zrób?) Z.\n",
    "\n",
    "Jak poniżej:\n",
    "\n",
    "\"Czy spełniony jest warunek, że x musi się równać 1? Jeżeli tak, wydrukuj x.\""
   ]
  },
  {
   "cell_type": "code",
   "execution_count": 3,
   "id": "00c42ad6",
   "metadata": {},
   "outputs": [
    {
     "name": "stdout",
     "output_type": "stream",
     "text": [
      "1\n"
     ]
    }
   ],
   "source": [
    "x = 1\n",
    "if x == 1:\n",
    "    print(x)"
   ]
  },
  {
   "cell_type": "markdown",
   "id": "51610faa",
   "metadata": {},
   "source": [
    "**Przeanalizujmy ten kawałek kodu:**\n",
    "1. if # początek zapytania warunkowego :) \n",
    "2. x == 1 # To jest treść warunku (których może być kilka).\n",
    "3. == # To ten znak jest odpowiedzialny za porównanie ze sobą x i 1.\n",
    "4. W drugiej linii zaczyna się wcięcie na 4 spacje / tab i trwa aż do końca kodu warunkowego.\n",
    "5. print(x) # Tu, po wcięciu jest to, co się wydarzy, jeżeli warunek zostanie spełniony.\n"
   ]
  },
  {
   "cell_type": "markdown",
   "id": "68d7abab",
   "metadata": {},
   "source": [
    "## 2. Prawda i Fałsz. Zero i jeden."
   ]
  },
  {
   "cell_type": "markdown",
   "id": "8be429b9",
   "metadata": {},
   "source": [
    "Tu warto powiedzieć trochę o danych typu **bool**, czyli takich, które przyjmują tylko i wyłącznie jedną z 2 wartości: **prawda** / **fałsz**.\n",
    "\n",
    "Zobacz poniższy kod. On sprawdza \"Czy to prawda, że x jest równe 2?\" i zwraca odpowiedź \"Prawda\" lub \"Fałsz\"."
   ]
  },
  {
   "cell_type": "code",
   "execution_count": 70,
   "id": "e483f4d0",
   "metadata": {},
   "outputs": [
    {
     "name": "stdout",
     "output_type": "stream",
     "text": [
      "to prawda, x jest równe 2\n"
     ]
    }
   ],
   "source": [
    "x = 2\n",
    "if x == 2:\n",
    "    print('to prawda, x jest równe 2')"
   ]
  },
  {
   "cell_type": "markdown",
   "id": "b4249c22",
   "metadata": {},
   "source": [
    "Zobacz samemu, odpal poniższą komórkę z samym warunkiem:"
   ]
  },
  {
   "cell_type": "code",
   "execution_count": 71,
   "id": "229c6fee",
   "metadata": {},
   "outputs": [
    {
     "data": {
      "text/plain": [
       "True"
      ]
     },
     "execution_count": 71,
     "metadata": {},
     "output_type": "execute_result"
    }
   ],
   "source": [
    "x == 2"
   ]
  },
  {
   "cell_type": "markdown",
   "id": "c3602021",
   "metadata": {},
   "source": [
    "Zmieniaj w poniższej komórce x i zobaczysz jak zmienia się wartość równania. Zwracana jest zawsze **Prawda** (True) albo **Fałsz** (False). Tak też działa treść warunku. To zawsze ostatecznie \"Prawda\" lub \"Fałsz\". Prawda przepuszcza nas dalej, do treści kodu stojącego za warunkiem. Fałsz nie pozwala się tam dostać."
   ]
  },
  {
   "cell_type": "code",
   "execution_count": 74,
   "id": "1161da53",
   "metadata": {},
   "outputs": [
    {
     "data": {
      "text/plain": [
       "False"
      ]
     },
     "execution_count": 74,
     "metadata": {},
     "output_type": "execute_result"
    }
   ],
   "source": [
    "x = 1\n",
    "x == 2"
   ]
  },
  {
   "cell_type": "markdown",
   "id": "0ac57188",
   "metadata": {},
   "source": [
    "**If** ostatecznie sprawdza, czy warunek jest spełniony. Ostatecznie odpowiedź to tak lub nie. Prawda lub fałsz."
   ]
  },
  {
   "cell_type": "markdown",
   "id": "5584d819",
   "metadata": {},
   "source": [
    "**Warunek zawsze zostanie spełniony:**"
   ]
  },
  {
   "cell_type": "code",
   "execution_count": 79,
   "id": "85b98666",
   "metadata": {},
   "outputs": [
    {
     "name": "stdout",
     "output_type": "stream",
     "text": [
      "ok\n"
     ]
    }
   ],
   "source": [
    "if True:\n",
    "    print('ok')"
   ]
  },
  {
   "cell_type": "markdown",
   "id": "54e7e02e",
   "metadata": {},
   "source": [
    "#### Warunek zawsze NIE zostanie spełniony:"
   ]
  },
  {
   "cell_type": "code",
   "execution_count": 84,
   "id": "38baf272",
   "metadata": {},
   "outputs": [],
   "source": [
    "if False:\n",
    "    print('ok')"
   ]
  },
  {
   "cell_type": "markdown",
   "id": "cfc8753a",
   "metadata": {},
   "source": [
    "Tu warto powiedzieć trochę o danych typu Bool, czyli Prawda (True) / Fałsz (False).\n",
    "\n",
    "\n",
    "Jak wiesz z poprzednich zajęć, są 4 główne typy danych i można je nieraz konwertować na siebie nawzajem (np. 1 jako tekst a 1 jako cyfra)\n",
    "\n",
    "Zamiana zmiennej na bool. Użyj do tego **bool(x)** gdzie pod x podstaw zmienną o dowolnym typie i wartości.\n",
    "\n",
    "przykładowo 0 - zawsze zwróci Fałsz (False):"
   ]
  },
  {
   "cell_type": "code",
   "execution_count": 97,
   "id": "2848f330",
   "metadata": {},
   "outputs": [
    {
     "name": "stdout",
     "output_type": "stream",
     "text": [
      "False\n"
     ]
    }
   ],
   "source": [
    "zmienna = 0\n",
    "zmienna = bool(zmienna)\n",
    "print(zmienna)"
   ]
  },
  {
   "cell_type": "markdown",
   "id": "77cf1ceb",
   "metadata": {},
   "source": [
    "Każda inna wartość liczbowa da wynik: True"
   ]
  },
  {
   "cell_type": "code",
   "execution_count": 87,
   "id": "3ee1981e",
   "metadata": {},
   "outputs": [
    {
     "name": "stdout",
     "output_type": "stream",
     "text": [
      "True\n"
     ]
    }
   ],
   "source": [
    "zmienna = 10\n",
    "zmienna = bool(zmienna)\n",
    "print(zmienna)"
   ]
  },
  {
   "cell_type": "markdown",
   "id": "cac824c5",
   "metadata": {},
   "source": [
    "Możesz spojrzeć na to jako na podział zero-jedynkowy typu:\n",
    "\n",
    "a) Zmienna ma niezerową wartość **(1)** lub zawiera treść, jest \"pełna\" jak: 'abc', [1,2,3]\n",
    "\n",
    "b) Zmienna jest zerowa **(0)** lub \"pusta\" '', []\n",
    "\n",
    "W warunkach (ifach) to ważne, bo jak widziałeś wcześniej, kod który za nimi stoi zostanie uruchomiony tylko gdy if ostatecznie przyjmie wartość True (czyli Prawda), a nigdy gdy wartość będzie False czyli (Fałsz).\n",
    "\n",
    "Dlatego, aby dobrze zrozumieć warunki, musisz poznać najpierw wszystkie zależności dotyczące tego co może się dziać w związku z Prawdą i Fałszem."
   ]
  },
  {
   "cell_type": "markdown",
   "id": "d005812b",
   "metadata": {},
   "source": [
    "Aby głębiej zrozumieć warunki, poznajmy tzw. wartości boolowskie czyli (mówiąc prosto) taki rodzaj danych, który może jako wartość przyjąć jedynie Prawdę albo Fałsz."
   ]
  },
  {
   "cell_type": "code",
   "execution_count": 2,
   "id": "cde21719",
   "metadata": {},
   "outputs": [
    {
     "name": "stdout",
     "output_type": "stream",
     "text": [
      "True\n"
     ]
    }
   ],
   "source": [
    "wartosc_boolowska = True\n",
    "print(wartosc_boolowska)"
   ]
  },
  {
   "cell_type": "markdown",
   "id": "88bba5de",
   "metadata": {},
   "source": [
    "Spróbuj pozmieniać wartość zmiennej wartosc_boolowska. Wpisz True albo False. Każda inna wartość sprawi, że wartość Twojej zmiennej \"wartosc_boolowska\" przestanie być typu bool (boolean). Spróbuj i pozmieniaj jej wartość. Wpisz True potem zmień na False, 0, 'a', 1.1, i jeszcze raz True."
   ]
  },
  {
   "cell_type": "code",
   "execution_count": 27,
   "id": "8aa3f84b",
   "metadata": {},
   "outputs": [
    {
     "name": "stdout",
     "output_type": "stream",
     "text": [
      "Wartość: True\n",
      "Typ danych: <class 'bool'>\n"
     ]
    }
   ],
   "source": [
    "wartosc_boolowska = True # False\n",
    "print('Wartość:', wartosc_boolowska)\n",
    "print('Typ danych:', type(wartosc_boolowska))"
   ]
  },
  {
   "cell_type": "markdown",
   "id": "267122e7",
   "metadata": {},
   "source": [
    "## 3. Prawda i Fałsz w warunkach ('if')"
   ]
  },
  {
   "cell_type": "markdown",
   "id": "8d9545f6",
   "metadata": {},
   "source": [
    "Odpal poniższy kod. Warunek zawsze zostaje spełniony gdy przyjmuje wartość \"True\":"
   ]
  },
  {
   "cell_type": "code",
   "execution_count": 6,
   "id": "441b567e",
   "metadata": {},
   "outputs": [
    {
     "name": "stdout",
     "output_type": "stream",
     "text": [
      "To zawsze się wyświetli, jeżeli w warunku będzie samo \"True\".\n"
     ]
    }
   ],
   "source": [
    "if True:\n",
    "    print('To zawsze się wyświetli, jeżeli w warunku będzie samo \"True\".')"
   ]
  },
  {
   "cell_type": "markdown",
   "id": "1fef843b",
   "metadata": {},
   "source": [
    "Odpal poniższy kod. Warunek nigdy nie zostaje spełniony gdy przyjmuje wartość \"False\":"
   ]
  },
  {
   "cell_type": "code",
   "execution_count": 5,
   "id": "1c6101ba",
   "metadata": {},
   "outputs": [],
   "source": [
    "if False:\n",
    "    print('To nigdy się nie wyświetli, jeżeli w warunku będzie samo \"False\".')"
   ]
  },
  {
   "cell_type": "markdown",
   "id": "a356fc5a",
   "metadata": {},
   "source": [
    "Pobaw się jeszcze raz zmieniając poniższą wartość z True na False i odwrotnie, odpalając kod."
   ]
  },
  {
   "cell_type": "code",
   "execution_count": 99,
   "id": "05fd0c92",
   "metadata": {},
   "outputs": [
    {
     "name": "stdout",
     "output_type": "stream",
     "text": [
      "warunek spełniony\n"
     ]
    }
   ],
   "source": [
    "wartosc = True # False\n",
    "if wartosc:\n",
    "    print('warunek spełniony')"
   ]
  },
  {
   "cell_type": "markdown",
   "id": "a56012f3",
   "metadata": {},
   "source": [
    "Wartości True i False (prawda i fałsz) są często spotykane w warunkach if. Właściwie to co jest pod spodem kodu w warunku zawsze ostatecznie kwalifikuje się jako wartość True (i warunek jest spełniany) albo False (i nie jest.)"
   ]
  },
  {
   "cell_type": "markdown",
   "id": "1ecd687c",
   "metadata": {},
   "source": [
    "## 4. Prawda i Fałsz w warunkach w pozostałych typach danych"
   ]
  },
  {
   "cell_type": "markdown",
   "id": "f03e68bd",
   "metadata": {},
   "source": [
    "#### Prawda i Fałsz w danych liczbowych  (integers, \"int\")\n",
    "\n",
    "Ale, żeby było ciekawiej, sprawa ma się podobnie w sytuacji 0 i 1. Zobacz sam, pozmieniaj poniższą wartość z 0 na 1 i odwrotnie i zobacz co się stanie."
   ]
  },
  {
   "cell_type": "code",
   "execution_count": 11,
   "id": "ed604aa3",
   "metadata": {},
   "outputs": [
    {
     "name": "stdout",
     "output_type": "stream",
     "text": [
      "warunek spełniony\n"
     ]
    }
   ],
   "source": [
    "wartosc = 1  # 0\n",
    "if wartosc:\n",
    "    print('warunek spełniony')"
   ]
  },
  {
   "cell_type": "markdown",
   "id": "fad5d8c2",
   "metadata": {},
   "source": [
    "#### Prawda i Fałsz w danych liczbowych zmiennoprzecinkowych  (float, \"float\")\n",
    "\n",
    "Rzecz ma się identycznie jak ze zwykłymi cyframi. 0 jak 0.0 i 1 jak 1.0 (lub dowolna inna wartość, która jest niezerowa)."
   ]
  },
  {
   "cell_type": "code",
   "execution_count": 17,
   "id": "e5cf2275",
   "metadata": {},
   "outputs": [],
   "source": [
    "wartosc = 0.0 # 0.0000000001\n",
    "if wartosc:\n",
    "    print('warunek spełniony')"
   ]
  },
  {
   "cell_type": "markdown",
   "id": "08577212",
   "metadata": {},
   "source": [
    "#### Prawda i Fałsz w danych tekstowych  (string, \"str\")\n",
    "\n",
    "Podobnie w sytuacji pustych danych tekstowych i stringów zawierających treść. Sprawdź warunek podając pusty string '' a potem dowolną ilość znaków. Sprawdź kilka razy."
   ]
  },
  {
   "cell_type": "code",
   "execution_count": 18,
   "id": "69aaec9d",
   "metadata": {},
   "outputs": [],
   "source": [
    "wartosc = '' # 'abc abc'\n",
    "if wartosc:\n",
    "    print('warunek spełniony')"
   ]
  },
  {
   "cell_type": "markdown",
   "id": "2dfb098e",
   "metadata": {},
   "source": [
    "#### Prawda i Fałsz przy użyciu list, słowników i innych kolekcji danych (sety, tuple).\n",
    "\n",
    "Podobnie jak z danymi tekstowymi, obowiązuje zasada: albo mamy do czynienia z czymś pełnym albo pustym. \n",
    "\n",
    "Pełne przyjmują wartość Prawda (True) - podobnie jak 1, 1.1, czy 250. \n",
    "\n",
    "Puste zbiory danych przyjmują wartość Fałsz (False) - podobnie jak wartości zerowe: 0 i 0.0 oraz pusty string ''."
   ]
  },
  {
   "cell_type": "markdown",
   "id": "2bddb684",
   "metadata": {},
   "source": [
    "#### Listy (list)\n",
    "\n",
    "Spróbuj zmienić tę wartość na pustą listę: []"
   ]
  },
  {
   "cell_type": "code",
   "execution_count": 19,
   "id": "fac45212",
   "metadata": {},
   "outputs": [
    {
     "name": "stdout",
     "output_type": "stream",
     "text": [
      "warunek spełniony\n"
     ]
    }
   ],
   "source": [
    "wartosc = ['a', 'b', 'c']  # [] \n",
    "if wartosc:\n",
    "    print('warunek spełniony')"
   ]
  },
  {
   "cell_type": "code",
   "execution_count": null,
   "id": "7a55bd45",
   "metadata": {},
   "outputs": [],
   "source": []
  },
  {
   "cell_type": "markdown",
   "id": "38364c47",
   "metadata": {},
   "source": [
    "#### Tuple (tuple)\n",
    "\n",
    "Spróbuj zmienić tę wartość na pustą tuplę: ()"
   ]
  },
  {
   "cell_type": "code",
   "execution_count": 20,
   "id": "06e8f514",
   "metadata": {},
   "outputs": [
    {
     "name": "stdout",
     "output_type": "stream",
     "text": [
      "warunek spełniony\n"
     ]
    }
   ],
   "source": [
    "wartosc = ('a', 'b', 'c')  # ()\n",
    "if wartosc:\n",
    "    print('warunek spełniony')"
   ]
  },
  {
   "cell_type": "markdown",
   "id": "9bbdfd32",
   "metadata": {},
   "source": [
    "#### Słowniki (dict):\n",
    "\n",
    "Spróbuj zmienić tę wartość na pusty słownik: {}"
   ]
  },
  {
   "cell_type": "code",
   "execution_count": 22,
   "id": "d9f32e51",
   "metadata": {},
   "outputs": [
    {
     "name": "stdout",
     "output_type": "stream",
     "text": [
      "warunek spełniony\n"
     ]
    }
   ],
   "source": [
    "wartosc = {'klucz 1':'wartość 1', 'klucz 2':'wartość 2'}  # {}\n",
    "if wartosc:\n",
    "    print('warunek spełniony')"
   ]
  },
  {
   "cell_type": "markdown",
   "id": "5eedd0cf",
   "metadata": {},
   "source": [
    "#### Wartość None (brak wartości) a Prawda i Fałsz.\n",
    "\n",
    "W klocku o wartościach poznałeś już None. Zobacz jaką wartość przyjmuje w pytaniu warunkowym (jak myślisz?).\n",
    "\n",
    "Zmień none na dowolną pełną wartość i z powrotem aby zobaczyć różnicę."
   ]
  },
  {
   "cell_type": "code",
   "execution_count": 26,
   "id": "172869db",
   "metadata": {},
   "outputs": [],
   "source": [
    "wartosc = None # 'abc'\n",
    "if wartosc:\n",
    "    print('warunek spełniony')"
   ]
  },
  {
   "cell_type": "markdown",
   "id": "21d22760",
   "metadata": {},
   "source": [
    "#### Podsumowując:\n",
    "\n",
    "W warunkach wartość **True** (pozwalającą na wykonanie kodu wewnątrz tego warunku) przyjmują:\n",
    "- niezerowe liczby całkowite i zmiennoprzecinkowe (1, 1.1, 250, 250.0001)\n",
    "- niepuste dane tekstowe (stringi, 'str') czyli np: 'a', 'aaa'\n",
    "- niepuste zbiory danych na przykład: [1, 2, 3]\n",
    "- no i samo 'True'\n",
    "\n",
    "W warunkach wartość **False** (pozwalającą na wykonanie kodu wewnątrz tego warunku) przyjmują:\n",
    "- zero całkowite i z przecinkami: 0, 0.000 i 0.00000000000\n",
    "- puste wartości tekstowe: ''\n",
    "- puste zbiory danych: [], {}. ()\n",
    "- no i samo 'False'\n",
    "- aha i jeszcze None - czyli brak wartości.\n"
   ]
  },
  {
   "cell_type": "code",
   "execution_count": null,
   "id": "89c436b5",
   "metadata": {},
   "outputs": [],
   "source": [
    "# Przykłady True:\n",
    "wartosci_true = [\n",
    "    'a', \n",
    "    10, \n",
    "    25.001, \n",
    "    True, \n",
    "    [1,2,3], \n",
    "    ('a','b','c'), \n",
    "    {'klucz 1':'wartość 1', 'klucz 2':'wartość 2'}\n",
    "]\n",
    "\n",
    "# Te wartości są zawsze False:\n",
    "wartosci_false = [\n",
    "    '',\n",
    "    0,\n",
    "    0.0,\n",
    "    False,\n",
    "    [],\n",
    "    (),\n",
    "    {},\n",
    "    None\n",
    "]"
   ]
  },
  {
   "cell_type": "markdown",
   "id": "ed6c1cf0",
   "metadata": {},
   "source": [
    "## 5. Warunki - równania.\n",
    "\n",
    "### Jakie są możliwości co do treści warunku?\n",
    "\n",
    "W Pythonie przy użyciu warunków (\"Ifów\") można porównywać ze sobą wartości lub sprawdzać czy nie zawierają się w sobie.\n",
    "\n",
    "#### Do tego porównania używamy podwójnego znaku ==\n",
    "\n",
    "### Znak porównania wartości ==\n",
    "\n",
    "Poniższy kod sprawdza czy wartość 1 i wartość 2 są sobie równe. "
   ]
  },
  {
   "cell_type": "code",
   "execution_count": 55,
   "id": "4aab6207",
   "metadata": {},
   "outputs": [
    {
     "name": "stdout",
     "output_type": "stream",
     "text": [
      "wartości po lewej i prawej stronie znaku == są identyczne\n"
     ]
    }
   ],
   "source": [
    "if 'wartość' == 'wartość':\n",
    "    print('wartości po lewej i prawej stronie znaku == są identyczne')\n",
    "else:\n",
    "    print('wartości po lewej i prawej stronie znaku == różnią się.')"
   ]
  },
  {
   "cell_type": "markdown",
   "id": "7526eb7d",
   "metadata": {},
   "source": [
    "Porównywać można ze sobą liczby ale także tekst, listy albo słowniki. \n",
    "\n",
    "Porównania tekstu używa się na przykład do sprawdzania hasła."
   ]
  },
  {
   "cell_type": "code",
   "execution_count": 36,
   "id": "74bac0e0",
   "metadata": {},
   "outputs": [
    {
     "name": "stdout",
     "output_type": "stream",
     "text": [
      "Warunek spełniony. Obie wartości są identyczne.\n"
     ]
    }
   ],
   "source": [
    "wartosc_1 = 'haslo' # to pozmieniaj.\n",
    "wartosc_2 = 'haslo'\n",
    "if wartosc_1 == wartosc_2:\n",
    "    print('Warunek spełniony. Obie wartości są identyczne.')"
   ]
  },
  {
   "cell_type": "code",
   "execution_count": 38,
   "id": "5f70a480",
   "metadata": {},
   "outputs": [
    {
     "name": "stdout",
     "output_type": "stream",
     "text": [
      "Warunek spełniony. Obie wartości są identyczne.\n"
     ]
    }
   ],
   "source": [
    "wartosc_1 = 2 # to pozmieniaj.\n",
    "wartosc_2 = 2\n",
    "if wartosc_1 == wartosc_2:\n",
    "    print('Warunek spełniony. Obie wartości są identyczne.')"
   ]
  },
  {
   "cell_type": "code",
   "execution_count": 37,
   "id": "e7aa34fc",
   "metadata": {},
   "outputs": [
    {
     "name": "stdout",
     "output_type": "stream",
     "text": [
      "Warunek spełniony. Obie wartości są identyczne.\n"
     ]
    }
   ],
   "source": [
    "wartosc_1 = 10.001 # to pozmieniaj.\n",
    "wartosc_2 = 10.001\n",
    "if wartosc_1 == wartosc_2:\n",
    "    print('Warunek spełniony. Obie wartości są identyczne.')"
   ]
  },
  {
   "cell_type": "code",
   "execution_count": 39,
   "id": "c57c0db5",
   "metadata": {},
   "outputs": [
    {
     "name": "stdout",
     "output_type": "stream",
     "text": [
      "Warunek spełniony. Obie wartości są identyczne.\n"
     ]
    }
   ],
   "source": [
    "wartosc_1 = [1, 2, 3] # to pozmieniaj.\n",
    "wartosc_2 = [1, 2, 3]\n",
    "if wartosc_1 == wartosc_2:\n",
    "    print('Warunek spełniony. Obie wartości są identyczne.')"
   ]
  },
  {
   "cell_type": "markdown",
   "id": "893fb4cc",
   "metadata": {},
   "source": [
    "Zwróć uwagę na **podwójny znak \"równa się\"** w każdym z powyższych przykładów. Tak właśnie piszemy znak porównania gdy sprawdzamy czy wartości po lewej i prawej stronie podwójnego znaku są identyczne."
   ]
  },
  {
   "cell_type": "markdown",
   "id": "b09cee71",
   "metadata": {},
   "source": [
    "### Odwrotność to: nie równa się. Znak: !="
   ]
  },
  {
   "cell_type": "code",
   "execution_count": null,
   "id": "41b19643",
   "metadata": {},
   "outputs": [],
   "source": [
    "if x != 1:\n",
    "    print('x nie jest identyczne z 1 (nie równa się 1)')"
   ]
  },
  {
   "cell_type": "markdown",
   "id": "25d483e4",
   "metadata": {},
   "source": [
    "\n",
    "### <\n",
    "\n",
    "Wartość po lewej jest **MNIEJSZA** od wartości po prawej. Zmień pierwszą wartość na 30 i z powrotem na 10 kilka razy a potem się pobaw. Szybko załapiesz jak to działa."
   ]
  },
  {
   "cell_type": "code",
   "execution_count": 48,
   "id": "8802a0c0",
   "metadata": {},
   "outputs": [
    {
     "name": "stdout",
     "output_type": "stream",
     "text": [
      "Warunek spełniony. Wartość po lewej jest mniejsza.\n"
     ]
    }
   ],
   "source": [
    "wartosc_1 = 10 # to pozmieniaj.\n",
    "wartosc_2 = 20\n",
    "if wartosc_1 < wartosc_2:\n",
    "    print('Warunek spełniony. Wartość po lewej jest mniejsza.')"
   ]
  },
  {
   "cell_type": "markdown",
   "id": "cba22efd",
   "metadata": {},
   "source": [
    "\n",
    "### >\n",
    "\n",
    "Wartość po lewej jest **WIĘKSZA** od wartości po prawej. Zmień pierwszą wartość na 30 i z powrotem na 10 kilka razy a potem się pobaw. Szybko załapiesz jak to działa."
   ]
  },
  {
   "cell_type": "code",
   "execution_count": 49,
   "id": "763b549e",
   "metadata": {},
   "outputs": [],
   "source": [
    "wartosc_1 = 10 # to pozmieniaj.\n",
    "wartosc_2 = 20\n",
    "if wartosc_1 > wartosc_2:\n",
    "    print('Warunek spełniony. Wartość po lewej jest większa.')"
   ]
  },
  {
   "cell_type": "markdown",
   "id": "af6f9181",
   "metadata": {},
   "source": [
    "Są jeszcze inne ciekawe znaki porównania. Dotyczą one jednak tylko wartości liczbowych. Zobacz:\n",
    "\n",
    "### <=\n",
    "\n",
    "Wartość po lewej jest **MNIEJSZA lub równa** wartości po prawej. Zmień pierwszą wartość na 30 i z powrotem na 10 kilka razy a potem się pobaw. Wiesz już, że szybko załapiesz jak to działa."
   ]
  },
  {
   "cell_type": "code",
   "execution_count": 50,
   "id": "d18d117d",
   "metadata": {},
   "outputs": [
    {
     "name": "stdout",
     "output_type": "stream",
     "text": [
      "Warunek spełniony. Wartość po lewej jest MNIEJSZA lub równa wartości po prawej. \n"
     ]
    }
   ],
   "source": [
    "wartosc_1 = 10 # to pozmieniaj.\n",
    "wartosc_2 = 20\n",
    "if wartosc_1 <= wartosc_2:\n",
    "    print('Warunek spełniony. Wartość po lewej jest MNIEJSZA lub równa wartości po prawej. ')"
   ]
  },
  {
   "cell_type": "markdown",
   "id": "54a3e088",
   "metadata": {},
   "source": [
    "\n",
    "### >=\n",
    "\n",
    "Wartość po lewej jest **WIĘKSZA lub równa** wartości po prawej. Zmień pierwszą wartość na 30 i z powrotem na 10 kilka razy. Wiesz co robić - pobaw się - załapiesz jak to działa błyskawicznie."
   ]
  },
  {
   "cell_type": "code",
   "execution_count": 51,
   "id": "d1fb9d75",
   "metadata": {},
   "outputs": [],
   "source": [
    "wartosc_1 = 10 # to pozmieniaj.\n",
    "wartosc_2 = 20\n",
    "if wartosc_1 >= wartosc_2:\n",
    "    print('Warunek spełniony. Wartość po lewej jest WIĘKSZA lub równa wartości po prawej. ')"
   ]
  },
  {
   "cell_type": "markdown",
   "id": "9d9b532d",
   "metadata": {},
   "source": [
    "\n",
    "### Podsumowując:\n",
    "\n",
    "Pobaw się wartością 'x', pozmieniaj ją tak aby uruchomić i nie uruchomić kodu w 3 linii (czyli aby wynik pytania warunkowego był Prawdą lub Fałszem, spełnił się lub nie)."
   ]
  },
  {
   "cell_type": "code",
   "execution_count": null,
   "id": "dd3fbe0f",
   "metadata": {},
   "outputs": [],
   "source": [
    "x = 1\n",
    "if x == 1:\n",
    "    print('x jest identyczne z 1 (równa się 1)')"
   ]
  },
  {
   "cell_type": "code",
   "execution_count": null,
   "id": "13e49689",
   "metadata": {},
   "outputs": [],
   "source": [
    "x = 1\n",
    "if x != 1:\n",
    "    print('x nie jest identyczne z 1 (nie równa się 1)')"
   ]
  },
  {
   "cell_type": "code",
   "execution_count": null,
   "id": "fbedf25c",
   "metadata": {},
   "outputs": [],
   "source": [
    "x = 1\n",
    "if x <= 1:\n",
    "    print('x jest mniejsze lub równe 1')"
   ]
  },
  {
   "cell_type": "code",
   "execution_count": null,
   "id": "b0ffcf3f",
   "metadata": {},
   "outputs": [],
   "source": [
    "x = 1\n",
    "if x >= 1:\n",
    "    print('x jest większe lub równe 1')"
   ]
  },
  {
   "cell_type": "code",
   "execution_count": null,
   "id": "bcb8d979",
   "metadata": {},
   "outputs": [],
   "source": [
    "x = 1\n",
    "if x > 1:\n",
    "    print('x jest większe od 1')"
   ]
  },
  {
   "cell_type": "code",
   "execution_count": 4,
   "id": "7c4ae506",
   "metadata": {},
   "outputs": [],
   "source": [
    "x = 1\n",
    "if x < 1:\n",
    "    print('x jest mniejsze od 1')"
   ]
  },
  {
   "cell_type": "markdown",
   "id": "bee77182",
   "metadata": {},
   "source": [
    "#### \"IS\" i \"IS NOT\"\n",
    "\n",
    "Powyższe formuły mają jeszcze dwie alternatywy. Jednak raczej używa się kodu powyższego niż poniższego."
   ]
  },
  {
   "cell_type": "markdown",
   "id": "f6f620ab",
   "metadata": {},
   "source": [
    "#### \"IS\" - alternatywa dla \"==\" (czyli \"równa się\")"
   ]
  },
  {
   "cell_type": "code",
   "execution_count": null,
   "id": "aae4a02c",
   "metadata": {},
   "outputs": [],
   "source": [
    "if x is 1: # analogiczne do powyższego x == 1.\n",
    "    print('x jest identyczne z 1 (równa się 1)')"
   ]
  },
  {
   "cell_type": "markdown",
   "id": "52a80e1f",
   "metadata": {},
   "source": [
    "#### \"IS NOT\" - alternatywa dla \"!=\""
   ]
  },
  {
   "cell_type": "code",
   "execution_count": null,
   "id": "fbadf71e",
   "metadata": {
    "scrolled": true
   },
   "outputs": [],
   "source": [
    "if x is not 1: # analogiczne do powyższego x != 1.\n",
    "    print('x nie jest identyczne z 1 (nie równa się 1)')"
   ]
  },
  {
   "cell_type": "markdown",
   "id": "4c108279",
   "metadata": {},
   "source": [
    "### Wiele warunków na raz.\n",
    "\n",
    "#### W treści warunków: AND i OR (\"i\", \"albo\")\n",
    "\n",
    "Warunki mogą też przybierać dłuższe formy, tzn występować po dwa, trzy jednocześnie."
   ]
  },
  {
   "cell_type": "markdown",
   "id": "e63c1338",
   "metadata": {},
   "source": [
    "#### AND - tylko gdy oba warunki są spełnione"
   ]
  },
  {
   "cell_type": "code",
   "execution_count": 62,
   "id": "adc2e2d3",
   "metadata": {},
   "outputs": [
    {
     "name": "stdout",
     "output_type": "stream",
     "text": [
      "Oba warunki są spełnione. x to 1 a y to 2.\n"
     ]
    }
   ],
   "source": [
    "x = 1 \n",
    "y = 2\n",
    "if x == 1 and y == 2:\n",
    "    print('Oba warunki są spełnione. x to 1 a y to 2.')"
   ]
  },
  {
   "cell_type": "markdown",
   "id": "e1c798b9",
   "metadata": {},
   "source": [
    "#### OR - gdy jeden z warunków jest spełniony"
   ]
  },
  {
   "cell_type": "code",
   "execution_count": 63,
   "id": "1892af00",
   "metadata": {},
   "outputs": [
    {
     "name": "stdout",
     "output_type": "stream",
     "text": [
      "Dowolny z warunków jest spełniony. x to 1 ALBO/I y to 2.\n"
     ]
    }
   ],
   "source": [
    "if x == 1 or y == 2:\n",
    "    print('Dowolny z warunków jest spełniony. x to 1 ALBO/I y to 2.')"
   ]
  },
  {
   "cell_type": "markdown",
   "id": "0579449f",
   "metadata": {},
   "source": [
    "#### Łączenie warunków w dłuższe sekwencje:\n",
    "\n",
    "Nieraz chcemy aby pewna część warunku, np. składająca się z 2 warunków - w poniższym kodzie: (x == 1 or y == 2) - została potraktowana jako jeden ostatecznie warunek. Używamy wtedy pomiędzy nimi operatora AND/OR (jak w kodzie powyżej) ale treść warunków zarówno po lewej i prawej stronie wkładamy wewnątrz nawiasów.\n",
    "\n",
    "Sprawdź poniższe przykłady. Pobaw się nimi."
   ]
  },
  {
   "cell_type": "code",
   "execution_count": 7,
   "id": "80f93c2b",
   "metadata": {},
   "outputs": [
    {
     "name": "stdout",
     "output_type": "stream",
     "text": [
      "x to 1 ALBO/I y to 2.... a poza tym z to 3.\n"
     ]
    }
   ],
   "source": [
    "x = 1 \n",
    "y = 2\n",
    "z = 3\n",
    "c = 4\n",
    "if (x == 1 or y == 2) and z == 3:\n",
    "    print('x to 1 ALBO/I y to 2.... a poza tym z to 3.')"
   ]
  },
  {
   "cell_type": "markdown",
   "id": "f0c04d61",
   "metadata": {},
   "source": [
    "Powyższy 'if' to tak na prawdę jeden warunek, który pyta czy to prawda, że:\n",
    "1. (x == 1 or y == 2) and z == 3\n",
    "\n",
    "Który jak widzisz to tak na prawdę dwa warunki:\n",
    "1. (x == 1 or y == 2)\n",
    "2. z == 3\n",
    "\n",
    "Z których pierwszy można rozłożyć na dwa warunki:\n",
    "1. z == 1\n",
    "2. y == 2\n",
    "3. z == 3\n",
    "\n",
    "Całe powyższe równanie to innymi słowy składające się z 3 warunków pytanie, które brzmi: \n",
    "1. Czy to prawda, że prawdziwy jest warunek1 (lub warunek2) oraz warunek3?\n",
    "\n",
    "Łapiesz? Spójrz jeszcze raz poniżej, tym razem z 4 warunkami:"
   ]
  },
  {
   "cell_type": "code",
   "execution_count": null,
   "id": "4375f5ea",
   "metadata": {},
   "outputs": [],
   "source": [
    "x = 1 \n",
    "y = 2\n",
    "z = 3\n",
    "c = 4   \n",
    "if (x == 1 or y == 2) and (z == 3 or c == 4):\n",
    "    print('x to 1 ALBO/I y to 2.... a poza tym z to 3 ALBO/I c to 4.')"
   ]
  },
  {
   "cell_type": "markdown",
   "id": "5a1667b0",
   "metadata": {},
   "source": [
    "#### Kilka warunków - sposób drugi:\n",
    "\n",
    "Warunki AND (i) można rozpisywać także jeden pod drugim, dodając kolejnego 'ifa' (i kolejny poziom ustępu), jak poniżej:"
   ]
  },
  {
   "cell_type": "code",
   "execution_count": null,
   "id": "b13e492c",
   "metadata": {},
   "outputs": [],
   "source": [
    "x = 1 \n",
    "y = 2\n",
    "z = 3\n",
    "c = 4   \n",
    "if (x == 1 or y == 2)\n",
    "    if (z == 3 or c == 4):\n",
    "        print('x to 1 ALBO/I y to 2.... a poza tym z to 3 ALBO/I c to 4.')"
   ]
  },
  {
   "cell_type": "markdown",
   "id": "860ad20a",
   "metadata": {},
   "source": [
    "#### Praktyczna dygresja: warunków używa się też często do sprawdzania zgodności typów danych.\n",
    "\n",
    "Poniższy kod wykona się jedynie, jeżeli kod jest określonego typu danych:"
   ]
  },
  {
   "cell_type": "code",
   "execution_count": null,
   "id": "dc7b3763",
   "metadata": {},
   "outputs": [],
   "source": [
    "x = 1 # 'a'\n",
    "if (type(x) is int):\n",
    "    print('x jest pełną liczbą.')"
   ]
  },
  {
   "cell_type": "code",
   "execution_count": null,
   "id": "66eb1e69",
   "metadata": {},
   "outputs": [],
   "source": [
    "x = 0.1 # []\n",
    "if (type(x) is not int):\n",
    "    print('x nie jest pełną liczbą.')"
   ]
  },
  {
   "cell_type": "code",
   "execution_count": null,
   "id": "309f2096",
   "metadata": {},
   "outputs": [],
   "source": [
    "x = 0.1 # []\n",
    "if (type(x) is float):\n",
    "    print('x jest zmiennoprzecinkową liczbą.')"
   ]
  },
  {
   "cell_type": "code",
   "execution_count": null,
   "id": "aa2d1949",
   "metadata": {},
   "outputs": [],
   "source": [
    "x = \"abc\" # []\n",
    "if (type(x) is str):\n",
    "    print('x jest tekstem (string).')"
   ]
  },
  {
   "cell_type": "code",
   "execution_count": null,
   "id": "621edc81",
   "metadata": {},
   "outputs": [],
   "source": [
    "x = [1, 2, 3] # \"abc\" \n",
    "if (type(x) is list):\n",
    "    print('x jest typu: lista.')"
   ]
  },
  {
   "cell_type": "markdown",
   "id": "afb8162d",
   "metadata": {},
   "source": [
    "I tak dalej, powyższy wzór ma zastosowanie dla każdego typu danych."
   ]
  },
  {
   "cell_type": "markdown",
   "id": "fb3e1b2c",
   "metadata": {},
   "source": [
    "### \"IN\" czyli \"Czy A zawiera się wewnątrz B?\"\n",
    "\n",
    "Tylko dla stringów i list. Będziemy o obu typach mówić w przyszłości.\n",
    "Na razie nie przejmuj się tym.\n",
    "\n",
    "To jest lista. Nie przejmuj się tym na razie. Tutaj to po prostu kolekcja liczb 1,2,3."
   ]
  },
  {
   "cell_type": "code",
   "execution_count": null,
   "id": "2b2e3782",
   "metadata": {},
   "outputs": [],
   "source": [
    "y = 'abc'\n",
    "x = 'a'\n",
    "if x in y:\n",
    "    print(\"x zawiera się w y. Czyli 'a' zawiera się w 'abc.\")"
   ]
  },
  {
   "cell_type": "code",
   "execution_count": null,
   "id": "77da113f",
   "metadata": {},
   "outputs": [],
   "source": [
    "z = [1,2,3] \n",
    "c = 2\n",
    "if c in z:\n",
    "    print('c znajduje się na liście z. czyli 2 znajduje się w liście [1,2,3]')"
   ]
  },
  {
   "cell_type": "markdown",
   "id": "a998c808",
   "metadata": {},
   "source": [
    "### Dygresja 2: warunek a \"reszta\" z dzielenia \n",
    "\n",
    "1. (5 podzielić na 2 daje resztę 1, bo 5 to inaczej 2 + 2 i zostaje jeszcze + 1)\n",
    "2. (8 podzielić na 3 daje resztę 2, bo 8 to inaczej 3 + 3 i zostaje jeszcze + 2)\n",
    "3. (8 podzielić na 2 daje resztę 0, bo 8 to inaczej 2 + 2 + 2 + 2 i nic nie zostaje)\n",
    "\n",
    "Tylko dla stringów i list. Będziemy o obu typach mówić w przyszłości.\n",
    "Na razie nie przejmuj się tym.\n",
    "\n",
    "To jest lista. Nie przejmuj się tym na razie. Tutaj to po prostu kolekcja liczb 1,2,3."
   ]
  },
  {
   "cell_type": "code",
   "execution_count": null,
   "id": "f764ac64",
   "metadata": {},
   "outputs": [],
   "source": [
    "x = 3\n",
    "if x % 2 == 1:\n",
    "    print('3 podzielić na 2 to całe dwa i zostawia resztę z dzielenia 1.')\n",
    "    print('Bo w 3 2 mieści się 1 raz. I zostaje jeszcze 1.')"
   ]
  },
  {
   "cell_type": "code",
   "execution_count": null,
   "id": "e8a92f86",
   "metadata": {},
   "outputs": [],
   "source": [
    "x = 8\n",
    "if x % 2 == 0:\n",
    "    print('A tutaj reszta z dzielenia to zero bo 2 mieści się w 8 4 razy i nic nie zostaje.')"
   ]
  },
  {
   "cell_type": "markdown",
   "id": "95c0432a",
   "metadata": {},
   "source": [
    "### Warunki w listach: all() i any()"
   ]
  },
  {
   "cell_type": "markdown",
   "id": "1ed748e1",
   "metadata": {},
   "source": [
    "### all()\n",
    "\n",
    "Prawda gdy wszystkie elementy listy są prawdziwe."
   ]
  },
  {
   "cell_type": "code",
   "execution_count": 12,
   "id": "f500973b",
   "metadata": {},
   "outputs": [
    {
     "name": "stdout",
     "output_type": "stream",
     "text": [
      "Rezultat funkcji all(x): True\n",
      "Wszystkie elementy x są prawdziwe (True).\n"
     ]
    }
   ],
   "source": [
    "x = [True, True, True] # To jest lista z 3 wartościami bool'owskimi True, nie przejmuj się tym narazie.\n",
    "if all(x):\n",
    "    print('Rezultat funkcji all(x):', all(x))\n",
    "    print('Wszystkie elementy x są prawdziwe (True).')"
   ]
  },
  {
   "cell_type": "markdown",
   "id": "e762d32d",
   "metadata": {},
   "source": [
    "### any()\n",
    "\n",
    "Prawda gdy co najmniej 1 element jest prawdziwy.\n",
    "Zmień jeden element na False. Warunek nie zadziała."
   ]
  },
  {
   "cell_type": "code",
   "execution_count": 9,
   "id": "f3d10326",
   "metadata": {},
   "outputs": [
    {
     "name": "stdout",
     "output_type": "stream",
     "text": [
      "Rezultat funkcji any(x): True\n",
      "Conajmniej 1 element x jest prawdziwy (True).\n"
     ]
    }
   ],
   "source": [
    "x = [True, True, False]\n",
    "if all(x):\n",
    "    print('Rezultat funkcji all(x):', all(x))\n",
    "if any(x):\n",
    "    print('Rezultat funkcji any(x):', any(x))\n",
    "    print('Conajmniej 1 element x jest prawdziwy (True).')"
   ]
  },
  {
   "cell_type": "markdown",
   "id": "f8faeaa1",
   "metadata": {},
   "source": [
    "## 6. Warunki (If, elif i else) - wszystkie struktury, które musisz znać.\n",
    "\n",
    "Jest ich tak na prawdę niewielka ilość. Wszystkie warunki w programowaniu to w esencji jeden z poniższych 5 czy 6 wariantów. Wystarczy, że dobrze poznasz te, a będziesz umiał sprawnie stosować warunki w każdej sytuacji.\n",
    "\n",
    "\n",
    "### OPCJE:\n",
    "\n",
    "Do tej pory omówiliśmy pojedynczy warunek IF. Jednak if występuje nieraz w nieco szerszym gronie.\n",
    "\n",
    "#### Główne odmiany:\n",
    "- if\n",
    "- if/elif (albo to albo to)\n",
    "- if/else (albo to albo w każdym innym razie tamto)\n",
    "- if/elif/else (albo to albo to a w każdym innym razie tamto)\n",
    "\n",
    "#### Jaki i rozszerzony wariant ostatniej który może mieć \"elifów\" 1500-100-900.\n",
    "- if/elif/elif/elif/.../else (albo to albo to albo to albo to a w każdym innym razie tamto)\n",
    "\n",
    "#### Tutaj dochodzą 3 rzeczy z którymi wiąże się ważna konstatacja:\n",
    "1. Jak widać poniżej, nie ważne jak wielki jest blok if/elif/else, ZAWSZE wybierane jest tylko jedno z tych \"rozwidleń\". Nie da się zrobić tak aby spełnił się jednocześnie if i elif albo elif i else.\n",
    "2. Jak warunek \"ifa\" zostanie spełniony, program nie czyta dalej nawet kolejnego elsa, elifa, nawet jeżeli tam warunek również zostanie spełniony. Zawsze wybrana zostaje pierwsza możliwa opcja.\n",
    "3. Jeżeli żaden z warunków nie jest spełniony, a nie ma opcji \"else\" to program jest bezszelestnie realizowany dalej, jakby tego bloku warunkowego if/elif w ogóle nie było.\n",
    "\n",
    "Zobaczmy jak to wygląda."
   ]
  },
  {
   "cell_type": "markdown",
   "id": "53cf9deb",
   "metadata": {},
   "source": [
    "### A. If:  (Jeżeli X)"
   ]
  },
  {
   "cell_type": "code",
   "execution_count": 34,
   "id": "34d8bc1e",
   "metadata": {},
   "outputs": [
    {
     "name": "stdout",
     "output_type": "stream",
     "text": [
      "Warunek spełniony\n"
     ]
    }
   ],
   "source": [
    "zmienna = 1\n",
    "if zmienna:\n",
    "    print('Warunek spełniony')"
   ]
  },
  {
   "cell_type": "markdown",
   "id": "63a63387",
   "metadata": {},
   "source": [
    "### B. If / else: Jeżeli X albo jeżeli cokolwiek innego.\n",
    "\n",
    "Zmień zmienną tak aby przyjęła warunek (1) lub aby go nie spełniła w dowolny sposób (\"abc\" lub 150). Jeśli przypiszesz zmiennej cokolwiek innego niż 1 to warunek nie zostanie spełniony i uruchomisz kod wewnątrz **else**. Zrób tak. Pobaw się tym kodem."
   ]
  },
  {
   "cell_type": "code",
   "execution_count": null,
   "id": "b5f86d48",
   "metadata": {},
   "outputs": [],
   "source": [
    "zmienna = 1 # 150\n",
    "if zmienna == 1:\n",
    "    print('Warunek 1 spełniony')\n",
    "else:\n",
    "    print('Warunek 1 nie spełniony, więc realizuje się kod po \"else\"')"
   ]
  },
  {
   "cell_type": "markdown",
   "id": "5272f6a8",
   "metadata": {},
   "source": [
    "### C. If / elif: Jeżeli X albo jeżeli Y.\n",
    "\n",
    "Bardzo podobny, ale inny w działaniu jest **elif**. Daje nam wybór. Albo zostaje spełniony warunek pierwszy (if) albo drugi (elif). Jednak któryś z nich musi zostać spełniony. Jeżeli tak się nie dzieje, programy jest realizowany z pominięciem kodu zarówno wewnątrz niespełnionego warunku **ifa** jak i z pominięciem kodu za niezrealizowanym warunkiem **elifa**.\n",
    "\n",
    "Zmień wartość tak aby wywołać kod z 1 jak i z 2 warunku. Przyjrzyj się warunkom i spróbuj też wpisać w zmienną wartość która sprawi, że żaden kod się nie wykona."
   ]
  },
  {
   "cell_type": "code",
   "execution_count": null,
   "id": "4827d657",
   "metadata": {},
   "outputs": [],
   "source": [
    "zmienna = 1 # 150 # -10\n",
    "if zmienna == 1:\n",
    "    print('Warunek 1 spełniony')\n",
    "elif zmienna > 1:\n",
    "    print('Warunek 2 spełniony')"
   ]
  },
  {
   "cell_type": "markdown",
   "id": "dceb9230",
   "metadata": {},
   "source": [
    "Wróć do kodu wyżej (if/else) i pobaw się nim znowu. Skończ jak zrozumiesz różnicę pomiędzy if, if/else a if/elif. \n",
    "\n",
    "#### Jeszcze raz powtórka poniżej. \n",
    "\n",
    "Zauważ, że pierwszy i drugi wariant (if, if/elif) może być tak wykonany, że żaden kod nie zostanie uruchomiony. Inaczej w sytuacji gdy użyjesz if/else. Tu zawsze jeden z kodów zostanie uruchomiony: ten za 'if' lub ten za 'else'.\n",
    "\n"
   ]
  },
  {
   "cell_type": "code",
   "execution_count": 17,
   "id": "8b5ba453",
   "metadata": {},
   "outputs": [
    {
     "name": "stdout",
     "output_type": "stream",
     "text": [
      "Warunek spełniony\n"
     ]
    }
   ],
   "source": [
    "zmienna = 1\n",
    "if zmienna == 1:\n",
    "    print('Warunek spełniony')"
   ]
  },
  {
   "cell_type": "code",
   "execution_count": 18,
   "id": "18149648",
   "metadata": {},
   "outputs": [
    {
     "name": "stdout",
     "output_type": "stream",
     "text": [
      "Warunek 1 spełniony\n"
     ]
    }
   ],
   "source": [
    "zmienna = 1\n",
    "if zmienna == 1:\n",
    "    print('Warunek 1 spełniony')\n",
    "elif zmienna == 2:\n",
    "    print('Warunek 2 spełniony')"
   ]
  },
  {
   "cell_type": "code",
   "execution_count": 17,
   "id": "6e0ee517",
   "metadata": {},
   "outputs": [
    {
     "name": "stdout",
     "output_type": "stream",
     "text": [
      "Warunek spełniony\n"
     ]
    }
   ],
   "source": [
    "zmienna = 1\n",
    "if zmienna == 1:\n",
    "    print('Warunek spełniony')\n",
    "else:\n",
    "    print('Jeżeli warunek nie zostanie spełniony, to realizuje się ten kod.')"
   ]
  },
  {
   "cell_type": "markdown",
   "id": "142df206",
   "metadata": {},
   "source": [
    "Widzisz różnicę? :) To lećmy dalej. Nie? Napisz na discordzie :) odezwij się, pogadajmy o tym :)"
   ]
  },
  {
   "cell_type": "markdown",
   "id": "b9a1b1a9",
   "metadata": {},
   "source": [
    "### D. Pytania warunkowe: IF / ELIF / ELSE.\n",
    "\n",
    "Czyli: Albo/Albo/W innym razie."
   ]
  },
  {
   "cell_type": "code",
   "execution_count": null,
   "id": "d69063ec",
   "metadata": {},
   "outputs": [],
   "source": [
    "x = 1\n",
    "if x == 1:\n",
    "    print('1. Albo to, jeżeli x == 1')\n",
    "elif x == 2:\n",
    "    print('2. Albo to, jeżeli x == 2.')\n",
    "else:\n",
    "    print('3. W każdym innym razie to.')"
   ]
  },
  {
   "cell_type": "markdown",
   "id": "744058f2",
   "metadata": {},
   "source": [
    "### D. Rozbudowane pytania warunkowe: IF / ELIF  / ELIF  / ELIF  / ... / ELSE.\n",
    "\n",
    "Czyli: Albo/Albo/Albo/Albo/.../W innym razie."
   ]
  },
  {
   "cell_type": "code",
   "execution_count": 21,
   "id": "491dfbb0",
   "metadata": {},
   "outputs": [
    {
     "name": "stdout",
     "output_type": "stream",
     "text": [
      "1. Jeżeli x == 1.\n"
     ]
    }
   ],
   "source": [
    "x = 1\n",
    "if x == 1:\n",
    "    print('1. Jeżeli x == 1.')\n",
    "elif x == 2:\n",
    "    print('2. Jeżeli x == 2.')\n",
    "elif x == 3:\n",
    "    print('3. Jeżeli x == 3.')\n",
    "elif x == 4:\n",
    "    print('4. Jeżeli x == 4.')\n",
    "elif x == 5:\n",
    "    print('5. Jeżeli x == 5.')     \n",
    "else:\n",
    "    print('6. W każdym innym razie.')"
   ]
  },
  {
   "cell_type": "markdown",
   "id": "cb9d903e",
   "metadata": {},
   "source": [
    "### E. Zwykły if (Jeżeli X) Ale kilka razy.\n",
    "\n",
    "Zauważ, że każdy z warunków się wykona (lub nie) niezależnie od siebie."
   ]
  },
  {
   "cell_type": "code",
   "execution_count": 22,
   "id": "4508651a",
   "metadata": {},
   "outputs": [
    {
     "name": "stdout",
     "output_type": "stream",
     "text": [
      "Warunek 1 spełniony\n",
      "Warunek 3 spełniony\n"
     ]
    }
   ],
   "source": [
    "zmienna = 1\n",
    "\n",
    "if zmienna == 1:\n",
    "    print('Warunek 1 spełniony')\n",
    "\n",
    "if zmienna == 2:\n",
    "    print('Warunek 2 spełniony')\n",
    "\n",
    "if zmienna - 1 == 0:\n",
    "    print('Warunek 3 spełniony')"
   ]
  },
  {
   "cell_type": "markdown",
   "id": "ca6a5874",
   "metadata": {},
   "source": [
    "### F. Ify w Ifach\n",
    "\n",
    "Ify można oczywiście tworzyć wewnątrz innych warunków. Dobrą zasadą jest jednak robić to z głową, bez przesady, tak aby kod spełniał swoje zadanie ale nie był przez to zbyt skomplikowany czy nieczytelny. Dla ifów w ifach dodajemy oczywiście kolejny poziom wcięcia (tab/4 spacje)."
   ]
  },
  {
   "cell_type": "code",
   "execution_count": 26,
   "id": "93b5fa96",
   "metadata": {},
   "outputs": [
    {
     "name": "stdout",
     "output_type": "stream",
     "text": [
      "1\n",
      "2\n"
     ]
    }
   ],
   "source": [
    "x = 1\n",
    "y = 2\n",
    "\n",
    "if x == 1:\n",
    "    print(x)\n",
    "    if y == 2:\n",
    "        print(y)\n",
    "    elif x+y > 2:\n",
    "        print('y zmieniło wartość, to już nie 2 ale', y)\n",
    "        if x == 1 and y <= 10:\n",
    "            print('ale y jest nadal mniejsze od 10.')\n",
    "else:\n",
    "    print('x zmieniło wartość, to już nie 1 ale', x)\n",
    "    print('do y w ogóle tu nie docieramy. Zmień x na 1 aby dotrzeć do rozwidlenia z x.')"
   ]
  },
  {
   "cell_type": "markdown",
   "id": "20029f7c",
   "metadata": {},
   "source": [
    "#### Częsty błąd w warunkach: ZMIENNA NIE ISTNIEJE."
   ]
  },
  {
   "cell_type": "markdown",
   "id": "e651cdd7",
   "metadata": {},
   "source": [
    "A teraz zamień g na niezdefiniowaną zmienną np. z i zobacz co się stanie. Taki błąd zobaczysz za każdym razem, gdy zmienna, o którą pytasz w warunku nie została zadeklarowana. Bardzo częsty błąd :) wręcz naturalny podczas pisania, ale też bardzo łatwy do wykrycia i naprawy. Wystarczy zdefiniować tę zmienną z. Zrób tak, napisz z=20 i zobacz co się stanie. Potem przywróć g, nadal działa. Warunek zawsze spełni się dla zdefiniowanej niepustej wartości."
   ]
  },
  {
   "cell_type": "code",
   "execution_count": 30,
   "id": "2079fdaf",
   "metadata": {},
   "outputs": [
    {
     "name": "stdout",
     "output_type": "stream",
     "text": [
      "g\n"
     ]
    }
   ],
   "source": [
    "g = 10\n",
    "if g:\n",
    "    print('g')"
   ]
  },
  {
   "cell_type": "markdown",
   "id": "23d1c6ee",
   "metadata": {},
   "source": [
    "## Ćwiczenia:\n",
    "\n",
    "Ta lista jeszcze będzie rozbudowywana :) Na początek:\n",
    "\n",
    "Zdefiniuj sobie kilka zmiennych i napisz kod warunkowy:\n",
    "1. A lub B.\n",
    "2. A lub B a w każdym innym razie C.\n",
    "3. dowolny na 3 poziomy głębokości.\n",
    "4. Użyj podwójnego warunku w jednym if używając OR/AND."
   ]
  }
 ],
 "metadata": {
  "kernelspec": {
   "display_name": "Python 3 (ipykernel)",
   "language": "python",
   "name": "python3"
  },
  "language_info": {
   "codemirror_mode": {
    "name": "ipython",
    "version": 3
   },
   "file_extension": ".py",
   "mimetype": "text/x-python",
   "name": "python",
   "nbconvert_exporter": "python",
   "pygments_lexer": "ipython3",
   "version": "3.8.10"
  }
 },
 "nbformat": 4,
 "nbformat_minor": 5
}
