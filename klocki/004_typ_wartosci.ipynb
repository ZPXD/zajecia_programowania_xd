{
 "cells": [
  {
   "cell_type": "markdown",
   "id": "e15cea2a",
   "metadata": {},
   "source": [
    "# 004 - Typ\n",
    "\n",
    "\\- Co za typ.\n",
    "\n",
    "\\- Co za typiara.\n",
    "\n",
    "\n",
    "### Spis treści:\n",
    "\n",
    "#### Level 1\n",
    "1. Co to jest \"typ\" ?\n",
    "2. type()\n",
    "3. Główne 4 typy w Pythonie\n",
    "4. None - brak wartości\n",
    "5. Jak zmienić typ danej?\n",
    "6. isinstance()"
   ]
  },
  {
   "cell_type": "markdown",
   "id": "17f0486a",
   "metadata": {},
   "source": [
    "# 1. Co to jest \"typ\" ?\n",
    "\n",
    "Pytanie o typ zmiennej to pytanie o rodzaj informacji (danych) z jakim mamy doczynienia.\n",
    "\n",
    "\n",
    "Np. są dane liczbowe jak 1, 2, 3. Możemy je np. odejmować\n",
    "\n",
    "Są też dane tekstowe. Np. \"abc\", \"xD\" albo \"Jakieś krótkie zdanie.\" czy też cyfra ale jako tekst, więc w cudzysłowiach: \"1\". \n",
    "\n",
    "Z danymi tekstowymi i liczbowymi możemy robić wiele rzeczy ale nie wszystkie są takie same.\n",
    "\n",
    "Możemy pomnożyć 3 z 5. Ale nie pomnożymy \"a\" z \"b\". Chociaż możemy np. wypisać ich kombinacje)."
   ]
  },
  {
   "cell_type": "code",
   "execution_count": 3,
   "id": "7d82c86e",
   "metadata": {},
   "outputs": [],
   "source": [
    "zmienna_liczba = 1  # czyli 1 jako liczba, integer.\n",
    "zmienna_tekst = \"1\" # czyli 1 jako tekst, string, ciąg znaków."
   ]
  },
  {
   "cell_type": "markdown",
   "id": "d01ab08c",
   "metadata": {},
   "source": [
    "# 2. type()\n",
    "\n",
    "Funkcja wbudowana \"type()\". \n",
    "Druga, po \"print()\" jaką poznajesz.\n",
    "\n",
    "Sprawdzisz nią typy zmiennych. "
   ]
  },
  {
   "cell_type": "code",
   "execution_count": 4,
   "id": "5d20cf62",
   "metadata": {},
   "outputs": [
    {
     "name": "stdout",
     "output_type": "stream",
     "text": [
      "1\n",
      "<class 'int'>\n",
      "1\n",
      "<class 'str'>\n"
     ]
    }
   ],
   "source": [
    "print( zmienna_liczba)\n",
    "print( type( zmienna_liczba))\n",
    "print( zmienna_tekst)\n",
    "print( type( zmienna_tekst))"
   ]
  },
  {
   "cell_type": "markdown",
   "id": "e1b78ff2",
   "metadata": {},
   "source": [
    "Przy okazji - jak pamiętasz, to co znajduje się wewnątrz funkcji, to argument."
   ]
  },
  {
   "cell_type": "markdown",
   "id": "67c1c4ca",
   "metadata": {},
   "source": [
    "Są funkcje które przyjmują 0, 1, 2 albo dużo więcej, aż do nieskończoności argumentów. Omowimy to w przyszłości przy okazji funkcji kilka klocków później.\n",
    "\n",
    "### O funkcjach będziemy jeszcze sporo mówić za kilka klocków.\n",
    "\n",
    "#### Ale rzuć okiem na to:"
   ]
  },
  {
   "cell_type": "code",
   "execution_count": 5,
   "id": "874a5e8b",
   "metadata": {},
   "outputs": [
    {
     "name": "stdout",
     "output_type": "stream",
     "text": [
      "\n",
      "10\n"
     ]
    }
   ],
   "source": [
    "print()                # <---- to jest funkcja.\n",
    "zmienna_liczba = 10    # <---- wartość 10 przypisana do zmiennej.\n",
    "print( zmienna_liczba) # <---- funkcja print przyjmuje \n",
    "                       #       jako argument \"zmienna_liczba\"."
   ]
  },
  {
   "cell_type": "markdown",
   "id": "e6827d14",
   "metadata": {},
   "source": [
    "1. Funkcje poznasz po tym, że są zakończone nawiasami nazwa_funkcji()"
   ]
  },
  {
   "cell_type": "code",
   "execution_count": null,
   "id": "11d5cc4f",
   "metadata": {},
   "outputs": [],
   "source": [
    "print()"
   ]
  },
  {
   "cell_type": "markdown",
   "id": "2e5c64e9",
   "metadata": {},
   "source": [
    "2. Funkcje mogą przyjmować jeden lub więcej argumentów które oddzielone są od siebie wtedy przecinkami:"
   ]
  },
  {
   "cell_type": "code",
   "execution_count": 6,
   "id": "3098f165",
   "metadata": {},
   "outputs": [
    {
     "name": "stdout",
     "output_type": "stream",
     "text": [
      "10 1\n"
     ]
    }
   ],
   "source": [
    "print( zmienna_liczba, zmienna_tekst)"
   ]
  },
  {
   "cell_type": "markdown",
   "id": "faf84e91",
   "metadata": {},
   "source": [
    "Możesz użyć tej wiedzy, aby sprawdzić typ zmiennej w tej samej linii."
   ]
  },
  {
   "cell_type": "code",
   "execution_count": 8,
   "id": "f5eeaa91",
   "metadata": {},
   "outputs": [
    {
     "name": "stdout",
     "output_type": "stream",
     "text": [
      "10 <class 'int'>\n",
      "10 <class 'str'>\n"
     ]
    }
   ],
   "source": [
    "print( zmienna_liczba, type(zmienna_liczba))\n",
    "print( zmienna_liczba, type(zmienna_tekst))"
   ]
  },
  {
   "cell_type": "markdown",
   "id": "1050867e",
   "metadata": {},
   "source": [
    "# 3. Główne 4 typy w Pythonie"
   ]
  },
  {
   "cell_type": "markdown",
   "id": "08f47374",
   "metadata": {},
   "source": [
    "#### String (str) - ciąg znaków:"
   ]
  },
  {
   "cell_type": "code",
   "execution_count": 13,
   "id": "7631aeed",
   "metadata": {},
   "outputs": [
    {
     "name": "stdout",
     "output_type": "stream",
     "text": [
      "Stringami są: a 1 ab     a a aaasgdsg True xD\n",
      "Wszystkie wartości które wpakujesz pomiędzy dwa apostrofy albo cudzysłowie, to stringi.\n"
     ]
    }
   ],
   "source": [
    "print(\"Stringami są:\", 'a', '1','ab','',' ',' a a aaasgdsg', 'True', 'xD')\n",
    "print('Wszystkie wartości które wpakujesz pomiędzy dwa apostrofy albo cudzysłowie, to stringi.')"
   ]
  },
  {
   "cell_type": "markdown",
   "id": "c711f395",
   "metadata": {},
   "source": [
    "#### Integer (int) - liczba"
   ]
  },
  {
   "cell_type": "code",
   "execution_count": null,
   "id": "4aa5168f",
   "metadata": {},
   "outputs": [],
   "source": [
    "\n",
    "# Integer (int) - liczba, np:\n",
    "print(\"Liczbami są:\", -5, 1, 0, 123123)\n",
    "print(\"Liczbami są pełne liczby pisane bez spacji. Bez apostrofow, cudzysłowiów, te są zarezerwowane tylko dla stringów.\")\n"
   ]
  },
  {
   "cell_type": "markdown",
   "id": "8db36a40",
   "metadata": {},
   "source": [
    "#### Są jeszcze 2 typy danch uznawane za głowne."
   ]
  },
  {
   "cell_type": "markdown",
   "id": "ff2ad393",
   "metadata": {},
   "source": [
    "#### Float (float) - liczby mające coś po kropce:"
   ]
  },
  {
   "cell_type": "code",
   "execution_count": 15,
   "id": "d12e2d5c",
   "metadata": {},
   "outputs": [
    {
     "name": "stdout",
     "output_type": "stream",
     "text": [
      "Float są: -5.1 1.1 0.3333 123123.0000001\n",
      "Float to liczby z tym, że zawsze mają coś po kropce.\n"
     ]
    }
   ],
   "source": [
    "print(\"Float są:\", -5.1, 1.1, 0.3333, 123123.0000001)\n",
    "print('Float to liczby z tym, że zawsze mają coś po kropce.')"
   ]
  },
  {
   "cell_type": "markdown",
   "id": "97495f62",
   "metadata": {},
   "source": [
    "#### Boolean (bool) - Prawda/Fałsz:"
   ]
  },
  {
   "cell_type": "code",
   "execution_count": 16,
   "id": "e7f7bd19",
   "metadata": {},
   "outputs": [
    {
     "name": "stdout",
     "output_type": "stream",
     "text": [
      "Bool są: True False (i tyle).\n",
      "Bool to wartość prawda/fałsz czemu odpowiada nieraz 0/1.\n"
     ]
    }
   ],
   "source": [
    "print('Bool są:', True, False, '(i tyle).')\n",
    "print('Bool to wartość prawda/fałsz czemu odpowiada nieraz 0/1.')"
   ]
  },
  {
   "cell_type": "markdown",
   "id": "99b52bcd",
   "metadata": {},
   "source": [
    "# 4. None - brak wartości\n",
    "\n",
    "Wyjątkowy typ wartości który można przypisać zmiennej to None, jej brak."
   ]
  },
  {
   "cell_type": "code",
   "execution_count": 9,
   "id": "7037f657",
   "metadata": {},
   "outputs": [
    {
     "name": "stdout",
     "output_type": "stream",
     "text": [
      "None\n",
      "<class 'NoneType'>\n"
     ]
    }
   ],
   "source": [
    "x = None\n",
    "print(x)\n",
    "print(type(x))"
   ]
  },
  {
   "cell_type": "markdown",
   "id": "844f19ff",
   "metadata": {},
   "source": [
    "Stosuje się None gdy np. dla porządku trzeba utworzyć zmienną, której wartość nie jest zdefiniowana, więc zamiast zakrzywiać dane, wyznaczamy None."
   ]
  },
  {
   "cell_type": "markdown",
   "id": "2c2ba8b8",
   "metadata": {},
   "source": [
    "Omówiliśmy 4 główne typy danych: \n",
    "- str   - tekst\n",
    "- int   - liczby (całkowite)\n",
    "- float - liczby (zmiennoprzecinkowe)\n",
    "- bool  - prawda / fałsz\n",
    "\n",
    "Mogli byśmy dodać jeszcze trzeci typ liczbowy, complex. Jest to jednak rzadko używany typ danych.\n",
    "\n",
    "Te typy były \"główne\". Są też inne typy w Pythonie. \n",
    "O tym jednak będziemy mówić więcej w przyszłości. Narazie nie martw się tym. Nic a nic. \n",
    "\n",
    "Jednak jak chcesz rzucić okiem, są to:\n",
    "- funkcja, \n",
    "- klasa,\n",
    "- kontenery: list, tuple, range, set, frozenset, dict,\n",
    "- ponad to są typy binarne:\tbytes, bytearray, memoryview,\n",
    "- Dodatkowo istnieją inne typy z bibliotek jak np array z biblioteki numpy który jest działającym nieco inaczej niż listy, aczkolwiek bardzo podobnym ciągiem ciągiem cyfr."
   ]
  },
  {
   "cell_type": "markdown",
   "id": "87f775ed",
   "metadata": {},
   "source": [
    "### To mamy 4 główne typy danych. Co możemy z nimi robić?\n",
    "\n",
    "#### String (ciąg znaków) - można na przykład dodawać.\n",
    "\n",
    "Mają też wiele własnych metod jak np. .lower() który zamienia duże litery w całym ciągu znaków na małe."
   ]
  },
  {
   "cell_type": "code",
   "execution_count": 10,
   "id": "27fa9f85",
   "metadata": {},
   "outputs": [
    {
     "name": "stdout",
     "output_type": "stream",
     "text": [
      "AB\n",
      "ab\n"
     ]
    }
   ],
   "source": [
    "x = 'A'\n",
    "y = 'B'\n",
    "wynik_dodania_stringow = x + y\n",
    "print(wynik_dodania_stringow)\n",
    "print(wynik_dodania_stringow.lower())"
   ]
  },
  {
   "cell_type": "markdown",
   "id": "c538ccfa",
   "metadata": {},
   "source": [
    "Ze stringami można robić dziesiątki rzeczy. O tym w dalszych klockach :)\n",
    "\n",
    "#### Integer (liczba): \n",
    "\n",
    "operacje matematyczne (ale matmy nie będzie wiele chyba, że dla chętnych i potrzebujących):\n"
   ]
  },
  {
   "cell_type": "code",
   "execution_count": 11,
   "id": "7efd544c",
   "metadata": {},
   "outputs": [
    {
     "name": "stdout",
     "output_type": "stream",
     "text": [
      "wynik_dodawania 110 <class 'int'>\n",
      "wynik_odejmowania 90 <class 'int'>\n",
      "wynik_mnozenia 1000 <class 'int'>\n",
      "wynik_dzielenia 10.0 <class 'float'>\n",
      "wynik_potegowania 100000000000000000000 <class 'int'>\n"
     ]
    }
   ],
   "source": [
    "x = 100\n",
    "y = 10\n",
    "wynik_dodawania = x + y\n",
    "wynik_odejmowania = x - y\n",
    "wynik_mnozenia = x * y\n",
    "wynik_dzielenia = x / y\n",
    "wynik_potegowania = x ** y\n",
    "print('wynik_dodawania', wynik_dodawania, type( wynik_dodawania))\n",
    "print('wynik_odejmowania', wynik_odejmowania, type( wynik_odejmowania))\n",
    "print('wynik_mnozenia', wynik_mnozenia, type( wynik_mnozenia))\n",
    "print('wynik_dzielenia', wynik_dzielenia, type( wynik_dzielenia))\n",
    "print('wynik_potegowania', wynik_potegowania, type( wynik_potegowania))\n"
   ]
  },
  {
   "cell_type": "markdown",
   "id": "20365580",
   "metadata": {},
   "source": [
    "#### Zmiana wartości przez \"+=\", \"-=\": "
   ]
  },
  {
   "cell_type": "code",
   "execution_count": 39,
   "id": "37b587c3",
   "metadata": {},
   "outputs": [
    {
     "name": "stdout",
     "output_type": "stream",
     "text": [
      "10\n",
      "11\n",
      "12\n",
      "2\n",
      "1\n"
     ]
    }
   ],
   "source": [
    "x = 10\n",
    "print(x)\n",
    "x += 1\n",
    "print(x)\n",
    "x = x + 1\n",
    "print(x) \n",
    "x -= 10\n",
    "print(x)\n",
    "x = x - 1\n",
    "print(x)"
   ]
  },
  {
   "cell_type": "markdown",
   "id": "51416990",
   "metadata": {},
   "source": [
    "#### Float:\n",
    "\n",
    "Czyli liczba z elementem po kropce (np. 1.01, 3.03))\n",
    "\n",
    "Tu wszystko działa tak samo jak na integerach :))))\n"
   ]
  },
  {
   "cell_type": "markdown",
   "id": "80da1e8f",
   "metadata": {},
   "source": [
    "#### Bool (Prawda/Fałsz)\n",
    "\n",
    "O tym typie danych powiemy więcej przy okazji warunków, a potem jeszcze przy okazji list. Zamień w poniższym kodzie True na False i None i zobacz różnicę."
   ]
  },
  {
   "cell_type": "code",
   "execution_count": 14,
   "id": "c6285d57",
   "metadata": {},
   "outputs": [],
   "source": [
    "x = None\n",
    "if x:\n",
    "    print('warunek jest prawdziwy')"
   ]
  },
  {
   "cell_type": "markdown",
   "id": "8681cdd0",
   "metadata": {},
   "source": [
    "# 5. Jak zmienić typ zmiennej?\n",
    "\n",
    "Obowiązuje zdrowy roządek:\n",
    "- String możesz zamienić na integer albo float tylko, jeżeli reprezentuje wartość liczbową np. \"1\" albo \"1.4\". Nie zmienisz \"xD\" na int, robiąc int('xD'). To będzie bład.\n",
    "- Integer możesz zmienić na: str, float, albo int\n",
    "- Float możesz zmienić na: str, int.\n"
   ]
  },
  {
   "cell_type": "code",
   "execution_count": 18,
   "id": "5b80792c",
   "metadata": {},
   "outputs": [
    {
     "name": "stdout",
     "output_type": "stream",
     "text": [
      "1 <class 'int'>\n"
     ]
    }
   ],
   "source": [
    "# Zmienna x (nasze dane) o typie int (integer).\n",
    "x = 1\n",
    "print(x, type(x))"
   ]
  },
  {
   "cell_type": "code",
   "execution_count": 54,
   "id": "dd9c080c",
   "metadata": {},
   "outputs": [
    {
     "name": "stdout",
     "output_type": "stream",
     "text": [
      "1 <class 'str'>\n"
     ]
    }
   ],
   "source": [
    "# Zmień typ danych na string.\n",
    "x = str(x)\n",
    "print(x, type(x))"
   ]
  },
  {
   "cell_type": "code",
   "execution_count": 44,
   "id": "414de073",
   "metadata": {},
   "outputs": [
    {
     "name": "stdout",
     "output_type": "stream",
     "text": [
      "1.0 <class 'float'>\n"
     ]
    }
   ],
   "source": [
    "# Zmień typ danych na float.\n",
    "x = float(x)\n",
    "print(x, type(x))"
   ]
  },
  {
   "cell_type": "code",
   "execution_count": 19,
   "id": "27b9c196",
   "metadata": {},
   "outputs": [
    {
     "name": "stdout",
     "output_type": "stream",
     "text": [
      "True <class 'bool'>\n"
     ]
    }
   ],
   "source": [
    "# Zmień typ danych na bool.\n",
    "x = bool(x)\n",
    "print(x, type(x))"
   ]
  },
  {
   "cell_type": "code",
   "execution_count": 46,
   "id": "f5eaf2a7",
   "metadata": {},
   "outputs": [
    {
     "name": "stdout",
     "output_type": "stream",
     "text": [
      "1 <class 'int'>\n"
     ]
    }
   ],
   "source": [
    "# Zmień typ danych na integer.\n",
    "x = int(x)\n",
    "print(x, type(x))"
   ]
  },
  {
   "cell_type": "markdown",
   "id": "ec8ca212",
   "metadata": {},
   "source": [
    "# 6. isinstance() - warunek który się spełnia tylko, jeżeli wartość jest określonego typu np. tylko liczbą.\n",
    "\n",
    "użyjemy funkcji isinstance(), bardzo podobnej do type(). \n",
    "\n",
    "To co widzisz poniżej to if, pytanie warunkowe. Nie przejmuj się tym narazie. Omówimy je szerzej za kilka klocków."
   ]
  },
  {
   "cell_type": "markdown",
   "id": "6f71c985",
   "metadata": {},
   "source": [
    "#### Przypomnij sobie przykłady każdego z typu danych."
   ]
  },
  {
   "cell_type": "code",
   "execution_count": 20,
   "id": "e61a904e",
   "metadata": {},
   "outputs": [],
   "source": [
    "# Przypomnienie typów:\n",
    "bool_s = [True, False]\n",
    "integer_s = [-30, -5, 0,234, 1001244124124]\n",
    "float_s = [-11.1, 0.1, 2133.00000001]\n",
    "string_s = ['a', 'aaaa', ' a a  a', '1', 'True', '1.0', '#@$@98%']"
   ]
  },
  {
   "cell_type": "markdown",
   "id": "ecaceeef",
   "metadata": {},
   "source": [
    "#### I w każdej komórce pozmieniaj wartość x wybierając różne typy danych i patrz co się dzieje."
   ]
  },
  {
   "cell_type": "code",
   "execution_count": 23,
   "id": "ff5c2b63",
   "metadata": {},
   "outputs": [],
   "source": [
    "x = 2.4 # pozmieniaj typ.\n",
    "if isinstance(x, str):\n",
    "    print('x to str', x, type(x))"
   ]
  },
  {
   "cell_type": "code",
   "execution_count": 25,
   "id": "14ea5081",
   "metadata": {},
   "outputs": [],
   "source": [
    "x = 2.4 # pozmieniaj typ.\n",
    "if isinstance(x, int):\n",
    "    print('x to int', x, type(x))"
   ]
  },
  {
   "cell_type": "code",
   "execution_count": 27,
   "id": "3dcc09ea",
   "metadata": {},
   "outputs": [
    {
     "name": "stdout",
     "output_type": "stream",
     "text": [
      "x to float 2.4 <class 'float'>\n"
     ]
    }
   ],
   "source": [
    "x = 2.4 # pozmieniaj typ.\n",
    "if isinstance(x, float):\n",
    "    print('x to float', x, type(x))"
   ]
  },
  {
   "cell_type": "code",
   "execution_count": 30,
   "id": "17e85437",
   "metadata": {},
   "outputs": [
    {
     "name": "stdout",
     "output_type": "stream",
     "text": [
      "<class 'str'> <class 'int'> <class 'float'> <class 'bool'>\n"
     ]
    },
    {
     "ename": "TypeError",
     "evalue": "unsupported operand type(s) for +: 'int' and 'str'",
     "output_type": "error",
     "traceback": [
      "\u001b[0;31m---------------------------------------------------------------------------\u001b[0m",
      "\u001b[0;31mTypeError\u001b[0m                                 Traceback (most recent call last)",
      "\u001b[0;32m<ipython-input-30-8f8f7ce0050f>\u001b[0m in \u001b[0;36m<module>\u001b[0;34m\u001b[0m\n\u001b[1;32m     11\u001b[0m \u001b[0mprint\u001b[0m\u001b[0;34m(\u001b[0m\u001b[0mtype\u001b[0m\u001b[0;34m(\u001b[0m\u001b[0mx\u001b[0m\u001b[0;34m)\u001b[0m\u001b[0;34m,\u001b[0m \u001b[0mtype\u001b[0m\u001b[0;34m(\u001b[0m\u001b[0my\u001b[0m\u001b[0;34m)\u001b[0m\u001b[0;34m,\u001b[0m \u001b[0mtype\u001b[0m\u001b[0;34m(\u001b[0m\u001b[0mz\u001b[0m\u001b[0;34m)\u001b[0m\u001b[0;34m,\u001b[0m \u001b[0mtype\u001b[0m\u001b[0;34m(\u001b[0m\u001b[0mw\u001b[0m\u001b[0;34m)\u001b[0m\u001b[0;34m)\u001b[0m\u001b[0;34m\u001b[0m\u001b[0;34m\u001b[0m\u001b[0m\n\u001b[1;32m     12\u001b[0m \u001b[0;34m\u001b[0m\u001b[0m\n\u001b[0;32m---> 13\u001b[0;31m \u001b[0mk\u001b[0m \u001b[0;34m=\u001b[0m \u001b[0my\u001b[0m\u001b[0;34m+\u001b[0m\u001b[0mx\u001b[0m\u001b[0;34m\u001b[0m\u001b[0;34m\u001b[0m\u001b[0m\n\u001b[0m\u001b[1;32m     14\u001b[0m \u001b[0mprint\u001b[0m\u001b[0;34m(\u001b[0m\u001b[0mk\u001b[0m\u001b[0;34m)\u001b[0m\u001b[0;34m\u001b[0m\u001b[0;34m\u001b[0m\u001b[0m\n",
      "\u001b[0;31mTypeError\u001b[0m: unsupported operand type(s) for +: 'int' and 'str'"
     ]
    }
   ],
   "source": [
    "x = 'a' # pozmieniaj typ.\n",
    "if isinstance(x, bool):\n",
    "    print('x to bool', x, type(x))\n",
    "\n",
    "\n",
    "x = 'a'\n",
    "y = 2\n",
    "z = 2.4\n",
    "w = True\n",
    "\n",
    "print(type(x), type(y), type(z), type(w))\n",
    "\n",
    "k = str(y)+x\n",
    "print(k)"
   ]
  },
  {
   "cell_type": "markdown",
   "id": "36468288",
   "metadata": {},
   "source": [
    "#### Zadanie\n",
    "\n",
    "1. Napisz funkcję print która wydrukuje dane 4 róznych typów.\n",
    "2. Dodaj ze sobą 2 x float, 2 x string, 2 x integer.\n",
    "3. Dodaj ze sobą float i integer.\n",
    "4. Dodaj ze sobą str i integer i zobacz co się stanie.\n",
    "5. Bład? Tak, nie można dodawać stringów i integerów.\n",
    "6. Dodaj ze sobą str i int (ale zamieniając jego typ na str używając str() i zobacz co się stanie."
   ]
  }
 ],
 "metadata": {
  "kernelspec": {
   "display_name": "Python 3 (ipykernel)",
   "language": "python",
   "name": "python3"
  },
  "language_info": {
   "codemirror_mode": {
    "name": "ipython",
    "version": 3
   },
   "file_extension": ".py",
   "mimetype": "text/x-python",
   "name": "python",
   "nbconvert_exporter": "python",
   "pygments_lexer": "ipython3",
   "version": "3.6.9"
  }
 },
 "nbformat": 4,
 "nbformat_minor": 5
}
