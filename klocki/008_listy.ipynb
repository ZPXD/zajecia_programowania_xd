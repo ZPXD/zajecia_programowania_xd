{
 "cells": [
  {
   "cell_type": "markdown",
   "id": "5e9e7054",
   "metadata": {},
   "source": [
    "# 008 - listy\n",
    "\n",
    "Zbiory.\n",
    "\n",
    "### Spis treści:\n",
    "\n",
    "Level 1\n",
    "\n",
    "1. Kolekcje danych i Listy\n",
    "- 1. Tworzenie listy: lista = [1,2,3] / lista = [] / list = list() \n",
    "- 2. len(lista)\n",
    "- 3. min(lista)\n",
    "- 4. max(lista)\n",
    "\n",
    "2. Indeksy w listach:\n",
    "- 1. list[0]\n",
    "- 2. list[1] / string[1]\n",
    "- 3. lista[0] / lista[-1]\n",
    "- 4. lista[2:4]\n",
    "- 5. odwrocona_lista = list[::-1] / lista.reverse()\n",
    "- 6. lista[1] = 'xD'\n",
    "- 7. del lista[0]\n",
    "- 8. i = list.index()\n",
    "- 9. element = list.pop()\n",
    "\n",
    "3. Najważniejsze metody list:\n",
    "- 1. list.append()\n",
    "- 2. list.extend()\n",
    "- 3. list.count()\n",
    "- 4. list.clear()\n",
    "- 5. lista * 3\n",
    "- 6. if x in lista\n",
    "- 7. ''.join(list)\n",
    "- 8. list.sort() / sorted(lista)\n",
    "- 9. lista_2 = lista_1.copy()\n",
    "- 10. list[1][1]\n",
    "- 11. lista_a == lista_b\n",
    "\n",
    "Level 2\n",
    "1. iterowanie po liście: for i in list\n",
    "2. for i, element in enumerate(lista)\n",
    "3. lista_par = zip(lista_a, lista_b)\n",
    "4. nowa_lista = [e*2 for e in stara_lista]\n",
    "5. all(lista)\n",
    "6. any(lista)\n",
    "\n",
    "Level 3\n",
    "1. filter()\n",
    "2. map()\n",
    "3. Biblioteki które wspomagają pracę na listach\n",
    "4. itertools\n",
    "5. functools i reduce\n",
    "\n"
   ]
  },
  {
   "cell_type": "markdown",
   "id": "f3ba8009",
   "metadata": {},
   "source": [
    "## Listy\n",
    "\n",
    "#### Lista, zwłaszcza w połączeniu z pętlą to jeden z piękniejszych elementów pythona.\n",
    "\n",
    "Nauka przyniesie najlepsze efekty gdy po przeczytaniu opisów metod i funkcji będziesz aktywnie odpalał i modyfikowł wszystkie komórki z kodem. \n",
    "- otwórz nowy notebook (najlepiej poza TYM notebookiem)\n",
    "- wracaj codziennie przez kilka dni do tego zeszytu\n",
    "\n",
    "## Jak dobrze wyćwiczyć listy?\n",
    "\n",
    "#### Ćwicz odrazu\n",
    "\n",
    "Odpalaj każdy kod w tym zeszycie, spróbuj modyfikować niektóre elementy aby lepiej je zrozumieć\n",
    "\n",
    "#### Powtarzaj wiele razy\n",
    "\n",
    "Przez conajmniej 7 dni przeglądaj codziennie ten zeszyt (daj sobie z 5-10 minut - a najlepiej więcej, przejrzyj wszystkie funkcje, kod) - utrwalisz materiał\n",
    "\n",
    "#### Przechodź po kolei poziomy -  oddziel to co ważne i pilne od tego co jest przydatne w dalszej kolejności\n",
    "\n",
    "Ten plik jest podzielony na kilka poziomów. \n",
    "\n",
    "Możesz przeczytać cały opis danego tematu za 1 razem albo\n",
    "nauczyć sie tego co najbardziej istotnie i po zaawansowany materiał\n",
    "wrócić tu później.\n"
   ]
  },
  {
   "cell_type": "markdown",
   "id": "47c81ce8",
   "metadata": {},
   "source": [
    "## 1. Kolekcje danych i Listy\n",
    "\n",
    "Do tej pory mówiliśmy głównie o \"zmiennych\" które przybierają pewne wartości, np:"
   ]
  },
  {
   "cell_type": "code",
   "execution_count": 1,
   "id": "c36c4df6",
   "metadata": {},
   "outputs": [],
   "source": [
    "x = 1"
   ]
  },
  {
   "cell_type": "markdown",
   "id": "b86534e8",
   "metadata": {},
   "source": [
    "czy:"
   ]
  },
  {
   "cell_type": "code",
   "execution_count": 2,
   "id": "5f36eb4f",
   "metadata": {},
   "outputs": [],
   "source": [
    "y = 'abc'"
   ]
  },
  {
   "cell_type": "markdown",
   "id": "3afa73be",
   "metadata": {},
   "source": [
    "Jednak dane wartości nie zawsze występują pojedyńczo. Mówimy wtedy o zbiorach, kolekcjach. \n",
    "\n",
    "W pythonie są 3 główne rodzaje zbiorów i pewna ilość rzadziej używanych: **listy**, podobne do nich **tuple** które stanowią jak nazwa wskazuje listę elementów, w szeregu jeden po drugim - i **słowniki** które mają strukturę par klucz - wartość. Tu omówimy listy i powiemy kilka słów o bardzo podobnych do nich tuplach i set'ach.\n",
    "\n",
    "Lista to zbiór wartości."
   ]
  },
  {
   "cell_type": "code",
   "execution_count": 3,
   "id": "ad199cae",
   "metadata": {},
   "outputs": [],
   "source": [
    "x = [1, 2, 3]"
   ]
  },
  {
   "cell_type": "markdown",
   "id": "56c875b7",
   "metadata": {},
   "source": [
    "Lista ma zawsze formę kwadratowych nawiasów i wartości wewnątrz nich przedzielone są zawsze przecinkami. Tym różni się od tupli i set'u."
   ]
  },
  {
   "cell_type": "code",
   "execution_count": 4,
   "id": "09da89cf",
   "metadata": {},
   "outputs": [],
   "source": [
    "lista = [1, 2, 3]\n",
    "tupla = (1, 2, 3)\n",
    "sety  = {1, 2, 3}"
   ]
  },
  {
   "cell_type": "markdown",
   "id": "fa73612b",
   "metadata": {},
   "source": [
    "Jak widzisz sety, tuple i listy to bardzo podobne rodzaje kolekcji danych. O dwuch pierwszych powiemy więcej później. Po pierwsze dlatego, że większości sytuacji będziesz stosować listy. Po drugie, zasady które dotyczą list są bardzo podobne do tych które dotyczą setów i tupli. \n",
    "\n",
    "Pomówmy więc o listach, poznaj podstawy działania list:"
   ]
  },
  {
   "cell_type": "markdown",
   "id": "2bb729e6",
   "metadata": {},
   "source": [
    "#### 1. Tworzenie listy"
   ]
  },
  {
   "cell_type": "markdown",
   "id": "b0f0573e",
   "metadata": {},
   "source": [
    "#### Tworzenie listy (pustej)"
   ]
  },
  {
   "cell_type": "code",
   "execution_count": 5,
   "id": "d6f2bd01",
   "metadata": {},
   "outputs": [],
   "source": [
    "lista = list() # Pusta lista.\n",
    "lista = [] # Też pusta lista."
   ]
  },
  {
   "cell_type": "markdown",
   "id": "3a466d4f",
   "metadata": {},
   "source": [
    "#### Tworzenie listy (pełnej)"
   ]
  },
  {
   "cell_type": "code",
   "execution_count": 6,
   "id": "f6db9095",
   "metadata": {},
   "outputs": [],
   "source": [
    "lista = [1] # Lista z 1 elementem typu integer.\n",
    "lista = [1,2,3] # Lista z 3 elementami typu integer.\n",
    "lista = ['a', 1, True] # Lista z 3 elementami różnego typu."
   ]
  },
  {
   "cell_type": "markdown",
   "id": "0f22162e",
   "metadata": {},
   "source": [
    "#### Lista jest typu 'list'"
   ]
  },
  {
   "cell_type": "code",
   "execution_count": 7,
   "id": "8d4ec7aa",
   "metadata": {},
   "outputs": [
    {
     "name": "stdout",
     "output_type": "stream",
     "text": [
      "Lista jest typu: <class 'list'>\n"
     ]
    }
   ],
   "source": [
    "lista = [1, 2, 3]\n",
    "print('Lista jest typu:', type(lista) )"
   ]
  },
  {
   "cell_type": "markdown",
   "id": "f97e26c9",
   "metadata": {},
   "source": [
    "#### Inne podstawowe funkcje używane na liście:\n",
    "\n",
    "Każda lista ma swoją długość. Można ją poznać używając funkcji len(). Dodatkowo, z list zawierających liczby (integers) - ale już nie tekst - możemy funkcjami max() czy min() poznać ich najmniejszy lub największy element."
   ]
  },
  {
   "cell_type": "markdown",
   "id": "136b23d7",
   "metadata": {},
   "source": [
    "### 2. len(lista)\n",
    "\n",
    "#### Poznaj ilość elementów w liście\n",
    "\n",
    "Długość list, danych tekstowych (stringów, `str`) i słowników wylicza funkcja `len()`."
   ]
  },
  {
   "cell_type": "code",
   "execution_count": 8,
   "id": "e67124d7",
   "metadata": {},
   "outputs": [
    {
     "name": "stdout",
     "output_type": "stream",
     "text": [
      "Lista: [2, 3, 4, 5]\n",
      "Długość listy: 4\n"
     ]
    }
   ],
   "source": [
    "lista = [2, 3, 4, 5]\n",
    "dlugosc_listy = len(lista)\n",
    "\n",
    "print('Lista:', lista)\n",
    "print('Długość listy:', dlugosc_listy)"
   ]
  },
  {
   "cell_type": "markdown",
   "id": "8a8bfa0d",
   "metadata": {},
   "source": [
    "### 3. min(lista)\n",
    "\n",
    "#### Poznaj najmniejszy element w liście"
   ]
  },
  {
   "cell_type": "code",
   "execution_count": 9,
   "id": "2b85bf14",
   "metadata": {},
   "outputs": [
    {
     "name": "stdout",
     "output_type": "stream",
     "text": [
      "Minimalny element listy: min(lista): 2\n"
     ]
    }
   ],
   "source": [
    "lista = [2,3,4,5]\n",
    "najmniejszy_element = min(lista)\n",
    "\n",
    "print('Minimalny element listy: min(lista):', najmniejszy_element)"
   ]
  },
  {
   "cell_type": "markdown",
   "id": "09e5140e",
   "metadata": {},
   "source": [
    "### 4. max(lista)\n",
    "\n",
    "#### Poznaj największy element w liście \n",
    "\n",
    "Działa na dane liczbowe ale także na tekst - zmień cyfry w `lista` na litery tak jak jest to pokazane po haszu a zobaczysz co się stanie."
   ]
  },
  {
   "cell_type": "code",
   "execution_count": 10,
   "id": "3c9bfc0b",
   "metadata": {},
   "outputs": [
    {
     "name": "stdout",
     "output_type": "stream",
     "text": [
      "Lista: [2, 3, 4, 5]\n",
      "Największy element: 5\n"
     ]
    }
   ],
   "source": [
    "lista = [2,3,4,5] # ['a','b','c','d']\n",
    "\n",
    "najwiekszy_element = max(lista)\n",
    "\n",
    "print('Lista:', lista)\n",
    "print('Największy element:', najwiekszy_element)"
   ]
  },
  {
   "cell_type": "markdown",
   "id": "e52239ba",
   "metadata": {},
   "source": [
    "### 5. Inne typy wylistowań: set() i tuple()\n",
    "\n",
    "### set()\n",
    "\n",
    "Sety to takie 'listy' które zawierają tylko unikalne elementy. \n",
    "\n",
    "Spróbuj dodać do seta jeszcze jedną trójkę i zobacz co się stanie."
   ]
  },
  {
   "cell_type": "code",
   "execution_count": 11,
   "id": "39d3df85",
   "metadata": {},
   "outputs": [
    {
     "name": "stdout",
     "output_type": "stream",
     "text": [
      "{1, 2, 3} <class 'set'>\n"
     ]
    }
   ],
   "source": [
    "przykladowy_set = {1, 2, 3}\n",
    "print(przykladowy_set, type(przykladowy_set))"
   ]
  },
  {
   "cell_type": "markdown",
   "id": "f44b1518",
   "metadata": {},
   "source": [
    "Zanim powiemy więcej o set'ach poznaj najpierw metody działające na listach. Większość z nich działa tak samo na setach.\n",
    "\n",
    "### list(set(lista))\n",
    "\n",
    "#### Uzyskaj listę unikalnych elementów\n",
    "\n",
    "Aby uzyskać zbiór samych unikalnych elementów w liście zmień listę w set `set(lista)` (taka zamiana listy na set'a odrzuca ze zbioru wszystkie nieunikalne elementy) i spowrotem na listę `list(set(lista)` aby zachować oryginalny typ zbioru.\n",
    "\n",
    "Lista z powtarzającymi się elementami:"
   ]
  },
  {
   "cell_type": "code",
   "execution_count": 12,
   "id": "137b7cef",
   "metadata": {},
   "outputs": [
    {
     "name": "stdout",
     "output_type": "stream",
     "text": [
      "Lista: ['a', 'b', 'c', 'c', 'd', 'd', 'd'] <class 'list'>\n"
     ]
    }
   ],
   "source": [
    "lista = ['a', 'b', 'c', 'c', 'd', 'd', 'd']\n",
    "\n",
    "print('Lista:', lista, type(lista))"
   ]
  },
  {
   "cell_type": "markdown",
   "id": "00f6aecd",
   "metadata": {},
   "source": [
    "I zamień lisŧę w set.\n",
    "\n",
    "Zwróć uwagę, że set będzie składał się wyłącznie z unikalnych elementów listy."
   ]
  },
  {
   "cell_type": "code",
   "execution_count": 13,
   "id": "8ac7a4db",
   "metadata": {},
   "outputs": [
    {
     "name": "stdout",
     "output_type": "stream",
     "text": [
      "Set z listy: {'c', 'd', 'b', 'a'} <class 'set'>\n"
     ]
    }
   ],
   "source": [
    "set_z_listy = set(lista)\n",
    "\n",
    "print('Set z listy:', set_z_listy, type(set_z_listy))"
   ]
  },
  {
   "cell_type": "markdown",
   "id": "ae1675d0",
   "metadata": {},
   "source": [
    "Użyj na secie metody `list(set_z_listy)` i zmień go spowrotem w listę - w ten sposób powstaje lista unikalnych elementów."
   ]
  },
  {
   "cell_type": "code",
   "execution_count": 14,
   "id": "bac7dd6d",
   "metadata": {},
   "outputs": [
    {
     "name": "stdout",
     "output_type": "stream",
     "text": [
      "Lista unikalnych wartości: ['c', 'd', 'b', 'a'] <class 'list'>\n"
     ]
    }
   ],
   "source": [
    "lista_unikalnych_wartosci = list(set_z_listy)\n",
    "\n",
    "print('Lista unikalnych wartości:', lista_unikalnych_wartosci, type(lista_unikalnych_wartosci))"
   ]
  },
  {
   "cell_type": "markdown",
   "id": "774e5e38",
   "metadata": {},
   "source": [
    "#### Pisząc krócej:"
   ]
  },
  {
   "cell_type": "code",
   "execution_count": 15,
   "id": "b05c2a0d",
   "metadata": {},
   "outputs": [
    {
     "name": "stdout",
     "output_type": "stream",
     "text": [
      "['a', 'b', 'c', 'c', 'd', 'd', 'd']\n",
      "['c', 'd', 'b', 'a']\n"
     ]
    }
   ],
   "source": [
    "lista = ['a', 'b', 'c', 'c', 'd', 'd', 'd']\n",
    "lista_unikalnych_elementow = list(set(lista))\n",
    "\n",
    "print(lista)\n",
    "print(lista_unikalnych_elementow)"
   ]
  },
  {
   "cell_type": "markdown",
   "id": "c4ff852f",
   "metadata": {},
   "source": [
    "Najważniejszymi charakterystykami listy są więc:\n",
    "- jej długość\n",
    "- typ\n",
    "- jej elementy\n",
    "\n",
    "To już omówiliśmy. Ale aby naprawdę dobrze poznać listy, musisz sprawnie posługiwać się jeszcze\n",
    "- indeksami - każdy z elementów listy ma swój indeks, numer oddający miejsce w liście w którym znajduje się element.\n",
    "- znać wbudowane funkcje i metody (około 10-20) których używamy na listach. \n",
    "- kilka ogólnych problemów które rozwiązujemy listami\n",
    "\n",
    "I o będą tym poniższe podrozdziały."
   ]
  },
  {
   "cell_type": "markdown",
   "id": "0cc686fa",
   "metadata": {},
   "source": [
    "#### Zamiana listy na tuple i spowrotem\n",
    "\n",
    "Aby zamienić tuple albo set czy inne wylistowanie w listę użyj:"
   ]
  },
  {
   "cell_type": "code",
   "execution_count": 16,
   "id": "9855ef10",
   "metadata": {
    "scrolled": true
   },
   "outputs": [
    {
     "name": "stdout",
     "output_type": "stream",
     "text": [
      "Tupla: ('a', 'b', 'c') <class 'tuple'>\n"
     ]
    }
   ],
   "source": [
    "tupla = ('a', 'b', 'c')\n",
    "\n",
    "print('Tupla:', tupla, type(tupla))"
   ]
  },
  {
   "cell_type": "markdown",
   "id": "75afb5de",
   "metadata": {},
   "source": [
    "Zamiana tupli na listę"
   ]
  },
  {
   "cell_type": "code",
   "execution_count": 17,
   "id": "5678add7",
   "metadata": {},
   "outputs": [
    {
     "name": "stdout",
     "output_type": "stream",
     "text": [
      "Lista ['a', 'b', 'c'] <class 'list'>\n"
     ]
    }
   ],
   "source": [
    "lista = list(tupla)\n",
    "\n",
    "print('Lista', lista, type(lista))"
   ]
  },
  {
   "cell_type": "markdown",
   "id": "25afdc46",
   "metadata": {},
   "source": [
    "Zamiana listy na tuplę:"
   ]
  },
  {
   "cell_type": "code",
   "execution_count": 18,
   "id": "46622a1a",
   "metadata": {},
   "outputs": [
    {
     "name": "stdout",
     "output_type": "stream",
     "text": [
      "Tupla: ('a', 'b', 'c') <class 'tuple'>\n"
     ]
    }
   ],
   "source": [
    "tupla = tuple(lista)\n",
    "\n",
    "print('Tupla:', tupla, type(tupla))"
   ]
  },
  {
   "cell_type": "markdown",
   "id": "178ae4b7",
   "metadata": {},
   "source": [
    "## 2. Indeksy w listach:\n",
    "\n",
    "Indeks to numer elementu w liście.\n",
    "\n",
    "Indeks:\n",
    "- Indeks to liczba\n",
    "- Każdy element w liście ma swój indeks\n",
    "- Indeksy są zawsze ułożone szergowo, czyli w odstępie 'co jeden' (`0, 1, 2, 3 ...`), nigdy inaczej.\n",
    "- Indeksy zawsze zaczynają się od 1 wartości.\n",
    "- Indeks pierwszej wartości to zawsze 0.\n",
    "\n",
    "Czyli np. indeksy dla listy:"
   ]
  },
  {
   "cell_type": "markdown",
   "id": "1aa69c96",
   "metadata": {},
   "source": [
    "### 1. list[0]\n",
    "\n",
    "#### Wybierz element z listy po indeksie."
   ]
  },
  {
   "cell_type": "code",
   "execution_count": 19,
   "id": "b0c7c400",
   "metadata": {},
   "outputs": [],
   "source": [
    "lista = ['a', 'b', 'c', 'd', 'e', 'f', 'g']"
   ]
  },
  {
   "cell_type": "markdown",
   "id": "cb152b79",
   "metadata": {},
   "source": [
    "Indeksy to 0, 1, 2 które odpowiadają kolejno \n",
    "- 'a' (indeks 0), \n",
    "- 'b' (indeks 1),\n",
    "- 'c' (indeks 2),\n",
    "- i tak dalej.\n",
    "\n",
    "\n",
    "Sprawdź sam:\n",
    "\n",
    "Zmieniaj wartość indeksu (oznaczanego najczęściej jako zmienna `i`) - od 0 do 6 (ostatniego elementu listy) i patrz jak zmienia się wybrany element."
   ]
  },
  {
   "cell_type": "code",
   "execution_count": 112,
   "id": "32f4dda4",
   "metadata": {},
   "outputs": [
    {
     "name": "stdout",
     "output_type": "stream",
     "text": [
      "10\n"
     ]
    }
   ],
   "source": [
    "indeks = 3\n",
    "element = lista[indeks]\n",
    "\n",
    "print(element)"
   ]
  },
  {
   "cell_type": "markdown",
   "id": "0cc63d30",
   "metadata": {},
   "source": [
    "#### Maksymalny indeks?\n",
    "\n",
    "Zobacz co będzie jak wpiszesz liczbę większą od indeksu listy (7, 8 lub 9). "
   ]
  },
  {
   "cell_type": "code",
   "execution_count": 113,
   "id": "4e875613",
   "metadata": {},
   "outputs": [
    {
     "ename": "IndexError",
     "evalue": "list index out of range",
     "output_type": "error",
     "traceback": [
      "\u001b[0;31m---------------------------------------------------------------------------\u001b[0m",
      "\u001b[0;31mIndexError\u001b[0m                                Traceback (most recent call last)",
      "\u001b[0;32m/tmp/ipykernel_1468542/156425972.py\u001b[0m in \u001b[0;36m<module>\u001b[0;34m\u001b[0m\n\u001b[1;32m      1\u001b[0m \u001b[0mindeks\u001b[0m \u001b[0;34m=\u001b[0m \u001b[0;36m9\u001b[0m\u001b[0;34m\u001b[0m\u001b[0;34m\u001b[0m\u001b[0m\n\u001b[0;32m----> 2\u001b[0;31m \u001b[0melement\u001b[0m \u001b[0;34m=\u001b[0m \u001b[0mlista\u001b[0m\u001b[0;34m[\u001b[0m\u001b[0mindeks\u001b[0m\u001b[0;34m]\u001b[0m\u001b[0;34m\u001b[0m\u001b[0;34m\u001b[0m\u001b[0m\n\u001b[0m\u001b[1;32m      3\u001b[0m \u001b[0;34m\u001b[0m\u001b[0m\n\u001b[1;32m      4\u001b[0m \u001b[0mprint\u001b[0m\u001b[0;34m(\u001b[0m\u001b[0melement\u001b[0m\u001b[0;34m)\u001b[0m\u001b[0;34m\u001b[0m\u001b[0;34m\u001b[0m\u001b[0m\n",
      "\u001b[0;31mIndexError\u001b[0m: list index out of range"
     ]
    }
   ],
   "source": [
    "indeks = 9\n",
    "element = lista[indeks]\n",
    "\n",
    "print(element)"
   ]
  },
  {
   "cell_type": "markdown",
   "id": "2632d102",
   "metadata": {},
   "source": [
    "Jaki jest minimalny i maksymanlny możliwy indeks na tej liście?\n",
    "\n",
    "Dodaj elementy do listy tak aby było ich 10. Jaki najwyższy indeks możesz teraz użyć nie wywołując błędu?"
   ]
  },
  {
   "cell_type": "code",
   "execution_count": 115,
   "id": "080ba001",
   "metadata": {},
   "outputs": [
    {
     "name": "stdout",
     "output_type": "stream",
     "text": [
      "f\n"
     ]
    }
   ],
   "source": [
    "lista = ['a', 'b', 'c', 'd', 'e', 'f', 'g'] #, 'h', 'i', 'j', 'k', 'l']\n",
    "i = 5 # indeks - i\n",
    "element = lista[i]\n",
    "\n",
    "print(element)"
   ]
  },
  {
   "cell_type": "markdown",
   "id": "8592ef68",
   "metadata": {},
   "source": [
    "Prościej:\n",
    "\n",
    "Pozmieniaj sam indeks w liście, już nie jako osobną zmienną. \n",
    "\n",
    "Zazwyczaj tak się to robi - bezpośrednio ustawiając indeks w kwadratowych nawiasach listy."
   ]
  },
  {
   "cell_type": "code",
   "execution_count": 116,
   "id": "87e1d93f",
   "metadata": {},
   "outputs": [
    {
     "name": "stdout",
     "output_type": "stream",
     "text": [
      "e\n"
     ]
    }
   ],
   "source": [
    "print(lista[4])"
   ]
  },
  {
   "cell_type": "markdown",
   "id": "ea306ac7",
   "metadata": {},
   "source": [
    "### list[1] / string[1]\n",
    "\n",
    "#### Indeksy to podstawowa właściwość list ale i ciągów znaków (stringów).\n",
    "\n",
    "Zobacz sam, działa to identycznie w sytacji stringa i listy. Pobaw się poniższą wartością indeksu:"
   ]
  },
  {
   "cell_type": "code",
   "execution_count": 117,
   "id": "758141f7",
   "metadata": {},
   "outputs": [],
   "source": [
    "string = 'ala ma kota'\n",
    "lista_1 = ['a', 'l', 'a', ' ', 'm', 'a', ' ', 'k', 'o', 't', 'a']\n",
    "lista_2 = ['ala', ' ', 'ma', ' ', 'kota']"
   ]
  },
  {
   "cell_type": "code",
   "execution_count": 118,
   "id": "784d119b",
   "metadata": {},
   "outputs": [
    {
     "name": "stdout",
     "output_type": "stream",
     "text": [
      "m\n",
      "m\n"
     ]
    }
   ],
   "source": [
    "indeks = 4\n",
    "print(string[indeks])\n",
    "print(lista_1[indeks])"
   ]
  },
  {
   "cell_type": "markdown",
   "id": "0178bf4f",
   "metadata": {},
   "source": [
    "Jednak w liście 2 elementy ułożone są nieco inaczej. To już nie 1 element - 1 litera jak w stringu i liście pierwszej, ale całe wyrazy albo spacje. Jak wiesz, w liście mogą znaleźć się dowolne wartości, stringi, liczby czy nawet inne listy. Tu mamy przykład ze stringami ale nie jako litery - jak w wyżej przedstawionym stringu i liście jeden ale z całymi wyrazami. Pobaw się indeksem z lista_1, string - ale i lista_2 - i zobacz jaka jest różnica. Nie przestawaj testować aż będziesz w stanie opisać różnicę między pracą z indeksami na stringu, lista_1 a lista_2:"
   ]
  },
  {
   "cell_type": "code",
   "execution_count": 119,
   "id": "3dfae458",
   "metadata": {},
   "outputs": [
    {
     "name": "stdout",
     "output_type": "stream",
     "text": [
      "kota\n"
     ]
    }
   ],
   "source": [
    "indeks = 4\n",
    "\n",
    "print(lista_2[indeks])"
   ]
  },
  {
   "cell_type": "markdown",
   "id": "7607af21",
   "metadata": {},
   "source": [
    "Więc jeszcze raz - możemy wyciągnąć pojedyńczy element listy używając indeksu.\n",
    "\n",
    "Pobaw sie indeksem. Wstaw tam 1, 4, 10 i patrz jak zmienia się wartość wybranego elementu listy. To co robisz, to mówisz programowi który z elementów listy Cię interesuje. Jeżeli wybierasz 4ty to wyświetlany jest 4 element. I tak dalej. Zobacz samemu:"
   ]
  },
  {
   "cell_type": "code",
   "execution_count": 120,
   "id": "c3d9b172",
   "metadata": {},
   "outputs": [
    {
     "name": "stdout",
     "output_type": "stream",
     "text": [
      "Wybrany element z listy: d\n"
     ]
    }
   ],
   "source": [
    "lista = ['a','b','c','d','e','f','g','h','i','j']\n",
    "\n",
    "indeks = 3\n",
    "element_listy = lista[indeks]\n",
    "\n",
    "print('Wybrany element z listy:', element_listy)"
   ]
  },
  {
   "cell_type": "markdown",
   "id": "90451997",
   "metadata": {},
   "source": [
    "#### To samo, praktyczniej:\n",
    "\n",
    "Zwykle indeks wstawiamy jednak nie jako zmienną a po prostu jako liczbę w kwadratowych nawiasach po prawej stronie listy."
   ]
  },
  {
   "cell_type": "code",
   "execution_count": 121,
   "id": "155ef135",
   "metadata": {},
   "outputs": [
    {
     "name": "stdout",
     "output_type": "stream",
     "text": [
      "Wybrany element z listy: d\n"
     ]
    }
   ],
   "source": [
    "lista = ['a','b','c','d','e','f','g','h','i','j']\n",
    "\n",
    "element_listy = lista[3]\n",
    "\n",
    "print('Wybrany element z listy:', element_listy)"
   ]
  },
  {
   "cell_type": "markdown",
   "id": "89ef780c",
   "metadata": {},
   "source": [
    "### 2. lista[0] / lista[-1]\n",
    "\n",
    "#### Możemy wyciągnąć pierwszy lub ostatni element.\n",
    "\n"
   ]
  },
  {
   "cell_type": "code",
   "execution_count": 122,
   "id": "c03d112b",
   "metadata": {},
   "outputs": [
    {
     "name": "stdout",
     "output_type": "stream",
     "text": [
      "Pierwszy element listy: a\n",
      "Ostatni element listy: j\n"
     ]
    }
   ],
   "source": [
    "lista = ['a','b','c','d','e','f','g','h','i','j']\n",
    "\n",
    "pierwszy_element = lista[0]\n",
    "ostatni_element = lista[-1]\n",
    "\n",
    "print('Pierwszy element listy:', pierwszy_element)\n",
    "print('Ostatni element listy:', ostatni_element)"
   ]
  },
  {
   "cell_type": "markdown",
   "id": "a74c568a",
   "metadata": {},
   "source": [
    "### 3. lista[2:4]\n",
    "\n",
    "#### Wyjmij fragment z listy\n",
    "\n",
    "Aby wybrać fragment listy \"od\" - \"do\", w kwadratowych nawiasach podaj, korzystając z indeksów, zakres w formie np. `list[2:4]` aby wyciągnąc z listy fragment o indeksach `3 i 4` czyli `'c' i 'd'`. \n",
    "\n",
    "Wstaw jako indeksy zakresu różne liczby i zobacz jakie przynosi to rezultaty."
   ]
  },
  {
   "cell_type": "code",
   "execution_count": 123,
   "id": "dd5f238f",
   "metadata": {},
   "outputs": [
    {
     "data": {
      "text/plain": [
       "['c', 'd']"
      ]
     },
     "execution_count": 123,
     "metadata": {},
     "output_type": "execute_result"
    }
   ],
   "source": [
    "lista = ['a','b','c','d','e','f','g','h','i','j']\n",
    "\n",
    "indeks_od = 2\n",
    "indeks_do = 4\n",
    "\n",
    "lista[indeks_od:indeks_do]"
   ]
  },
  {
   "cell_type": "markdown",
   "id": "c72f1862",
   "metadata": {},
   "source": [
    "Sprawdź powyższy kod dla indeksów: (2 i 5), (2 i 6), (3 i 6), (0 i 2), (0 i 11), (0 i 10).\n",
    "\n",
    "Umiesz odpowiedzieć jakie litery da `lista[1:4]` ?"
   ]
  },
  {
   "cell_type": "markdown",
   "id": "4d235080",
   "metadata": {},
   "source": [
    "#### To samo, praktyczniej:\n",
    "\n",
    "Zwykle indeks wstawiamy jednak nie jako zmienną a po prostu jako liczbę w kwadratowych nawiasach po prawej stronie listy. Pozmieniaj indeksy w zakresie w 3 linii poniżej."
   ]
  },
  {
   "cell_type": "code",
   "execution_count": 124,
   "id": "bae1809f",
   "metadata": {},
   "outputs": [
    {
     "name": "stdout",
     "output_type": "stream",
     "text": [
      "Elementy listy w zakresie: ['c', 'd']\n"
     ]
    }
   ],
   "source": [
    "lista = ['a','b','c','d','e','f','g','h','i','j']\n",
    "\n",
    "zakres = lista[2:4]\n",
    "\n",
    "print('Elementy listy w zakresie:', zakres)"
   ]
  },
  {
   "cell_type": "markdown",
   "id": "09b86b42",
   "metadata": {},
   "source": [
    "### 4. odwrocona_lista = list[::-1] / lista.reverse()\n",
    "\n",
    "Listę można obrócić stosując trzecią wartość indeksu `lista[::-1]`. \n",
    "\n",
    "To proste, zobacz sam:"
   ]
  },
  {
   "cell_type": "code",
   "execution_count": 125,
   "id": "2b37cc72",
   "metadata": {},
   "outputs": [
    {
     "name": "stdout",
     "output_type": "stream",
     "text": [
      "Lista przed odwróceniem: ['a', 'b', 'c', 'd', 'e', 'f', 'g', 'h', 'i', 'j']\n",
      "\n",
      "Po odwróceniu:\n",
      "Stara lista:             ['a', 'b', 'c', 'd', 'e', 'f', 'g', 'h', 'i', 'j']\n",
      "Nowa odwrócona lista:    ['j', 'i', 'h', 'g', 'f', 'e', 'd', 'c', 'b', 'a']\n"
     ]
    }
   ],
   "source": [
    "lista = ['a','b','c','d','e','f','g','h','i','j']\n",
    "print('Lista przed odwróceniem:', lista)\n",
    "\n",
    "lista2 = lista[::-1]\n",
    "print('\\nPo odwróceniu:')\n",
    "print('Stara lista:            ', lista)\n",
    "print('Nowa odwrócona lista:   ', lista2)"
   ]
  },
  {
   "cell_type": "markdown",
   "id": "8117ea06",
   "metadata": {},
   "source": [
    "Powyższa metoda tworzy nowy obiekt. Jednak czasem, chcesz obrócić obecny obiekt nie tworząc nowej zmiennej. Użyj wtedy:"
   ]
  },
  {
   "cell_type": "code",
   "execution_count": 126,
   "id": "6cf1af24",
   "metadata": {},
   "outputs": [
    {
     "name": "stdout",
     "output_type": "stream",
     "text": [
      "Lista przed odwróceniem: ['a', 'b', 'c', 'd', 'e', 'f', 'g', 'h', 'i', 'j']\n",
      "Odwrócona lista:         ['j', 'i', 'h', 'g', 'f', 'e', 'd', 'c', 'b', 'a']\n"
     ]
    }
   ],
   "source": [
    "lista = ['a','b','c','d','e','f','g','h','i','j']\n",
    "print('Lista przed odwróceniem:', lista)\n",
    "\n",
    "lista.reverse()\n",
    "print('Odwrócona lista:        ', lista)"
   ]
  },
  {
   "cell_type": "markdown",
   "id": "d3f91f6b",
   "metadata": {},
   "source": [
    "Umiesz opisać różnicę między metodą `lista[::-1]` a `lista.reverse()`."
   ]
  },
  {
   "cell_type": "markdown",
   "id": "7dea7b92",
   "metadata": {},
   "source": [
    "### 5. lista[1] = 'xD'\n",
    "\n",
    "#### Zmień element w liście dzięki indeksowi.\n",
    "\n",
    "Spraw aby określony element w liście zmienił wartość. Pobaw się poniższym kodem. Pozmieniaj zarówno indeks w liście (liczba w kwadratowych nawiasach :) jak i wartość którą przypisujesz mu po lewej stronie.\n",
    "\n",
    "- lista[1] - dotyka elementu o indeksie 1 w liście list.\n",
    "\n",
    "Zmień indeks w 4 linii na jeden mniejsz lub większy (0 lub 2) i zobacz co się stanie."
   ]
  },
  {
   "cell_type": "code",
   "execution_count": 127,
   "id": "a2e08d48",
   "metadata": {},
   "outputs": [
    {
     "name": "stdout",
     "output_type": "stream",
     "text": [
      "Lista przed zmianą wartości jednego z elementów [1, 2, 3]\n",
      "Lista po zmianie wartości jednego z elementów   [1, 'xD', 3]\n"
     ]
    }
   ],
   "source": [
    "lista = [1, 2, 3]\n",
    "print('Lista przed zmianą wartości jednego z elementów', lista)\n",
    "\n",
    "lista[1] = 'xD'\n",
    "print('Lista po zmianie wartości jednego z elementów  ', lista)"
   ]
  },
  {
   "cell_type": "markdown",
   "id": "0c0d7008",
   "metadata": {},
   "source": [
    "### 6. del lista[0]\n",
    "\n",
    "#### Usuń element z listy dzięki indeksowi.\n",
    "\n",
    "- lista[0] - dotyka elementu o indeksie 0 w liście list.\n",
    "\n",
    "Zmień indeks w 4 linii na większy (1 lub 2) i zobacz co się stanie."
   ]
  },
  {
   "cell_type": "code",
   "execution_count": 128,
   "id": "a2e7969a",
   "metadata": {},
   "outputs": [
    {
     "name": "stdout",
     "output_type": "stream",
     "text": [
      "Lista przed usunięciem elementu: [1, 2, 3]\n",
      "Lista po usunięciu elementu:     [2, 3]\n"
     ]
    }
   ],
   "source": [
    "lista = [1, 2, 3]\n",
    "print('Lista przed usunięciem elementu:', lista)\n",
    "\n",
    "del lista[0]\n",
    "print('Lista po usunięciu elementu:    ', lista)"
   ]
  },
  {
   "cell_type": "markdown",
   "id": "51c167bf",
   "metadata": {},
   "source": [
    "### 7. i = list.index()\n",
    "\n",
    "#### Jaki poznać indeks elementu w liście?\n",
    "\n",
    "Sprawdź i pomodyfikuj poniższy kod. Jako szukany element podaj 'a', podaj 'c', podaj 'z'."
   ]
  },
  {
   "cell_type": "code",
   "execution_count": 129,
   "id": "28f3909b",
   "metadata": {},
   "outputs": [
    {
     "name": "stdout",
     "output_type": "stream",
     "text": [
      "Szukany element jest na indexie: 0\n"
     ]
    }
   ],
   "source": [
    "lista = ['a', 'b', 'c', 'b', 'z', 'b']\n",
    "\n",
    "szukany_element = 'a'\n",
    "i = lista.index( szukany_element)\n",
    "print('Szukany element jest na indexie:',i)"
   ]
  },
  {
   "cell_type": "markdown",
   "id": "8865b481",
   "metadata": {},
   "source": [
    "\n",
    "Uwaga. Jeżeli podany element np `'b'` występuje w liście 2, 3 krotnie lub częsciej to, `list.index('b')` zwróci \n",
    "indeks jedynie dla pierwszego wystąpienia tego elementu w liście."
   ]
  },
  {
   "cell_type": "markdown",
   "id": "39de035a",
   "metadata": {},
   "source": [
    "### 8. element = list.pop()\n",
    "\n",
    "#### Wyciągnij element z określonego indeksu.\n",
    "\n",
    "Pozmieniaj wartość zmiennej `indeks = 2` (kilka razy) i zobacz jaki będzie efekt."
   ]
  },
  {
   "cell_type": "code",
   "execution_count": 130,
   "id": "d89643dc",
   "metadata": {},
   "outputs": [
    {
     "name": "stdout",
     "output_type": "stream",
     "text": [
      "Lista:                      [1, 2, 3, 4, 5]\n",
      "Lista po wybraniu elementu: [1, 2, 3, 4]\n",
      "Wyciągnięty element:        5\n"
     ]
    }
   ],
   "source": [
    "lista = [1,2,3,4,5]\n",
    "indeks = 4\n",
    "\n",
    "print('Lista:                     ', lista)\n",
    "\n",
    "element = lista.pop( indeks)\n",
    "\n",
    "print('Lista po wybraniu elementu:', lista)\n",
    "print('Wyciągnięty element:       ', element)"
   ]
  },
  {
   "cell_type": "markdown",
   "id": "cc6ffa5a",
   "metadata": {},
   "source": [
    "#### PS: czasem używa się indeks z dodatkowym parametrem w środku kwadratowych nawiasów `lista[i+1]`.\n",
    "\n",
    "Z uwagi na nieintuicyjny index, czasem używa się korektora:\n",
    "\n",
    "Dzięki czemu index 1 faktycznie wskazuje na 1 wartość w liście.\n",
    "\n",
    "Usuń korektor (zostaw poniżej sam [index] zamiast [index+1]) aby zobaczyć o co chodzi:"
   ]
  },
  {
   "cell_type": "code",
   "execution_count": 131,
   "id": "b79a5c7e",
   "metadata": {},
   "outputs": [
    {
     "name": "stdout",
     "output_type": "stream",
     "text": [
      "3\n"
     ]
    }
   ],
   "source": [
    "index = 1\n",
    "lista = [1, 2, 3]\n",
    "print(lista[index+1])"
   ]
  },
  {
   "cell_type": "markdown",
   "id": "d39bb664",
   "metadata": {},
   "source": [
    "## 3. Najważniejsze metody list.\n",
    "\n",
    "Lista posiada kilka wbudowanych metod. Z tych korzysta się najcześciej."
   ]
  },
  {
   "cell_type": "markdown",
   "id": "b97a0e5d",
   "metadata": {},
   "source": [
    "### 1. list.append()\n",
    "\n",
    "### Dodaj do listy nowy element\n",
    "\n",
    "Odpowiada za dołączanie nowych elementów (zawsze do końca) listy."
   ]
  },
  {
   "cell_type": "code",
   "execution_count": 132,
   "id": "31c6b4f0",
   "metadata": {},
   "outputs": [
    {
     "name": "stdout",
     "output_type": "stream",
     "text": [
      "Lista: ['a', 'b']\n",
      "Lista: ['a', 'b', 'xD']\n"
     ]
    }
   ],
   "source": [
    "lista = ['a','b']\n",
    "print('Lista:', lista)\n",
    "\n",
    "nowy_element = 'xD'\n",
    "lista.append( nowy_element)\n",
    "print('Lista:', lista)"
   ]
  },
  {
   "cell_type": "markdown",
   "id": "d58fc4ec",
   "metadata": {},
   "source": [
    "Inny przykład:"
   ]
  },
  {
   "cell_type": "code",
   "execution_count": 133,
   "id": "0f039884",
   "metadata": {},
   "outputs": [
    {
     "name": "stdout",
     "output_type": "stream",
     "text": [
      "Lista: [1, 2, 3, 4]\n",
      "Lista: [1, 2, 3, 4, 10]\n"
     ]
    }
   ],
   "source": [
    "lista = [1, 2, 3, 4]\n",
    "print('Lista:', lista)\n",
    "\n",
    "nowy_element = 10\n",
    "lista.append( nowy_element)\n",
    "print('Lista:', lista)"
   ]
  },
  {
   "cell_type": "markdown",
   "id": "aa9b2bef",
   "metadata": {},
   "source": [
    "Najczęściej `append()` wykonuje się wewnątrz pętli `for` (będziemy je omawiać w części #009, narazie rzuć jedynie okiem i zastanów się na czym polega ta konstrukcja) czyli podczas `iteracji` w formach podobnych do:"
   ]
  },
  {
   "cell_type": "code",
   "execution_count": 134,
   "id": "40f3857e",
   "metadata": {},
   "outputs": [],
   "source": [
    "lista_druga = []\n",
    "for i in lista:\n",
    "    lista_druga.append(i)"
   ]
  },
  {
   "cell_type": "markdown",
   "id": "c91de0c6",
   "metadata": {},
   "source": [
    "Efekt:"
   ]
  },
  {
   "cell_type": "code",
   "execution_count": 135,
   "id": "151ac632",
   "metadata": {
    "scrolled": true
   },
   "outputs": [
    {
     "name": "stdout",
     "output_type": "stream",
     "text": [
      "[1, 2, 3, 4, 10]\n"
     ]
    }
   ],
   "source": [
    "print(lista_druga)"
   ]
  },
  {
   "cell_type": "markdown",
   "id": "775e2db4",
   "metadata": {},
   "source": [
    "PS: można zrobić to w kilka innych sposobów. Ale o tym potem. O pętlach, iteracjach i for'ach przeczytasz w części #009."
   ]
  },
  {
   "cell_type": "markdown",
   "id": "3c57dc54",
   "metadata": {},
   "source": [
    "### 2. list.extend()\n",
    "\n",
    "#### Dodaj do siebie (zawartości) wielu list\n",
    "\n",
    "Dodasz obie listy znakiem `+` plus."
   ]
  },
  {
   "cell_type": "code",
   "execution_count": 136,
   "id": "2a8846da",
   "metadata": {},
   "outputs": [
    {
     "name": "stdout",
     "output_type": "stream",
     "text": [
      "[1, 2, 3, 4]\n"
     ]
    }
   ],
   "source": [
    "lista_a = [1,2]\n",
    "lista_b = [3,4]\n",
    "\n",
    "efekt = lista_a + lista_b\n",
    "print(efekt)"
   ]
  },
  {
   "cell_type": "markdown",
   "id": "2a31149f",
   "metadata": {},
   "source": [
    "#### Jak inaczej dodać do siebie zawartość 2 list? - list.extend()"
   ]
  },
  {
   "cell_type": "code",
   "execution_count": 137,
   "id": "2891f71c",
   "metadata": {
    "scrolled": true
   },
   "outputs": [
    {
     "name": "stdout",
     "output_type": "stream",
     "text": [
      "[1, 2]\n",
      "[1, 2, 5, 6]\n"
     ]
    }
   ],
   "source": [
    "lista_a = [1, 2]\n",
    "print(lista_a)\n",
    "\n",
    "lista_b = [5, 6]\n",
    "lista_a.extend(lista_b)\n",
    "print(lista_a)"
   ]
  },
  {
   "cell_type": "markdown",
   "id": "a1fb6b18",
   "metadata": {},
   "source": [
    "### 3. list.count() \n",
    "\n",
    "#### Policz okreslone elementy w liście\n",
    "\n",
    "Do `.count()`'a jako arument przekaż dowolny element obecny (lub nie) w liście. Policzysz ile razy wysŧępuje w niej podany element.\n",
    "\n",
    "Np. używając `lista.count(\"b\")` zobaczymy, że \"`b`\" w liście `lista = ['a', 'b', 'b', 'b', 'b', 'c']` występuje 4 razy. Sprawdź ile będzie w liście innych elementów podając dla poszukiwanego argumentu `element = 'c'` inną wartość, np. \"`a`\".\n",
    "\n",
    "Ile wyszło?"
   ]
  },
  {
   "cell_type": "code",
   "execution_count": 138,
   "id": "5da139dc",
   "metadata": {},
   "outputs": [
    {
     "name": "stdout",
     "output_type": "stream",
     "text": [
      "Liczba podanych elementów w liście: 4\n"
     ]
    }
   ],
   "source": [
    "lista = ['a', 'b', 'b', 'b', 'b', 'c']\n",
    "\n",
    "element = 'b'\n",
    "ile_elementow = lista.count(element)\n",
    "print('Liczba podanych elementów w liście:', ile_elementow)"
   ]
  },
  {
   "cell_type": "markdown",
   "id": "109eee35",
   "metadata": {},
   "source": [
    "Można postawić to pytanie jeszcze inaczej, np.\n",
    "\n",
    "Jak policzyć ile masz 50 groszowych monet w portfelu?"
   ]
  },
  {
   "cell_type": "code",
   "execution_count": 139,
   "id": "04fd7244",
   "metadata": {
    "scrolled": true
   },
   "outputs": [
    {
     "name": "stdout",
     "output_type": "stream",
     "text": [
      "Liczba podanych elementów w liście: 2\n"
     ]
    }
   ],
   "source": [
    "portfel = ['10gr', '50gr', '5zł', '1zł', '10gr', '50gr']\n",
    "\n",
    "moneta = '50gr'\n",
    "ile_monet = portfel.count(moneta)\n",
    "print('Liczba podanych elementów w liście:', ile_monet)"
   ]
  },
  {
   "cell_type": "markdown",
   "id": "7377fd47",
   "metadata": {},
   "source": [
    "Można też szybciej, po prostu zmieniając wartość zmiennej `lista`:"
   ]
  },
  {
   "cell_type": "code",
   "execution_count": 140,
   "id": "882378d3",
   "metadata": {
    "scrolled": true
   },
   "outputs": [
    {
     "name": "stdout",
     "output_type": "stream",
     "text": [
      "Lista przed zmianą wartości: [1, 2, 3]\n",
      "Lista po zmianie wartości:   []\n"
     ]
    }
   ],
   "source": [
    "lista = [1,2,3]\n",
    "print('Lista przed zmianą wartości:', lista)\n",
    "\n",
    "lista = []\n",
    "print('Lista po zmianie wartości:  ', lista)"
   ]
  },
  {
   "cell_type": "markdown",
   "id": "0b86386c",
   "metadata": {},
   "source": [
    "### 4. list.clear()\n",
    "\n",
    "#### Jak opróżnić listę? \n",
    "\n",
    "Jak zrobić aby lista była pusta, uczynić ją pustym zbiorem, czyli takim w którym nic nie ma, ale istnieje jako obiekt? Usuń wszystkie elementy z listy metodą `list.clear()` albo po prostu przypisz do zmiennej z wartością listy wartość pustej listy `list = []`. Rzuć okiem:"
   ]
  },
  {
   "cell_type": "code",
   "execution_count": 141,
   "id": "41b60ed7",
   "metadata": {
    "scrolled": true
   },
   "outputs": [
    {
     "name": "stdout",
     "output_type": "stream",
     "text": [
      "Lista przed lista.clear() [1, 2, 3]\n",
      "Lista po lista.clear()    []\n"
     ]
    }
   ],
   "source": [
    "lista = [1,2,3]\n",
    "print('Lista przed lista.clear()', lista)\n",
    "\n",
    "lista.clear()\n",
    "print('Lista po lista.clear()   ', lista)"
   ]
  },
  {
   "cell_type": "markdown",
   "id": "9e3d6c46",
   "metadata": {},
   "source": [
    "### 5. lista * 3\n",
    "\n",
    "#### Przemnóż elementy w liscie\n",
    "\n",
    "Efektem działania mnożenia na liście jest \"powtórzenie\" zawartości możonej listy `'a', 'b'` - ale wewnątrz jednego obiektu listy. Spróbuj zmienić liczbę mnożnika na `3`, `4` i `5`."
   ]
  },
  {
   "cell_type": "code",
   "execution_count": 142,
   "id": "4e12f4ab",
   "metadata": {},
   "outputs": [
    {
     "name": "stdout",
     "output_type": "stream",
     "text": [
      "['a', 'b']\n",
      "['a', 'b', 'a', 'b']\n"
     ]
    }
   ],
   "source": [
    "lista = ['a', 'b']\n",
    "print(lista)\n",
    "\n",
    "lista = lista * 2 # 3, 4, 5\n",
    "print(lista)"
   ]
  },
  {
   "cell_type": "markdown",
   "id": "1a54828e",
   "metadata": {},
   "source": [
    "### 6. `if x in lista`\n",
    "\n",
    "#### Czy kotek jest wśród elementów listy?\n",
    "\n",
    "\n",
    "\n",
    "Jak sprawdzić czy określony element (np. liczba 2) znajduje się w liście? \n",
    "Pozmieniaj listę z kotkiem i bez kotka (wartość zmiennej `lista` w 5 linii. "
   ]
  },
  {
   "cell_type": "code",
   "execution_count": 143,
   "id": "b21cf75e",
   "metadata": {},
   "outputs": [
    {
     "name": "stdout",
     "output_type": "stream",
     "text": [
      "kotek\n"
     ]
    }
   ],
   "source": [
    "lista_z_kotkiem = [1, 2, 'kotek', 3, 4, 5]\n",
    "lista_bez_kotka = [1, 2, 3, 4, 5]\n",
    "\n",
    "lista = lista_z_kotkiem\n",
    "szukany_element_w_liscie = 'kotek'\n",
    "if szukany_element_w_liscie in lista:\n",
    "    print('kotek')"
   ]
  },
  {
   "cell_type": "markdown",
   "id": "2c73d46a",
   "metadata": {},
   "source": [
    "### 7. ''.join(list)\n",
    "\n",
    "#### Zamień (elementy) listy w jeden tekst (string, ciąg znaków)\n",
    "\n",
    "Aby listę `list` składającą się z np. 3 elementów `['ab', 'cd', 'ef']` połączyć w jeden napis `abcdef` - użyj `''.join(lista)`. Taki kod wygląda następująco:"
   ]
  },
  {
   "cell_type": "code",
   "execution_count": 144,
   "id": "9c765d44",
   "metadata": {},
   "outputs": [
    {
     "name": "stdout",
     "output_type": "stream",
     "text": [
      "abc\n"
     ]
    }
   ],
   "source": [
    "lista = ['a', 'b', 'c']\n",
    "\n",
    "tekst = ''.join(lista) # wstawi nic pomiędzy każdy element listy.\n",
    "print(tekst)"
   ]
  },
  {
   "cell_type": "markdown",
   "id": "0156b87a",
   "metadata": {},
   "source": [
    "Jednak jeżeli dysponujesz np. listą słów, np. `['Ala', 'ma', 'kota']`, to prawdopodobnie nie będzie interesował Cię poniższy rezultat:"
   ]
  },
  {
   "cell_type": "code",
   "execution_count": 145,
   "id": "22060cf2",
   "metadata": {},
   "outputs": [
    {
     "name": "stdout",
     "output_type": "stream",
     "text": [
      "Alamakota\n"
     ]
    }
   ],
   "source": [
    "lista = ['Ala', 'ma', 'kota']\n",
    "\n",
    "tekst = ''.join(lista)\n",
    "print(tekst)"
   ]
  },
  {
   "cell_type": "markdown",
   "id": "b4598feb",
   "metadata": {},
   "source": [
    "Pewnie wolisz oddzielić te wyrazy od siebie spacją - wtedy napis ma sens jako zdanie. Możesz zrobić to używając spacji (lub dowolnego innego znaku) pomiędzy cudzysłowiami `join`'a. "
   ]
  },
  {
   "cell_type": "code",
   "execution_count": 146,
   "id": "3b6cae62",
   "metadata": {},
   "outputs": [
    {
     "name": "stdout",
     "output_type": "stream",
     "text": [
      "Ala ma kota\n"
     ]
    }
   ],
   "source": [
    "lista = ['Ala', 'ma', 'kota']\n",
    "\n",
    "tekst = ' '.join(lista)\n",
    "print(tekst)"
   ]
  },
  {
   "cell_type": "markdown",
   "id": "7872076b",
   "metadata": {},
   "source": [
    "Widzisz różnicę? Tak na prawdę pomiędzy apostrofy join'a możesz wstawić cokolwiek."
   ]
  },
  {
   "cell_type": "code",
   "execution_count": 147,
   "id": "e2c5aa5b",
   "metadata": {},
   "outputs": [
    {
     "name": "stdout",
     "output_type": "stream",
     "text": [
      "Ala-xD-ma-xD-kota\n"
     ]
    }
   ],
   "source": [
    "lista = ['Ala', 'ma', 'kota']\n",
    "\n",
    "tekst = '-xD-'.join(lista) # wstawi -xD- pomiędzy każdy element listy.\n",
    "print(tekst)"
   ]
  },
  {
   "cell_type": "markdown",
   "id": "567c6831",
   "metadata": {},
   "source": [
    "Wyżej opisany `''.join()` to jedna z częściej używanych metod `list`. Jest bardzo często używany wraz z metodą `split()` która odwrotnie, dzieli ciąg znaków na listę elementów tekstowych - ale o tym w kolejnej częsci :) teraz opanuj dobrze `join`'a i metody list. Do ciągów znaków przejdziemy już niebawem (a ze wszystkich typów danych, dane tekstowe są najbardziej podobne do list, także znajdziesz tam wiele analogii do tego co robimy dzisiaj)."
   ]
  },
  {
   "cell_type": "markdown",
   "id": "6b4f76e1",
   "metadata": {},
   "source": [
    "### 8. list.sort()  / sorted(lista)\n",
    "\n",
    "#### Ułóż elementy w liscie w kolejności\n",
    "- rosnącej (np. 0-9 lub A-Z)\n",
    "- albo malejącej (np. 9-0 lub Z-A)\n",
    "\n",
    "Metoda sort nie tworzy nowego obiektu listy, ale układa elementy w istniejącej liście w kolejności rosnącej:\n",
    "\n",
    "Lista liczb (sortuj rosnąco: 0-9):"
   ]
  },
  {
   "cell_type": "code",
   "execution_count": 148,
   "id": "3dfdae95",
   "metadata": {},
   "outputs": [
    {
     "name": "stdout",
     "output_type": "stream",
     "text": [
      "[4, 3, 1]\n",
      "[1, 3, 4]\n"
     ]
    }
   ],
   "source": [
    "lista_int = [4, 3, 1]\n",
    "print(lista_int)\n",
    "\n",
    "lista_int.sort()\n",
    "print(lista_int)"
   ]
  },
  {
   "cell_type": "markdown",
   "id": "ddbf7032",
   "metadata": {},
   "source": [
    "Lista z danymi tekstowymi (sortuj rosnąco:  A-Z):"
   ]
  },
  {
   "cell_type": "code",
   "execution_count": 149,
   "id": "355a4da3",
   "metadata": {},
   "outputs": [
    {
     "name": "stdout",
     "output_type": "stream",
     "text": [
      "['z', 'd', 'a']\n",
      "['a', 'd', 'z']\n"
     ]
    }
   ],
   "source": [
    "lista_str = ['z', 'd', 'a']\n",
    "print(lista_str)\n",
    "\n",
    "lista_str.sort()\n",
    "print(lista_str)"
   ]
  },
  {
   "cell_type": "markdown",
   "id": "d5db0b7c",
   "metadata": {},
   "source": [
    "Lista z danymi tekstowymi (sortuj malejąco: 9-0):"
   ]
  },
  {
   "cell_type": "code",
   "execution_count": 150,
   "id": "cc77505a",
   "metadata": {},
   "outputs": [
    {
     "name": "stdout",
     "output_type": "stream",
     "text": [
      "[1, 4, 8]\n",
      "[8, 4, 1]\n"
     ]
    }
   ],
   "source": [
    "lista_int = [1, 4, 8]\n",
    "print(lista_int)\n",
    "\n",
    "lista_int.sort(reverse=True)\n",
    "print(lista_int)"
   ]
  },
  {
   "cell_type": "markdown",
   "id": "9c475b8c",
   "metadata": {},
   "source": [
    "Lista z danymi tekstowymi (sortuj malejąco: Z-A):"
   ]
  },
  {
   "cell_type": "code",
   "execution_count": 151,
   "id": "3379800d",
   "metadata": {},
   "outputs": [
    {
     "name": "stdout",
     "output_type": "stream",
     "text": [
      "['a', 'd', 'z']\n",
      "['z', 'd', 'a']\n"
     ]
    }
   ],
   "source": [
    "lista_str = ['a', 'd', 'z']\n",
    "print(lista_str)\n",
    "\n",
    "lista_str.sort(reverse=True)\n",
    "print(lista_str)"
   ]
  },
  {
   "cell_type": "markdown",
   "id": "9227fbea",
   "metadata": {},
   "source": [
    "#### Sortowanie listy, sposób drugi: lista_nowa = sorted(lista)\n",
    "\n",
    "Tym różni się od `lista.sort()`, że tworzy nowy obiekt `lista_nowa = sorted(lista)`: "
   ]
  },
  {
   "cell_type": "code",
   "execution_count": 152,
   "id": "e126d441",
   "metadata": {},
   "outputs": [
    {
     "name": "stdout",
     "output_type": "stream",
     "text": [
      "Lista pierwotna: [3, 2, 6, 1, 3]\n"
     ]
    }
   ],
   "source": [
    "lista = [3, 2, 6, 1, 3]\n",
    "print('Lista pierwotna:', lista)"
   ]
  },
  {
   "cell_type": "markdown",
   "id": "f42131ec",
   "metadata": {},
   "source": [
    "#### Od A do Z (rosnąco)"
   ]
  },
  {
   "cell_type": "code",
   "execution_count": 153,
   "id": "fd967e3b",
   "metadata": {},
   "outputs": [
    {
     "name": "stdout",
     "output_type": "stream",
     "text": [
      "Lista pierwotna: [3, 2, 6, 1, 3]\n",
      "Lista nowa:      [1, 2, 3, 3, 6]\n"
     ]
    }
   ],
   "source": [
    "lista_nowa = sorted(lista)\n",
    "print('Lista pierwotna:', lista)\n",
    "print('Lista nowa:     ', lista_nowa)"
   ]
  },
  {
   "cell_type": "markdown",
   "id": "78271ddf",
   "metadata": {},
   "source": [
    "#### Od Z do A (malejąco)"
   ]
  },
  {
   "cell_type": "code",
   "execution_count": 154,
   "id": "b7d26507",
   "metadata": {},
   "outputs": [
    {
     "name": "stdout",
     "output_type": "stream",
     "text": [
      "Lista pierwotna:      [3, 2, 6, 1, 3]\n",
      "Lista nowa odwrócona: [6, 3, 3, 2, 1]\n"
     ]
    }
   ],
   "source": [
    "lista_nowa_2 = sorted(lista, reverse=True)\n",
    "print('Lista pierwotna:     ', lista)\n",
    "print('Lista nowa odwrócona:', lista_nowa_2)"
   ]
  },
  {
   "cell_type": "markdown",
   "id": "81a4e712",
   "metadata": {},
   "source": [
    "Znajdź kogoś na kanałach głosowych na Zamku i spróbuj wytłumaczyć mu jak działa sort, sorted i jaka jest między nimi różnica. Zobaczysz ile się dzięki temu nauczysz - czasem najlepsza forma nauki to właśnie wyjaśnienie czegoś komuś innemu."
   ]
  },
  {
   "cell_type": "markdown",
   "id": "b5417045",
   "metadata": {},
   "source": [
    "### 9. lista_2 = lista_1.copy() \n",
    "\n",
    "#### Skopiuj listę czyli stwórz drugą taką samą, ale niezależną od pierwszej\n",
    "\n",
    "W skrócie, uczynisz to pisząc:"
   ]
  },
  {
   "cell_type": "code",
   "execution_count": 155,
   "id": "edff1009",
   "metadata": {},
   "outputs": [
    {
     "name": "stdout",
     "output_type": "stream",
     "text": [
      "['a', 'l', 'a', ' ', 'm', 'a', ' ', 'k', 'o', 't', 'a']\n",
      "['a', 'l', 'a', ' ', 'm', 'a', ' ', 'k', 'o', 't', 'a']\n"
     ]
    }
   ],
   "source": [
    "lista_2 = lista_1.copy()\n",
    "\n",
    "print(lista_1)\n",
    "print(lista_2)"
   ]
  },
  {
   "cell_type": "markdown",
   "id": "ac4f637a",
   "metadata": {},
   "source": [
    "#### Czemu jednak do kopiowania listy używać specjalnej metody `list.copy()`? Przeanalizujmy to nieco głębiej.\n",
    "\n",
    "Wydawać by się mogło, że utworzenie kopii listy `lista_a` będzie proste jak przypisaniem jej do nowej zmiennej np. do `lista_b`:"
   ]
  },
  {
   "cell_type": "code",
   "execution_count": 156,
   "id": "637c9179",
   "metadata": {},
   "outputs": [],
   "source": [
    "lista_a = [1, 2, 3]\n",
    "lista_b = lista_a"
   ]
  },
  {
   "cell_type": "markdown",
   "id": "b0992d45",
   "metadata": {},
   "source": [
    "Jednak wtedy, każdy element który dodasz do `lista_a` dzięki `lista_a.append(1)` znajdzie się również na liście drugiej `lista_b` - i odwotnie. Każda zmiana jaką wykonasz w liście 1 wpłynie na zawartość listy 2. Spróbuj odpalić poniższą komórkę kilka razy za każdym razie podając inną treść jako argument metody `append()`:"
   ]
  },
  {
   "cell_type": "code",
   "execution_count": 157,
   "id": "f4ac7aaf",
   "metadata": {},
   "outputs": [
    {
     "name": "stdout",
     "output_type": "stream",
     "text": [
      "Lista a: [1, 2, 3, 4]\n",
      "Lista b: [1, 2, 3, 4]\n"
     ]
    }
   ],
   "source": [
    "lista_b.append(4)\n",
    "print('Lista a:', lista_a)\n",
    "print('Lista b:', lista_b)"
   ]
  },
  {
   "cell_type": "markdown",
   "id": "e23cd5be",
   "metadata": {},
   "source": [
    "#### Okazuje się, że lista a i b to ten sam obiekt.\n",
    "\n",
    "Możesz sprawdzić, że listy faktycznie są tym samym obiektem korzystając z metody id() która pokaże Ci identyfikator obiektu który przyjmuje jako argument. Okaże się, że listy to te same obiekty."
   ]
  },
  {
   "cell_type": "code",
   "execution_count": 158,
   "id": "1988117a",
   "metadata": {},
   "outputs": [
    {
     "name": "stdout",
     "output_type": "stream",
     "text": [
      "Lista a i b to ten sam obiekt.\n"
     ]
    }
   ],
   "source": [
    "if id(lista_a) == id(lista_b):\n",
    "    print('Lista a i b to ten sam obiekt.')\n",
    "else:\n",
    "    print('Listy są innymi obiektami.')"
   ]
  },
  {
   "cell_type": "markdown",
   "id": "70d3e6fc",
   "metadata": {},
   "source": [
    "Aby skopiować obiekt listy trzeba było by skopiować wszystkie elementy z wenątrz listy pierwszej - do drugiej. \n",
    "\n",
    "#### Jak skopiować elementy z listy A do listy B aby lista B była nowym obiektem?"
   ]
  },
  {
   "cell_type": "code",
   "execution_count": 159,
   "id": "e7210841",
   "metadata": {},
   "outputs": [],
   "source": [
    "lista_nowa = []\n",
    "for i in lista:\n",
    "    lista_nowa.append(i)"
   ]
  },
  {
   "cell_type": "markdown",
   "id": "652650d6",
   "metadata": {},
   "source": [
    "#### Lub zwięźlej:\n",
    "\n",
    "Można jednak zrobić to krócej, pisząc po prostu `lista[:len(lista)]` ale za drugi argument indeksu (ten po dwukropku) \n",
    "\n",
    "Podaj w indeksie długość listy, pisząc w sumie:"
   ]
  },
  {
   "cell_type": "code",
   "execution_count": 160,
   "id": "fafb1bc3",
   "metadata": {},
   "outputs": [
    {
     "name": "stdout",
     "output_type": "stream",
     "text": [
      "Lista stara: [1, 2, 3]\n",
      "Lista nowa:  [1, 2, 3]\n"
     ]
    }
   ],
   "source": [
    "lista = [1, 2, 3]\n",
    "lista_nowa = lista[:len(lista)]\n",
    "\n",
    "print('Lista stara:', lista)\n",
    "print('Lista nowa: ', lista_nowa)"
   ]
  },
  {
   "cell_type": "markdown",
   "id": "36224eba",
   "metadata": {},
   "source": [
    "#### Sprawdź jeszcze raz id() obu obiektów (obu list) - będą się różnić.\n",
    "\n",
    "Sprawdź sam - listy zawierają te same elementy i są identyczne, ale to dwa różne obiekty. Sprawdzisz to używając funkcji `id()` która zwróci indentyfikator obiektu, np. dla zmiennej `lista` i `lista_nowa`. Mimo, że listy mają identyczną zawartość, to będą dwa inne obiekty."
   ]
  },
  {
   "cell_type": "code",
   "execution_count": 161,
   "id": "476e8d99",
   "metadata": {},
   "outputs": [
    {
     "name": "stdout",
     "output_type": "stream",
     "text": [
      "Listy różnią się.\n"
     ]
    }
   ],
   "source": [
    "if id(lista) == id(lista_nowa):\n",
    "    print('Listy są identyczne.')\n",
    "else:\n",
    "    print('Listy różnią się.')"
   ]
  },
  {
   "cell_type": "markdown",
   "id": "abe9c6f3",
   "metadata": {},
   "source": [
    "#### Istnieje jednak specjalna metoda która robi to samo: `lista_nowa = lista.copy()`\n",
    "\n",
    "Zobacz kod i efekt:"
   ]
  },
  {
   "cell_type": "code",
   "execution_count": 162,
   "id": "2b50af37",
   "metadata": {},
   "outputs": [
    {
     "name": "stdout",
     "output_type": "stream",
     "text": [
      "Lista stara: [1, 2, 3]\n",
      "Lista nowa:  [1, 2, 3]\n",
      "Listy różnią się.\n"
     ]
    }
   ],
   "source": [
    "lista = [1, 2, 3]\n",
    "lista_nowa = lista.copy()\n",
    "\n",
    "print('Lista stara:', lista)\n",
    "print('Lista nowa: ', lista_nowa)\n",
    "\n",
    "if id(lista) == id(lista_nowa):\n",
    "    print('Listy są identyczne.')\n",
    "else:\n",
    "    print('Listy różnią się.')"
   ]
  },
  {
   "cell_type": "markdown",
   "id": "125b6317",
   "metadata": {},
   "source": [
    "Można albo użyć do tego specjalnej metody deepcopy() z biblioteki `copy` (znajdź ją i sprawdź sam - a my wrócimy do tego za kilka rozdziałów)."
   ]
  },
  {
   "cell_type": "markdown",
   "id": "ac50db89",
   "metadata": {},
   "source": [
    "### 10. `list[1][1]` \n",
    "\n",
    "#### Lista może zawierać w sobie inne listy. Tzw. lista list. Wtedy możesz użyć podwójnych indeksów\n",
    "\n"
   ]
  },
  {
   "cell_type": "code",
   "execution_count": 163,
   "id": "78144313",
   "metadata": {},
   "outputs": [
    {
     "name": "stdout",
     "output_type": "stream",
     "text": [
      "Lista list: [['a', 1], ['b', 2]]\n"
     ]
    }
   ],
   "source": [
    "lista_list = [['a', 1], ['b', 2]]\n",
    "\n",
    "print('Lista list:', lista_list)"
   ]
  },
  {
   "cell_type": "markdown",
   "id": "e403992c",
   "metadata": {},
   "source": [
    "Drugi indeks wyciągnie z listy drugi element listy wewnątrz niej:"
   ]
  },
  {
   "cell_type": "code",
   "execution_count": 164,
   "id": "b90316a5",
   "metadata": {
    "scrolled": true
   },
   "outputs": [
    {
     "name": "stdout",
     "output_type": "stream",
     "text": [
      "a\n"
     ]
    }
   ],
   "source": [
    "lista_list = [['a', 1], ['b', 2]]\n",
    "x = lista_list[0][0]\n",
    "\n",
    "print(x)"
   ]
  },
  {
   "cell_type": "markdown",
   "id": "a95cc168",
   "metadata": {},
   "source": [
    "a indeks 1 z pierwszej listy (czyli o indeksie 0) wyciągnie:"
   ]
  },
  {
   "cell_type": "code",
   "execution_count": 165,
   "id": "573a7f42",
   "metadata": {},
   "outputs": [
    {
     "name": "stdout",
     "output_type": "stream",
     "text": [
      "1\n"
     ]
    }
   ],
   "source": [
    "lista_list = [['a', 1], ['b', 2]]\n",
    "y = lista_list[0][1]\n",
    "\n",
    "print(y)"
   ]
  },
  {
   "cell_type": "markdown",
   "id": "717d29b8",
   "metadata": {},
   "source": [
    "Wyciągnij 1 element z 1 listy:"
   ]
  },
  {
   "cell_type": "code",
   "execution_count": 166,
   "id": "2364bf81",
   "metadata": {},
   "outputs": [
    {
     "data": {
      "text/plain": [
       "'a'"
      ]
     },
     "execution_count": 166,
     "metadata": {},
     "output_type": "execute_result"
    }
   ],
   "source": [
    "lista_list[0][0]"
   ]
  },
  {
   "cell_type": "markdown",
   "id": "3734f307",
   "metadata": {},
   "source": [
    "Wyciągnij 2 element z 1 listy:"
   ]
  },
  {
   "cell_type": "code",
   "execution_count": 167,
   "id": "11a0f137",
   "metadata": {},
   "outputs": [
    {
     "data": {
      "text/plain": [
       "1"
      ]
     },
     "execution_count": 167,
     "metadata": {},
     "output_type": "execute_result"
    }
   ],
   "source": [
    "lista_list[0][1]"
   ]
  },
  {
   "cell_type": "markdown",
   "id": "ad14344c",
   "metadata": {},
   "source": [
    "### 11. `lista_a == lista_b`\n",
    "\n",
    "#### Jak sprawdzić czy listy są identyczne?\n",
    "\n",
    "Sprawdzisz to używając warunku `if` gdzie porównasz `lista_a` z `lista_b` używając `==`. Jeżeli listy będą identyczne, to treść `lista_a == lista_b` bedzie tożsama z `True` (możesz sprawdzić to niżej) a kod wewnątrz `if`'a wykona się."
   ]
  },
  {
   "cell_type": "code",
   "execution_count": 168,
   "id": "93173da2",
   "metadata": {},
   "outputs": [
    {
     "name": "stdout",
     "output_type": "stream",
     "text": [
      "Listy są identyczne.\n"
     ]
    }
   ],
   "source": [
    "lista_a = [1, 2]\n",
    "lista_b = [1, 2]\n",
    "if lista_a == lista_b:\n",
    "    print('Listy są identyczne.')"
   ]
  },
  {
   "cell_type": "markdown",
   "id": "c28a7371",
   "metadata": {},
   "source": [
    "## Level 2\n",
    "\n",
    "Jeżeli opanowałeś wcześniejszy materiał i wydaje się zrozumiały, zanim przejdziesz do #009 części rzuć jeszcze okiem na poniższe funkcje i metody. \n",
    "\n",
    "Może rzuć jeszcze raz okiem na powyższe komórki w zeszycie, powtórz materiał. \n",
    "\n",
    "Na pewno jesteś gotowy? To zaczynajmy:"
   ]
  },
  {
   "cell_type": "markdown",
   "id": "3f8c71fa",
   "metadata": {},
   "source": [
    "1. **iterowanie po liście**: for i in list\n",
    "2. **dostep do indeksu listy w iteracji** - for i, element in enumerate(lista)\n",
    "3. **scal dwie listy** - lista_par = zip(lista_a, lista_b)\n",
    "4. **Pro iteracje w 1 linii** - nowa_lista = [e*2 for e in stara_lista]\n",
    "5. **Sprawdz czy wszystkie elementy w liscie sa prawdziwe** - all(lista)\n",
    "6. **Sprawdz czy w liscie jest jakikolwiek prawdziwy element** - any(lista)"
   ]
  },
  {
   "cell_type": "markdown",
   "id": "4b9fa2f0",
   "metadata": {},
   "source": [
    "### 1. iterowanie po liście: `for i in list`\n",
    "\n",
    "#### Dla każdego elementu w liście wykonaj działanie (np. dodaj do wszystkich elementów 1. )\n",
    "\n",
    "Iterowanie, czyli powtarzanie zakodowanych czynności dla każdego elementu zbioru (listy, słownika, itp.). Np każdy elemnt zbioru pomnóżmy `*2` i zwróćmy listę elementów dwa razy większych.\n",
    "\n",
    "Iterowanie w Pythonie jest też znane jako \"for'y\", \"loop'y\", \"pętle\" które szerzej omówimy w części #009.\n",
    "\n",
    "Narazie puść poniższy kod i zastanów się jak działa. Spróbuj go lekko modyfikować. "
   ]
  },
  {
   "cell_type": "markdown",
   "id": "4ab456db",
   "metadata": {},
   "source": [
    "#### Iterowanie `for i in list`:"
   ]
  },
  {
   "cell_type": "code",
   "execution_count": 169,
   "id": "d4170733",
   "metadata": {},
   "outputs": [
    {
     "name": "stdout",
     "output_type": "stream",
     "text": [
      "1\n",
      "2\n",
      "3\n"
     ]
    }
   ],
   "source": [
    "lista = [1, 2, 3]\n",
    "for i in lista:\n",
    "    print(i)"
   ]
  },
  {
   "cell_type": "markdown",
   "id": "871efde1",
   "metadata": {},
   "source": [
    "#### Iteracja w iteracji w iteracji. Wiele forów na raz.\n",
    "\n",
    "Można też oczywiście iterować po liście wewnątrz iteracji po innej liście i mieć dostęp do wszystkich argumentów każej iteracji. Rzuć okiem\n",
    "\n",
    "(to zaawansowany przykład jak na początki, jeżeli sprawiał by problem to wróć do niego potem, a teraz przejdź dalej)\n",
    "\n"
   ]
  },
  {
   "cell_type": "code",
   "execution_count": 170,
   "id": "4f1cbca0",
   "metadata": {},
   "outputs": [
    {
     "name": "stdout",
     "output_type": "stream",
     "text": [
      "Element \"i\" z pierwszej listy: 1\n",
      "Litera z drugiej listy: a\n",
      "Buźka: xD\n",
      "Buźka: ^_^\n",
      "Buźka: :O\n",
      "----------------\n",
      "Litera z drugiej listy: b\n",
      "Buźka: xD\n",
      "Buźka: ^_^\n",
      "Buźka: :O\n",
      "----------------\n",
      "Litera z drugiej listy: c\n",
      "Buźka: xD\n",
      "Buźka: ^_^\n",
      "Buźka: :O\n",
      "----------------\n",
      "Element \"i\" z pierwszej listy: 2\n",
      "Litera z drugiej listy: a\n",
      "Buźka: xD\n",
      "Buźka: ^_^\n",
      "Buźka: :O\n",
      "----------------\n",
      "Litera z drugiej listy: b\n",
      "Buźka: xD\n",
      "Buźka: ^_^\n",
      "Buźka: :O\n",
      "----------------\n",
      "Litera z drugiej listy: c\n",
      "Buźka: xD\n",
      "Buźka: ^_^\n",
      "Buźka: :O\n",
      "----------------\n",
      "Element \"i\" z pierwszej listy: 3\n",
      "Litera z drugiej listy: a\n",
      "Buźka: xD\n",
      "Buźka: ^_^\n",
      "Buźka: :O\n",
      "----------------\n",
      "Litera z drugiej listy: b\n",
      "Buźka: xD\n",
      "Buźka: ^_^\n",
      "Buźka: :O\n",
      "----------------\n",
      "Litera z drugiej listy: c\n",
      "Buźka: xD\n",
      "Buźka: ^_^\n",
      "Buźka: :O\n",
      "----------------\n"
     ]
    }
   ],
   "source": [
    "for i in [1, 2, 3]:\n",
    "    print('Element \"i\" z pierwszej listy:', i)\n",
    "    for j in ['a', 'b', 'c']:\n",
    "        print('Litera z drugiej listy:', j)\n",
    "        for z in ['xD', '^_^', ':O']:\n",
    "            print('Buźka:', z)\n",
    "        print('----------------')"
   ]
  },
  {
   "cell_type": "markdown",
   "id": "260613d8",
   "metadata": {},
   "source": [
    "Fory omówimy dokładniej w części #009."
   ]
  },
  {
   "cell_type": "markdown",
   "id": "142467fd",
   "metadata": {},
   "source": [
    "### 2. `for i, element in enumerate(lista)`\n",
    "\n",
    "#### Podczas iteracji miej łatwy dostęp do numeru indeksu każdego elementu listy na którym wykonywane są działania\n",
    "\n",
    "Dzięki enumerate indeks każdego z elementów listy można wyciągnąć do zmiennej `i` . Najlepiej widać to przy użyciu pętli for (i tak na prawdę, w 95% sytuacji stosuje się enumerate tylko w ten sposób). O pętli for zaraz będziemy mówić w części #009. Teraz ogólnie zobacz jak to działa i szerzej omówimy to potem."
   ]
  },
  {
   "cell_type": "code",
   "execution_count": 171,
   "id": "a7d794aa",
   "metadata": {},
   "outputs": [
    {
     "name": "stdout",
     "output_type": "stream",
     "text": [
      "0 aaaa\n",
      "1 bbbb\n",
      "2 cccc\n",
      "3 dddd\n",
      "4 eeee\n",
      "5 ffff\n",
      "6 gggg\n",
      "7 hhhh\n",
      "8 iiii\n",
      "9 jjjj\n"
     ]
    }
   ],
   "source": [
    "lista = ['a', 'b', 'c', 'd', 'e', 'f', 'g', 'h', 'i', 'j']\n",
    "\n",
    "for i, element in enumerate(lista):\n",
    "    print(i, element*4)"
   ]
  },
  {
   "cell_type": "markdown",
   "id": "e45167eb",
   "metadata": {},
   "source": [
    "enumerate() dodaje każdemu z elementów listy jeszcze jedną zmienną: indeks. Niektóre są naprawdę super rzadko używane."
   ]
  },
  {
   "cell_type": "markdown",
   "id": "b3caf7b9",
   "metadata": {},
   "source": [
    "### 3. lista_par = zip(lista_a, lista_b)\n",
    "\n",
    "#### Z listy `[1,2,3]` i `['a','b','c']` stwórz listę par `[(1,'x'), (2,'y'), (3, 'z')]`:\n",
    "\n",
    "Funkcja `zip()` umożliwia złączanie obu list w par. Przy nierównościach ostatnie elementy listy dłuższej są pomijane."
   ]
  },
  {
   "cell_type": "code",
   "execution_count": 172,
   "id": "7517f36a",
   "metadata": {},
   "outputs": [],
   "source": [
    "numbers = [1, 2, 3, 5, 7]\n",
    "letters = ['a', 'b', 'c']\n",
    "z = zip(numbers, letters)\n",
    "z = list(z)"
   ]
  },
  {
   "cell_type": "markdown",
   "id": "2f5d893d",
   "metadata": {},
   "source": [
    "Efekt:"
   ]
  },
  {
   "cell_type": "code",
   "execution_count": 173,
   "id": "7c659ab6",
   "metadata": {},
   "outputs": [
    {
     "name": "stdout",
     "output_type": "stream",
     "text": [
      "[(1, 'a'), (2, 'b'), (3, 'c')]\n"
     ]
    }
   ],
   "source": [
    "print(z)"
   ]
  },
  {
   "cell_type": "markdown",
   "id": "20d77116",
   "metadata": {},
   "source": [
    "### 4. nowa_lista = [e*2 for e in stara_lista]\n",
    "\n",
    "#### Jest to tzw. list comprehension. Jednoliniowe wykonanie (różnych) operacji na liście tak aby powstała nowa, zmodyfikowana jej wersja.\n",
    "\n",
    "Czyli np. wybierz z listy wartości mniejsze od 3:"
   ]
  },
  {
   "cell_type": "code",
   "execution_count": 174,
   "id": "a02c919e",
   "metadata": {},
   "outputs": [
    {
     "name": "stdout",
     "output_type": "stream",
     "text": [
      "[1, 2]\n"
     ]
    }
   ],
   "source": [
    "lista_1 = [1,2,3,4,5,6,7]\n",
    "lista_2 = []\n",
    "for i in lista_1:\n",
    "    if i < 3:\n",
    "        lista_2.append(i)\n",
    "print(lista_2)"
   ]
  },
  {
   "cell_type": "markdown",
   "id": "03a347b3",
   "metadata": {},
   "source": [
    "#### Powyższy kod da się zrealizować w 1 linii"
   ]
  },
  {
   "cell_type": "code",
   "execution_count": 175,
   "id": "8d335724",
   "metadata": {},
   "outputs": [
    {
     "name": "stdout",
     "output_type": "stream",
     "text": [
      "[1, 2]\n"
     ]
    }
   ],
   "source": [
    "lista_2 = [i for i in [1,2,3,4,5,6,7] if i < 3]\n",
    "print(lista_2)"
   ]
  },
  {
   "cell_type": "markdown",
   "id": "e288cd67",
   "metadata": {},
   "source": [
    "#### Albo daj mi listę tych elementów z listy 1 które wystepują w liście 2 jako nową listę."
   ]
  },
  {
   "cell_type": "code",
   "execution_count": 176,
   "id": "497d8a95",
   "metadata": {},
   "outputs": [
    {
     "name": "stdout",
     "output_type": "stream",
     "text": [
      "['a', 'b']\n"
     ]
    }
   ],
   "source": [
    "lista_1 = ['a', 'b', 'c']\n",
    "lista_2 = ['a', 'b']\n",
    "lista_3 = []\n",
    "for i in lista_1:\n",
    "    if i in lista_2:\n",
    "        lista_3.append(i)\n",
    "print(lista_3)"
   ]
  },
  {
   "cell_type": "markdown",
   "id": "329fe482",
   "metadata": {},
   "source": [
    "#### Powyższy kod można zawężyć do 1 linii. "
   ]
  },
  {
   "cell_type": "code",
   "execution_count": 177,
   "id": "24963e2e",
   "metadata": {},
   "outputs": [
    {
     "name": "stdout",
     "output_type": "stream",
     "text": [
      "['a', 'b']\n"
     ]
    }
   ],
   "source": [
    "lista_2 = [i for i in ['a', 'b', 'c'] if i in ['a','b']]\n",
    "print(lista_2)"
   ]
  },
  {
   "cell_type": "markdown",
   "id": "4b61d3ab",
   "metadata": {},
   "source": [
    "Ten jednolinijkowy kod porównujący obie listy to właśnie list comperhension. Są różne odmiany. Będziemy o nich w przyszłości mówić."
   ]
  },
  {
   "cell_type": "markdown",
   "id": "0507decc",
   "metadata": {},
   "source": [
    "### 5. all(lista)\n",
    "\n",
    "#### Czy wszystkie elementy w liście są prawdziwe (lub nie puste)?\n",
    "\n",
    "Jak sprawdzić czy wszystkie elementy listy stanowią wartość prawdziwą, pełną (niezależnie od typu, np. 1,  True, 'abcd') czy nie prawdziwą lub pustą: (0, False, pusta lista)?"
   ]
  },
  {
   "cell_type": "code",
   "execution_count": 178,
   "id": "ac378084",
   "metadata": {},
   "outputs": [
    {
     "name": "stdout",
     "output_type": "stream",
     "text": [
      "Wszystkie elementy x są prawdziwe (True).\n"
     ]
    }
   ],
   "source": [
    "lista = [1, 1, 1] # 1 też ma wartość True, tak samo jak 2 lub 3. Ale 0 to zawsze False.\n",
    "if all(lista):\n",
    "    print('Wszystkie elementy x są prawdziwe (True).')"
   ]
  },
  {
   "cell_type": "markdown",
   "id": "9d5cd3cb",
   "metadata": {},
   "source": [
    "#### Wartość all(lista) to ostatecznie albo prawda (tak) albo fałsz (nie)."
   ]
  },
  {
   "cell_type": "code",
   "execution_count": 179,
   "id": "6d99cbe7",
   "metadata": {},
   "outputs": [
    {
     "data": {
      "text/plain": [
       "True"
      ]
     },
     "execution_count": 179,
     "metadata": {},
     "output_type": "execute_result"
    }
   ],
   "source": [
    "all(lista)"
   ]
  },
  {
   "cell_type": "markdown",
   "id": "b2005df9",
   "metadata": {},
   "source": [
    "### 6. any(lista)\n",
    "\n",
    "#### Czy conajmniej 1 z elementów listy jest prawdziwy?\n",
    "\n",
    "Podobnie działa funkcja `any()` ta jednak przyniesie prawdę nawet gdy tylko jeden z elementów jest prawdziwy.\n",
    "\n",
    "Zmień jeden element na True i zobacz co się stanie."
   ]
  },
  {
   "cell_type": "code",
   "execution_count": 180,
   "id": "4381c6b0",
   "metadata": {},
   "outputs": [
    {
     "name": "stdout",
     "output_type": "stream",
     "text": [
      "Rezultat funkcji all(x): True\n",
      "Rezultat funkcji any(x): True\n",
      "Conajmniej 1 element x jest prawdziwy (True).\n"
     ]
    }
   ],
   "source": [
    "lista = [False, False, False] # , True]\n",
    "if all(x):\n",
    "    print('Rezultat funkcji all(x):', all(x))\n",
    "if any(x):\n",
    "    print('Rezultat funkcji any(x):', any(x))\n",
    "    print('Conajmniej 1 element x jest prawdziwy (True).')"
   ]
  },
  {
   "cell_type": "code",
   "execution_count": 181,
   "id": "1e5fdcb6",
   "metadata": {},
   "outputs": [
    {
     "data": {
      "text/plain": [
       "False"
      ]
     },
     "execution_count": 181,
     "metadata": {},
     "output_type": "execute_result"
    }
   ],
   "source": [
    "any(lista)"
   ]
  },
  {
   "cell_type": "markdown",
   "id": "950cc7da",
   "metadata": {},
   "source": [
    "## Level 3\n",
    "\n",
    "## Jak w miare dobrze ogarniasz poprzednie klocki i klocek 9 a najlepiej także kilka kolejnych\n",
    "\n",
    "Jak umiesz korzystać z list do tego momentu materiału, może zainteresować Cię kilka rzadziej używanych funkcji i zaawansowanych pomocnych bibliotek. Jeżeli nie, przećwicz poprzednie poziomy i idź do kolejnych klocków. Szczerze mówiąc warto najpierw poczytać nieco o `forach` czyli iteracjach `for i in lista:` w klocku `009`.\n",
    "\n",
    "Dla średnio zaawansowanych.\n",
    "\n",
    "1. filter()\n",
    "2. map()\n",
    "3. Biblioteki które wspomagają pracę na listach\n",
    "4. itertools\n",
    "5. functools i reduce"
   ]
  },
  {
   "cell_type": "markdown",
   "id": "445122ee",
   "metadata": {},
   "source": [
    "### 1. Biblioteka [Itertools](https://docs.python.org/3/library/itertools.html)"
   ]
  },
  {
   "cell_type": "markdown",
   "id": "a8c8674c",
   "metadata": {},
   "source": [
    "#### Daje wiele różnych przydatnych funkcji. Np. `count()`"
   ]
  },
  {
   "cell_type": "code",
   "execution_count": 182,
   "id": "dbd62213",
   "metadata": {},
   "outputs": [
    {
     "data": {
      "text/plain": [
       "count(1, 4)"
      ]
     },
     "execution_count": 182,
     "metadata": {},
     "output_type": "execute_result"
    }
   ],
   "source": [
    "count(1,4)"
   ]
  },
  {
   "cell_type": "code",
   "execution_count": 183,
   "id": "3780fd72",
   "metadata": {},
   "outputs": [
    {
     "data": {
      "text/plain": [
       "itertools.count"
      ]
     },
     "execution_count": 183,
     "metadata": {},
     "output_type": "execute_result"
    }
   ],
   "source": [
    "type(count(1, 4))"
   ]
  },
  {
   "cell_type": "markdown",
   "id": "d8e6a59f",
   "metadata": {},
   "source": [
    "### Jedno z użyć count to np. Nieskończona wyliczanka\n",
    "\n",
    "Użycie count, nieskończonej wyliczanki. To odpowiednik range, ale posiada jako argument nie start i koniec, ale start i krok.\n",
    "\n",
    "Uważaj na takie funkcje, i używaj ich z główą, bo jak puścisz iteracje po np. wyniku `count()` otrzyasz nieskończoną wyliczankę. \n",
    "\n",
    "Aby skorzystąć z iteracji po `count()` możesz użyć np warunku z break o których uczyliśmy się w 2 części temu czyli w klocku `006`."
   ]
  },
  {
   "cell_type": "code",
   "execution_count": 184,
   "id": "72fff9ee",
   "metadata": {},
   "outputs": [
    {
     "name": "stdout",
     "output_type": "stream",
     "text": [
      "1\n",
      "5\n",
      "9\n",
      "13\n",
      "xD\n",
      "17\n",
      "xD\n",
      "21\n",
      "25\n",
      "29\n",
      "33\n",
      "37\n",
      "41\n",
      "45\n",
      "49\n",
      "53\n",
      "57\n",
      "61\n",
      "65\n",
      "69\n",
      "73\n",
      "77\n",
      "81\n",
      "85\n",
      "89\n",
      "93\n",
      "97\n",
      "101\n"
     ]
    }
   ],
   "source": [
    "from itertools import count \n",
    "\n",
    "c = count(1,4)\n",
    "\n",
    "for i in c:\n",
    "    print(i)\n",
    "    if i > 100:\n",
    "        break\n",
    "    if i in range(10, 20):\n",
    "        print('xD')"
   ]
  },
  {
   "cell_type": "markdown",
   "id": "29543179",
   "metadata": {},
   "source": [
    "### Itertools\n",
    "\n",
    "To biblioteka zawierająca kilkanaście funkcji do pracy z listami. Są genialne, zobacz koniecznie na:\n",
    "\n",
    "https://docs.python.org/3/library/itertools.html"
   ]
  },
  {
   "cell_type": "markdown",
   "id": "ed59fe31",
   "metadata": {},
   "source": [
    "#### Zainstaluj bibliotekę z Jupytera"
   ]
  },
  {
   "cell_type": "markdown",
   "id": "7927f507",
   "metadata": {},
   "source": [
    "!pip3 install itertools"
   ]
  },
  {
   "cell_type": "markdown",
   "id": "7d0f55a4",
   "metadata": {},
   "source": [
    "#### Zainstaluj bibliotekę z terminala"
   ]
  },
  {
   "cell_type": "markdown",
   "id": "2f75412c",
   "metadata": {},
   "source": [
    "pip3 install itertools"
   ]
  },
  {
   "cell_type": "markdown",
   "id": "ea0e131e",
   "metadata": {},
   "source": [
    "#### Import biblioteki itertools"
   ]
  },
  {
   "cell_type": "code",
   "execution_count": 94,
   "id": "5255ebbc",
   "metadata": {},
   "outputs": [],
   "source": [
    "import itertools"
   ]
  },
  {
   "cell_type": "markdown",
   "id": "6321c9ad",
   "metadata": {},
   "source": [
    "#### Import konkretnej funkcji itertools\n",
    "\n",
    "Za `permutations` możesz wstawić inne lub dodać kolejne po przecinku."
   ]
  },
  {
   "cell_type": "code",
   "execution_count": 95,
   "id": "bc6cea78",
   "metadata": {},
   "outputs": [],
   "source": [
    "from itertools import permutations"
   ]
  },
  {
   "cell_type": "markdown",
   "id": "e15ba1bd",
   "metadata": {},
   "source": [
    "#### Poćwicz poniższe funkcje. Tu w przyszłości będzie szerszy opis. \n",
    "\n",
    "Ale raczej nie ruszaj tego materiału jak nie opanowałeś podstaw. Lepiej wykorzystasz czas szlifując listy albo robiąc kolejne klocki."
   ]
  },
  {
   "cell_type": "code",
   "execution_count": 96,
   "id": "25f97c17",
   "metadata": {},
   "outputs": [],
   "source": [
    "# Funkcje do list z itertools:\n",
    "# accumulate()\n",
    "# chain()\n",
    "# chain.from_iterable()\n",
    "# compress()\n",
    "# dropwhile()\n",
    "# filterfalse()\n",
    "# groupby()\n",
    "# islice()\n",
    "# pairwise()\n",
    "# starmap()\n",
    "# takewhile()\n",
    "# tee()\n",
    "# zip_longest()\n",
    "\n",
    "# Funkcje kombinacji z itertools:\n",
    "# product()\n",
    "# permutations()\n",
    "# combinations()\n",
    "# combinations_with_replacement()\n",
    "\n",
    "# Nieskończone iteratory:\n",
    "# count()\n",
    "# cycle()\n",
    "# repeat()"
   ]
  },
  {
   "cell_type": "markdown",
   "id": "f7148abd",
   "metadata": {},
   "source": [
    "Funkcje itertools **zawsze przyjmują za argument listę** (lub wiele list) a do tego bywają okraszone dodatkowym argumentem który opisuje co z nimi zrobić.\n",
    "\n",
    "Aby efekt funkcji itertools był listą, uży po jej zastosowaniu metody `list()`."
   ]
  },
  {
   "cell_type": "code",
   "execution_count": 97,
   "id": "36396097",
   "metadata": {},
   "outputs": [
    {
     "data": {
      "text/plain": [
       "[('a', 'b', 'c', 'd'),\n",
       " ('a', 'b', 'd', 'c'),\n",
       " ('a', 'c', 'b', 'd'),\n",
       " ('a', 'c', 'd', 'b'),\n",
       " ('a', 'd', 'b', 'c'),\n",
       " ('a', 'd', 'c', 'b'),\n",
       " ('b', 'a', 'c', 'd'),\n",
       " ('b', 'a', 'd', 'c'),\n",
       " ('b', 'c', 'a', 'd'),\n",
       " ('b', 'c', 'd', 'a'),\n",
       " ('b', 'd', 'a', 'c'),\n",
       " ('b', 'd', 'c', 'a'),\n",
       " ('c', 'a', 'b', 'd'),\n",
       " ('c', 'a', 'd', 'b'),\n",
       " ('c', 'b', 'a', 'd'),\n",
       " ('c', 'b', 'd', 'a'),\n",
       " ('c', 'd', 'a', 'b'),\n",
       " ('c', 'd', 'b', 'a'),\n",
       " ('d', 'a', 'b', 'c'),\n",
       " ('d', 'a', 'c', 'b'),\n",
       " ('d', 'b', 'a', 'c'),\n",
       " ('d', 'b', 'c', 'a'),\n",
       " ('d', 'c', 'a', 'b'),\n",
       " ('d', 'c', 'b', 'a')]"
      ]
     },
     "execution_count": 97,
     "metadata": {},
     "output_type": "execute_result"
    }
   ],
   "source": [
    "from itertools import permutations\n",
    "\n",
    "xd = 'abcd'\n",
    "x = permutations(xd)\n",
    "list(x)"
   ]
  },
  {
   "cell_type": "markdown",
   "id": "1db8f680",
   "metadata": {},
   "source": [
    "#### Itertools zwraca w typach `itertools.permutations`"
   ]
  },
  {
   "cell_type": "code",
   "execution_count": 98,
   "id": "17e3d448",
   "metadata": {},
   "outputs": [
    {
     "data": {
      "text/plain": [
       "itertools.permutations"
      ]
     },
     "execution_count": 98,
     "metadata": {},
     "output_type": "execute_result"
    }
   ],
   "source": [
    "type(x)"
   ]
  },
  {
   "cell_type": "markdown",
   "id": "cd158aca",
   "metadata": {},
   "source": [
    "#### Aby uzyskać listę, zmień obiekt używając funkcji `list()`"
   ]
  },
  {
   "cell_type": "code",
   "execution_count": 99,
   "id": "06c1565c",
   "metadata": {},
   "outputs": [
    {
     "data": {
      "text/plain": [
       "list"
      ]
     },
     "execution_count": 99,
     "metadata": {},
     "output_type": "execute_result"
    }
   ],
   "source": [
    "type(list(x))"
   ]
  },
  {
   "cell_type": "markdown",
   "id": "9118d6af",
   "metadata": {},
   "source": [
    "#### Poćwicz"
   ]
  },
  {
   "cell_type": "code",
   "execution_count": 100,
   "id": "8c9567b4",
   "metadata": {},
   "outputs": [],
   "source": [
    "# from itertools import \n",
    "\n",
    "lista_1 = ['a', 'b', 'c', 'd'   ]\n",
    "lista_2 = [  1,   2,   3,  4,  5]"
   ]
  },
  {
   "cell_type": "code",
   "execution_count": 101,
   "id": "0dfef7c5",
   "metadata": {},
   "outputs": [],
   "source": [
    "# Funkcje do list z itertools:\n",
    "# accumulate()\n",
    "# chain()\n",
    "# chain.from_iterable()\n",
    "# compress()\n",
    "# dropwhile()\n",
    "# filterfalse()\n",
    "# groupby()\n",
    "# islice()\n",
    "# pairwise()\n",
    "# starmap()\n",
    "# takewhile()\n",
    "# tee()\n",
    "# zip_longest()\n",
    "\n",
    "# Funkcje kombinacji z itertools:\n",
    "# product()\n",
    "# permutations()\n",
    "# combinations()\n",
    "# combinations_with_replacement()\n",
    "\n",
    "# Nieskończone iteratory:\n",
    "# count()\n",
    "# cycle()\n",
    "# repeat()"
   ]
  },
  {
   "cell_type": "code",
   "execution_count": null,
   "id": "8de3d629",
   "metadata": {},
   "outputs": [],
   "source": []
  },
  {
   "cell_type": "code",
   "execution_count": null,
   "id": "bdbd0a0e",
   "metadata": {},
   "outputs": [],
   "source": []
  },
  {
   "cell_type": "code",
   "execution_count": null,
   "id": "3b3e7564",
   "metadata": {},
   "outputs": [],
   "source": []
  },
  {
   "cell_type": "markdown",
   "id": "46e4168c",
   "metadata": {},
   "source": [
    "### 2. `map()`\n",
    "\n",
    "#### Zastosuj funkcję na każdym z elementów listy"
   ]
  },
  {
   "cell_type": "markdown",
   "id": "836e9e55",
   "metadata": {},
   "source": [
    "Załóżmy, że chcesz zastosować napisaną funkcję na każdym elemencie z listy.\n",
    "\n",
    "Normalnie (i nieraz lepiej, bo czytelniej) uzyskasz taki efekt:"
   ]
  },
  {
   "cell_type": "code",
   "execution_count": 102,
   "id": "39b75c0d",
   "metadata": {},
   "outputs": [
    {
     "name": "stdout",
     "output_type": "stream",
     "text": [
      "[1, 2, 3, 4]\n",
      "[4, 8, 12, 16]\n"
     ]
    }
   ],
   "source": [
    "def funkcja_dodawania(n):\n",
    "    return n*4\n",
    "\n",
    "lista = [1, 2, 3, 4]\n",
    "result = []\n",
    "for n in lista:\n",
    "    n = funkcja_dodawania(n)\n",
    "    result.append(n)\n",
    "    \n",
    "print(lista)\n",
    "print(list(result))"
   ]
  },
  {
   "cell_type": "markdown",
   "id": "6bd3a227",
   "metadata": {},
   "source": [
    "To samo, ale szybciej możesz uzyskać dzięki - `map()`\n",
    "\n",
    "#### `map()`\n",
    "\n",
    "#### Stosuje funkcję na każdym elemencie listy\n",
    "\n",
    "Przyjmuje dwa argumenty:\n",
    "1. fukcja\n",
    "2. lista\n",
    "\n",
    "Aby posługiwać się rezultatem: zamień na listę dzięki `list(map(funkcja, lista))`.\n"
   ]
  },
  {
   "cell_type": "code",
   "execution_count": 103,
   "id": "0466c54d",
   "metadata": {},
   "outputs": [
    {
     "data": {
      "text/plain": [
       "[4, 8, 12, 16]"
      ]
     },
     "execution_count": 103,
     "metadata": {},
     "output_type": "execute_result"
    }
   ],
   "source": [
    "result = map(funkcja_dodawania, lista)\n",
    "list(result)"
   ]
  },
  {
   "cell_type": "code",
   "execution_count": 104,
   "id": "8981f1cb",
   "metadata": {},
   "outputs": [
    {
     "name": "stdout",
     "output_type": "stream",
     "text": [
      "[1, 2, 3, 4]\n",
      "<map object at 0x7ffbe82171c0>\n",
      "[4, 8, 12, 16]\n",
      "[4, 8, 12, 16]\n"
     ]
    }
   ],
   "source": [
    "print(lista)\n",
    "result = map(funkcja_dodawania, lista)\n",
    "print(result)\n",
    "x = list(result)\n",
    "print(x)\n",
    "print(x)"
   ]
  },
  {
   "cell_type": "markdown",
   "id": "dee05f62",
   "metadata": {},
   "source": [
    "#### Można zrobić to w 1 linii"
   ]
  },
  {
   "cell_type": "code",
   "execution_count": 105,
   "id": "407abddc",
   "metadata": {},
   "outputs": [
    {
     "data": {
      "text/plain": [
       "[4, 8, 12, 16]"
      ]
     },
     "execution_count": 105,
     "metadata": {},
     "output_type": "execute_result"
    }
   ],
   "source": [
    "list(map(funkcja_dodawania, lista))"
   ]
  },
  {
   "cell_type": "markdown",
   "id": "1802bf1e",
   "metadata": {},
   "source": [
    "### 3. filter()\n",
    "\n",
    "#### Przepuść dane z listy przez działanie funkcji\n",
    "\n",
    "Każdy z elementów osobno przechodzi przez pojedyńczy warunek np. `if n==2:`"
   ]
  },
  {
   "cell_type": "code",
   "execution_count": 106,
   "id": "366477a7",
   "metadata": {},
   "outputs": [
    {
     "name": "stdout",
     "output_type": "stream",
     "text": [
      "[1, 2, 2, 4, 5, 7, 10]\n",
      "[4, 5, 7, 10]\n"
     ]
    }
   ],
   "source": [
    "lista_1 = [1, 2, 2, 4, 5, 7, 10]\n",
    "lista_2 = []\n",
    "\n",
    "for n in lista_1:\n",
    "    if n > 3:\n",
    "        lista_2.append(n)\n",
    "\n",
    "print(lista_1)\n",
    "print(lista_2)"
   ]
  },
  {
   "cell_type": "markdown",
   "id": "eb6333b6",
   "metadata": {},
   "source": [
    "#### Można zrobić to też szybko w 1 linii dzięki funkcji - `filter()`\n",
    "\n",
    "xD"
   ]
  },
  {
   "cell_type": "code",
   "execution_count": 107,
   "id": "3ed40330",
   "metadata": {},
   "outputs": [
    {
     "name": "stdout",
     "output_type": "stream",
     "text": [
      "[1, 2, 2, 4, 5, 7, 10]\n",
      "[4, 5, 7, 10]\n"
     ]
    }
   ],
   "source": [
    "def funkcja_decydujaca(n):\n",
    "    if n > 3:\n",
    "        return True\n",
    "    return False\n",
    "\n",
    "lista = [1, 2, 2, 4, 5, 7, 10]\n",
    "print(lista)\n",
    "\n",
    "lista = list(filter(funkcja_decydujaca, lista))\n",
    "print(lista)"
   ]
  },
  {
   "cell_type": "markdown",
   "id": "9d5862f4",
   "metadata": {},
   "source": [
    "#### W 1 linii"
   ]
  },
  {
   "cell_type": "code",
   "execution_count": 108,
   "id": "ac3c7390",
   "metadata": {},
   "outputs": [
    {
     "data": {
      "text/plain": [
       "[4, 5, 7, 10]"
      ]
     },
     "execution_count": 108,
     "metadata": {},
     "output_type": "execute_result"
    }
   ],
   "source": [
    "list(filter(funkcja_decydujaca, lista))"
   ]
  },
  {
   "cell_type": "markdown",
   "id": "e3018a07",
   "metadata": {},
   "source": [
    "### 4. Inne typy wylistowań\n",
    "\n",
    "Jak wspomniałem na początku listy nie są jedym rodzajem wylistowań, Python ma też kolekcje w innych typach.\n",
    "\n",
    "Omówiony wcześniej `set()`, (ale i `frozenset()` ),  `tuple()`, niektóre bilioteki mają też swoje typy jak np. biblioteka numpy posiada tzw. `arrays`.\n",
    "\n",
    "### W 95% sytuacji gdy szukasz sposobu na trzymanie listy danych użyjesz po prostu listy.\n",
    "\n",
    "Istotne jest aby wiedzieć kiedy i dlaczego użyć jakiego typu danych. Kiedy nie wiesz czego po co używasz, to zazwyczaj najlepiej zrobisz jak użyjesz list. Listy są genialne. Nieraz jednak przyda Ci się inny typ.\n",
    "\n",
    "\n",
    "#### `tupla()`\n",
    "\n",
    "#### `set()`\n",
    "\n",
    "#### `frozenset()`"
   ]
  },
  {
   "cell_type": "markdown",
   "id": "98f96284",
   "metadata": {},
   "source": [
    "#### SET\n",
    "https://bigdata-madesimple.com/introduction-to-python-set-and-frozenset-methods/\n",
    "\n",
    "- frozenset()\tReturns a frozenset object\n",
    "- set()\tReturns a new set object"
   ]
  },
  {
   "cell_type": "markdown",
   "id": "df35c86a",
   "metadata": {},
   "source": [
    "### `set()`\n",
    "\n",
    "listę w set zamienisz korzystając z funkcji `set(lista)`. Zobacz poniższe metody które możesz wykorzystywać na setach:"
   ]
  },
  {
   "cell_type": "code",
   "execution_count": 109,
   "id": "0a29c665",
   "metadata": {},
   "outputs": [],
   "source": [
    "# Metody setowe:\n",
    "\n",
    "# add()\tAdds an element to the set\n",
    "# clear()\tRemoves all the elements from the set\n",
    "# copy()\tReturns a copy of the set\n",
    "# difference()\tReturns a set containing the difference between two or more sets\n",
    "# difference_update()\tRemoves the items in this set that are also included in another, specified set\n",
    "# discard()\tRemove the specified item\n",
    "# intersection()\tReturns a set, that is the intersection of two or more sets\n",
    "# intersection_update()\tRemoves the items in this set that are not present in other, specified set(s)\n",
    "# isdisjoint()\tReturns whether two sets have a intersection or not\n",
    "# issubset()\tReturns whether another set contains this set or not\n",
    "# issuperset()\tReturns whether this set contains another set or not\n",
    "# pop()\tRemoves an element from the set\n",
    "\n",
    "# remove()\tRemoves the specified element\n",
    "# symmetric_difference()\tReturns a set with the symmetric differences of two sets\n",
    "# symmetric_difference_update()\tinserts the symmetric differences from this set and another\n",
    "# union()\tReturn a set containing the union of sets\n",
    "# update()\tUpdate the set with another set, or any other iterable"
   ]
  },
  {
   "cell_type": "code",
   "execution_count": null,
   "id": "5abb6d17",
   "metadata": {},
   "outputs": [],
   "source": []
  },
  {
   "cell_type": "markdown",
   "id": "18232bf7",
   "metadata": {},
   "source": [
    "### `frozenset()`"
   ]
  },
  {
   "cell_type": "markdown",
   "id": "0c7763b6",
   "metadata": {},
   "source": [
    "xD"
   ]
  },
  {
   "cell_type": "code",
   "execution_count": null,
   "id": "a1d9d3c6",
   "metadata": {},
   "outputs": [],
   "source": []
  },
  {
   "cell_type": "markdown",
   "id": "7c91847f",
   "metadata": {},
   "source": [
    "### `tuple()`"
   ]
  },
  {
   "cell_type": "markdown",
   "id": "70e9fccb",
   "metadata": {},
   "source": [
    "xD"
   ]
  },
  {
   "cell_type": "code",
   "execution_count": null,
   "id": "bd65f4da",
   "metadata": {},
   "outputs": [],
   "source": []
  },
  {
   "cell_type": "markdown",
   "id": "c846a530",
   "metadata": {},
   "source": [
    "### Tupla\n",
    "\n",
    "Narazie nie będziemy o tym wiele mówić, ale to jest tupla. Wygląda bardzo podbonie do listy i tak też działa. Zobaczy typ. To już nie lista ale tupla, ma okrągłe nawiasy.\n",
    "\n",
    "#tuple()\tReturns a tuple\n",
    "#Python Tuple count()\n",
    "#returns count of the element in the tuple\n",
    "#Python Tuple index()\n",
    "#returns the index of the element in the tuple"
   ]
  },
  {
   "cell_type": "markdown",
   "id": "2b584d18",
   "metadata": {},
   "source": [
    "#### Mutowalność / niemutowalonść\n",
    "\n",
    "To potem :)"
   ]
  },
  {
   "cell_type": "markdown",
   "id": "2583073d",
   "metadata": {},
   "source": [
    "### 5. reduce() z biblioteki functools\n",
    "\n",
    "Biblioteka functools ma kilka świetnych wynalazków, jednym z nich jest funkcja `reduce()`\n",
    "\n",
    "https://www.geeksforgeeks.org/reduce-in-python/"
   ]
  },
  {
   "cell_type": "markdown",
   "id": "477deb0a",
   "metadata": {},
   "source": [
    "#### functools\n",
    "\n",
    "Zawiera znaną i lubianą funkcję `reduce()` \n",
    "\n",
    "Dodam ten opis w krótce. Umiesz zaprojektować rozwiązanie z użyciem `reduce()` bez podpowiedzi?"
   ]
  },
  {
   "cell_type": "code",
   "execution_count": 27,
   "id": "509df336",
   "metadata": {
    "scrolled": true
   },
   "outputs": [
    {
     "ename": "TypeError",
     "evalue": "reduce expected at least 2 arguments, got 1",
     "output_type": "error",
     "traceback": [
      "\u001b[0;31m---------------------------------------------------------------------------\u001b[0m",
      "\u001b[0;31mTypeError\u001b[0m                                 Traceback (most recent call last)",
      "\u001b[0;32m/tmp/ipykernel_1241927/833609310.py\u001b[0m in \u001b[0;36m<module>\u001b[0;34m\u001b[0m\n\u001b[1;32m      1\u001b[0m \u001b[0;32mfrom\u001b[0m \u001b[0mfunctools\u001b[0m \u001b[0;32mimport\u001b[0m \u001b[0mreduce\u001b[0m\u001b[0;34m\u001b[0m\u001b[0;34m\u001b[0m\u001b[0m\n\u001b[1;32m      2\u001b[0m \u001b[0;34m\u001b[0m\u001b[0m\n\u001b[0;32m----> 3\u001b[0;31m \u001b[0mreduce\u001b[0m\u001b[0;34m(\u001b[0m\u001b[0mlista\u001b[0m\u001b[0;34m)\u001b[0m\u001b[0;34m\u001b[0m\u001b[0;34m\u001b[0m\u001b[0m\n\u001b[0m",
      "\u001b[0;31mTypeError\u001b[0m: reduce expected at least 2 arguments, got 1"
     ]
    }
   ],
   "source": [
    "from functools import reduce\n",
    "\n",
    "lista = [1,2,3 ]\n",
    "# reduce(lista)"
   ]
  }
 ],
 "metadata": {
  "kernelspec": {
   "display_name": "Python 3 (ipykernel)",
   "language": "python",
   "name": "python3"
  },
  "language_info": {
   "codemirror_mode": {
    "name": "ipython",
    "version": 3
   },
   "file_extension": ".py",
   "mimetype": "text/x-python",
   "name": "python",
   "nbconvert_exporter": "python",
   "pygments_lexer": "ipython3",
   "version": "3.8.10"
  }
 },
 "nbformat": 4,
 "nbformat_minor": 5
}
