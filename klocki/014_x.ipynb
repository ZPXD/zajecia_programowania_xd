{
 "cells": [
  {
   "cell_type": "code",
   "execution_count": null,
   "id": "788b5ff2",
   "metadata": {},
   "outputs": [],
   "source": [
    "\n",
    "x. try, except, finally, raise"
   ]
  },
  {
   "cell_type": "code",
   "execution_count": 1,
   "id": "15f5bd94",
   "metadata": {},
   "outputs": [
    {
     "ename": "SyntaxError",
     "evalue": "invalid syntax (372632024.py, line 3)",
     "output_type": "error",
     "traceback": [
      "\u001b[0;36m  File \u001b[0;32m\"/tmp/ipykernel_1849209/372632024.py\"\u001b[0;36m, line \u001b[0;32m3\u001b[0m\n\u001b[0;31m    ArithmeticError\tRaised when an error occurs in numeric calculations\u001b[0m\n\u001b[0m                   \t^\u001b[0m\n\u001b[0;31mSyntaxError\u001b[0m\u001b[0;31m:\u001b[0m invalid syntax\n"
     ]
    }
   ],
   "source": [
    "#### Built-in Exceptions\n",
    "\n",
    "ArithmeticError\tRaised when an error occurs in numeric calculations\n",
    "AssertionError\tRaised when an assert statement fails\n",
    "AttributeError\tRaised when attribute reference or assignment fails\n",
    "Exception\tBase class for all exceptions\n",
    "EOFError\tRaised when the input() method hits an \"end of file\" condition (EOF)\n",
    "FloatingPointError\tRaised when a floating point calculation fails\n",
    "GeneratorExit\tRaised when a generator is closed (with the close() method)\n",
    "ImportError\tRaised when an imported module does not exist\n",
    "IndentationError\tRaised when indendation is not correct\n",
    "IndexError\tRaised when an index of a sequence does not exist\n",
    "KeyError\tRaised when a key does not exist in a dictionary\n",
    "KeyboardInterrupt\tRaised when the user presses Ctrl+c, Ctrl+z or Delete\n",
    "LookupError\tRaised when errors raised cant be found\n",
    "MemoryError\tRaised when a program runs out of memory\n",
    "NameError\tRaised when a variable does not exist\n",
    "NotImplementedError\tRaised when an abstract method requires an inherited class to override the method\n",
    "OSError\tRaised when a system related operation causes an error\n",
    "OverflowError\tRaised when the result of a numeric calculation is too large\n",
    "ReferenceError\tRaised when a weak reference object does not exist\n",
    "RuntimeError\tRaised when an error occurs that do not belong to any specific expections\n",
    "StopIteration\tRaised when the next() method of an iterator has no further values\n",
    "SyntaxError\tRaised when a syntax error occurs\n",
    "TabError\tRaised when indentation consists of tabs or spaces\n",
    "SystemError\tRaised when a system error occurs\n",
    "SystemExit\tRaised when the sys.exit() function is called\n",
    "TypeError\tRaised when two different types are combined\n",
    "UnboundLocalError\tRaised when a local variable is referenced before assignment\n",
    "UnicodeError\tRaised when a unicode problem occurs\n",
    "UnicodeEncodeError\tRaised when a unicode encoding problem occurs\n",
    "UnicodeDecodeError\tRaised when a unicode decoding problem occurs\n",
    "UnicodeTranslateError\tRaised when a unicode translation problem occurs\n",
    "ValueError\tRaised when there is a wrong value in a specified data type\n",
    "ZeroDivisionError\tRaised when the second operator in a division is zero"
   ]
  },
  {
   "cell_type": "code",
   "execution_count": null,
   "id": "e56d1295",
   "metadata": {},
   "outputs": [],
   "source": []
  }
 ],
 "metadata": {
  "kernelspec": {
   "display_name": "Python 3 (ipykernel)",
   "language": "python",
   "name": "python3"
  },
  "language_info": {
   "codemirror_mode": {
    "name": "ipython",
    "version": 3
   },
   "file_extension": ".py",
   "mimetype": "text/x-python",
   "name": "python",
   "nbconvert_exporter": "python",
   "pygments_lexer": "ipython3",
   "version": "3.8.10"
  }
 },
 "nbformat": 4,
 "nbformat_minor": 5
}
