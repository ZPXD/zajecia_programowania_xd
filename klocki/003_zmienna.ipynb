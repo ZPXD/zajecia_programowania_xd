{
 "cells": [
  {
   "cell_type": "markdown",
   "id": "a1dc6d9b",
   "metadata": {},
   "source": [
    "# #003 - Zmienna\n",
    "\n",
    "Niby zmienna, a dopóki się nie zmieni - jest stała.\n",
    "\n",
    "### Spis treści:\n",
    "\n",
    "#### Level 1\n",
    "1. Deklaracja zmiennej \n",
    "2. Wywołanie zmiennej\n",
    "3. Wywołanie niezadeklarowanej zmiennej\n",
    "4. Nadpisanie zmiennej\n",
    "6. Jak nazwać zmienną?\n",
    "5. Definicja wielu zmiennych za jednym razem.\n",
    "7. Gdzie zmienna jest dostępna?\n",
    "\n",
    "#### Level 2\n",
    "1. Zmienne pomiędzy różnymi funkcjami\n",
    "2. Zmienne pomiędzy różnymi klasami\n",
    "3. Zmienna globalna i lokalna\n",
    "4. Zmienna środowiskowa\n",
    "5. Miejsca, pliki, w których często trzymamy zmienne."
   ]
  },
  {
   "cell_type": "markdown",
   "id": "5e157b04",
   "metadata": {},
   "source": [
    "# Zmienna\n",
    "\n",
    "Czyli przypisanie wartości temu, co jest po lewej stronie znaku równości, a może nazywać się niemalże dowolnie jak chcemy."
   ]
  },
  {
   "cell_type": "markdown",
   "id": "aa854e5d",
   "metadata": {},
   "source": [
    "# 1. Deklaracja zmiennej.\n",
    "\n",
    "\n",
    "Czyli przypisanie wartości temu, co poniżej jest nazwane x i jest po lewej stronie znaku równości, a może nazywać się niemalże dowolnie jak chcemy. Więcej na temat ograniczeń w nazywaniu zmiennych przeczytasz niżej w punkcie _„Jak nazwać zmienną?”_."
   ]
  },
  {
   "cell_type": "code",
   "execution_count": 1,
   "id": "459693d5",
   "metadata": {},
   "outputs": [],
   "source": [
    "x = 1 # deklarujesz, że x to 1.\n",
    "y = 2 # przypisujesz y wartość 2.\n",
    "orangutan = 4 # od teraz orangutan jest cyfrą cztery.\n",
    "ale_to_ciekawe = 10 # zmienna ale_to_ciekawe to 10."
   ]
  },
  {
   "cell_type": "markdown",
   "id": "c2863e7a",
   "metadata": {},
   "source": [
    "# 2. Wywołanie zmiennej.\n",
    "\n",
    "Czyli jej użycie w kodzie dalej, już po zdefiniowaniu."
   ]
  },
  {
   "cell_type": "code",
   "execution_count": 2,
   "id": "60112b96",
   "metadata": {},
   "outputs": [
    {
     "name": "stdout",
     "output_type": "stream",
     "text": [
      "1\n"
     ]
    }
   ],
   "source": [
    "# Wywołanie zmiennej.\n",
    "print(x) # używasz zadeklarowanej zmiennej x w funkcji print().\n",
    "# print(x) drukuje (wyświetla w terminalu) zmienną 'x'"
   ]
  },
  {
   "cell_type": "markdown",
   "id": "61f41538",
   "metadata": {},
   "source": [
    "# 3. Wywołanie niezadeklarowanej zmiennej.\n",
    "\n",
    "Zawsze skończy się błędem."
   ]
  },
  {
   "cell_type": "code",
   "execution_count": 3,
   "id": "d6f3f0a6",
   "metadata": {},
   "outputs": [
    {
     "ename": "NameError",
     "evalue": "name 'f' is not defined",
     "output_type": "error",
     "traceback": [
      "\u001b[1;31m---------------------------------------------------------------------------\u001b[0m",
      "\u001b[1;31mNameError\u001b[0m                                 Traceback (most recent call last)",
      "\u001b[1;32m~\\AppData\\Local\\Temp/ipykernel_6216/3301988850.py\u001b[0m in \u001b[0;36m<module>\u001b[1;34m\u001b[0m\n\u001b[0;32m      5\u001b[0m \u001b[1;31m# Oto nasz niemy bohater 'f'. Wywołajmy go, a otrzymamy\u001b[0m\u001b[1;33m\u001b[0m\u001b[1;33m\u001b[0m\u001b[0m\n\u001b[0;32m      6\u001b[0m \u001b[1;31m# poniższy bład.\u001b[0m\u001b[1;33m\u001b[0m\u001b[1;33m\u001b[0m\u001b[0m\n\u001b[1;32m----> 7\u001b[1;33m \u001b[0mprint\u001b[0m\u001b[1;33m(\u001b[0m\u001b[0mf\u001b[0m\u001b[1;33m)\u001b[0m \u001b[1;31m# teraz wyhaszuj tę linię. (ustaw \"#\" na początku linii).\u001b[0m\u001b[1;33m\u001b[0m\u001b[1;33m\u001b[0m\u001b[0m\n\u001b[0m\u001b[0;32m      8\u001b[0m \u001b[1;31m# i kliknij znów shift+enter.\u001b[0m\u001b[1;33m\u001b[0m\u001b[1;33m\u001b[0m\u001b[0m\n\u001b[0;32m      9\u001b[0m \u001b[0mf\u001b[0m \u001b[1;33m=\u001b[0m \u001b[1;36m1\u001b[0m \u001b[1;31m# pierwsze użycie i nadanie wartości f\u001b[0m\u001b[1;33m\u001b[0m\u001b[1;33m\u001b[0m\u001b[0m\n",
      "\u001b[1;31mNameError\u001b[0m: name 'f' is not defined"
     ]
    }
   ],
   "source": [
    "# Nie można wywołać niezadeklarowanej zmiennej.\n",
    "# Zmienna f jest niezadeklarowana, czyli \n",
    "# nigdy nic nie było jej do tej pory przypisane.\n",
    "# Wręcz więcej – nie była nawet użyta. \n",
    "# Oto nasz niemy bohater 'f'. Wywołajmy go, a otrzymamy \n",
    "# poniższy bład. \n",
    "print(f) # teraz wyhaszuj tę linię. (ustaw \"#\" na początku linii).\n",
    "# i kliknij znów shift+enter.\n",
    "f = 1 # pierwsze użycie i nadanie wartości f\n",
    "print(f) # poprawne użycie f -  po nadaniu mu wartości."
   ]
  },
  {
   "cell_type": "markdown",
   "id": "e7426a04",
   "metadata": {},
   "source": [
    "# 4. Nadpisanie zmiennej."
   ]
  },
  {
   "cell_type": "code",
   "execution_count": null,
   "id": "1ffa4ced",
   "metadata": {},
   "outputs": [],
   "source": [
    "# Zmiana zmiennej w programie.\n",
    "x = 1 # x to 1\n",
    "x = 2 # x to 2\n",
    "print(x) # drukuje \"2\"\n",
    "x = 3 # x to 3\n",
    "print(x) # drukuje \"3\""
   ]
  },
  {
   "cell_type": "markdown",
   "id": "91038dbe",
   "metadata": {},
   "source": [
    "# 5. Definicja wielu zmiennych za jednym razem.\n",
    "\n",
    "Można deklarować po 2, 3 i więcej zmiennych w jednej linii."
   ]
  },
  {
   "cell_type": "code",
   "execution_count": 8,
   "id": "b43a6c5b",
   "metadata": {},
   "outputs": [
    {
     "name": "stdout",
     "output_type": "stream",
     "text": [
      "3 zdefiniowane zmienne a, b, c mają wartości: 1 2 3\n"
     ]
    }
   ],
   "source": [
    "a, b, c = 1, 2, 3\n",
    "\n",
    "print('3 zdefiniowane zmienne a, b, c mają wartości:', a, b, c)"
   ]
  },
  {
   "cell_type": "markdown",
   "id": "9e51b943",
   "metadata": {},
   "source": [
    "# 6. Jak nazwać zmienną?\n",
    "\n",
    "Zasady nazywania zmiennej (podobne do zasad nazywania plików, funkcji, klas): \n",
    "- bez spacji i znaków specjalnych;\n",
    "- zamiast spacji używaj \"_\", np.: zamiast _nazwa zmiennej_ użyj: _nazwa_zmiennej_;\n",
    "- zazwyczaj z małej litery (w przeciwieństwie do klas);\n",
    "- jeżeli piszesz oficjalny kod, to raczej nazywaj zmienne po angielsku; jeśli piszesz kod w ramach nauki, to nazywaj zmienne tak, jak chcesz – by były czytelne podczas nauki;\n",
    "- nazwij tak, abyś Ty za 2 tygodnie (i każdy inny, kto pierwszy raz patrzy na Twój kod) wiedział, o co Ci chodzi; nazywasz listę ryb? nazwij ją _fish_list_; nazywasz zmienną, która coś zlicza? być może _counter_ to dobra nazwa.\n",
    "\n",
    "**Przykłady nazywania zmiennych: świetne, dobre i złe i najgorsze.**\n",
    "\n",
    "\n",
    "**Najlepsze**:"
   ]
  },
  {
   "cell_type": "code",
   "execution_count": null,
   "id": "94763b1c",
   "metadata": {},
   "outputs": [],
   "source": [
    "licznik = 0 # Wiadomo od razu, co ta zmienna robi. Zlicza.\n",
    "counter = 0 # Counter to po angielsku „licznik”. Angielski to język, w którym mówi najwęcej programistów, więc w nim staramy się nazywać zmienne. Od tej reguły istnieją wyjątki: gdy robimy to dla ćwiczeń, nauki, piszemy na brudno, na szybko, szkicujemy lub - robimy to świadomie.\n",
    "zdanie = \"Ala ma kota\" # Super, od razu wiadomo, że to zdanie.\n",
    "n_osob = 2 # N_osob czyli liczba osób. Od razu wiadomo, czego ta zmienna dotyczy.\n",
    "lista_liter = 3 # Od razu wiadomo, co to za typ (lista) i z czego się składa. Super!\n",
    "i, j, l, c = 0, 0, 0, 0 # i, c - bardzo często stosowane nazwy zmiennych\n"
   ]
  },
  {
   "cell_type": "markdown",
   "id": "03c5b2c2",
   "metadata": {},
   "source": [
    "\n",
    "**Dobre**:"
   ]
  },
  {
   "cell_type": "code",
   "execution_count": null,
   "id": "c2a343fc",
   "metadata": {},
   "outputs": [],
   "source": [
    "x = 1 # Dobrze, chociaż niedobrze, bo nazwa nic nie mówi. Dopuszczalne i użyteczne, gdy się śpieszysz.\n",
    "abc = 1 # Jak wyżej.\n",
    "to_jest_zmienna = 1 # Lepiej\n",
    "tojestzmienna = 1 # Gorzej\n",
    "HERE = 'tutaj' # Duże litery. Czasem ok, ale tylko wtedy, gdy nie jest nadużywane.\n",
    "to_zmienna_1 = 1 # Super.\n"
   ]
  },
  {
   "cell_type": "markdown",
   "id": "938dc4fb",
   "metadata": {},
   "source": [
    "\n",
    "**Złe**:"
   ]
  },
  {
   "cell_type": "code",
   "execution_count": null,
   "id": "e42a8d91",
   "metadata": {},
   "outputs": [],
   "source": [
    "tojestbardzodluganazwazmiennejbochceopisacdobrzecotorobi = 1 # Za długie, nieczytelne. Lepiej oddzielić słowa znakiem \"_\" i skrócić.\n",
    "ALAMAKOTA = 1 # Czasem ok, ale zwykle nie ma potrzeby używać uppercase (czyli dużych liter).\n",
    "alaMaKota = 1 # Niewłaściwy styl\n",
    "AlaMaKota = 1 # Niewłaściwy styl\n",
    "To_Jest_Zmienna = 1 # Niewłaściwy styl\n",
    "tO_jesT_zmiennA = 1 # Niewłaściwy styl\n",
    "to_Jest_Zmienna = 1 # Niewłaściwy styl\n",
    "aBc = 1 # Niewłaściwy styl\n",
    "abC = 1 # Niewłaściwy styl"
   ]
  },
  {
   "cell_type": "markdown",
   "id": "3a63c16e",
   "metadata": {},
   "source": [
    "\n",
    "**Krytycznie źle (nie zadziała):**"
   ]
  },
  {
   "cell_type": "code",
   "execution_count": 12,
   "id": "f480d1cf",
   "metadata": {},
   "outputs": [],
   "source": [
    "to zmienna = 1 # Spacja - kod nie zadziała!\n",
    "1_to_zmienna = 1 # Zaczyna się od cyfry - kod nie zadziała!\n",
    "zmienn@ = 2 # Zawiera znak specjalny inny niż \"_\" - kod nie zadziała!\n",
    "_zmienna = 1 # tak się oznacza specjalne zmienne. O tym później."
   ]
  },
  {
   "cell_type": "markdown",
   "id": "7fb81f61",
   "metadata": {},
   "source": [
    "**Konwencje**:\n",
    "\n",
    "O tym jeszcze wkrótce powiem więcej. Zmienne to konwencje, czyli takie umowy między zespołem programistów na temat tego, jak chcemy pisać kod i jakich zasad chcemy wspólnie przestrzegać. Przykłady ciekawych konwencji:\n",
    "\n",
    "1. Kiedy zmienna nie będzie używana poza szybką dekaracją wewnątrz pętli (omówimy pętle za ok. 10 klocków) nazywamy ją w określony sposób np. pojedyńczy podkreślnik _ co wyglądało by np. tak: (for _ in range(10)).\n",
    "2. Gdy używamy nazw po polsku, dopuszczamy polskie znaki (Python je dopuszcza)."
   ]
  },
  {
   "cell_type": "markdown",
   "id": "793ea48b",
   "metadata": {},
   "source": [
    "# 7. Gdzie zmienna jest dostępna?\n",
    "\n",
    "Gdybyś otworzył drugi plik, to wewnątrz niego zmienna x (obecnie równa 3) jest niedostępna. Możesz sprawdzić: otwórz drugi plik np. _zmienna.py_ i napisz w nim \"print(x)\". \n",
    "\n",
    "### Doczytałeś tutaj i jesteś początkujący? Rzuć okiem na zadanie i leć dalej.\n"
   ]
  },
  {
   "cell_type": "markdown",
   "id": "2cbafdeb",
   "metadata": {},
   "source": [
    "# Zadanie\n",
    "1. Zadeklaruj poniżej zmienną _\"f\"_ i przypisz jej wartość 10.\n",
    "2. Wywołaj zadeklarowaną zmienną umieszczając ją jako argument w funkcji print()"
   ]
  },
  {
   "cell_type": "code",
   "execution_count": 1,
   "id": "d8a54c0b",
   "metadata": {},
   "outputs": [
    {
     "name": "stdout",
     "output_type": "stream",
     "text": [
      "11\n"
     ]
    }
   ],
   "source": [
    "# Przykład:\n",
    "m = 11\n",
    "print(m)"
   ]
  },
  {
   "cell_type": "code",
   "execution_count": null,
   "id": "5a743a1a",
   "metadata": {},
   "outputs": [],
   "source": [
    "# Twoje rozwiązanie:\n",
    "\n"
   ]
  },
  {
   "cell_type": "markdown",
   "id": "d6ffb687",
   "metadata": {},
   "source": [
    "# Level 2\n",
    "\n",
    "Zmienna może być także niedostępna pomiedzy funkcjami i klasami. O tym będziemy mówić przy okazji funkcji i klas. \n",
    "\n",
    "Wtedy też namieszam Ci też czymś takim jak zmienna lokalna i globalna, zmienne środowiskowe i wszelakie pliki oraz inne miejsca, gdzie dodatkowo możemy przechowywać zmienn, którą użyjemy w programie.\n",
    "\n",
    "1. Zmienne pomiędzy różnymi funkcjami.\n",
    "2. Zmienne pomiędzy różnymi klasami.\n",
    "3. Zmienna globalna i lokalna.\n",
    "4. Zmienna środowiskowa.\n",
    "5. Miejsca, pliki w których trzymamy często zmienne.\n",
    "\n",
    "Opiszę to później."
   ]
  },
  {
   "cell_type": "markdown",
   "id": "b74acc00",
   "metadata": {},
   "source": [
    "## Inne / notatki / pomysły\n",
    "\n",
    "To chyba tyle. Jak coś jeszcze wynajdę, to tutaj dodam."
   ]
  }
 ],
 "metadata": {
  "kernelspec": {
   "display_name": "Python 3 (ipykernel)",
   "language": "python",
   "name": "python3"
  },
  "language_info": {
   "codemirror_mode": {
    "name": "ipython",
    "version": 3
   },
   "file_extension": ".py",
   "mimetype": "text/x-python",
   "name": "python",
   "nbconvert_exporter": "python",
   "pygments_lexer": "ipython3",
   "version": "3.9.7"
  }
 },
 "nbformat": 4,
 "nbformat_minor": 5
}
