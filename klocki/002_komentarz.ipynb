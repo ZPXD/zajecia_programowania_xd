{
 "cells": [
  {
   "cell_type": "markdown",
   "id": "df025880",
   "metadata": {},
   "source": [
    "# #002 - Komentarz\n",
    "\n",
    "Dobry komentarz wart jest 1000 google searchów.\n"
   ]
  },
  {
   "cell_type": "markdown",
   "id": "7b78e30d",
   "metadata": {},
   "source": [
    "# Komentarz"
   ]
  },
  {
   "cell_type": "code",
   "execution_count": 11,
   "id": "cd6bbc1e",
   "metadata": {},
   "outputs": [
    {
     "name": "stdout",
     "output_type": "stream",
     "text": [
      "2\n"
     ]
    }
   ],
   "source": [
    "# To jest komentarz. komentarz to wszystko co\n",
    "# zaczyna się od znaku \"#\" ('haszu').\n",
    "print(2)\n",
    "# komentarz sprawia, że kod daje się \"wykonać\" czyli działa,\n",
    "# a nie zatrzymuje się na tekście jak zobaczysz zaraz\n",
    "# w linii poniżej."
   ]
  },
  {
   "cell_type": "code",
   "execution_count": 12,
   "id": "6446aaff",
   "metadata": {},
   "outputs": [
    {
     "ename": "SyntaxError",
     "evalue": "invalid syntax (1454262542.py, line 1)",
     "output_type": "error",
     "traceback": [
      "\u001b[0;36m  File \u001b[0;32m\"/tmp/ipykernel_784801/1454262542.py\"\u001b[0;36m, line \u001b[0;32m1\u001b[0m\n\u001b[0;31m    np to nie jest komentarz.\u001b[0m\n\u001b[0m       ^\u001b[0m\n\u001b[0;31mSyntaxError\u001b[0m\u001b[0;31m:\u001b[0m invalid syntax\n"
     ]
    }
   ],
   "source": [
    "np to nie jest komentarz. \n",
    "ani to\n",
    "Odpal tę komórkę. Będzie błąd do póki nie wyhaszujesz tej linii. \n",
    "i kazdej innej ze slowami niebędącymi\n",
    "przez pythona zrozumiałymi \n",
    "a wrzucone są tutaj bez hasza ani innego wykomentowania\n",
    "Zrób to, \n",
    "dodaj jako 1szy znak kazdej limii powyzej '#' a program zadziała.\n",
    "# jeszcze raz przyklad jak to powinno wygladac.\n",
    "# zrob tak z powyzszymi liniami a blad zniknie i wydrukuje sie 2\n",
    "print(2)"
   ]
  },
  {
   "cell_type": "code",
   "execution_count": 13,
   "id": "2006eb6e",
   "metadata": {},
   "outputs": [
    {
     "name": "stdout",
     "output_type": "stream",
     "text": [
      "2\n",
      "2\n"
     ]
    }
   ],
   "source": [
    "print(2) # taki komentarz też pozwala kodowi działać.\n",
    "print(2) # zarówno kodowi po lewej jak i na dole."
   ]
  },
  {
   "cell_type": "code",
   "execution_count": 14,
   "id": "163850d6",
   "metadata": {},
   "outputs": [
    {
     "name": "stdout",
     "output_type": "stream",
     "text": [
      "1\n",
      "10\n",
      "100\n"
     ]
    }
   ],
   "source": [
    "# Bardziej skomplikowany kod komentuje się linia po linii.\n",
    "\n",
    "# Wydrukuj 1.\n",
    "print(1)\n",
    "# Wydrukuj 10\n",
    "print(10)\n",
    "# Wydrukuj 100\n",
    "print(100)"
   ]
  },
  {
   "cell_type": "code",
   "execution_count": 15,
   "id": "a6ab5283",
   "metadata": {},
   "outputs": [
    {
     "name": "stdout",
     "output_type": "stream",
     "text": [
      "skomplikowany kod\n",
      "skomplikowany kod 2\n"
     ]
    }
   ],
   "source": [
    "# Jeżeli kod jest skomplikowany, bywa, że komentuje się go\n",
    "# w kilku liniach, nad nim.\n",
    "# dwóch a czasem trzech. \n",
    "print('skomplikowany kod')\n",
    "\n",
    "'''\n",
    "Ale wieloliniowy komentarz może\n",
    "wyglądać też tak, zaczynać i kończyć się na 3 apostrofach lub cudzysłowiach\n",
    "i wtedy zajmuje więcej niż 1 linię.\n",
    "'''\n",
    "\n",
    "print('skomplikowany kod 2')"
   ]
  },
  {
   "cell_type": "markdown",
   "id": "d0945d98",
   "metadata": {},
   "source": [
    "#### Komentarzy używamy między innymi aby:\n",
    "1. Opisać jak działa dany kawałek kodu.\n",
    "2. Opisać sekwencję krok po kroku.\n",
    "3. Napisać wprowadzenie do kodu, na górze pliku.\n",
    "4. Dokonać szybkiej modyfikacji kodu i testu po zmianie \"wycinając\" jedną z linii pisząc na jej początku \"#\"\n",
    "5. Zrobić opis tego co jest do zaprogramowania w przyszłości, albo nawet listę rzeczy do zrobienia.\n"
   ]
  },
  {
   "cell_type": "markdown",
   "id": "5b613bcb",
   "metadata": {},
   "source": [
    "## Inne / notatki / pomysły\n",
    "\n",
    "To chyba tyle. Jak coś jeszcze wynajdę to tutaj dodam."
   ]
  }
 ],
 "metadata": {
  "kernelspec": {
   "display_name": "Python 3 (ipykernel)",
   "language": "python",
   "name": "python3"
  },
  "language_info": {
   "codemirror_mode": {
    "name": "ipython",
    "version": 3
   },
   "file_extension": ".py",
   "mimetype": "text/x-python",
   "name": "python",
   "nbconvert_exporter": "python",
   "pygments_lexer": "ipython3",
   "version": "3.8.10"
  }
 },
 "nbformat": 4,
 "nbformat_minor": 5
}
