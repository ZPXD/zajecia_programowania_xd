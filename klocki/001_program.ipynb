{
 "cells": [
  {
   "cell_type": "markdown",
   "id": "37cb1643",
   "metadata": {},
   "source": [
    "# #001 - Program\n",
    "\n",
    "Program jaki jest każdy widzi.\n",
    "\n",
    "### Spis treści:\n",
    "\n",
    "#### Level 1\n",
    "1. Przykładowy program\n",
    "4. Odpalanie programu - w Jupyterze\n",
    "5. Odpalanie programu - w Terminalu\n",
    "6. Jupyter - jeszcze kilka uwag\n",
    "7. Jak stworzyć nowy plik z programem (i jak go nazwać?)\n",
    "8. Inne\n",
    "9. Ćwiczenia\n",
    "\n",
    "#### Level 2\n",
    "1. Odpalanie programu z innego programu\n",
    "2. Zapisanie efektu działania programu jako plik.\n",
    "3. Odpalenie programu \"W tle\"\n",
    "4. Odpalanie programu z innego działającego programu\n",
    "5. Odpalanie programu będącego w komórce notatnika jupyter notebooka z innego pliku\n"
   ]
  },
  {
   "cell_type": "markdown",
   "id": "07270554",
   "metadata": {},
   "source": [
    "# Zanim zaczniesz naukę\n",
    "\n",
    "\n",
    "### Zdobądź Jupytera, gita i VSCode do pracy z kodem\n",
    "\n",
    "Aby przygotować wszystko co jest potrzebne do rozpoczęcia nauki programowania w **Python 3** (i to w prawdziwym internetowym środowisku) powstał **[Szturm na AWS - serwer ze wsparciem](https://discord.gg/zyY3mpW4)** wraz z opisem **[jak przejść 10 etapów szturmu](https://github.com/ZPXD/flaga)**.\n",
    "\n",
    "### Czego potrzeba do rozpoczęcia nauki? Sprawdź tutaj:\n",
    "\n",
    "[klocki/README.md](https://github.com/ZPXD/zajecia_programowania_xd/tree/main/klocki)\n",
    "\n",
    "\n",
    "\n",
    "# Masz wszystko i wiesz jak się uczyć? Na pewno? Zaczynajmy."
   ]
  },
  {
   "cell_type": "markdown",
   "id": "055d7e8b",
   "metadata": {},
   "source": [
    "\n",
    "# Level 1"
   ]
  },
  {
   "cell_type": "markdown",
   "id": "a9f8f7a2",
   "metadata": {},
   "source": [
    "Poczytaj o języku Python na głównej stronie Pythona [Python 3](https://www.python.org/)."
   ]
  },
  {
   "cell_type": "markdown",
   "id": "f36110a8",
   "metadata": {},
   "source": [
    "## 1. Pierwszy program\n",
    "\n",
    "\n",
    "Jesteś w zeszycie Jupytera. Jeżeli masz przygotowane wszystko czego potrzeba do nauki, to możesz odpalać programy pythonowe tutaj lub np. w zeszycie do ćwiczeń. \n",
    "\n",
    "W komórce niżej jest dwuliniowy program napisany w języku Python 3. \n",
    "\n",
    "Pokaże wartość jaką przypiszesz po znaku = (równa się) do `zmienna = `.\n",
    "\n",
    "Kliknij w nią i naciśnij **shift+enter**. "
   ]
  },
  {
   "cell_type": "code",
   "execution_count": 20,
   "id": "f9543468",
   "metadata": {},
   "outputs": [
    {
     "name": "stdout",
     "output_type": "stream",
     "text": [
      "Twój program zadziałał xD witamy na pokładzie.\n"
     ]
    }
   ],
   "source": [
    "zmienna = 'xD'\n",
    "print('Twój program zadziałał', zmienna, 'witamy na pokładzie.')"
   ]
  },
  {
   "cell_type": "markdown",
   "id": "5e15777d",
   "metadata": {},
   "source": [
    "Drugi program. W 1 linijce poniżej jest kod, który pokaże wartość zmiennej 10 razy:"
   ]
  },
  {
   "cell_type": "code",
   "execution_count": 68,
   "id": "25eeee6c",
   "metadata": {},
   "outputs": [
    {
     "data": {
      "text/plain": [
       "'xDxDxDxDxDxDxDxDxDxD'"
      ]
     },
     "execution_count": 68,
     "metadata": {},
     "output_type": "execute_result"
    }
   ],
   "source": [
    "zmienna*10"
   ]
  },
  {
   "cell_type": "markdown",
   "id": "c14eb447",
   "metadata": {},
   "source": [
    "Kolejny krótki program. Sprawdź typ zmiennej:"
   ]
  },
  {
   "cell_type": "code",
   "execution_count": 65,
   "id": "98158a63",
   "metadata": {},
   "outputs": [
    {
     "data": {
      "text/plain": [
       "str"
      ]
     },
     "execution_count": 65,
     "metadata": {},
     "output_type": "execute_result"
    }
   ],
   "source": [
    "type(zmienna)"
   ]
  },
  {
   "cell_type": "markdown",
   "id": "5ff037f4",
   "metadata": {},
   "source": [
    "`str` to string czyli dane tekstowe."
   ]
  },
  {
   "cell_type": "markdown",
   "id": "7afcb9ee",
   "metadata": {},
   "source": [
    "## Modyfikuj kod - nauczysz się szybciej\n",
    "\n",
    "**Kod śmiało możesz modyfikować.**\n",
    "\n",
    "Pobaw się treścią zmiennej x w pierwszej linii kodu poniżej\n",
    "\n",
    "(zmień napis przypisany do x, po znaku równa się, między apostrofami w pierwszej linii). \n",
    "\n",
    "Zmieniaj treść i ponownie odpalaj program **shift+enter**. "
   ]
  },
  {
   "cell_type": "code",
   "execution_count": 43,
   "id": "0eaebb79",
   "metadata": {},
   "outputs": [
    {
     "name": "stdout",
     "output_type": "stream",
     "text": [
      "Twój napis ma 12 znaków.\n"
     ]
    }
   ],
   "source": [
    "x = 'Ala ma kota.'\n",
    "\n",
    "print('Twój napis ma', len(x), 'znaków.')"
   ]
  },
  {
   "cell_type": "markdown",
   "id": "36a83752",
   "metadata": {},
   "source": [
    "**Dostępność pomiędzy komórkami.**\n",
    "\n",
    "A to co wypiszesz w jednej komórce jako zmienną lub funkcję, jest też dostępne w komórce poniżej – o ile pierwsza komórka zostanie odpalona. \n",
    "\n",
    "Zobacz sam - x to nadal 10:"
   ]
  },
  {
   "cell_type": "code",
   "execution_count": 41,
   "id": "88940e53",
   "metadata": {},
   "outputs": [],
   "source": [
    "x = 10"
   ]
  },
  {
   "cell_type": "code",
   "execution_count": 42,
   "id": "d31075f5",
   "metadata": {
    "scrolled": true
   },
   "outputs": [
    {
     "name": "stdout",
     "output_type": "stream",
     "text": [
      "10\n"
     ]
    }
   ],
   "source": [
    "print(x)"
   ]
  },
  {
   "cell_type": "markdown",
   "id": "de7d88d3",
   "metadata": {},
   "source": [
    "## 2. Odpalanie programu w Python3 w terminalu\n",
    "\n",
    "To w skrócie komenda **python3** + nazwa programu, np:\n",
    "\n",
    "Upewnij się, że jesteś w folderze z klockami. Sprawdzisz w jakim folderze jesteś dzięki:\n",
    "```\n",
    "pwd\n",
    "```\n",
    "\n",
    "Jeżeli to nie wskazuje na miejsce folderu z zajęciami programowania xd, wpisz kolejno:\n",
    "```\n",
    "cd\n",
    "cd zajecia_programowania_xd/klocki\n",
    "```\n",
    "\n",
    "i znów\n",
    "\n",
    "```\n",
    "pwd\n",
    "```\n",
    "\n",
    "Tym razem powinno wskazywać miejsce z klockami."
   ]
  },
  {
   "cell_type": "markdown",
   "id": "cb60eab0",
   "metadata": {},
   "source": [
    "#### Odpal program w terminalu"
   ]
  },
  {
   "cell_type": "code",
   "execution_count": null,
   "id": "1a26f5ef",
   "metadata": {},
   "outputs": [],
   "source": [
    "python3 program.py"
   ]
  },
  {
   "cell_type": "markdown",
   "id": "93644eeb",
   "metadata": {},
   "source": [
    "#### Path czyli ścieżka \n",
    "\n",
    "Tak nazywamy argument, który wskazuje na miejsce folderu lub pliku na komputerze np.\n",
    "```\n",
    "/home/ja\n",
    "```\n",
    "\n",
    "To Twój folder domowy użytkownika `ja` na komputerze. Ty będziesz tam miał oczywiście swoje imię lub inną nazwę. Inne przykłady ścieżek na Twoim serwerze ze Szturmu na AWS:\n",
    "```\n",
    "/var/www/flaga\n",
    "/root/backup\n",
    "/home/ubuntu\n",
    "```\n",
    "\n",
    "Wszystkie zaczynają się od `/`. Taka ścieżka to ścieżka \"od początku\", bo zaczyna się od folderu na samym początku. \n",
    "\n",
    "\n",
    "Można jednak używać zapisu bez ścieżki bezwzględnej, jeżeli odnosisz się do folderu lub pliku znajdującego się w Twoim folderze, lub w folderze wewnątrz niego (itd). Wejdź do folderu domowego\n",
    "\n",
    "\n",
    "```\n",
    "cd\n",
    "```\n",
    "\n",
    "Następnie użyj komendy cd podając ścieżkę od momentu gdzie jesteś:\n",
    "\n",
    "`cd zajecia_programowania_xd/klocki`\n",
    "\n",
    "Zadziała tak samo jak pełna ścieżka - ponieważ folder, w którym polecenie zostało wykonane zawierał folder, od którego zaczynało się podanie ścieżki - czyli `zajecia_programowania_xd`.\n",
    "\n",
    "\n",
    "\n",
    "Powtórzmy odpalanie programów:"
   ]
  },
  {
   "cell_type": "markdown",
   "id": "7718dc44",
   "metadata": {},
   "source": [
    "#### Odpal program (będąc w folderze, w którym on jest)"
   ]
  },
  {
   "cell_type": "markdown",
   "id": "153645d5",
   "metadata": {},
   "source": [
    "```\n",
    "python3 program.py\n",
    "```"
   ]
  },
  {
   "cell_type": "markdown",
   "id": "f5709690",
   "metadata": {},
   "source": [
    "#### Odpal program będąc w folderze, w którym jest folder zawierający program"
   ]
  },
  {
   "cell_type": "markdown",
   "id": "bd62a0ff",
   "metadata": {},
   "source": [
    "```\n",
    "cd\n",
    "python3 zajecia_programowania/klocki/program.py\n",
    "```"
   ]
  },
  {
   "cell_type": "markdown",
   "id": "9c67fc19",
   "metadata": {},
   "source": [
    "#### Odpal program - nieważne w jakim folderze jesteś - dzięki pełnej ścieżce od znaku `/` - tzw. \"slash\"."
   ]
  },
  {
   "cell_type": "markdown",
   "id": "dd5044d5",
   "metadata": {},
   "source": [
    "```\n",
    "python3 /home/ja/zajecia_programowania_xd/klocki/program.py\n",
    "```"
   ]
  },
  {
   "cell_type": "markdown",
   "id": "5cc59d3b",
   "metadata": {},
   "source": [
    "**Przeanalizujmy komendę uruchamiającą program**"
   ]
  },
  {
   "cell_type": "code",
   "execution_count": null,
   "id": "763cb661",
   "metadata": {},
   "outputs": [],
   "source": [
    "python3 program.py"
   ]
  },
  {
   "cell_type": "markdown",
   "id": "86fc9fc7",
   "metadata": {},
   "source": [
    "\n",
    "\n",
    "- **python3** - uruchamia program napisany w Python3.\n",
    "- **nazwa_programu.py** - nazwa pliku (programu), który jest uruchamiany.\n",
    "- **.py** - plik skryptu w języku Python zawsze ma końcówkę .py - podobnie pliki javascript mają tam \".js\".\n"
   ]
  },
  {
   "cell_type": "markdown",
   "id": "e6458382",
   "metadata": {},
   "source": [
    "Ścieżki nie podajesz od \"początku\" więc nie musisz zaczynać jej od \"/\"."
   ]
  },
  {
   "cell_type": "markdown",
   "id": "d25ebdd1",
   "metadata": {},
   "source": [
    "## Odpalanie programów `.py` w Jupyterze\n",
    "\n",
    "Zachodzi tak samo jak w terminalu, ale z wykrzyknikiem na początku:"
   ]
  },
  {
   "cell_type": "code",
   "execution_count": 50,
   "id": "bf961363",
   "metadata": {},
   "outputs": [
    {
     "name": "stdout",
     "output_type": "stream",
     "text": [
      "Twój program zadziałał xD witamy na pokładzie.\r\n"
     ]
    }
   ],
   "source": [
    "!python3 program.py"
   ]
  },
  {
   "cell_type": "markdown",
   "id": "287466c4",
   "metadata": {},
   "source": [
    "#### Inne Linuxowe komendy w Jupyterze\n",
    "\n",
    "Napisze Ci w jakiej lokalizacji jesteś w linuxie. "
   ]
  },
  {
   "cell_type": "code",
   "execution_count": 52,
   "id": "ab9bb7bb",
   "metadata": {},
   "outputs": [
    {
     "data": {
      "text/plain": [
       "'/home/luke/zajecia_programowania_xd/klocki'"
      ]
     },
     "execution_count": 52,
     "metadata": {},
     "output_type": "execute_result"
    }
   ],
   "source": [
    "pwd"
   ]
  },
  {
   "cell_type": "markdown",
   "id": "e9cbc58b",
   "metadata": {},
   "source": [
    "**Spróbuj: ls -la** \n",
    "\n",
    "Wylistuje Ci pliki w **folderze, w którym jesteś**."
   ]
  },
  {
   "cell_type": "markdown",
   "id": "4de92f26",
   "metadata": {},
   "source": [
    "Na początek starczy. \n",
    "\n",
    "Jeżeli chcesz lepiej poruszać się po Linuksie, poznać i łatwo stosować więcej komend oraz lepiej poznać system, wejdź na link, który tu będzie w przyszłości."
   ]
  },
  {
   "cell_type": "markdown",
   "id": "a21f9b92",
   "metadata": {},
   "source": [
    "## Jak utworzyć program?\n",
    "\n",
    "W VSCode otwórz nowy plik i zapisz go z rozszerzeniem `.py` tzn. `nazwa.py`. "
   ]
  },
  {
   "cell_type": "markdown",
   "id": "acf29f1a",
   "metadata": {},
   "source": [
    "## Jak nazywać programy?\n",
    "\n",
    "- zacznij od litery (i raczej trzymaj się małych liter)\n",
    "- nazwa programu nie może zawierać spacji - zamiast nich użyj '_' (rzadziej używa się `-`)\n",
    "- raczej nie używaj znaków specjalnych\n",
    "\n",
    "Poza tym panuje spora dowolność."
   ]
  },
  {
   "cell_type": "markdown",
   "id": "f6a1692c",
   "metadata": {},
   "source": [
    "## Funkcja help()"
   ]
  },
  {
   "cell_type": "code",
   "execution_count": null,
   "id": "a07b445d",
   "metadata": {},
   "outputs": [],
   "source": [
    "help()"
   ]
  },
  {
   "cell_type": "markdown",
   "id": "e73c3dff",
   "metadata": {},
   "source": [
    "**Interesuje Cię jakaś część kodu pythona (np. nazwa funkcji)?** \n",
    "\n",
    "Umieść coś jako argument funkcji help() - między nawiasami. Zobaczysz wtedy techniczny opis."
   ]
  },
  {
   "cell_type": "code",
   "execution_count": null,
   "id": "42b7b1c3",
   "metadata": {},
   "outputs": [],
   "source": [
    "help( print)"
   ]
  },
  {
   "cell_type": "markdown",
   "id": "4f6ba5c2",
   "metadata": {},
   "source": [
    "### Ćwiczenia\n",
    "\n",
    "1. Uruchom program.py  jeszcze kilka razy dla wprawy :))))\n",
    "2. Dodaj do programu program.py jeszcze jedną linię kodu chociażby `print('xD 2')\n",
    "3. Stwórz nowy program o nazwie moj_program.py. W programie wykorzystaj poznaną wcześniej funkcję print(;wpisz tu cos od siebie') ale jako jej argument, wstaw 'cos od siebie' i uruchom go.\n",
    "\n",
    "Jeżeli coś Ci nie idzie, leć na dział #pomoc na discordzie. Pomożemy Ci."
   ]
  },
  {
   "cell_type": "markdown",
   "id": "f05e132a",
   "metadata": {},
   "source": [
    "\n",
    "## O ile nie wymiatasz, to tyle. Leć dalej do kolejnego klocka\n",
    "\n",
    "Jeżeli dopiero zaczynasz przygodę z programowaniem albo jesteś tu pierwszy raz, to ten materiał to wszystko czego na razie Ci trzeba. Przejdź do kolejnego klocka :)\n",
    "\n",
    "#### Ale jak ogarniesz już kilka / kilkanaście klocków to zobacz\n",
    "\n",
    "\n",
    "# Level 2"
   ]
  },
  {
   "cell_type": "markdown",
   "id": "49c2e190",
   "metadata": {},
   "source": [
    "### 1. Zapisanie efektu działania programu jako plik\n",
    "\n",
    "Odpal program jak zawsze, ale dalej dodaj dziubek `>` i nazwę (lub ścieżkę) do pliku, w którym chcesz zapisać efekt działania programu. \n",
    "\n",
    "Zapisz tekstowy (widoczny w terminalu) rezultat działania programu do pliku `wynik_programu.txt`:"
   ]
  },
  {
   "cell_type": "code",
   "execution_count": 73,
   "id": "8b0bc5da",
   "metadata": {},
   "outputs": [],
   "source": [
    "python3 program.py > wynik_programu.txt"
   ]
  },
  {
   "cell_type": "markdown",
   "id": "4ecd702f",
   "metadata": {},
   "source": [
    "i wyświetl zawartość nowo-utworzonego pliku:"
   ]
  },
  {
   "cell_type": "markdown",
   "id": "0554dae2",
   "metadata": {},
   "source": [
    "cat wynik_programu.txt"
   ]
  },
  {
   "cell_type": "markdown",
   "id": "792eea88",
   "metadata": {},
   "source": [
    "### 2. Odpalenie programu \"w tle\"\n",
    "\n",
    "Po nazwie programu `program.py` dodaj `&&`. Program odpali się w tle. To oznacza też, że to co zwraca (np. wyświetla na ekranie podczas pracy) nie będzie widoczne. Pamiętaj o tych programach, bo łatwo natworzyć sobie kilka takich i zapomnieć. \n",
    "\n",
    "#### Odpal program w tle"
   ]
  },
  {
   "cell_type": "code",
   "execution_count": null,
   "id": "a83b2167",
   "metadata": {},
   "outputs": [],
   "source": [
    "python3 program.py &&"
   ]
  },
  {
   "cell_type": "markdown",
   "id": "de9c74c1",
   "metadata": {},
   "source": [
    "#### Zamknij program odpalony w tle\n",
    "\n",
    "Poznaj jego kod PID wpisując w terminalu komendę:"
   ]
  },
  {
   "cell_type": "code",
   "execution_count": null,
   "id": "c3d8a2d5",
   "metadata": {},
   "outputs": [],
   "source": [
    "ps aux | grep 'nazwa_programu.py'"
   ]
  },
  {
   "cell_type": "markdown",
   "id": "18363a18",
   "metadata": {},
   "source": [
    "Druga pozycja powinna być numerem \"PID\""
   ]
  },
  {
   "cell_type": "markdown",
   "id": "51d9d3e7",
   "metadata": {},
   "source": [
    "Np. u mnie, dla programu `x.py` polecenie zwraca:"
   ]
  },
  {
   "cell_type": "markdown",
   "id": "0add4a8f",
   "metadata": {},
   "source": [
    "```\n",
    "luke@luke-HP8:~/zajecia_programowania_xd/klocki$ ps aux | grep 'x.py'\n",
    "luke     1495528  102  0.0  20816  9164 pts/15   R+   01:27   0:41 python3 x.py\n",
    "luke     1495560  0.0  0.0  11576  2548 pts/16   S+   01:27   0:00 grep --color=auto x.py\n",
    "```"
   ]
  },
  {
   "cell_type": "markdown",
   "id": "682a053a",
   "metadata": {},
   "source": [
    "Druga linia pokazuje informacje o puszczonym w tle programie `x.py`. Trzecia linia reprezentuje `grep`, nie jest tu istotna."
   ]
  },
  {
   "cell_type": "markdown",
   "id": "cac1165d",
   "metadata": {},
   "source": [
    "Aby zatrzymać program puszczony w tle, użyj funkcji zamieniając frazę PID na numer PID z powyższej listy (drugi po prawej w linii drugiej):"
   ]
  },
  {
   "cell_type": "code",
   "execution_count": null,
   "id": "73d5e149",
   "metadata": {},
   "outputs": [],
   "source": [
    "!kill -p PID"
   ]
  },
  {
   "cell_type": "markdown",
   "id": "b7c7b043",
   "metadata": {},
   "source": [
    "Dla pewności możesz ponowić funkcję `grep` aby sprawdzić, czy program nadal działa, czy udało Ci się go zatrzymać:"
   ]
  },
  {
   "cell_type": "markdown",
   "id": "20909739",
   "metadata": {},
   "source": [
    "ps aux | grep 'nazwa_programu.py'"
   ]
  },
  {
   "cell_type": "markdown",
   "id": "ad76a1a2",
   "metadata": {},
   "source": [
    "### 3. Użyj crona aby odpalać program automatycznie o zaplanowanym czasie\n",
    "\n",
    "Poczytaj więcej tutaj: [CRON](https://github.com/ZPXD/zajecia_programowania_xd/blob/main/klocki/cron.md)\n",
    "\n"
   ]
  }
 ],
 "metadata": {
  "kernelspec": {
   "display_name": "Python 3 (ipykernel)",
   "language": "python",
   "name": "python3"
  },
  "language_info": {
   "codemirror_mode": {
    "name": "ipython",
    "version": 3
   },
   "file_extension": ".py",
   "mimetype": "text/x-python",
   "name": "python",
   "nbconvert_exporter": "python",
   "pygments_lexer": "ipython3",
   "version": "3.8.10"
  }
 },
 "nbformat": 4,
 "nbformat_minor": 5
}
