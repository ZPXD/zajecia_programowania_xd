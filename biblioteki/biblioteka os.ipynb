{
 "cells": [
  {
   "cell_type": "markdown",
   "metadata": {},
   "source": [
    "# Biblioteka os\n",
    "\n",
    "Praca ze ścieżkami plików, folderów, uruchamianie komend Linuxa, dostęp do niektórych danych systemowych i inne.\n",
    "\n",
    "[Dokumentacja](https://docs.python.org/3/library/os.html)\n",
    "\n",
    "Level 1\n",
    "1. folder_programu = os.getcwd()\n",
    "2. zawartosc_tego_folderu = os.listdir()\n",
    "3. uruchom Linuxową komendę - os.system(command)\n",
    "4. Zmienne środowiskowe - os.environ\n",
    "5. Zmień nazwę pliku (zamień jeżeli istnieje)\n",
    "6. sciezka = os.path.join('/home', 'user', 'folder', 'file.txt')\n",
    "\n",
    "Level 2:\n",
    "1. iteracja po folderach folderów - os.walk()\n",
    "2. iteracja po folderach - os.scandir()\n",
    "3. inne - [Dokumentacja](https://docs.python.org/3/library/os.html)"
   ]
  },
  {
   "cell_type": "markdown",
   "metadata": {},
   "source": [
    "## Level 1"
   ]
  },
  {
   "cell_type": "code",
   "execution_count": 1,
   "metadata": {},
   "outputs": [],
   "source": [
    "import os"
   ]
  },
  {
   "cell_type": "markdown",
   "metadata": {},
   "source": [
    "#### 1. `folder_programu = os.getcwd()`"
   ]
  },
  {
   "cell_type": "code",
   "execution_count": 3,
   "metadata": {},
   "outputs": [
    {
     "data": {
      "text/plain": [
       "'/home/lukasz/projekty_zpxd/zajecia_programowania_xd/biblioteki'"
      ]
     },
     "execution_count": 3,
     "metadata": {},
     "output_type": "execute_result"
    }
   ],
   "source": [
    "os.getcwd()"
   ]
  },
  {
   "cell_type": "markdown",
   "metadata": {},
   "source": [
    "#### 2. `zawartosc_tego_folderu = os.listdir()`"
   ]
  },
  {
   "cell_type": "code",
   "execution_count": 5,
   "metadata": {},
   "outputs": [
    {
     "data": {
      "text/plain": [
       "['biblioteka os.ipynb', 'biblioteka random.ipynb', '.ipynb_checkpoints']"
      ]
     },
     "execution_count": 5,
     "metadata": {},
     "output_type": "execute_result"
    }
   ],
   "source": [
    "os.listdir()"
   ]
  },
  {
   "cell_type": "markdown",
   "metadata": {},
   "source": [
    "#### Zawartość dowolnego folderu"
   ]
  },
  {
   "cell_type": "code",
   "execution_count": 66,
   "metadata": {},
   "outputs": [
    {
     "data": {
      "text/plain": [
       "['lukasz']"
      ]
     },
     "execution_count": 66,
     "metadata": {},
     "output_type": "execute_result"
    }
   ],
   "source": [
    "sciezka_folderu = '/home'\n",
    "os.listdir(sciezka_folderu)"
   ]
  },
  {
   "cell_type": "markdown",
   "metadata": {},
   "source": [
    "#### 3. uruchom Linuxową komendę - `os.system(command)`\n",
    "\n",
    "Ostrożnie.\n",
    "\n",
    "a. sprawdź pliki w folderze."
   ]
  },
  {
   "cell_type": "code",
   "execution_count": 8,
   "metadata": {},
   "outputs": [
    {
     "name": "stdout",
     "output_type": "stream",
     "text": [
      "'biblioteka os.ipynb'  'biblioteka random.ipynb'\r\n"
     ]
    }
   ],
   "source": [
    "ls"
   ]
  },
  {
   "cell_type": "markdown",
   "metadata": {},
   "source": [
    "b. stwórz plik korzystając z `os.system('komenda')`"
   ]
  },
  {
   "cell_type": "code",
   "execution_count": 9,
   "metadata": {},
   "outputs": [
    {
     "data": {
      "text/plain": [
       "0"
      ]
     },
     "execution_count": 9,
     "metadata": {},
     "output_type": "execute_result"
    }
   ],
   "source": [
    "os.system('echo \"abc\" > plik.txt')"
   ]
  },
  {
   "cell_type": "markdown",
   "metadata": {},
   "source": [
    "c. sprawdź czy pojawił się nowy plik w folderze"
   ]
  },
  {
   "cell_type": "code",
   "execution_count": 68,
   "metadata": {},
   "outputs": [
    {
     "name": "stdout",
     "output_type": "stream",
     "text": [
      "'biblioteka os.ipynb'  'biblioteka random.ipynb'\r\n"
     ]
    }
   ],
   "source": [
    "ls"
   ]
  },
  {
   "cell_type": "markdown",
   "metadata": {},
   "source": [
    "d. usuń plik korzystając z `os.system('rm plik.txt')`"
   ]
  },
  {
   "cell_type": "code",
   "execution_count": 72,
   "metadata": {},
   "outputs": [
    {
     "data": {
      "text/plain": [
       "256"
      ]
     },
     "execution_count": 72,
     "metadata": {},
     "output_type": "execute_result"
    }
   ],
   "source": [
    "os.system('rm plik.txt')"
   ]
  },
  {
   "cell_type": "code",
   "execution_count": 73,
   "metadata": {},
   "outputs": [
    {
     "name": "stdout",
     "output_type": "stream",
     "text": [
      "'biblioteka os.ipynb'  'biblioteka random.ipynb'\r\n"
     ]
    }
   ],
   "source": [
    "ls"
   ]
  },
  {
   "cell_type": "markdown",
   "metadata": {},
   "source": [
    "#### 4. Zmienne środowiskowe - `os.environ`"
   ]
  },
  {
   "cell_type": "markdown",
   "metadata": {},
   "source": [
    "#### zobacz wszystkie zmienne środowiskowe"
   ]
  },
  {
   "cell_type": "code",
   "execution_count": 160,
   "metadata": {},
   "outputs": [],
   "source": [
    "#os.environ"
   ]
  },
  {
   "cell_type": "markdown",
   "metadata": {},
   "source": [
    "#### zobacz jedną konkretną zmienną środowiskową"
   ]
  },
  {
   "cell_type": "code",
   "execution_count": 161,
   "metadata": {},
   "outputs": [
    {
     "data": {
      "text/plain": [
       "'/bin/bash'"
      ]
     },
     "execution_count": 161,
     "metadata": {},
     "output_type": "execute_result"
    }
   ],
   "source": [
    "os.environ['SHELL']"
   ]
  },
  {
   "cell_type": "code",
   "execution_count": 162,
   "metadata": {},
   "outputs": [
    {
     "data": {
      "text/plain": [
       "'lukasz'"
      ]
     },
     "execution_count": 162,
     "metadata": {},
     "output_type": "execute_result"
    }
   ],
   "source": [
    "os.environ['USER']"
   ]
  },
  {
   "cell_type": "code",
   "execution_count": 163,
   "metadata": {},
   "outputs": [
    {
     "data": {
      "text/plain": [
       "'/home/lukasz'"
      ]
     },
     "execution_count": 163,
     "metadata": {},
     "output_type": "execute_result"
    }
   ],
   "source": [
    "os.environ['HOME']"
   ]
  },
  {
   "cell_type": "code",
   "execution_count": 253,
   "metadata": {},
   "outputs": [
    {
     "name": "stdout",
     "output_type": "stream",
     "text": [
      "/home/lukasz/repo\n"
     ]
    }
   ],
   "source": [
    "os.environ['PWD']"
   ]
  },
  {
   "cell_type": "markdown",
   "metadata": {},
   "source": [
    "#### Stwórz nową zmienną:"
   ]
  },
  {
   "cell_type": "code",
   "execution_count": 258,
   "metadata": {},
   "outputs": [],
   "source": [
    "os.environ['nowa'] = \"1\""
   ]
  },
  {
   "cell_type": "code",
   "execution_count": 260,
   "metadata": {},
   "outputs": [
    {
     "data": {
      "text/plain": [
       "'1'"
      ]
     },
     "execution_count": 260,
     "metadata": {},
     "output_type": "execute_result"
    }
   ],
   "source": [
    "os.environ['nowa']"
   ]
  },
  {
   "cell_type": "markdown",
   "metadata": {},
   "source": [
    "#### Przejżyj nazwy wszystkich zmiennych środowiskowych."
   ]
  },
  {
   "cell_type": "code",
   "execution_count": 169,
   "metadata": {},
   "outputs": [],
   "source": [
    "#list(os.environ)"
   ]
  },
  {
   "cell_type": "markdown",
   "metadata": {},
   "source": [
    "#### 5. Zmień nazwę pliku (zamień jeżeli istnieje)"
   ]
  },
  {
   "cell_type": "code",
   "execution_count": 221,
   "metadata": {},
   "outputs": [],
   "source": [
    "os.replace('tf3.txt', 'tf.txt')"
   ]
  },
  {
   "cell_type": "markdown",
   "metadata": {},
   "source": [
    "#### Zmień nazwę pliku (chyba, że taki już istnieje)"
   ]
  },
  {
   "cell_type": "code",
   "execution_count": 181,
   "metadata": {},
   "outputs": [],
   "source": [
    "os.rename('tf.txt', 'tf.txt')"
   ]
  },
  {
   "cell_type": "markdown",
   "metadata": {},
   "source": [
    "#### 6. Połącz elementy ścieżki w jedną ścieżkę folderu lub pliku: `sciezka = os.path.join('/home', 'user', 'folder', 'file.txt')`\n",
    "Połączy różne ścieżki, nazwy folderów i pliku w jedną ścieżkę.\n",
    "\n",
    "#### A. od zdefiniowanego folderu bazowego"
   ]
  },
  {
   "cell_type": "code",
   "execution_count": 246,
   "metadata": {},
   "outputs": [
    {
     "data": {
      "text/plain": [
       "'/home/user/folder/program.py'"
      ]
     },
     "execution_count": 246,
     "metadata": {},
     "output_type": "execute_result"
    }
   ],
   "source": [
    "sciezka_projektu = '/home/user'\n",
    "nazwa_folderu = 'folder'\n",
    "nazwa_pliku = 'program.py'\n",
    "\n",
    "os.path.join(sciezka_projektu, nazwa_folderu, nazwa_pliku)"
   ]
  },
  {
   "cell_type": "markdown",
   "metadata": {},
   "source": [
    "#### B. dynamicznie\n",
    "\n",
    "Skrypt stworzy właściwą ścieżkę wszędzie gdzie się znajdzie - `os.getcwd()` zwróci ścieżkę miejsca gdzie program się aktualnie znajduje."
   ]
  },
  {
   "cell_type": "code",
   "execution_count": 247,
   "metadata": {},
   "outputs": [
    {
     "data": {
      "text/plain": [
       "'/home/lukasz/program.py'"
      ]
     },
     "execution_count": 247,
     "metadata": {},
     "output_type": "execute_result"
    }
   ],
   "source": [
    "sciezka_folderu = os.getcwd()\n",
    "nazwa_pliku = 'program.py'\n",
    "\n",
    "os.path.join(sciezka_folderu, nazwa_pliku)"
   ]
  },
  {
   "cell_type": "markdown",
   "metadata": {},
   "source": [
    "#### Uniwersalny znak separatora (zwraca właściwą wartość dla Windows i Linux)."
   ]
  },
  {
   "cell_type": "code",
   "execution_count": 236,
   "metadata": {},
   "outputs": [
    {
     "data": {
      "text/plain": [
       "'/'"
      ]
     },
     "execution_count": 236,
     "metadata": {},
     "output_type": "execute_result"
    }
   ],
   "source": [
    "os.sep"
   ]
  },
  {
   "cell_type": "markdown",
   "metadata": {},
   "source": [
    "## Level 2"
   ]
  },
  {
   "cell_type": "markdown",
   "metadata": {},
   "source": [
    "### Iterowanie po drzewie folderów\n",
    "\n",
    "#### 1. os.walk()\n",
    "\n",
    "Iteruje po podanym folderze za każdym razem podając 3 argumenty: ścieżkę folderu, foldery w tym folderze i  trzeci: lista plików w folderze.\n",
    "\n",
    "Argumentem `topdown` zadeklarujesz czy iteracja zachodzi od dołu czy od góry."
   ]
  },
  {
   "cell_type": "code",
   "execution_count": 49,
   "metadata": {},
   "outputs": [
    {
     "name": "stdout",
     "output_type": "stream",
     "text": [
      "1 zmienna - ścieżka folderu:\n",
      "- /home/lukasz/projekty_zpxd/zajecia_programowania_xd/biblioteki\n",
      "- /home/lukasz/projekty_zpxd/zajecia_programowania_xd/biblioteki/.ipynb_checkpoints\n"
     ]
    }
   ],
   "source": [
    "folder_path = os.getcwd()\n",
    "print('1 zmienna - ścieżka folderu:')\n",
    "for folder, folders_in, files_in in os.walk(folder_path, topdown=True):\n",
    "    print('-', folder)"
   ]
  },
  {
   "cell_type": "code",
   "execution_count": 50,
   "metadata": {},
   "outputs": [
    {
     "name": "stdout",
     "output_type": "stream",
     "text": [
      "2 zmienna  - lista folderów w tym folderze:\n",
      "- ['.ipynb_checkpoints']\n",
      "- []\n"
     ]
    }
   ],
   "source": [
    "folder_path = os.getcwd()\n",
    "print('2 zmienna  - lista folderów w tym folderze:')\n",
    "for folder, folders_in, files_in in os.walk(folder_path, topdown=True):\n",
    "    print('-', folders_in)"
   ]
  },
  {
   "cell_type": "code",
   "execution_count": 51,
   "metadata": {},
   "outputs": [
    {
     "name": "stdout",
     "output_type": "stream",
     "text": [
      "3 zmienna  - lista plików w tym folderze:\n",
      "- ['biblioteka os.ipynb', 'biblioteka random.ipynb']\n",
      "- ['biblioteka os-checkpoint.ipynb']\n"
     ]
    }
   ],
   "source": [
    "folder_path = os.getcwd()\n",
    "print('3 zmienna  - lista plików w tym folderze:')\n",
    "for folder, folders_in, files_in in os.walk(folder_path, topdown=True):\n",
    "    print('-', files_in)"
   ]
  },
  {
   "cell_type": "markdown",
   "metadata": {},
   "source": [
    "#### 2. os.scandir()\n",
    "\n",
    "Iteracja po folderach i plikach w folderze jako obiekt ze swoimi metodami."
   ]
  },
  {
   "cell_type": "code",
   "execution_count": 74,
   "metadata": {},
   "outputs": [
    {
     "name": "stdout",
     "output_type": "stream",
     "text": [
      "biblioteka os.ipynb\n",
      "/home/lukasz/projekty_zpxd/zajecia_programowania_xd/biblioteki/biblioteka os.ipynb\n",
      "--------\n",
      "biblioteka random.ipynb\n",
      "/home/lukasz/projekty_zpxd/zajecia_programowania_xd/biblioteki/biblioteka random.ipynb\n",
      "--------\n",
      ".ipynb_checkpoints\n",
      "/home/lukasz/projekty_zpxd/zajecia_programowania_xd/biblioteki/.ipynb_checkpoints\n",
      "--------\n"
     ]
    }
   ],
   "source": [
    "with os.scandir(folder_path) as it:\n",
    "    for entry in it:    \n",
    "        if entry.is_file(): # prawda jeżeli to plik\n",
    "            pass\n",
    "        if entry.is_dir(): # prawda jeżeli to folder\n",
    "            pass\n",
    "        print(entry.name) # nazwa pliku\n",
    "        print(entry.path) # ścieżka pliku\n",
    "        print('--------')"
   ]
  },
  {
   "cell_type": "markdown",
   "metadata": {},
   "source": [
    "#### 3. Inne ciekawe funkcje\n",
    "\n",
    "Tak na prawdę wiele z nich wykonasz używając `os.systemd(linuxowe_polecenie)`. Ale jeżeli masz poczucie elegancji, to być może te funkcje przypadną Ci do gustu:"
   ]
  },
  {
   "cell_type": "code",
   "execution_count": null,
   "metadata": {},
   "outputs": [],
   "source": [
    "#os.chmod(path, mode, *, dir_fd=None, follow_symlinks=True)\n",
    "#os.rmdir(path, *, dir_fd=None)\n",
    "#os.removedirs(name)\n",
    "#os.link(src, dst, *, src_dir_fd=None, dst_dir_fd=None, follow_symlinks=True)"
   ]
  },
  {
   "cell_type": "code",
   "execution_count": null,
   "metadata": {},
   "outputs": [],
   "source": [
    "linuxowe_polecenie = None\n",
    "os.systemd(linuxowe_polecenie)"
   ]
  },
  {
   "cell_type": "markdown",
   "metadata": {},
   "source": [
    "Czy to koniec? Nie. Dokumentacja biblioteki os ma kilometr. \n",
    "Czy potrzebujesz je znać? Nie. Ale rzuć okiem aby wiedzieć gdzie co znaleźć. Tu w przyszłości dokładnie wypiszę jakie zagadnienia są tam poruszane.\n",
    "\n",
    "Jeżeli chcesz poznać inne jej możliwości, potrzebne głównie w pracy z zagadnieniami około sytemowymi - rzuć okiem na dokumentację: [Dokumentacja](https://docs.python.org/3/library/os.html)."
   ]
  }
 ],
 "metadata": {
  "kernelspec": {
   "display_name": "Python 3",
   "language": "python",
   "name": "python3"
  },
  "language_info": {
   "codemirror_mode": {
    "name": "ipython",
    "version": 3
   },
   "file_extension": ".py",
   "mimetype": "text/x-python",
   "name": "python",
   "nbconvert_exporter": "python",
   "pygments_lexer": "ipython3",
   "version": "3.8.10"
  }
 },
 "nbformat": 4,
 "nbformat_minor": 4
}
