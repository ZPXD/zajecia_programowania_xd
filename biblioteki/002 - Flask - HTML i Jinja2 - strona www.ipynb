{
 "cells": [
  {
   "cell_type": "markdown",
   "metadata": {},
   "source": [
    "## HTML i Jinja2 we Flask\n",
    "\n",
    "Spis treści:\n",
    "1. Flask\n",
    "2. HTML/XHTMLX\n",
    "3. Flask i Jinja2 w HTML"
   ]
  },
  {
   "cell_type": "markdown",
   "metadata": {},
   "source": [
    "## Level 1\n",
    "\n"
   ]
  },
  {
   "cell_type": "markdown",
   "metadata": {},
   "source": [
    "## 1. FLASK\n",
    "\n",
    "Poczytaj najpierw o aplikacji Flask. Najlepiej będzies jak ją uruchomisz i będziesz na bieżąco testował każdą linię znalezioną w tym notepadzie wklejając ją do kodu aplikacji Flask.\n",
    "\n",
    "Minimalna aplikacja Flask - zapisz ją w folderze `projekt` a za nazwę daj jej `app.py`. "
   ]
  },
  {
   "cell_type": "code",
   "execution_count": null,
   "metadata": {},
   "outputs": [],
   "source": [
    "from flask import Flask, render_template\n",
    "\n",
    "app = Flask(__name__)\n",
    "\n",
    "@app.route(\"/index.html\")\n",
    "def index():\n",
    "    return render_template('index.html')\n",
    "\n",
    "if __name__ == '__main__':\n",
    "    app.run()"
   ]
  },
  {
   "cell_type": "markdown",
   "metadata": {},
   "source": [
    "W folderze `projekt` stwórz drugi folder `templates` a w nim narazie pusty plik z treścią strony www `index.html`. Wklejaj do niego kolejne elementy i sprawdzaj jak działają w praktyce."
   ]
  },
  {
   "cell_type": "code",
   "execution_count": null,
   "metadata": {},
   "outputs": [],
   "source": []
  },
  {
   "cell_type": "markdown",
   "metadata": {},
   "source": [
    "#### Kolejne elementy testuj w kodzie aplikacji powyżej."
   ]
  },
  {
   "cell_type": "markdown",
   "metadata": {},
   "source": [
    "### Podstawowe rodzaje treści na stronie www"
   ]
  },
  {
   "cell_type": "markdown",
   "metadata": {},
   "source": [
    "#### 1. Komentarz\n",
    "\n",
    "Treść komentarza ani nie zostanie wyświetlona ani nie wywoła błędu na stronie. Sprawdź."
   ]
  },
  {
   "cell_type": "code",
   "execution_count": 6,
   "metadata": {},
   "outputs": [
    {
     "data": {
      "text/plain": [
       "'<!-- To co jest pomiędzy tymi 2 myślnikami ze strzałką to komentarz -->'"
      ]
     },
     "execution_count": 6,
     "metadata": {},
     "output_type": "execute_result"
    }
   ],
   "source": [
    "\"<!-- To co jest pomiędzy tymi 2 myślnikami ze strzałką to komentarz -->\""
   ]
  },
  {
   "cell_type": "markdown",
   "metadata": {},
   "source": [
    "#### 2. Tekst\n",
    "\n",
    "Tekst normalnej wielkości. Dodaj kilka linii."
   ]
  },
  {
   "cell_type": "code",
   "execution_count": 3,
   "metadata": {},
   "outputs": [
    {
     "data": {
      "text/plain": [
       "'<p></p>'"
      ]
     },
     "execution_count": 3,
     "metadata": {},
     "output_type": "execute_result"
    }
   ],
   "source": [
    "\"<p>Tekst</p>\""
   ]
  },
  {
   "cell_type": "markdown",
   "metadata": {},
   "source": [
    "Większy od `h` - największy jest h1, są też h2, h3, h4. Sprawdź."
   ]
  },
  {
   "cell_type": "code",
   "execution_count": null,
   "metadata": {},
   "outputs": [],
   "source": [
    "\"<h1>Tekst</h1>\"\n",
    "\"<h3>Tekst</h3>\""
   ]
  },
  {
   "cell_type": "markdown",
   "metadata": {},
   "source": [
    "#### 3. Tekst z linkiem\n",
    "\n",
    "Największy jest h1, są też h2, h3, h4."
   ]
  },
  {
   "cell_type": "code",
   "execution_count": null,
   "metadata": {},
   "outputs": [],
   "source": [
    "'<a href=\"https://www.youtube.com/watch?v=Gus4dnQuiGk\">Tekst</a>'"
   ]
  },
  {
   "cell_type": "code",
   "execution_count": null,
   "metadata": {},
   "outputs": [],
   "source": [
    "'<a href=\"{{ url_for('auth.logout') }}\">Log Out</a>'"
   ]
  },
  {
   "cell_type": "markdown",
   "metadata": {},
   "source": [
    "#### 4. Formularz\n",
    "\n",
    "Formularz HTML zawiera kilka komponentów. O tym elemencie jest cały zeszyt [link](link)."
   ]
  },
  {
   "cell_type": "code",
   "execution_count": null,
   "metadata": {},
   "outputs": [],
   "source": [
    "<form method=\"post\">\n",
    "    <input name=\"username\" id=\"username\" required>\n",
    "</form>"
   ]
  },
  {
   "cell_type": "code",
   "execution_count": null,
   "metadata": {},
   "outputs": [],
   "source": [
    "<form method=\"post\">\n",
    "</form>"
   ]
  },
  {
   "cell_type": "code",
   "execution_count": null,
   "metadata": {},
   "outputs": [],
   "source": [
    "<input name=\"username\" id=\"username\" required>"
   ]
  },
  {
   "cell_type": "code",
   "execution_count": null,
   "metadata": {},
   "outputs": [],
   "source": [
    "<button type=\"button\">Click Me!</button>"
   ]
  },
  {
   "cell_type": "code",
   "execution_count": null,
   "metadata": {},
   "outputs": [],
   "source": [
    "<input type=\"button\"> \n",
    "<input type=\"checkbox\"> \n",
    "<input type=\"color\"> \n",
    "<input type=\"date\"> \n",
    "<input type=\"datetime\"> \n",
    "<input type=\"email\"> \n",
    "<input type=\"file\"> \n",
    "<input type=\"hidden\"> \n",
    "<input type=\"image\"> \n",
    "<input type=\"datetime\"> \n",
    "<input type=\"range\"> \n",
    "<input type=\"reset\"> \n",
    "<input type=\"search\"> \n",
    "<input type=\"submit\"> \n",
    "<input type=\"text\"> \n",
    "<input type=\"url\"> "
   ]
  },
  {
   "cell_type": "markdown",
   "metadata": {},
   "source": [
    "#### 5. Kawałek strony www :) div"
   ]
  },
  {
   "cell_type": "code",
   "execution_count": null,
   "metadata": {},
   "outputs": [],
   "source": [
    "<div>\n",
    "    <p>Abc</p>\n",
    "    <p>Abc</p>\n",
    "    <p>Abc</p>\n",
    "<div>"
   ]
  },
  {
   "cell_type": "markdown",
   "metadata": {},
   "source": [
    "#### 6. Menu"
   ]
  },
  {
   "cell_type": "code",
   "execution_count": null,
   "metadata": {},
   "outputs": [],
   "source": [
    "<nav>\n",
    "    <ul>\n",
    "        <li><a href=\"{{ url_for('index') }}\"></a>\n",
    "        <li><a href=\"https://www.youtube.com/watch?v=lZaLZO61-gY\"></a>\n",
    "    </ul>\n",
    "</nav>"
   ]
  },
  {
   "cell_type": "code",
   "execution_count": null,
   "metadata": {},
   "outputs": [],
   "source": []
  },
  {
   "cell_type": "markdown",
   "metadata": {},
   "source": [
    "## Jinja2\n",
    "\n",
    "Inside templates you also have access to the config, request, session and g 1 objects as well as the url_for() and get_flashed_messages() functions."
   ]
  },
  {
   "cell_type": "markdown",
   "metadata": {},
   "source": [
    "#### 1. **Plik `base.html`**\n",
    "\n",
    "Rozpocznij każdą stronę (każdy plik html) od tych samych elementów - od treści pliku wspólnego `base.html` (lub dowolnego innego).\n",
    "\n"
   ]
  },
  {
   "cell_type": "code",
   "execution_count": null,
   "metadata": {},
   "outputs": [],
   "source": [
    "<head>\n",
    "    <link rel=\"stylesheet\" href=\"{{ url_for('static', filename='style.css') }}\">\n",
    "</head>\n",
    "\n",
    "<div class=\"nav-bar\">\n",
    "    <nav>\n",
    "        <ul>\n",
    "            <li><a href=\"{{ url_for('index') }}\"></a>\n",
    "            <li><a href=\"https://www.youtube.com/watch?v=lZaLZO61-gY\"></a>\n",
    "        </ul>\n",
    "    </nav>\n",
    "</div>\n",
    "\n",
    "{% block content %} {% endblock %}"
   ]
  },
  {
   "cell_type": "markdown",
   "metadata": {},
   "source": [
    "**a w każdym pliku `.html` dodaj:**\n",
    "\n",
    "#### **Plik np. `index.html`**"
   ]
  },
  {
   "cell_type": "markdown",
   "metadata": {},
   "source": [
    "{% extends 'base.html' %}"
   ]
  },
  {
   "cell_type": "markdown",
   "metadata": {},
   "source": [
    "a jego kod umieść pomiędzy `{% block content %}` a `{% endblock %}`.\n",
    "\n",
    "Zwróć uwagę na fragment `{% block content %}` w kodzie pliku `base.html`. To tam pojawi się kod z innych stron w których umieścisz."
   ]
  },
  {
   "cell_type": "code",
   "execution_count": null,
   "metadata": {},
   "outputs": [],
   "source": [
    "{% block content %} \n",
    "\n",
    "    <br>\n",
    "    <br>\n",
    "    <p>Tu jest kod z tego pliku pomiędzy wąsami block.</p>\n",
    "    <br>\n",
    "    <br>\n",
    "\n",
    "{% endblock %}"
   ]
  },
  {
   "cell_type": "markdown",
   "metadata": {},
   "source": [
    "### 2. **Dostęp do danych ze skryptów pythonowych we Flask'u z pliku HTML**"
   ]
  },
  {
   "cell_type": "markdown",
   "metadata": {},
   "source": [
    "**`app.py`**"
   ]
  },
  {
   "cell_type": "code",
   "execution_count": null,
   "metadata": {},
   "outputs": [],
   "source": [
    "# ...\n",
    "\n",
    "@app.route('/strona')\n",
    "def strona():\n",
    "    zmienna = 10\n",
    "    return render_template('strona.html', zmienna=zmienna)\n",
    "\n",
    "# ..."
   ]
  },
  {
   "cell_type": "markdown",
   "metadata": {},
   "source": [
    "**`templates/strona.html`**"
   ]
  },
  {
   "cell_type": "code",
   "execution_count": null,
   "metadata": {},
   "outputs": [],
   "source": [
    "{% extends 'base.html' %}\n",
    "\n",
    "{% block content %} \n",
    "\n",
    "    <br>\n",
    "    <br>\n",
    "    <p>Tu jest zmienna z Pythona: {{zmienna}}.</p>\n",
    "    <br>\n",
    "    <br>\n",
    "\n",
    "{% endblock %}"
   ]
  },
  {
   "cell_type": "markdown",
   "metadata": {},
   "source": [
    "#### 3. **Komentarz - #**\n",
    "\n",
    "W plikach Jinja2 komentarz HTML <!-- --> nie działa. Wtedy użyj hasza #."
   ]
  },
  {
   "cell_type": "code",
   "execution_count": null,
   "metadata": {},
   "outputs": [],
   "source": [
    "{% extends 'base.html' %}\n",
    "\n",
    "{% block content %} \n",
    "\n",
    "    <br>\n",
    "    <p>1</p>\n",
    "    {# a comment #}\n",
    "    <p>2</p>\n",
    "        \n",
    "{% endblock %}"
   ]
  },
  {
   "cell_type": "markdown",
   "metadata": {},
   "source": [
    "#### 4. **Python w HTML**"
   ]
  },
  {
   "cell_type": "markdown",
   "metadata": {},
   "source": [
    "**`app.py`**"
   ]
  },
  {
   "cell_type": "code",
   "execution_count": null,
   "metadata": {},
   "outputs": [],
   "source": [
    "# ...\n",
    "\n",
    "@app.route('/jinja_fory')\n",
    "def jinja_fory():\n",
    "    lista = [\"aaaaa\", \"bbbbb\", \"ccccc\"]\n",
    "    return render_template('jinja_fory.html', lista=lista)\n",
    "\n",
    "# ..."
   ]
  },
  {
   "cell_type": "markdown",
   "metadata": {},
   "source": [
    "#### **`jinja_fory.html`**"
   ]
  },
  {
   "cell_type": "code",
   "execution_count": null,
   "metadata": {},
   "outputs": [],
   "source": [
    "{% extends 'base.html' %}\n",
    "\n",
    "{% block content %} \n",
    "\n",
    "    <br>\n",
    "    <br>\n",
    "    {% for element in lista %} # Dodaj po nazwie listy minus aby iterować w odwrotnej kolejności.\n",
    "        <p>{{element}}</p>\n",
    "    {% endfor %}\n",
    "\n",
    "{% endblock %}"
   ]
  },
  {
   "cell_type": "markdown",
   "metadata": {},
   "source": [
    "#### **Ify**"
   ]
  },
  {
   "cell_type": "markdown",
   "metadata": {},
   "source": [
    "**`app.py`**"
   ]
  },
  {
   "cell_type": "code",
   "execution_count": null,
   "metadata": {},
   "outputs": [],
   "source": [
    "# ...\n",
    "\n",
    "@app.route('/jinja_ify')\n",
    "def jinja_ify():\n",
    "    nr = 1\n",
    "    return render_template('jinja_ify.html', nr=nr)\n",
    "\n",
    "# ..."
   ]
  },
  {
   "cell_type": "markdown",
   "metadata": {},
   "source": [
    "**`jinja_ify.html`**"
   ]
  },
  {
   "cell_type": "code",
   "execution_count": null,
   "metadata": {},
   "outputs": [],
   "source": [
    "{% extends 'base.html' %}\n",
    "\n",
    "{% block content %} \n",
    "\n",
    "    <br>\n",
    "    <br>\n",
    "    {% if nr == 1 %}\n",
    "        <p>A. {{nr}}</p>\n",
    "    {% elif value == 2 %}\n",
    "        <p>B. {{nr}}</p>\n",
    "    {% else %}\n",
    "        <p>C. {{nr}}</p>\n",
    "    {% endif %}\n",
    "\n",
    "{% endblock %}"
   ]
  },
  {
   "cell_type": "markdown",
   "metadata": {},
   "source": [
    "### Level 2"
   ]
  },
  {
   "cell_type": "code",
   "execution_count": null,
   "metadata": {},
   "outputs": [],
   "source": [
    "TBD :)"
   ]
  }
 ],
 "metadata": {
  "kernelspec": {
   "display_name": "Python 3",
   "language": "python",
   "name": "python3"
  },
  "language_info": {
   "codemirror_mode": {
    "name": "ipython",
    "version": 3
   },
   "file_extension": ".py",
   "mimetype": "text/x-python",
   "name": "python",
   "nbconvert_exporter": "python",
   "pygments_lexer": "ipython3",
   "version": "3.8.10"
  }
 },
 "nbformat": 4,
 "nbformat_minor": 4
}
