{
 "cells": [
  {
   "cell_type": "markdown",
   "metadata": {},
   "source": [
    "# Biblioteka random\n",
    "\n",
    "Losowanie wartości i wartości losowe. \n",
    "\n",
    "[Dokumentacja](https://docs.python.org/3/library/random.html)\n",
    "\n",
    "Biblioteka random zajmuje się wartościami losowymi. Nazywa się je nieraz, z uwagi na proces ich powstawania i obraną perspektywę generatorami pseudo-losowymi. Zobacz artykuł o generatorach [losowych](https://www.dobreprogramy.pl/@molexor/o-pseudolosowosci-ludziach-i-innych-zjawiskach-przyrodniczych,blog,104515) napisany przez @molexor.\n",
    "\n",
    "Level 1\n",
    "1. losowa liczba miedzy X a Y\n",
    "2. losowa wartość między 0 a 1.0\n",
    "3. losowa wartość z listy\n",
    "4. losowe wartości z listy\n",
    "5. przemieszaj wartości w liście\n",
    "\n",
    "Level 2:\n",
    "1. Stan generatora\n",
    "2. Generatory losowych wartości z najczęściej potrzebnych rozkładów liczbowych\n",
    "3. `range(0,100)` ale random"
   ]
  },
  {
   "cell_type": "markdown",
   "metadata": {},
   "source": [
    "## Level 1"
   ]
  },
  {
   "cell_type": "code",
   "execution_count": 145,
   "metadata": {},
   "outputs": [],
   "source": [
    "import random"
   ]
  },
  {
   "cell_type": "markdown",
   "metadata": {},
   "source": [
    "#### 1. `losowa_liczba = random.randint(1, 10)`\n",
    "Losowa liczba z przedziału od X do Y."
   ]
  },
  {
   "cell_type": "code",
   "execution_count": 25,
   "metadata": {},
   "outputs": [
    {
     "data": {
      "text/plain": [
       "3"
      ]
     },
     "execution_count": 25,
     "metadata": {},
     "output_type": "execute_result"
    }
   ],
   "source": [
    "random.randint(1, 6)"
   ]
  },
  {
   "cell_type": "markdown",
   "metadata": {},
   "source": [
    "#### 2. `losowy_float_0_1 = random.random()`\n",
    "Losowa liczba zmiennoprzecinkowa między 0.0 a 1.0."
   ]
  },
  {
   "cell_type": "code",
   "execution_count": 109,
   "metadata": {},
   "outputs": [
    {
     "data": {
      "text/plain": [
       "0.37772315349935426"
      ]
     },
     "execution_count": 109,
     "metadata": {},
     "output_type": "execute_result"
    }
   ],
   "source": [
    "random.random()"
   ]
  },
  {
   "cell_type": "markdown",
   "metadata": {},
   "source": [
    "#### 3. `losowa_wartosc = random.choice(['a','b','c'])`\n",
    "Losowa wartość z listy."
   ]
  },
  {
   "cell_type": "code",
   "execution_count": 128,
   "metadata": {},
   "outputs": [
    {
     "data": {
      "text/plain": [
       "'c'"
      ]
     },
     "execution_count": 128,
     "metadata": {},
     "output_type": "execute_result"
    }
   ],
   "source": [
    "lista = ['a', 'b', 'c']\n",
    "random.choice(lista)"
   ]
  },
  {
   "cell_type": "markdown",
   "metadata": {},
   "source": [
    "#### 4. `random.shuffle(lista)`\n",
    "Przemieszaj wartości w liście."
   ]
  },
  {
   "cell_type": "code",
   "execution_count": 140,
   "metadata": {},
   "outputs": [
    {
     "name": "stdout",
     "output_type": "stream",
     "text": [
      "[1, 2, 3]\n"
     ]
    }
   ],
   "source": [
    "lista = [1, 2, 3]\n",
    "random.shuffle(lista)\n",
    "print(lista)"
   ]
  },
  {
   "cell_type": "markdown",
   "metadata": {},
   "source": [
    "#### 5. `wylosowane_z_listy = random.sample(['red', 'blue', ';p'], k=1)`\n",
    "\n",
    "Wylosuj k wartości z listy."
   ]
  },
  {
   "cell_type": "code",
   "execution_count": 162,
   "metadata": {},
   "outputs": [
    {
     "data": {
      "text/plain": [
       "[';p']"
      ]
     },
     "execution_count": 162,
     "metadata": {},
     "output_type": "execute_result"
    }
   ],
   "source": [
    "lista = ['red', 'blue', ';p']\n",
    "random.sample(lista, k=1)"
   ]
  },
  {
   "cell_type": "markdown",
   "metadata": {},
   "source": [
    "#### to samo, ale z wagami.\n",
    "\n",
    "Czyli ustawmy szansę na wywołanie każdego z elementów.\n",
    "1. element - 10%\n",
    "2. element - 10%\n",
    "3. element - 80%"
   ]
  },
  {
   "cell_type": "code",
   "execution_count": 164,
   "metadata": {},
   "outputs": [
    {
     "data": {
      "text/plain": [
       "[';p']"
      ]
     },
     "execution_count": 164,
     "metadata": {},
     "output_type": "execute_result"
    }
   ],
   "source": [
    "lista = ['red', 'blue', ';p']\n",
    "random.choices(lista, weights=[10, 10, 80], k=1)"
   ]
  },
  {
   "cell_type": "markdown",
   "metadata": {},
   "source": [
    "## Level 2\n",
    "\n",
    "Tych funkcji się aż tak często nie używa, nie licząc `seed()`. Jeżeli masz mało czasu, rzuć okiem i wróć tu później, gdy będziesz potrzebował tych rozwiązań.\n",
    "\n",
    "Kiedy masz powód poznawać poniższy (zazwyczaj w statystyce i zagadnieniach matematycznych, ale nie tylko)."
   ]
  },
  {
   "cell_type": "markdown",
   "metadata": {},
   "source": [
    "### 1. Stan generatora\n"
   ]
  },
  {
   "cell_type": "markdown",
   "metadata": {},
   "source": [
    "#### 1. `random.seed()`\n",
    "\n",
    "Przyznaje generatorowi liczb wartość reprezentującą jego stan."
   ]
  },
  {
   "cell_type": "code",
   "execution_count": 146,
   "metadata": {},
   "outputs": [],
   "source": [
    "random.seed()"
   ]
  },
  {
   "cell_type": "markdown",
   "metadata": {},
   "source": [
    "#### 2. `state = random.getstate()`\n",
    "\n",
    "Przywraca stan generatora do stanu podanego jako argument."
   ]
  },
  {
   "cell_type": "code",
   "execution_count": 147,
   "metadata": {},
   "outputs": [],
   "source": [
    "state = random.getstate()"
   ]
  },
  {
   "cell_type": "markdown",
   "metadata": {},
   "source": [
    "#### 3. `random.setstate(state)`\n",
    "\n",
    "Przywraca stan generatora do stanu podanego jako argument."
   ]
  },
  {
   "cell_type": "code",
   "execution_count": 148,
   "metadata": {},
   "outputs": [],
   "source": [
    "random.setstate(state)"
   ]
  },
  {
   "cell_type": "markdown",
   "metadata": {},
   "source": [
    "### 2. Generatory losowych wartości z najczęściej potrzebnych rozkładów liczbowych\n",
    "\n",
    "Kiedy potrzebujesz aby Twoja liczba losowa była losowa w pewien sposób."
   ]
  },
  {
   "cell_type": "code",
   "execution_count": null,
   "metadata": {},
   "outputs": [],
   "source": [
    "random.random()\n",
    "random.uniform(a, b)\n",
    "random.triangular(low, high, mode)\n",
    "random.betavariate(alpha, beta)\n",
    "random.expovariate(lambd)\n",
    "random.gammavariate(alpha, beta)\n",
    "random.gauss(mu, sigma)\n",
    "random.lognormvariate(mu, sigma)\n",
    "random.normalvariate(mu, sigma)\n",
    "random.vonmisesvariate(mu, kappa)\n",
    "random.paretovariate(alpha)\n",
    "random.weibullvariate(alpha, beta)"
   ]
  },
  {
   "cell_type": "markdown",
   "metadata": {},
   "source": [
    "### 3. Zakres liczb losowych\n",
    "\n",
    "Zakres liczb losowych. Gdy `range(1, 100)` to za mało."
   ]
  },
  {
   "cell_type": "code",
   "execution_count": 126,
   "metadata": {},
   "outputs": [
    {
     "data": {
      "text/plain": [
       "13"
      ]
     },
     "execution_count": 126,
     "metadata": {},
     "output_type": "execute_result"
    }
   ],
   "source": [
    "random.randrange(0, 100)"
   ]
  },
  {
   "cell_type": "code",
   "execution_count": 127,
   "metadata": {},
   "outputs": [
    {
     "data": {
      "text/plain": [
       "54"
      ]
     },
     "execution_count": 127,
     "metadata": {},
     "output_type": "execute_result"
    }
   ],
   "source": [
    "random.randrange(100)"
   ]
  }
 ],
 "metadata": {
  "kernelspec": {
   "display_name": "Python 3",
   "language": "python",
   "name": "python3"
  },
  "language_info": {
   "codemirror_mode": {
    "name": "ipython",
    "version": 3
   },
   "file_extension": ".py",
   "mimetype": "text/x-python",
   "name": "python",
   "nbconvert_exporter": "python",
   "pygments_lexer": "ipython3",
   "version": "3.8.10"
  }
 },
 "nbformat": 4,
 "nbformat_minor": 4
}
