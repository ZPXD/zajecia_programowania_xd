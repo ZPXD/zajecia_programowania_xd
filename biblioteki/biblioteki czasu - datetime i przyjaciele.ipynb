{
 "cells": [
  {
   "cell_type": "markdown",
   "metadata": {},
   "source": [
    "# Czas i data\n",
    "\n",
    "### Biblioteki czasu: `time`, `datetime` i przyjaciele\n",
    "\n",
    "**Bibliotek** zajmujących się datami i czasem jest sporo.\n",
    "\n",
    "Oprzemy się o `datetime` a pozostałych użyjemy w mniejszej ilości tam, gdzie to będzie najbardziej sensowne. [Dokumentacja datetime](https://docs.python.org/3/library/datetime.html)\n",
    " \n",
    "  \n",
    "   \n",
    "   \n",
    "**Level 1:**\n",
    "\n",
    "Główne problemy (i zagadnienia) i rozwiązania związane z datą i czasem:\n",
    "\n",
    "1. Czas - `time.sleep(10)` (zatrzymaj program na 10 sekund)\n",
    "2. Czas teraz - `obiekt_daty1 = datetime.now(tz=None)`\n",
    "3. Inny czas - `obiekt_daty2 = datetime(2022, 10, 1, 10, 1)`\n",
    "4. Wybierz informacje z obiektu daty - np. dzień lub rok - `rok, miesiac = obiekt_daty.year, obiekt_daty.month`\n",
    "5. Zmień czas - `obiekt_daty = obiekt_daty.replace(hour=10)`\n",
    "6. Zamień obiekt daty na tekst `data_tekst = data_obiekt.strftime('%Y-%m-%d' )`\n",
    "7. Zamień tekst na obiekt daty - `obiekt_daty = parser.parse(\"20-02-1991\")`\n",
    "8. Porównuj daty - `if obiekt_daty1 == obiekt_daty2: pass`\n",
    "9. Ktora data jest nowsza? - `if obiekt_daty1 > obiekt_daty2: print(True), else: print(False)`\n",
    "10. Roznica czasu - `roznica_czasu = obiekt_daty1 - obiekt_daty2` - to `timedelta`\n",
    "11. Dzialania na czasie - `obiekt_daty = obiekt_daty - timedelta(hours=2)`\n",
    "\n",
    "\n",
    "\n",
    "**Level 2:**\n",
    "\n",
    "1. Strefa czasowa\n",
    "2. Nadaj dacie formę jaką chcesz\n",
    "3. Sprawdź czy obiekt `datetime` \n",
    "4. Sprawdź czas dokładnie  - np. `time.time()` - cyfrowa reprezentacja czasu\n",
    "5. Obliczanie czasu w którym wykonuje się program, porównywanie czasów dla róznych programów\n",
    "\n",
    "**Level 3:**\n",
    "\n",
    "1. Eksploruj biblioteki czasu\n",
    "2. "
   ]
  },
  {
   "cell_type": "markdown",
   "metadata": {},
   "source": [
    "## Level 1"
   ]
  },
  {
   "cell_type": "markdown",
   "metadata": {},
   "source": [
    "#### W skrócie"
   ]
  },
  {
   "cell_type": "code",
   "execution_count": 135,
   "metadata": {},
   "outputs": [
    {
     "name": "stdout",
     "output_type": "stream",
     "text": [
      "2\n"
     ]
    }
   ],
   "source": [
    "# 1. Czas\n",
    "import time\n",
    "time.sleep(10) # Zatrzymaj program na 10 sekund\n",
    "\n",
    "# 2. Czas teraz\n",
    "from datetime import datetime\n",
    "obiekt_daty1 = datetime.now(tz=None) # Czas teraz\n",
    "\n",
    "# 3. Inny czas\n",
    "obiekt_daty2 = datetime(2022, 10, 1, 10, 1) # Inny czas\n",
    "\n",
    "# 4. Wybierz informacje z obiektu daty - np. dzień lub rok\n",
    "rok, miesiac = obiekt_daty.year, obiekt_daty.month\n",
    "\n",
    "# 5. Zmień czas \n",
    "obiekt_daty = obiekt_daty.replace(hour=10)\n",
    "\n",
    "# 6. Zamień obiekt daty na tekst\n",
    "data_obiekt = datetime.today()\n",
    "data_tekst = data_obiekt.strftime('%Y-%m-%d' )\n",
    "\n",
    "# 7. Zamień tekst na obiekt daty\n",
    "from dateutil import parser\n",
    "obiekt_daty = parser.parse(\"20-02-1991\")\n",
    "\n",
    "# 8. Porównuj daty\n",
    "if obiekt_daty1 == obiekt_daty2:\n",
    "    pass\n",
    "\n",
    "# 9. Ktora data jest nowsza?\n",
    "if obiekt_daty1 > obiekt_daty2:\n",
    "    print(1)\n",
    "else:\n",
    "    print(2)\n",
    "\n",
    "# 10. Roznica czasu\n",
    "roznica_czasu = obiekt_daty1 - obiekt_daty2\n",
    "roznica_czasu = timedelta(hours=2)\n",
    "\n",
    "# 11. Dzialania na czasie\n",
    "obiekt_daty = obiekt_daty - roznica_czasu\n",
    "obiekt_daty = obiekt_daty + roznica_czasu"
   ]
  },
  {
   "cell_type": "markdown",
   "metadata": {},
   "source": [
    "### 1. Czas"
   ]
  },
  {
   "cell_type": "markdown",
   "metadata": {},
   "source": [
    "####  Zatrzymaj działanie programu na N sekund - `time.sleep(N)`\n",
    "\n",
    "Odpal poniższą komórkę. Po każdej iteracji program wstrzyma się na 2 sekundy. Ta metoda przydaje się np. gdy łączymy się z innymi serwerami, albo chcemy aby ktoś odczekał zanim ponownie wykona akcję (np. logowania czy wysłania wiadomości)."
   ]
  },
  {
   "cell_type": "code",
   "execution_count": 324,
   "metadata": {
    "scrolled": false
   },
   "outputs": [
    {
     "name": "stdout",
     "output_type": "stream",
     "text": [
      "0\n",
      "1\n",
      "2\n",
      "3\n",
      "4\n",
      "5\n",
      "6\n",
      "7\n"
     ]
    }
   ],
   "source": [
    "import time\n",
    "\n",
    "for i in range(8):\n",
    "    print(i)\n",
    "    time.sleep(2)"
   ]
  },
  {
   "cell_type": "markdown",
   "metadata": {},
   "source": [
    "### 2. Czas teraz\n",
    "\n",
    "jako obiekt daty `datetime`."
   ]
  },
  {
   "cell_type": "code",
   "execution_count": 137,
   "metadata": {},
   "outputs": [],
   "source": [
    "from datetime import datetime # obiekt czasu"
   ]
  },
  {
   "cell_type": "markdown",
   "metadata": {},
   "source": [
    "teraz"
   ]
  },
  {
   "cell_type": "code",
   "execution_count": 377,
   "metadata": {},
   "outputs": [
    {
     "data": {
      "text/plain": [
       "datetime.datetime(2022, 4, 16, 15, 17, 55, 858209)"
      ]
     },
     "execution_count": 377,
     "metadata": {},
     "output_type": "execute_result"
    }
   ],
   "source": [
    "czas_teraz = datetime.now()\n",
    "czas_teraz"
   ]
  },
  {
   "cell_type": "markdown",
   "metadata": {},
   "source": [
    "#### obiekt `datetime`\n",
    "\n",
    "O tym obiekcie (oraz jego reprezentacji tekstowej) będzie reszta tego poziomu. "
   ]
  },
  {
   "cell_type": "code",
   "execution_count": 380,
   "metadata": {},
   "outputs": [
    {
     "data": {
      "text/plain": [
       "datetime.datetime"
      ]
     },
     "execution_count": 380,
     "metadata": {},
     "output_type": "execute_result"
    }
   ],
   "source": [
    "type(czas_teraz)"
   ]
  },
  {
   "cell_type": "markdown",
   "metadata": {},
   "source": [
    "#### czasu lokalnego (UTC+2)\n",
    "\n",
    "Liczonego wg. ustawień na Twoim komputerze lub serwerze czy miejscu gdzie jest odpalany skrypt."
   ]
  },
  {
   "cell_type": "code",
   "execution_count": 202,
   "metadata": {},
   "outputs": [
    {
     "data": {
      "text/plain": [
       "datetime.datetime(2022, 4, 16, 0, 13, 40, 848137)"
      ]
     },
     "execution_count": 202,
     "metadata": {},
     "output_type": "execute_result"
    }
   ],
   "source": [
    "datetime.today()"
   ]
  },
  {
   "cell_type": "markdown",
   "metadata": {},
   "source": [
    "#### czasu UTC"
   ]
  },
  {
   "cell_type": "code",
   "execution_count": 199,
   "metadata": {},
   "outputs": [
    {
     "data": {
      "text/plain": [
       "datetime.datetime(2022, 4, 15, 22, 8, 37, 118963)"
      ]
     },
     "execution_count": 199,
     "metadata": {},
     "output_type": "execute_result"
    }
   ],
   "source": [
    "datetime.utcnow()"
   ]
  },
  {
   "cell_type": "markdown",
   "metadata": {},
   "source": [
    "#### czasu wg. tej strefy jaką podasz \n",
    "\n",
    "Lista stref. Biblitoeka miejsce-strefa"
   ]
  },
  {
   "cell_type": "code",
   "execution_count": 375,
   "metadata": {},
   "outputs": [
    {
     "name": "stdout",
     "output_type": "stream",
     "text": [
      "2022-04-16 15:17:38.128660\n"
     ]
    }
   ],
   "source": [
    "tz = timezone.utc\n",
    "tz = None\n",
    "\n",
    "print(datetime.now(tz=tz))"
   ]
  },
  {
   "cell_type": "markdown",
   "metadata": {},
   "source": [
    "### 3. Inny czas\n",
    "\n",
    "Obiekt `datetime` możesz tworzyć przekazując mu informacje o dacie i godzinie. Te same informacje możesz też z niego wybrać albo je modyfikować. Zacznij od tworzenia:"
   ]
  },
  {
   "cell_type": "code",
   "execution_count": 203,
   "metadata": {},
   "outputs": [
    {
     "data": {
      "text/plain": [
       "datetime.datetime(2000, 12, 30, 0, 0)"
      ]
     },
     "execution_count": 203,
     "metadata": {},
     "output_type": "execute_result"
    }
   ],
   "source": [
    "datetime(year=2003, month=12, day=30)"
   ]
  },
  {
   "cell_type": "code",
   "execution_count": 143,
   "metadata": {},
   "outputs": [
    {
     "data": {
      "text/plain": [
       "datetime.datetime(2000, 12, 30, 23, 59, 59)"
      ]
     },
     "execution_count": 143,
     "metadata": {},
     "output_type": "execute_result"
    }
   ],
   "source": [
    "datetime(year=2003, month=12, day=30, hour=23, minute=59, second=59)"
   ]
  },
  {
   "cell_type": "code",
   "execution_count": 21,
   "metadata": {},
   "outputs": [
    {
     "data": {
      "text/plain": [
       "datetime.datetime(2000, 12, 30, 23, 59, 59, tzinfo=datetime.timezone.utc)"
      ]
     },
     "execution_count": 21,
     "metadata": {},
     "output_type": "execute_result"
    }
   ],
   "source": [
    "datetime(year=2003, month=12, day=30, hour=23, minute=59, second=59, tzinfo=timezone.utc)"
   ]
  },
  {
   "cell_type": "markdown",
   "metadata": {},
   "source": [
    "### 4. Wybierz informacje z obiektu daty - np. dzień lub rok"
   ]
  },
  {
   "cell_type": "code",
   "execution_count": 360,
   "metadata": {},
   "outputs": [
    {
     "data": {
      "text/plain": [
       "2022"
      ]
     },
     "execution_count": 360,
     "metadata": {},
     "output_type": "execute_result"
    }
   ],
   "source": [
    "data = datetime.today()\n",
    "\n",
    "data.year"
   ]
  },
  {
   "cell_type": "code",
   "execution_count": 361,
   "metadata": {},
   "outputs": [
    {
     "data": {
      "text/plain": [
       "15"
      ]
     },
     "execution_count": 361,
     "metadata": {},
     "output_type": "execute_result"
    }
   ],
   "source": [
    "data.hour"
   ]
  },
  {
   "cell_type": "code",
   "execution_count": 24,
   "metadata": {},
   "outputs": [
    {
     "name": "stdout",
     "output_type": "stream",
     "text": [
      "Cała data:      2000-12-30 23:59:59\n",
      "Rok:            2000\n",
      "Miesiąc:        12\n",
      "Dzień:          30\n",
      "Godzina:        23\n",
      "Minuta:         59\n",
      "Sekunda:        59\n",
      "Mikrosekunda:   0\n",
      "Strefa czasowa: None\n",
      "\n",
      "Cała data:      2022-04-15 18:38:32.895668\n",
      "Rok:            2022\n",
      "Miesiąc:        4\n",
      "Dzień:          15\n",
      "Godzina:        18\n",
      "Minuta:         38\n",
      "Sekunda:        32\n",
      "Mikrosekunda:   895668\n",
      "Strefa czasowa: None\n",
      "\n"
     ]
    }
   ],
   "source": [
    "data_1 = datetime(year=2000, month=12, day=30, hour=23, minute=59, second=59)\n",
    "data_2 = datetime.today()\n",
    "\n",
    "for data in [data_1, data_2]:\n",
    "    print('Cała data:     ', data)\n",
    "    print('Rok:           ', data.year)\n",
    "    print('Miesiąc:       ', data.month)\n",
    "    print('Dzień:         ', data.day)\n",
    "    print('Godzina:       ', data.hour)\n",
    "    print('Minuta:        ', data.minute)\n",
    "    print('Sekunda:       ', data.second)\n",
    "    print('Mikrosekunda:  ', data.microsecond) # 0.000001\n",
    "    print('Strefa czasowa:', data.tzinfo)\n",
    "    print()"
   ]
  },
  {
   "cell_type": "markdown",
   "metadata": {},
   "source": [
    "### 5. Zmień czas \n",
    "\n",
    "istniejącego obiektu daty `datatime`\n",
    "\n",
    "Jeżeli Twoja data jest zapisana jako tekst `str`, najpierw zmień jej treść na obiekt datetime. "
   ]
  },
  {
   "cell_type": "markdown",
   "metadata": {},
   "source": [
    "#### Zmień strefę czasową, godzinę lub inne informacje daty"
   ]
  },
  {
   "cell_type": "code",
   "execution_count": 204,
   "metadata": {},
   "outputs": [
    {
     "data": {
      "text/plain": [
       "datetime.datetime(2002, 4, 15, 21, 29, 50, 873019)"
      ]
     },
     "execution_count": 204,
     "metadata": {},
     "output_type": "execute_result"
    }
   ],
   "source": [
    "obiekt_daty.replace(year=2002)"
   ]
  },
  {
   "cell_type": "code",
   "execution_count": 206,
   "metadata": {},
   "outputs": [
    {
     "data": {
      "text/plain": [
       "datetime.datetime(2022, 4, 15, 20, 29, 50, 873019)"
      ]
     },
     "execution_count": 206,
     "metadata": {},
     "output_type": "execute_result"
    }
   ],
   "source": [
    "obiekt_daty.replace(hour=20)"
   ]
  },
  {
   "cell_type": "code",
   "execution_count": 233,
   "metadata": {},
   "outputs": [
    {
     "data": {
      "text/plain": [
       "datetime.datetime(2022, 4, 15, 22, 49, 3, 93833, tzinfo=datetime.timezone.utc)"
      ]
     },
     "execution_count": 233,
     "metadata": {},
     "output_type": "execute_result"
    }
   ],
   "source": [
    "obiekt_daty.astimezone(tz=timezone.utc)"
   ]
  },
  {
   "cell_type": "markdown",
   "metadata": {},
   "source": [
    "## Sprawne przekształcanie tekstu w obiekt daty i spowrotem\n",
    "\n",
    "\n",
    "    A. datetime -> str\n",
    "    B. str -> `datetime\n"
   ]
  },
  {
   "cell_type": "markdown",
   "metadata": {},
   "source": [
    "### 6. `datetime` -> `str`"
   ]
  },
  {
   "cell_type": "markdown",
   "metadata": {},
   "source": [
    "#### Format ISO"
   ]
  },
  {
   "cell_type": "code",
   "execution_count": 139,
   "metadata": {},
   "outputs": [
    {
     "data": {
      "text/plain": [
       "'2022-04-17T11:47:00.807456'"
      ]
     },
     "execution_count": 139,
     "metadata": {},
     "output_type": "execute_result"
    }
   ],
   "source": [
    "from datetime import datetime \n",
    "\n",
    "data_obiekt = datetime.today()\n",
    "\n",
    "data_obiekt.isoformat()"
   ]
  },
  {
   "cell_type": "markdown",
   "metadata": {},
   "source": [
    "#### Format taki jaki chcesz wybrać\n",
    "\n",
    "Datę można rozpisać na wiele sposobów. Używając `strftime` Ty decydujesz. W kolejnych w materiałach o dacie znajdziesz więcej informacji o zapisie daty."
   ]
  },
  {
   "cell_type": "code",
   "execution_count": 142,
   "metadata": {},
   "outputs": [
    {
     "data": {
      "text/plain": [
       "'2022-04-17T47:28'"
      ]
     },
     "execution_count": 142,
     "metadata": {},
     "output_type": "execute_result"
    }
   ],
   "source": [
    "data_obiekt = datetime.today()\n",
    "data_format = '%Y/%m/%d'\n",
    "data_format = '%Y-%m-%d'\n",
    "data_format = '%Y-%m-%dT%M:%S'\n",
    "\n",
    "data_obiekt.strftime(data_format)"
   ]
  },
  {
   "cell_type": "markdown",
   "metadata": {},
   "source": [
    "### 7. `str` -> `datetime`"
   ]
  },
  {
   "cell_type": "markdown",
   "metadata": {},
   "source": [
    "#### Na szybko"
   ]
  },
  {
   "cell_type": "code",
   "execution_count": 143,
   "metadata": {},
   "outputs": [
    {
     "data": {
      "text/plain": [
       "datetime.datetime(1991, 10, 1, 0, 0)"
      ]
     },
     "execution_count": 143,
     "metadata": {},
     "output_type": "execute_result"
    }
   ],
   "source": [
    "from dateutil import parser\n",
    "\n",
    "data_str = \"10-01-1991\"\n",
    "\n",
    "parser.parse(data_str)"
   ]
  },
  {
   "cell_type": "markdown",
   "metadata": {},
   "source": [
    "### 8. Porównuj daty\n"
   ]
  },
  {
   "cell_type": "code",
   "execution_count": 73,
   "metadata": {},
   "outputs": [],
   "source": [
    "obiekt_daty_1 = datetime(year=2000, month=12, day=30)\n",
    "obiekt_daty_2 = datetime(year=2000, month=12, day=30)\n",
    "\n",
    "obiekt_daty_3 = datetime(year=1000, month=10, day=10)"
   ]
  },
  {
   "cell_type": "markdown",
   "metadata": {},
   "source": [
    "#### Czy data A i data B są takie same?"
   ]
  },
  {
   "cell_type": "code",
   "execution_count": 74,
   "metadata": {},
   "outputs": [
    {
     "name": "stdout",
     "output_type": "stream",
     "text": [
      "True\n"
     ]
    }
   ],
   "source": [
    "if obiekt_daty_1 == obiekt_daty_2:\n",
    "    print(True)"
   ]
  },
  {
   "cell_type": "code",
   "execution_count": 75,
   "metadata": {},
   "outputs": [
    {
     "name": "stdout",
     "output_type": "stream",
     "text": [
      "False\n"
     ]
    }
   ],
   "source": [
    "if obiekt_daty_1 == obiekt_daty_3:\n",
    "    print(True)\n",
    "else:\n",
    "    print(False)"
   ]
  },
  {
   "cell_type": "markdown",
   "metadata": {},
   "source": [
    "### 9. Która data jest nowsza?"
   ]
  },
  {
   "cell_type": "code",
   "execution_count": 370,
   "metadata": {},
   "outputs": [
    {
     "name": "stdout",
     "output_type": "stream",
     "text": [
      "1 data jest nowsza.\n"
     ]
    }
   ],
   "source": [
    "obiekt_daty_1 = datetime(year=2000, month=12, day=30)\n",
    "obiekt_daty_2 = datetime(year=2000, month=11, day=30)\n",
    "\n",
    "if obiekt_daty_1 > obiekt_daty_2:\n",
    "    print('1 data jest nowsza.')\n",
    "else:\n",
    "    print('2 data jest nowsza.')"
   ]
  },
  {
   "cell_type": "markdown",
   "metadata": {},
   "source": [
    "### 10. Jaka jest różnica czasu między datą A a datą B?\n",
    "\n",
    "\n",
    "Obiekt `timedelta` reprezentuje różnicę czasową. Np różnica czasu 2h to:"
   ]
  },
  {
   "cell_type": "code",
   "execution_count": 292,
   "metadata": {},
   "outputs": [],
   "source": [
    "from datetime import timedelta"
   ]
  },
  {
   "cell_type": "code",
   "execution_count": 77,
   "metadata": {},
   "outputs": [
    {
     "data": {
      "text/plain": [
       "datetime.timedelta(seconds=7200)"
      ]
     },
     "execution_count": 77,
     "metadata": {},
     "output_type": "execute_result"
    }
   ],
   "source": [
    "roznica_czasu = timedelta(hours=2)\n",
    "roznica_czasu"
   ]
  },
  {
   "cell_type": "markdown",
   "metadata": {},
   "source": [
    "Można jednak uzyskać go zwyczajnie odejmując od siebie dwa obiekty `datetime`."
   ]
  },
  {
   "cell_type": "code",
   "execution_count": 78,
   "metadata": {},
   "outputs": [
    {
     "data": {
      "text/plain": [
       "datetime.timedelta(0)"
      ]
     },
     "execution_count": 78,
     "metadata": {},
     "output_type": "execute_result"
    }
   ],
   "source": [
    "roznica_czasu = obiekt_daty_1 - obiekt_daty_2\n",
    "roznica_czasu"
   ]
  },
  {
   "cell_type": "code",
   "execution_count": 79,
   "metadata": {},
   "outputs": [
    {
     "data": {
      "text/plain": [
       "datetime.timedelta"
      ]
     },
     "execution_count": 79,
     "metadata": {},
     "output_type": "execute_result"
    }
   ],
   "source": [
    "type(roznica_czasu)"
   ]
  },
  {
   "cell_type": "code",
   "execution_count": null,
   "metadata": {},
   "outputs": [],
   "source": []
  },
  {
   "cell_type": "markdown",
   "metadata": {},
   "source": [
    "### 11. Dodaj, odejmij lub przemnóż czas"
   ]
  },
  {
   "cell_type": "code",
   "execution_count": 147,
   "metadata": {},
   "outputs": [
    {
     "data": {
      "text/plain": [
       "datetime.datetime(2001, 11, 29, 2, 0)"
      ]
     },
     "execution_count": 147,
     "metadata": {},
     "output_type": "execute_result"
    }
   ],
   "source": [
    "obiekt_daty = datetime(year=2001, month=11, day=29)\n",
    "roznica_czasu = timedelta(hours=2)\n",
    "\n",
    "nowa_data = obiekt_daty + roznica_czasu\n",
    "nowa_data"
   ]
  },
  {
   "cell_type": "markdown",
   "metadata": {},
   "source": [
    "#### Dodawanie i odejmowanie czasu"
   ]
  },
  {
   "cell_type": "code",
   "execution_count": 145,
   "metadata": {},
   "outputs": [
    {
     "name": "stdout",
     "output_type": "stream",
     "text": [
      "Przed:           2001-11-29 00:00:00\n",
      "Po dodawaniu:    2001-11-29 02:00:00\n",
      "Po odejmowaniu:  2001-11-29 00:00:00\n"
     ]
    }
   ],
   "source": [
    "print('Przed:          ', obiekt_daty)\n",
    "\n",
    "obiekt_daty += roznica_czasu\n",
    "print('Po dodawaniu:   ', obiekt_daty)\n",
    "\n",
    "obiekt_daty -= roznica_czasu\n",
    "print('Po odejmowaniu: ', obiekt_daty)"
   ]
  },
  {
   "cell_type": "markdown",
   "metadata": {},
   "source": [
    "#### Mnożenie czasu"
   ]
  },
  {
   "cell_type": "code",
   "execution_count": 146,
   "metadata": {},
   "outputs": [
    {
     "name": "stdout",
     "output_type": "stream",
     "text": [
      "Przed dodaniem czasu: 2001-11-29 00:00:00\n",
      "Po dodaniu czasu:     2001-11-29 20:00:00 (przemnożonego)\n"
     ]
    }
   ],
   "source": [
    "print('Przed dodaniem czasu:', obiekt_daty)\n",
    "roznica_czasu = timedelta(hours=2)\n",
    "nowy_czas = obiekt_daty + (roznica_czasu * 10)\n",
    "print('Po dodaniu czasu:    ', nowy_czas, '(przemnożonego)')\n"
   ]
  },
  {
   "cell_type": "markdown",
   "metadata": {},
   "source": [
    "## Level 1: Podsumowanie"
   ]
  },
  {
   "cell_type": "code",
   "execution_count": 76,
   "metadata": {},
   "outputs": [
    {
     "name": "stdout",
     "output_type": "stream",
     "text": [
      "2\n"
     ]
    }
   ],
   "source": [
    "# 1. Czas\n",
    "import time\n",
    "time.sleep(10) # Zatrzymaj program na 10 sekund\n",
    "\n",
    "# 2. Czas teraz\n",
    "from datetime import datetime\n",
    "obiekt_daty1 = datetime.now(tz=None) # Czas teraz\n",
    "\n",
    "# 3. Inny czas\n",
    "obiekt_daty2 = datetime(2022, 10, 1, 10, 1) # Inny czas\n",
    "\n",
    "# 4. Wybierz informacje z obiektu daty - np. dzień lub rok\n",
    "rok, miesiac = obiekt_daty.year, obiekt_daty.month\n",
    "\n",
    "# 5. Zmień czas \n",
    "obiekt_daty = obiekt_daty.replace(hour=10)\n",
    "\n",
    "# 6. Zamień obiekt daty na tekst\n",
    "data_obiekt = datetime.today()\n",
    "data_tekst = data_obiekt.strftime('%Y-%m-%d' )\n",
    "\n",
    "# 7. Zamień tekst na obiekt daty\n",
    "from dateutil import parser\n",
    "obiekt_daty = parser.parse(\"20-02-1991\")\n",
    "\n",
    "# 8. Porównuj daty\n",
    "if obiekt_daty1 == obiekt_daty2:\n",
    "    pass\n",
    "\n",
    "# 9. Ktora data jest nowsza?\n",
    "if obiekt_daty1 > obiekt_daty2:\n",
    "    print(1)\n",
    "else:\n",
    "    print(2)\n",
    "    \n",
    "# 10. Roznica czasu\n",
    "roznica_czasu = obiekt_daty1 - obiekt_daty2\n",
    "roznica_czasu = timedelta(hours=2)\n",
    "\n",
    "# 11. Dzialania na czasie\n",
    "obiekt_daty = obiekt_daty - roznica_czasu\n",
    "obiekt_daty = obiekt_daty + roznica_czasu"
   ]
  },
  {
   "cell_type": "markdown",
   "metadata": {},
   "source": [
    "## Level 2\n",
    "\n",
    "\n",
    "1. Strefa czasowa\n",
    "2. Nadaj dacie formę jaką chcesz\n",
    "3. Sprawdź czy obiekt `datetime` \n",
    "4. Sprawdź czas dokładnie  - np. `time.time()` - cyfrowa reprezentacja czasu"
   ]
  },
  {
   "cell_type": "markdown",
   "metadata": {},
   "source": [
    "### 1. Strefa czasowa\n",
    "\n",
    "W skrócie - wybierz nazwę strefy której szukasz i użyj jej jako argument obiektu `datetime.tz`."
   ]
  },
  {
   "cell_type": "code",
   "execution_count": 50,
   "metadata": {},
   "outputs": [
    {
     "name": "stdout",
     "output_type": "stream",
     "text": [
      "2022-04-16 16:50:28.090023+02:00\n",
      "2022-04-16 16:50:28.090006\n"
     ]
    }
   ],
   "source": [
    "from datetime import datetime \n",
    "import pytz\n",
    "\n",
    "nazwa_strefy = 'Poland'\n",
    "obiekt_strefy = pytz.timezone( nazwa_strefy)\n",
    "\n",
    "data = datetime.today()\n",
    "data_dla_strefy = datetime.now(tz=obiekt_strefy)\n",
    "\n",
    "print(data_dla_strefy)\n",
    "print(data)"
   ]
  },
  {
   "cell_type": "markdown",
   "metadata": {},
   "source": [
    "#### Krok 1 - Znajdź strefę której szukasz (lub zbliżoną)"
   ]
  },
  {
   "cell_type": "raw",
   "metadata": {},
   "source": [
    "pytz.all_timezones[-10:] # wyrzuć liczbę z nawiasów"
   ]
  },
  {
   "cell_type": "markdown",
   "metadata": {},
   "source": [
    "#### Krok 2 - Użyj nazwy strefy czasowej jako argumentu `pytz.timezone()`"
   ]
  },
  {
   "cell_type": "code",
   "execution_count": 52,
   "metadata": {},
   "outputs": [
    {
     "data": {
      "text/plain": [
       "<DstTzInfo 'Europe/Warsaw' LMT+1:24:00 STD>"
      ]
     },
     "execution_count": 52,
     "metadata": {},
     "output_type": "execute_result"
    }
   ],
   "source": [
    "pytz.timezone('Europe/Warsaw')"
   ]
  },
  {
   "cell_type": "markdown",
   "metadata": {},
   "source": [
    "#### Krok 3 - nadaj strefę czasową obiektowi `datetime` "
   ]
  },
  {
   "cell_type": "markdown",
   "metadata": {},
   "source": [
    "dla czasu teraz"
   ]
  },
  {
   "cell_type": "code",
   "execution_count": 150,
   "metadata": {},
   "outputs": [
    {
     "data": {
      "text/plain": [
       "datetime.datetime(2022, 4, 17, 11, 50, 9, 826392, tzinfo=<DstTzInfo 'Poland' CEST+2:00:00 DST>)"
      ]
     },
     "execution_count": 150,
     "metadata": {},
     "output_type": "execute_result"
    }
   ],
   "source": [
    "datetime.now(tz=pytz.timezone('Poland'))"
   ]
  },
  {
   "cell_type": "markdown",
   "metadata": {},
   "source": [
    "dla innego czasu"
   ]
  },
  {
   "cell_type": "code",
   "execution_count": 152,
   "metadata": {},
   "outputs": [
    {
     "data": {
      "text/plain": [
       "datetime.datetime(2001, 11, 29, 0, 0, tzinfo=<DstTzInfo 'Poland' CET+1:00:00 STD>)"
      ]
     },
     "execution_count": 152,
     "metadata": {},
     "output_type": "execute_result"
    }
   ],
   "source": [
    "obiekt_daty.astimezone(tz=pytz.timezone('Poland'))"
   ]
  },
  {
   "cell_type": "markdown",
   "metadata": {},
   "source": [
    "#### Sprawdź strefy czasowe przez podanie położenia\n",
    "\n",
    "Znajdź wśród podanych miejsc to, którego szukasz lub które znajduje się w jego pobliży. Frazę podaj jako argument `pytz.timezone(strefa)`."
   ]
  },
  {
   "cell_type": "code",
   "execution_count": null,
   "metadata": {},
   "outputs": [],
   "source": [
    "pytz.all_timezones[-10:] # wyrzuć liczbę z nawiasów"
   ]
  },
  {
   "cell_type": "code",
   "execution_count": 59,
   "metadata": {},
   "outputs": [
    {
     "data": {
      "text/plain": [
       "<StaticTzInfo 'Zulu'>"
      ]
     },
     "execution_count": 59,
     "metadata": {},
     "output_type": "execute_result"
    }
   ],
   "source": [
    "strefa = 'UTC'\n",
    "strefa = 'US/Indiana-Starke'\n",
    "strefa = 'Zulu'\n",
    "\n",
    "pytz.timezone(strefa)"
   ]
  },
  {
   "cell_type": "markdown",
   "metadata": {},
   "source": [
    "#### Najczęściej używane strefy czasowe\n",
    "\n",
    "Zbierz najczęściej używane przez Ciebie strefy czasowe i miej pod ręką ich listę."
   ]
  },
  {
   "cell_type": "code",
   "execution_count": 98,
   "metadata": {
    "scrolled": false
   },
   "outputs": [],
   "source": [
    "from datetime import timezone, timedelta\n",
    "\n",
    "strefy_czasowe = [\n",
    "    \n",
    "    # PL\n",
    "    pytz.timezone('Poland'),\n",
    "    \n",
    "    # Miejsca:\n",
    "    \n",
    "    # Standardowe:\n",
    "    timezone.utc,       # czas UTC\n",
    "    \n",
    "    # Specjalne:\n",
    "    timedelta(hours=4), # przesunięcie o N godzin\n",
    "    None,               # brak wyboru - strefa lokalna dla Twojego komputera, serwera lub miejsca gdzie jest skrypt\n",
    "]"
   ]
  },
  {
   "cell_type": "markdown",
   "metadata": {},
   "source": [
    "Inne [ciekawe strefy czasowe]('https://www.wykop.pl/link/2305892/najdziwniejsze-strefy-czasowe/strona/2')."
   ]
  },
  {
   "cell_type": "markdown",
   "metadata": {},
   "source": [
    "### 2. Nadaj dacie własny szablon - `data_obiekt.strftime(format_daty)`"
   ]
  },
  {
   "cell_type": "code",
   "execution_count": 123,
   "metadata": {},
   "outputs": [],
   "source": [
    "data_obiekt = datetime.today()"
   ]
  },
  {
   "cell_type": "markdown",
   "metadata": {},
   "source": [
    "#### Szablon daty\n",
    "\n",
    "Możesz zaaranżować atrybuty daty w takiej kolejności i formie jakiej chcesz. Zaczynając od prostej:"
   ]
  },
  {
   "cell_type": "code",
   "execution_count": 127,
   "metadata": {},
   "outputs": [
    {
     "data": {
      "text/plain": [
       "'2022-04-17'"
      ]
     },
     "execution_count": 127,
     "metadata": {},
     "output_type": "execute_result"
    }
   ],
   "source": [
    "format_daty = '%Y-%m-%d'\n",
    "\n",
    "data_obiekt.strftime(format_daty)"
   ]
  },
  {
   "cell_type": "markdown",
   "metadata": {},
   "source": [
    "Czy dokładniej:"
   ]
  },
  {
   "cell_type": "code",
   "execution_count": 128,
   "metadata": {},
   "outputs": [
    {
     "data": {
      "text/plain": [
       "'2022-04-17T25:32'"
      ]
     },
     "execution_count": 128,
     "metadata": {},
     "output_type": "execute_result"
    }
   ],
   "source": [
    "format_daty = '%Y-%m-%dT%M:%S'\n",
    "\n",
    "data_obiekt.strftime(format_daty)"
   ]
  },
  {
   "cell_type": "markdown",
   "metadata": {},
   "source": [
    "Po bardziej rozbudowane:"
   ]
  },
  {
   "cell_type": "code",
   "execution_count": 129,
   "metadata": {},
   "outputs": [
    {
     "data": {
      "text/plain": [
       "'Sunday, April 17, 2022 at 11:25 AM '"
      ]
     },
     "execution_count": 129,
     "metadata": {},
     "output_type": "execute_result"
    }
   ],
   "source": [
    "format_daty = \"%A, %B %d, %Y at %H:%M %p %Z\"\n",
    "\n",
    "data_obiekt.strftime(format_daty)"
   ]
  },
  {
   "cell_type": "markdown",
   "metadata": {},
   "source": [
    "#### Najczęściej używane szablony daty"
   ]
  },
  {
   "cell_type": "code",
   "execution_count": 133,
   "metadata": {},
   "outputs": [
    {
     "name": "stdout",
     "output_type": "stream",
     "text": [
      "Data: 2022-04-17 11:34:16.662038\n",
      "\n",
      "format daty: %Y-%m-%d                       2022-04-17\n",
      "\n",
      "format daty: %Y-%m-%dT%M:%S                 2022-04-17T34:16\n",
      "\n",
      "format daty: %m/%d/%Y                       04/17/2022\n",
      "\n",
      "format daty: %Y/%m/%d                       2022/04/17\n",
      "\n",
      "format daty: %d/%m/%Y                       17/04/2022\n",
      "\n",
      "format daty: %m-%d-%Y %H:%M:%S              04-17-2022 11:34:16\n",
      "\n",
      "format daty: %Y-%m-%d %H:%M:%S              2022-04-17 11:34:16\n",
      "\n",
      "format daty: %Y-%m-%d::%H-%M                2022-04-17::11-34\n",
      "\n",
      "format daty: %Y-%m-%dT%H:%M:%SZ             2022-04-17T11:34:16Z\n",
      "\n",
      "format daty: %Y-%m-%d %H:%M:%S              2022-04-17 11:34:16\n",
      "\n",
      "format daty: %A, %B %d, %Y at %H:%M %p %Z   Sunday, April 17, 2022 at 11:34 AM \n",
      "\n",
      "format daty: %b %d %Y %H:%M:%S              Apr 17 2022 11:34:16\n",
      "\n"
     ]
    }
   ],
   "source": [
    "popularne_formaty = [\n",
    "    \n",
    "    # Najczęstsze formaty:\n",
    "    '%Y-%m-%d', # +%Z\n",
    "    '%Y-%m-%dT%M:%S', # +%Z\n",
    "    \n",
    "    # Jeżeli nie chcesz tego rzokminiać, wybierz ten:\n",
    "    # ...\n",
    "    \n",
    "    # ...\n",
    "    '%m/%d/%Y',\n",
    "    '%Y/%m/%d',\n",
    "    '%d/%m/%Y',\n",
    "    \n",
    "    # Ciekawe formaty:\n",
    "    \"%m-%d-%Y %H:%M:%S\", # +%Z\n",
    "    '%Y-%m-%d %H:%M:%S',\n",
    "    '%Y-%m-%d::%H-%M',\n",
    "    '%Y-%m-%dT%H:%M:%SZ',\n",
    "    '%Y-%m-%d %H:%M:%S',\n",
    "    \"%A, %B %d, %Y at %H:%M %p %Z\",\n",
    "    \"%b %d %Y %H:%M:%S\",\n",
    "    \n",
    "]\n",
    "\n",
    "data_obiekt=datetime.today()\n",
    "timespec='auto'\n",
    "sep='T'\n",
    "\n",
    "print('Data: {}\\n'.format(data_obiekt))\n",
    "for format_daty in popularne_formaty:\n",
    "    print('format daty: {:30}'.format(format_daty), data_obiekt.strftime(format_daty))\n",
    "    print()"
   ]
  },
  {
   "cell_type": "markdown",
   "metadata": {},
   "source": [
    "### Dowolność - stwórz własny szablon\n",
    "\n",
    "W tym celu do dyspozycji masz wszystkie te atrybuty które posiada data oraz ich różne reprezentacje tekstowe. Czwartek to numer dnia miesiąca ale też słowo. Miesiąc można podać słownie lub jako cyfrę. \n",
    "\n",
    "1. Aranżacja atrybutów daty (najpierw miesiąc czy rok?)\n",
    "2. Rodzaj reprezentacji każdego z elementów (liczbowo czy słownie (jeżeli słownie to jak?)?)\n",
    "3. Elementy dodatkowe - data może być np. oddzielona ukośnikami, zawierać przecinki etc."
   ]
  },
  {
   "cell_type": "code",
   "execution_count": 151,
   "metadata": {},
   "outputs": [
    {
     "name": "stdout",
     "output_type": "stream",
     "text": [
      "\n",
      "%a - Locale’s abbreviated weekday name.\n",
      "%A - Locale’s full weekday name.\n",
      "%b - Locale’s abbreviated month name.\n",
      "%B - Locale’s full month name.\n",
      "%c - Locale’s appropriate date and time representation.\n",
      "%d - Day of the month as a decimal number.\n",
      "%H - Hour (24-hour clock) as a decimal number.\n",
      "%I - Hour (12-hour clock) as a decimal number.\n",
      "%j - Day of the year as a decimal number.\n",
      "%m - Month as a decimal number.\n",
      "%M - Minute as a decimal number.\n",
      "%p - Locale’s equivalent of either AM or PM.\n",
      "%S - Second as a decimal number.\n",
      "%U - Week number of the year (Sunday as the first day of the week) as a decimal number. All days in a new year preceding the first Sunday are considered to be in week 0. (3)\n",
      "%w - Weekday as a decimal number\n",
      "%W - Week number of the year (Monday as the first day of the week) as a decimal number. All days in a new year preceding the first Monday are considered to be in week 0.\n",
      "%x - Locale’s appropriate date representation.\n",
      "%X - Locale’s appropriate time representation.\n",
      "%y - Year without century as a decimal number.\n",
      "%Y - Year with century as a decimal number.\n",
      "%Z - Time zone name (no characters if no time zone exists). Deprecated.\n",
      "%% - A literal '%' character\n",
      "\n",
      "\n"
     ]
    }
   ],
   "source": [
    "atrybuty_szablonu = '''\n",
    "%a - Locale’s abbreviated weekday name.\n",
    "%A - Locale’s full weekday name.\n",
    "%b - Locale’s abbreviated month name.\n",
    "%B - Locale’s full month name.\n",
    "%c - Locale’s appropriate date and time representation.\n",
    "%d - Day of the month as a decimal number.\n",
    "%H - Hour (24-hour clock) as a decimal number.\n",
    "%I - Hour (12-hour clock) as a decimal number.\n",
    "%j - Day of the year as a decimal number.\n",
    "%m - Month as a decimal number.\n",
    "%M - Minute as a decimal number.\n",
    "%p - Locale’s equivalent of either AM or PM.\n",
    "%S - Second as a decimal number.\n",
    "%U - Week number of the year (Sunday as the first day of the week) as a decimal number. All days in a new year preceding the first Sunday are considered to be in week 0. (3)\n",
    "%w - Weekday as a decimal number\n",
    "%W - Week number of the year (Monday as the first day of the week) as a decimal number. All days in a new year preceding the first Monday are considered to be in week 0.\n",
    "%x - Locale’s appropriate date representation.\n",
    "%X - Locale’s appropriate time representation.\n",
    "%y - Year without century as a decimal number.\n",
    "%Y - Year with century as a decimal number.\n",
    "%Z - Time zone name (no characters if no time zone exists). Deprecated.\n",
    "%% - A literal '%' character\n",
    "\n",
    "'''\n",
    "print(atrybuty_szablonu)"
   ]
  },
  {
   "cell_type": "code",
   "execution_count": null,
   "metadata": {},
   "outputs": [],
   "source": []
  },
  {
   "cell_type": "markdown",
   "metadata": {},
   "source": [
    "### 3. Sprawdź czy obiekt `datetime` \n",
    "\n",
    "\n",
    "1. ... zawiera szukany atrybut?\n",
    "2. ... zawiera szukany atrybut a jego wartość jest taka jakiej szukasz?\n",
    "3. ... ma dobry szablon?"
   ]
  },
  {
   "cell_type": "markdown",
   "metadata": {},
   "source": [
    "#### A. ... zawiera szukany atrybut?"
   ]
  },
  {
   "cell_type": "code",
   "execution_count": null,
   "metadata": {},
   "outputs": [],
   "source": [
    "# TBD - napisz samemu :)"
   ]
  },
  {
   "cell_type": "markdown",
   "metadata": {},
   "source": [
    "#### B. ... zawiera szukany atrybut a jego wartość jest taka jakiej szukasz?"
   ]
  },
  {
   "cell_type": "code",
   "execution_count": null,
   "metadata": {},
   "outputs": [],
   "source": [
    "# TBD - napisz samemu :)"
   ]
  },
  {
   "cell_type": "markdown",
   "metadata": {},
   "source": [
    "#### C. ... ma dobry szablon?"
   ]
  },
  {
   "cell_type": "code",
   "execution_count": null,
   "metadata": {},
   "outputs": [],
   "source": [
    "# TBD - napisz samemu :)"
   ]
  },
  {
   "cell_type": "markdown",
   "metadata": {},
   "source": [
    "#### i tylko zechcesz sprawdzić"
   ]
  },
  {
   "cell_type": "code",
   "execution_count": null,
   "metadata": {},
   "outputs": [],
   "source": [
    "# TBD - napisz samemu :)"
   ]
  },
  {
   "cell_type": "markdown",
   "metadata": {},
   "source": [
    "### 4. Sprawdź czas dokładnie  - np. `time.time()` - cyfrowa reprezentacja czasu\n",
    "\n",
    "Czas jako liczba sekund - `time.time() ` lub nanosekund - `time.time_ns() `"
   ]
  },
  {
   "cell_type": "code",
   "execution_count": 65,
   "metadata": {},
   "outputs": [
    {
     "data": {
      "text/plain": [
       "1650122678.3516312"
      ]
     },
     "execution_count": 65,
     "metadata": {},
     "output_type": "execute_result"
    }
   ],
   "source": [
    "import time \n",
    "\n",
    "time.time() # czas teraz w sekundach "
   ]
  },
  {
   "cell_type": "code",
   "execution_count": 66,
   "metadata": {
    "scrolled": true
   },
   "outputs": [
    {
     "data": {
      "text/plain": [
       "1650122678510059866"
      ]
     },
     "execution_count": 66,
     "metadata": {},
     "output_type": "execute_result"
    }
   ],
   "source": [
    "time.time_ns() # czas teraz, nanosekundy"
   ]
  },
  {
   "cell_type": "markdown",
   "metadata": {},
   "source": [
    "#### Uchwyć cyfrową reprezentację czasu w obiekt `datetime`"
   ]
  },
  {
   "cell_type": "code",
   "execution_count": 63,
   "metadata": {},
   "outputs": [
    {
     "data": {
      "text/plain": [
       "datetime.datetime(2392, 10, 21, 12, 33, 54)"
      ]
     },
     "execution_count": 63,
     "metadata": {},
     "output_type": "execute_result"
    }
   ],
   "source": [
    "liczbowa_reprezentacja_czasu = 13342444434\n",
    "datetime.fromtimestamp(liczbowa_reprezentacja_czasu, tz=tz)"
   ]
  },
  {
   "cell_type": "code",
   "execution_count": 64,
   "metadata": {},
   "outputs": [
    {
     "data": {
      "text/plain": [
       "datetime.datetime(2392, 10, 21, 10, 33, 54)"
      ]
     },
     "execution_count": 64,
     "metadata": {},
     "output_type": "execute_result"
    }
   ],
   "source": [
    "liczbowa_reprezentacja_czasu = 13342444434\n",
    "datetime.utcfromtimestamp(liczbowa_reprezentacja_czasu)"
   ]
  },
  {
   "cell_type": "code",
   "execution_count": null,
   "metadata": {},
   "outputs": [],
   "source": []
  },
  {
   "cell_type": "markdown",
   "metadata": {},
   "source": [
    "## Level 3\n",
    "\n",
    "1. Poznaj lepiej główne biblioteki daty i czasu\n",
    "2. "
   ]
  },
  {
   "cell_type": "markdown",
   "metadata": {},
   "source": [
    "## 1. Poznaj  lepiej główne biblioteki daty i czasu\n",
    "\n",
    "Daj sobie conajmniej 15 minut na każdą i przejrzyj je dobrze. Posprawdzaj funkcje, atrybuty. porównaj je ze sobą.\n",
    "1. [Dokumentacja time](https://docs.python.org/3/library/time.html) \n",
    "2. [Dokumentacja dateutil](https://dateutil.readthedocs.io/en/stable/changelog.html)\n",
    "3. [Dokumentacja dateutil](https://dateutil.readthedocs.io/en/stable/changelog.html)\n",
    "4. [Dokumentacja pytz](https://pythonhosted.org/pytz/)\n",
    "5. [calendar](https://docs.python.org/3/library/calendar.html) \n",
    "6. [locale](https://docs.python.org/3/library/locale.html#module-locale)\n",
    "\n",
    "Kiedy którą zastosujesz i czym się różnią?"
   ]
  },
  {
   "cell_type": "markdown",
   "metadata": {},
   "source": [
    "## 2. "
   ]
  },
  {
   "cell_type": "code",
   "execution_count": null,
   "metadata": {},
   "outputs": [],
   "source": []
  }
 ],
 "metadata": {
  "kernelspec": {
   "display_name": "Python 3",
   "language": "python",
   "name": "python3"
  },
  "language_info": {
   "codemirror_mode": {
    "name": "ipython",
    "version": 3
   },
   "file_extension": ".py",
   "mimetype": "text/x-python",
   "name": "python",
   "nbconvert_exporter": "python",
   "pygments_lexer": "ipython3",
   "version": "3.8.10"
  }
 },
 "nbformat": 4,
 "nbformat_minor": 4
}
