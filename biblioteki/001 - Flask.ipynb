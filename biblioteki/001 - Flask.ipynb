{
 "cells": [
  {
   "cell_type": "markdown",
   "metadata": {},
   "source": [
    "# Biblioteka Flask\n",
    "\n",
    " Aplikacje, strony, platformy www i API.\n",
    "\n",
    "[Dokumentacja](https://flask.palletsprojects.com/en/2.1.x/)\n",
    "\n",
    "### Level 1\n",
    "\n",
    "1. Aplikacja Flask - `app`\n",
    "2. Powiąż stronę z szablonem z pliku HTML - a także przekaż do niego wartości - `route()` i `render_template('podstrona.html')`\n",
    "3. `url_for()` - sprawdź ścieżkę url strony po nazwie funkcji i argumencie\n",
    "4. `return redirect('/')`\n",
    "5. `session['klucz']` - przekazanie wartości pomiędzy jedną stroną a drugą\n",
    "\n",
    "### Level 2\n",
    "1. `app` - więcej możliwości\n",
    "2. `g`\n",
    "3. `current_app`\n",
    "\n",
    "### Level 3\n",
    "1. zmienne środowiskowe FLASK\n",
    "2. `gunicorn`\n",
    "3. `current_app`\n",
    "\n",
    "### Level 4\n",
    "1. Blueprint\n",
    "2. app factory - `create_app()`\n",
    "3. Różne struktury projektu\n",
    "\n",
    "\n",
    "\n",
    "### **Minimalny przykład aplikacji Flask ze stroną www**\n"
   ]
  },
  {
   "cell_type": "markdown",
   "metadata": {},
   "source": [
    "1. Stwórz katalog `appka`\n",
    "2. Wejdź do katalogu w terminalu\n",
    "3. Stwórz i uruchom środowisko"
   ]
  },
  {
   "cell_type": "code",
   "execution_count": null,
   "metadata": {},
   "outputs": [],
   "source": [
    "python3 -m venv flaskvenv\n",
    "source flaskvenv/bin/activate\n",
    "#deactivate"
   ]
  },
  {
   "cell_type": "markdown",
   "metadata": {},
   "source": [
    "4. Pobierz bibliotekę Flask"
   ]
  },
  {
   "cell_type": "code",
   "execution_count": null,
   "metadata": {},
   "outputs": [],
   "source": [
    "!pip3 install Flask"
   ]
  },
  {
   "cell_type": "markdown",
   "metadata": {},
   "source": [
    "5. Stwórz plik `app.py` a w nim wstaw poniższy kod"
   ]
  },
  {
   "cell_type": "code",
   "execution_count": null,
   "metadata": {},
   "outputs": [],
   "source": [
    "from flask import Flask\n",
    "\n",
    "app = Flask(__name__)\n",
    "\n",
    "@app.route(\"/\")\n",
    "def index():\n",
    "    return \"x\"\n",
    "\n",
    "@app.route(\"/strona\")\n",
    "def strona():\n",
    "    return \"y\""
   ]
  },
  {
   "cell_type": "markdown",
   "metadata": {},
   "source": [
    "6. W terminalu uruchom flaska"
   ]
  },
  {
   "cell_type": "code",
   "execution_count": null,
   "metadata": {},
   "outputs": [],
   "source": [
    "flask run"
   ]
  },
  {
   "cell_type": "markdown",
   "metadata": {},
   "source": [
    "## Level 1\n",
    "\n",
    "1. Aplikacja Flask - `app`\n",
    "2. Powiąż stronę z szablonem z pliku HTML - a także przekaż do niego wartości - `route()` i `render_template('podstrona.html')`\n",
    "3. `url_for()` - sprawdź ścieżkę url strony po nazwie funkcji i argumencie\n",
    "4. `return redirect('/')`\n",
    "5. `session['klucz']` - przekazanie wartości pomiędzy jedną stroną a drugą\n"
   ]
  },
  {
   "cell_type": "markdown",
   "metadata": {},
   "source": [
    "### 1. Aplikacja Flask - `app`\n",
    "\n",
    "**`Flask()`** - Tworzy instancję klasy Flask zwaną app. To na tym obiekcie trzyma się aplikacja. O `__name__` poczytasz więcej na poziomie 2 :)"
   ]
  },
  {
   "cell_type": "code",
   "execution_count": 41,
   "metadata": {},
   "outputs": [],
   "source": [
    "from flask import Flask\n",
    "\n",
    "app = Flask(__name__)"
   ]
  },
  {
   "cell_type": "markdown",
   "metadata": {},
   "source": [
    "### Reprezentacja strony www - `@app.route(\"/\")`\n",
    "\n",
    "Kojarzy stronę `/` z funkcją realizującą jej kod i wyświetlającą treść zdefiniowaną w `return`."
   ]
  },
  {
   "cell_type": "code",
   "execution_count": 42,
   "metadata": {},
   "outputs": [],
   "source": [
    "@app.route(\"/\")\n",
    "def index():\n",
    "    return \"x\""
   ]
  },
  {
   "cell_type": "markdown",
   "metadata": {},
   "source": [
    "### Uruchomienie aplikacji Flask\n",
    "\n",
    "`app.run()` uruchamia aplikację i umożliwia otworzenie "
   ]
  },
  {
   "cell_type": "markdown",
   "metadata": {},
   "source": [
    "Debuger wpisany niżej sprawia, że podczas zmiany kodu aplikacji ta po kilku sekundach sama się odświeża i uruchamia nowy kod."
   ]
  },
  {
   "cell_type": "code",
   "execution_count": null,
   "metadata": {},
   "outputs": [],
   "source": [
    "if __name__==\"__main__\":\n",
    "    app.run(debug=True)"
   ]
  },
  {
   "cell_type": "markdown",
   "metadata": {},
   "source": [
    "Aby uruchomić aplikację Flask lokalnie (czyli nie jako stronę www), wpisz w terminalu będąc w jej folderze:"
   ]
  },
  {
   "cell_type": "code",
   "execution_count": null,
   "metadata": {},
   "outputs": [],
   "source": [
    "flask run"
   ]
  },
  {
   "cell_type": "markdown",
   "metadata": {},
   "source": [
    "### Tworzenie strony/podstrony www\n",
    "\n",
    "Dodaj do app.py jeszcze jedną stronę. Wklej poniższy kod powyżej kończącego bloku if z `app.run()`."
   ]
  },
  {
   "cell_type": "code",
   "execution_count": null,
   "metadata": {},
   "outputs": [],
   "source": [
    "# ...\n",
    "\n",
    "@app.route('/podstrona')\n",
    "def podstrona():\n",
    "    return \"Cześć\"\n",
    "\n",
    "if __name__==\"__main__\":\n",
    "    app.run(debug=True)"
   ]
  },
  {
   "cell_type": "markdown",
   "metadata": {},
   "source": [
    "Metoda `@app.route()` kojarzy ścieżkę podstrony `/podstrona` aplikacji `app` z funkcją którą dekoruje - `podstrona` która na końcu wyświetla na stronie zawartość `return`.\n",
    "\n",
    "Metoda ma 2 główne parametry:\n",
    "1. Ścieżkę strony (np. dla www.google.pl/login ścieżka to `/login`).\n",
    "2. **metody** - wpisanie metod w `@app.route('/login', methods=[\"GET\", \"POST\"])`  pozwala ich użyć na stronie (czyli np. `POST` umożliwia użycie na stronie formularza czym zajmiemy się niebawem."
   ]
  },
  {
   "cell_type": "markdown",
   "metadata": {},
   "source": [
    "### 2. Powiąż stronę z szablonem z pliku HTML - a także  przekaż do niego wartości\n",
    "\n",
    "#### Najczęstsze odmiany `route()` i `render_template('podstrona.html', form=form)`"
   ]
  },
  {
   "cell_type": "markdown",
   "metadata": {},
   "source": [
    "#### Minimalna podstrona"
   ]
  },
  {
   "cell_type": "code",
   "execution_count": 43,
   "metadata": {},
   "outputs": [],
   "source": [
    "@app.route('/podstrona')\n",
    "def podstrona():\n",
    "    return render_template('podstrona.html')"
   ]
  },
  {
   "cell_type": "markdown",
   "metadata": {},
   "source": [
    "#### Wiele ścieżek prowadzi do jednej strony"
   ]
  },
  {
   "cell_type": "code",
   "execution_count": null,
   "metadata": {},
   "outputs": [],
   "source": [
    "@app.route('/')\n",
    "@app.route('/podstrona')\n",
    "def podstrona():\n",
    "    return render_template('podstrona.html')"
   ]
  },
  {
   "cell_type": "markdown",
   "metadata": {},
   "source": [
    "#### Argument jako dynamiczny element ścieżki"
   ]
  },
  {
   "cell_type": "code",
   "execution_count": null,
   "metadata": {},
   "outputs": [],
   "source": [
    "@app.route('/podstrona/<name>')\n",
    "def podstrona(name=None):\n",
    "    return render_template('podstrona.html')"
   ]
  },
  {
   "cell_type": "markdown",
   "metadata": {},
   "source": [
    "#### Przekazanie argumentu ze ścieżki url do szablonu strony"
   ]
  },
  {
   "cell_type": "code",
   "execution_count": null,
   "metadata": {},
   "outputs": [],
   "source": [
    "@app.route('/podstrona/<name>')\n",
    "def podstrona(name=None):\n",
    "    return render_template('podstrona.html', name=name)"
   ]
  },
  {
   "cell_type": "markdown",
   "metadata": {},
   "source": [
    "#### Metody podstrony\n",
    "\n",
    "Przydatne gdy np. tworzysz stronę formularza."
   ]
  },
  {
   "cell_type": "code",
   "execution_count": null,
   "metadata": {},
   "outputs": [],
   "source": [
    "@app.route('/podstrona', methods=['GET', 'POST'])\n",
    "def podstrona(name=None):\n",
    "    return render_template('podstrona.html', name=name)\n",
    "\n",
    "@app.route('/podstrona2/<name>', methods=['GET', 'POST'])\n",
    "def podstrona(name=None):\n",
    "    return render_template('podstrona2.html', name=name)"
   ]
  },
  {
   "cell_type": "markdown",
   "metadata": {},
   "source": [
    "### 3. `url_for` - sprawdź ścieżkę url strony po nazwie funkcji i argumencie\n",
    "\n",
    "Przyjmuję nazwę funkcji i zwraca przypisaną jej dzięki `@app.route('/')` ścieżkę."
   ]
  },
  {
   "cell_type": "code",
   "execution_count": 37,
   "metadata": {},
   "outputs": [],
   "source": [
    "from flask import url_for"
   ]
  },
  {
   "cell_type": "code",
   "execution_count": null,
   "metadata": {},
   "outputs": [],
   "source": [
    "url_for('index') # zwróci: /"
   ]
  },
  {
   "cell_type": "code",
   "execution_count": null,
   "metadata": {},
   "outputs": [],
   "source": [
    "url_for('podstrona') # zwróci: /podstrona"
   ]
  },
  {
   "cell_type": "code",
   "execution_count": null,
   "metadata": {},
   "outputs": [],
   "source": [
    "url_for('static', filename='style.css') \n",
    "\n",
    "# zwróci: /static/style.css"
   ]
  },
  {
   "cell_type": "code",
   "execution_count": null,
   "metadata": {},
   "outputs": [],
   "source": [
    "url_for('podstrona', name='x')\n",
    "\n",
    "# zwróci: /podstrona i przekaże do niej argument name='x'"
   ]
  },
  {
   "cell_type": "code",
   "execution_count": null,
   "metadata": {},
   "outputs": [],
   "source": [
    "url_for('podstrona2', name='x')\n",
    "\n",
    "# zwróci: /podstrona/x i przekaże do niej argument name='x'."
   ]
  },
  {
   "cell_type": "markdown",
   "metadata": {},
   "source": [
    "### 4. `return redirect('/')`\n",
    "\n",
    "Przenosi do miejsca podanego jako ścieżka url czyli np. do `/`. Nie przekazuje do strony argumentów."
   ]
  },
  {
   "cell_type": "code",
   "execution_count": null,
   "metadata": {},
   "outputs": [],
   "source": [
    "return redirect(\"/\")"
   ]
  },
  {
   "cell_type": "markdown",
   "metadata": {},
   "source": [
    "Podobne do `render_template()` który odwołuje się do pliku html i może przekaywać do niego argumenty."
   ]
  },
  {
   "cell_type": "code",
   "execution_count": null,
   "metadata": {},
   "outputs": [],
   "source": [
    "return render_template('podstrona.html', arg=arg)"
   ]
  },
  {
   "cell_type": "markdown",
   "metadata": {},
   "source": [
    "### 5. `session['klucz']` - przekazanie wartości pomiędzy jedną stroną a drugą"
   ]
  },
  {
   "cell_type": "code",
   "execution_count": 48,
   "metadata": {},
   "outputs": [],
   "source": [
    "from flask import session"
   ]
  },
  {
   "cell_type": "markdown",
   "metadata": {},
   "source": [
    "`session` ma strukturę podobną do słownika. W podobny sposób możesz tworzyć i modyfikować elementy sessions."
   ]
  },
  {
   "cell_type": "code",
   "execution_count": null,
   "metadata": {},
   "outputs": [],
   "source": [
    "session['a'] = 1 # tu nie zadziała, użyj wewnątrz kodu strony."
   ]
  },
  {
   "cell_type": "markdown",
   "metadata": {},
   "source": [
    "Wklej poniższe zakładki do kodu strony. Wejdź kilka razy do zakładki `/plus` i zobacz potem zakładkę `/result` - i zrób to jeszcze raz. Wartości session są dzięki temu dostępne na podstronach także innych niż te na których zostały utworzone."
   ]
  },
  {
   "cell_type": "code",
   "execution_count": null,
   "metadata": {},
   "outputs": [],
   "source": [
    "@app.route('/result')\n",
    "def strona_a():\n",
    "    return 'Result: ' + session['result']\n",
    "\n",
    "@app.route('/plus')\n",
    "def plus_one():\n",
    "    if not session['result']:\n",
    "        session['result'] = 0 \n",
    "    session['result'] +=1\n",
    "    return \"added 1\"\n",
    "\n",
    "@app.route('/accessed')\n",
    "def accessed():\n",
    "    x = session['csrf_token']\n",
    "    return str(session.accessed)\n",
    "\n",
    "@app.route('/not_accessed')\n",
    "def not_accessed():\n",
    "    # nothing or print(session['csrf_token'])\n",
    "    return str(session.accessed)\n",
    "\n",
    "@app.route('/modified')\n",
    "def modified():\n",
    "    session['c'] = 1\n",
    "    return str(session.modified)\n",
    "    \n",
    "@app.route('/not_modified')\n",
    "def not_modified():\n",
    "    return str(session.modified)"
   ]
  },
  {
   "cell_type": "markdown",
   "metadata": {},
   "source": [
    "Poza tym `session` obsługuje też metody które znasz z list:\n",
    "\n",
    "`pop, get, items, keys, fromkeys, setdefault, pop, popitem, update, copy`.\n",
    "\n",
    "Ważną wartością session jest `csrf_token` używany np. przy formularzach."
   ]
  },
  {
   "cell_type": "markdown",
   "metadata": {},
   "source": [
    "#session.csrf_token # tu nie zadziała, użyj wewnątrz kodu strony."
   ]
  },
  {
   "cell_type": "markdown",
   "metadata": {},
   "source": [
    "aby zobaczyć wszystkie klucze i wartości listy, użyj:"
   ]
  },
  {
   "cell_type": "code",
   "execution_count": null,
   "metadata": {},
   "outputs": [],
   "source": [
    "session.items() # tu nie zadziała, użyj wewnątrz kodu strony."
   ]
  },
  {
   "cell_type": "markdown",
   "metadata": {},
   "source": [
    "### Level 2\n",
    "1. `app` - więcej możliwości\n",
    "2. `g`\n",
    "3. `current_app`"
   ]
  },
  {
   "cell_type": "markdown",
   "metadata": {},
   "source": [
    "### 1. `app` - więcej możliwości"
   ]
  },
  {
   "cell_type": "markdown",
   "metadata": {},
   "source": [
    "Flask(__name__) - zwraca nazwę modułu (w większości sytuacji na początku będzie to główny moduł`__main__` gdy `__name__` jest użyte w tym samym pliku co program który uruchamiasz. Gdy importujesz jednak moduł z innego pliku, `__name__` przyjmie wartość tego pliku lub folderu który go zawiera i tego pliku."
   ]
  },
  {
   "cell_type": "code",
   "execution_count": null,
   "metadata": {},
   "outputs": [],
   "source": [
    "app = Flask(__name__)\n",
    "\n",
    "app.template_folder = None\n",
    "app.instance_path = None\n",
    "\n",
    "# Config\n",
    "app.config['x'] = None\n",
    "app.config.from_object(__name__)\n",
    "app.config.from_mapping(SECRET_KEY='x', DATABASE='y')\n",
    "\n",
    "# Logger\n",
    "app.logger.debug('A value for debugging')\n",
    "app.logger.warning('A warning occurred')\n",
    "app.logger.error('An error occurred')\n",
    "\n",
    "# URL map\n",
    "app.url_map = None\n",
    "app.url_map.iter_rules()\n",
    "app.url_map.is_endpoint_expecting('/', 'pl')\n",
    "\n",
    "# Inne\n",
    "app.teardown_x"
   ]
  },
  {
   "cell_type": "markdown",
   "metadata": {},
   "source": [
    "### 2. `g`\n",
    "\n",
    "Więcej niedługo."
   ]
  },
  {
   "cell_type": "code",
   "execution_count": null,
   "metadata": {},
   "outputs": [],
   "source": [
    "from flask import g"
   ]
  },
  {
   "cell_type": "markdown",
   "metadata": {},
   "source": [
    "### 3. `current_app`\n",
    "\n",
    "Więcej niedługo."
   ]
  },
  {
   "cell_type": "code",
   "execution_count": null,
   "metadata": {},
   "outputs": [],
   "source": [
    "with current_app.open_resource('data.txt') as f:\n",
    "    data = f.read()"
   ]
  },
  {
   "cell_type": "code",
   "execution_count": null,
   "metadata": {},
   "outputs": [],
   "source": [
    "# TBD"
   ]
  },
  {
   "cell_type": "markdown",
   "metadata": {},
   "source": [
    "## **Level 3**\n",
    "1. zmienne środowiskowe FLASK\n",
    "2. `gunicorn`\n",
    "3. Uruchamianie aplikacji na \"produkcji\""
   ]
  },
  {
   "cell_type": "markdown",
   "metadata": {},
   "source": [
    "### 1. Zmienne środowiskowe FLASK"
   ]
  },
  {
   "cell_type": "code",
   "execution_count": null,
   "metadata": {},
   "outputs": [],
   "source": [
    "export FLASK_APP=app.py\n",
    "export FLASK_ENV=development\n",
    "export FLASK_DEBUG=0"
   ]
  },
  {
   "cell_type": "code",
   "execution_count": null,
   "metadata": {},
   "outputs": [],
   "source": [
    "# TBD"
   ]
  },
  {
   "cell_type": "markdown",
   "metadata": {},
   "source": [
    "### 2. `gunicorn`"
   ]
  },
  {
   "cell_type": "markdown",
   "metadata": {},
   "source": [
    "Wystaw swoją aplikację Flask na świat jako stronę www.\n",
    "\n",
    "[Dokumentacja](https://gunicorn.org/)"
   ]
  },
  {
   "cell_type": "markdown",
   "metadata": {},
   "source": [
    "### 3. Uruchamianie aplikacji na \"produkcji\"\n",
    "\n",
    "- ip\n",
    "- port\n",
    "- ssl"
   ]
  },
  {
   "cell_type": "code",
   "execution_count": null,
   "metadata": {},
   "outputs": [],
   "source": [
    "if __name__ == '__main__':\n",
    "    cert_file = None # z pliku\n",
    "    key_file = None # z pliku\n",
    "    app.run(port=5000, host=\"1.1.1.1\", ssl_context=(cert_file, key_file))"
   ]
  },
  {
   "cell_type": "markdown",
   "metadata": {},
   "source": [
    "### **Level 4**\n",
    "1. Blueprint\n",
    "2. app factory - `create_app()`\n",
    "3. Różne struktury projektu"
   ]
  },
  {
   "cell_type": "markdown",
   "metadata": {},
   "source": [
    "### 1. `Blueprint`\n",
    "\n",
    "`@bp.route` kojarzy URL z funkcją i używa do wyświetlenia w przeglądarce na stronie jej wartości return.\n",
    "\n",
    "Więcej niedługo."
   ]
  },
  {
   "cell_type": "code",
   "execution_count": null,
   "metadata": {},
   "outputs": [],
   "source": [
    "from flask import Blueprint\n",
    "\n",
    "blog = Blueprint('blog', __name__)\n",
    "bp = Blueprint('authbp', __name__, url_prefix='/authbp')\n",
    "\n",
    "@bp.route('/x'):\n",
    "def func():\n",
    "    return \"x\""
   ]
  },
  {
   "cell_type": "code",
   "execution_count": null,
   "metadata": {},
   "outputs": [],
   "source": [
    "# TBD"
   ]
  },
  {
   "cell_type": "markdown",
   "metadata": {},
   "source": [
    "### 2. App factory - `create_app()`"
   ]
  },
  {
   "cell_type": "code",
   "execution_count": 67,
   "metadata": {},
   "outputs": [],
   "source": [
    "def create_app():\n",
    "    app = None\n",
    "\n",
    "    from . import authbp\n",
    "    app.register_blueprint(authbp.bp)\n",
    "\n",
    "    return app"
   ]
  },
  {
   "cell_type": "code",
   "execution_count": null,
   "metadata": {},
   "outputs": [],
   "source": [
    "# TBD"
   ]
  },
  {
   "cell_type": "markdown",
   "metadata": {},
   "source": [
    "### 3. Różne struktury projektu"
   ]
  },
  {
   "cell_type": "code",
   "execution_count": 66,
   "metadata": {},
   "outputs": [],
   "source": [
    "# TBD"
   ]
  }
 ],
 "metadata": {
  "kernelspec": {
   "display_name": "Python 3",
   "language": "python",
   "name": "python3"
  },
  "language_info": {
   "codemirror_mode": {
    "name": "ipython",
    "version": 3
   },
   "file_extension": ".py",
   "mimetype": "text/x-python",
   "name": "python",
   "nbconvert_exporter": "python",
   "pygments_lexer": "ipython3",
   "version": "3.8.10"
  }
 },
 "nbformat": 4,
 "nbformat_minor": 4
}
